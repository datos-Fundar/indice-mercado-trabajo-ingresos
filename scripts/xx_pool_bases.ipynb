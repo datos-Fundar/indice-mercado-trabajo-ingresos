{
 "cells": [
  {
   "cell_type": "code",
   "execution_count": 7,
   "metadata": {},
   "outputs": [],
   "source": [
    "import pandas as pd\n",
    "import numpy as np\n",
    "import matplotlib.pyplot as plt\n",
    "import seaborn as sns\n",
    "from matplotlib.patches import Rectangle\n",
    "import warnings\n",
    "warnings.filterwarnings('ignore')"
   ]
  },
  {
   "cell_type": "code",
   "execution_count": 8,
   "metadata": {},
   "outputs": [],
   "source": [
    "# Read data\n",
    "pathdata = '/home/daniu/Documentos/fundar/indice-mercado-trabajo-ingresos/'\n",
    "pathdata = '/Users/danielarisaro/Documents/fundar/indice-mercado-trabajo-ingresos/'\n",
    "pathdata = '/home/daniufundar/Documents/Fundar/indice-mercado-trabajo-ingresos/'\n",
    "\n",
    "df_people_2021 = pd.read_csv(pathdata + 'data_input/personas_tot_urb_3T_21.txt', delimiter=';', low_memory=False)\n",
    "df_people_2022 = pd.read_csv(pathdata + 'data_input/personas_tot_urb_3T_22.txt', delimiter=';', low_memory=False)\n",
    "\n",
    "df_houses_2021 = pd.read_csv(pathdata + 'data_input/hogar_tot_urb_3T_2021.txt', delimiter=';', low_memory=False)\n",
    "df_houses_2022 = pd.read_csv(pathdata + 'data_input/hogar_tot_urb_3T_2022.txt', delimiter=';', low_memory=False)"
   ]
  },
  {
   "cell_type": "code",
   "execution_count": 9,
   "metadata": {},
   "outputs": [],
   "source": [
    "merged_df = pd.merge(df_people_2021[['CODUSU', 'COMPONENTE']], df_people_2022[['CODUSU', 'COMPONENTE']], on=['CODUSU', 'COMPONENTE'], how='outer', indicator=True)\n",
    "\n",
    "# Duplicate rows and display the left-only rows (2021) and right-only rows (2022)\n",
    "duplicated_rows = merged_df['_merge'].value_counts()['both']\n",
    "left_only_rows = merged_df['_merge'].value_counts()['left_only']\n",
    "right_only_rows = merged_df['_merge'].value_counts()['right_only']\n",
    "\n",
    "# Select the right-only and right observation from both rows in merged_df\n",
    "right_only_rows = merged_df[merged_df['_merge'] == 'right_only']\n",
    "left_only_rows = merged_df[merged_df['_merge'] == 'left_only']\n",
    "both_rows = merged_df[merged_df['_merge'] == 'both']\n",
    "right_both_rows = pd.concat([both_rows, right_only_rows])\n",
    "\n",
    "df_people_2021['rel_PONDERA'] = df_people_2021['PONDERA']/df_people_2021['PONDERA'].sum()\n",
    "df_people_2022['rel_PONDERA'] = df_people_2022['PONDERA']/df_people_2022['PONDERA'].sum()\n",
    "\n",
    "df_people_2021['rel_PONDII'] = df_people_2021['PONDII']/df_people_2021['PONDII'].sum()\n",
    "df_people_2022['rel_PONDII'] = df_people_2022['PONDII']/df_people_2022['PONDII'].sum()\n",
    "\n",
    "df_people_2021['rel_PONDIIO'] = df_people_2021['PONDIIO']/df_people_2021['PONDIIO'].sum()\n",
    "df_people_2022['rel_PONDIIO'] = df_people_2022['PONDIIO']/df_people_2022['PONDIIO'].sum()\n",
    "\n",
    "pob_2021_pondera = df_people_2021['PONDERA'].sum()\n",
    "pob_2022_pondera = df_people_2022['PONDERA'].sum()\n",
    "\n",
    "pob_2021_pondii = df_people_2021['PONDII'].sum()\n",
    "pob_2022_pondii = df_people_2022['PONDII'].sum()\n",
    "\n",
    "pob_2021_pondiio = df_people_2021['PONDIIO'].sum()\n",
    "pob_2022_pondiio = df_people_2022['PONDIIO'].sum()\n",
    "\n",
    "df_merged_with_copies = pd.concat([df_people_2021, df_people_2022])\n",
    "\n",
    "# Option 2: Merge two dataframes erasing the first copy (keeping right only and right both observations)\n",
    "df_people_2021_no_dupl = pd.merge(left_only_rows, df_people_2021, on=[\"CODUSU\", \"COMPONENTE\"], how='inner')\n",
    "df_people_2022_no_dupl = pd.merge(right_both_rows, df_people_2022, on=[\"CODUSU\", \"COMPONENTE\"], how='inner')\n",
    "\n",
    "df_merged_without_copies = pd.concat([df_people_2021_no_dupl, df_people_2022_no_dupl])\n",
    "\n",
    "df_people_2021['PONDERA_new'] = df_people_2021['rel_PONDERA']/2 * (pob_2021_pondera + pob_2022_pondera)/2\n",
    "df_people_2022['PONDERA_new'] = df_people_2022['rel_PONDERA']/2 * (pob_2021_pondera + pob_2022_pondera)/2\n",
    "\n",
    "df_people_2021['PONDII_new'] = df_people_2021['rel_PONDII']/2 * (pob_2021_pondii + pob_2022_pondii)/2\n",
    "df_people_2022['PONDII_new'] = df_people_2022['rel_PONDII']/2 * (pob_2021_pondii + pob_2022_pondii)/2\n",
    "\n",
    "df_people_2021['PONDIIO_new'] = df_people_2021['rel_PONDIIO']/2 * (pob_2021_pondiio + pob_2022_pondiio)/2\n",
    "df_people_2022['PONDIIO_new'] = df_people_2022['rel_PONDIIO']/2 * (pob_2021_pondiio + pob_2022_pondiio)/2"
   ]
  },
  {
   "cell_type": "code",
   "execution_count": 10,
   "metadata": {},
   "outputs": [],
   "source": [
    "# Create new columns 'P21_new' and 'P47_new' initialized with NaN\n",
    "df_merged_without_copies['P21_new'] = pd.NaT\n",
    "df_merged_without_copies['P47T_new'] = pd.NaT\n",
    "df_merged_without_copies['TOT_P12_new'] = pd.NaT\n",
    "\n",
    "mask = (df_merged_without_copies['ANO4'] == 2021) & (df_merged_without_copies['P21'] != -9)\n",
    "df_merged_without_copies.loc[mask, 'P21_new'] = df_merged_without_copies.loc[mask, 'P21'] / 0.546358573\n",
    "\n",
    "mask = (df_merged_without_copies['ANO4'] == 2021) & (df_merged_without_copies['P47T'] != -9)\n",
    "df_merged_without_copies.loc[mask, 'P47T_new'] = df_merged_without_copies.loc[mask, 'P47T'] / 0.546358573\n",
    "\n",
    "mask = (df_merged_without_copies['ANO4'] == 2021) & (df_merged_without_copies['TOT_P12'] != -9)\n",
    "df_merged_without_copies.loc[mask, 'TOT_P12_new'] = df_merged_without_copies.loc[mask, 'TOT_P12'] / 0.546358573\n",
    "\n",
    "mask = df_merged_without_copies['ANO4'] == 2022\n",
    "df_merged_without_copies.loc[mask, 'P21_new'] = df_merged_without_copies.loc[mask, 'P21']\n",
    "\n",
    "mask = df_merged_without_copies['ANO4'] == 2022\n",
    "df_merged_without_copies.loc[mask, 'P47T_new'] = df_merged_without_copies.loc[mask, 'P47T']\n",
    "\n",
    "mask = df_merged_without_copies['ANO4'] == 2022\n",
    "df_merged_without_copies.loc[mask, 'TOT_P12_new'] = df_merged_without_copies.loc[mask, 'TOT_P12']"
   ]
  },
  {
   "cell_type": "code",
   "execution_count": 11,
   "metadata": {},
   "outputs": [],
   "source": [
    "df_merged_without_copies.to_csv(pathdata + 'data_output/Base_pool_solo_con_replicas_actuales.csv')"
   ]
  }
 ],
 "metadata": {
  "kernelspec": {
   "display_name": "indice_genero_env",
   "language": "python",
   "name": "python3"
  },
  "language_info": {
   "codemirror_mode": {
    "name": "ipython",
    "version": 3
   },
   "file_extension": ".py",
   "mimetype": "text/x-python",
   "name": "python",
   "nbconvert_exporter": "python",
   "pygments_lexer": "ipython3",
   "version": "3.9.15"
  },
  "orig_nbformat": 4
 },
 "nbformat": 4,
 "nbformat_minor": 2
}
