{
 "cells": [
  {
   "cell_type": "code",
   "execution_count": 1,
   "metadata": {},
   "outputs": [],
   "source": [
    "import pandas as pd\n",
    "import numpy as np\n",
    "import matplotlib.pyplot as plt\n",
    "import seaborn as sns\n",
    "from matplotlib.patches import Rectangle\n",
    "import warnings\n",
    "warnings.filterwarnings('ignore')"
   ]
  },
  {
   "cell_type": "code",
   "execution_count": 2,
   "metadata": {},
   "outputs": [],
   "source": [
    "# Read data\n",
    "pathdata = '/home/daniu/Documentos/fundar/indice-mercado-trabajo-ingresos/'\n",
    "pathdata = '/home/daniufundar/Documents/Fundar/indice-mercado-trabajo-ingresos/'\n",
    "pathdata = '/Users/danielarisaro/Documents/fundar/indice-mercado-trabajo-ingresos/'\n",
    "\n",
    "df_people_2021 = pd.read_csv(pathdata + 'data_input/personas_tot_urb_3T_21.txt', delimiter=';', low_memory=False)\n",
    "df_people_2022 = pd.read_csv(pathdata + 'data_input/personas_tot_urb_3T_22.txt', delimiter=';', low_memory=False)\n",
    "\n",
    "df_houses_2021 = pd.read_csv(pathdata + 'data_input/hogar_tot_urb_3T_2021.txt', delimiter=';', low_memory=False)\n",
    "df_houses_2022 = pd.read_csv(pathdata + 'data_input/hogar_tot_urb_3T_2022.txt', delimiter=';', low_memory=False)"
   ]
  },
  {
   "cell_type": "code",
   "execution_count": 3,
   "metadata": {},
   "outputs": [],
   "source": [
    "merged_df = pd.merge(df_people_2021[['CODUSU', 'COMPONENTE']], df_people_2022[['CODUSU', 'COMPONENTE']], on=['CODUSU', 'COMPONENTE'], how='outer', indicator=True)\n",
    "\n",
    "# Duplicate rows and display the left-only rows (2021) and right-only rows (2022)\n",
    "duplicated_rows = merged_df['_merge'].value_counts()['both']\n",
    "left_only_rows = merged_df['_merge'].value_counts()['left_only']\n",
    "right_only_rows = merged_df['_merge'].value_counts()['right_only']\n",
    "\n",
    "# Select the right-only and right observation from both rows in merged_df\n",
    "right_only_rows = merged_df[merged_df['_merge'] == 'right_only']\n",
    "left_only_rows = merged_df[merged_df['_merge'] == 'left_only']\n",
    "both_rows = merged_df[merged_df['_merge'] == 'both']\n",
    "right_both_rows = pd.concat([both_rows, right_only_rows])\n",
    "\n",
    "columns = ['PONDERA', 'PONDII', 'PONDIIO']\n",
    "df_people = [df_people_2021, df_people_2022]\n",
    "\n",
    "for col in columns:\n",
    "    for df in df_people:\n",
    "        df[f'rel_{col}'] = df[col] / df[col].sum()\n",
    "\n",
    "df_merged_with_copies = pd.concat([df_people_2021, df_people_2022])\n",
    "\n",
    "df_people_2021_no_dupl = pd.merge(left_only_rows, df_people_2021, on=[\"CODUSU\", \"COMPONENTE\"], how='inner')\n",
    "df_people_2022_no_dupl = pd.merge(right_both_rows, df_people_2022, on=[\"CODUSU\", \"COMPONENTE\"], how='inner')\n",
    "\n",
    "df_merged_without_copies = pd.concat([df_people_2021_no_dupl, df_people_2022_no_dupl])\n",
    "\n",
    "new_columns = ['P21_new', 'P47T_new', 'TOT_P12_new']\n",
    "\n",
    "df_merged_without_copies[new_columns] = pd.NaT\n",
    "\n",
    "mask_2021 = df_merged_without_copies['ANO4'] == 2021\n",
    "\n",
    "for col in ['P21', 'P47T', 'TOT_P12']:\n",
    "    mask = mask_2021 & (df_merged_without_copies[col] != -9)\n",
    "    df_merged_without_copies.loc[mask, f'{col}_new'] = df_merged_without_copies.loc[mask, col].div(0.546358573)\n",
    "\n",
    "for col in ['P21', 'P47T', 'TOT_P12']:\n",
    "    mask = mask_2021 & (df_merged_without_copies[col] == -9)\n",
    "    df_merged_without_copies.loc[mask, f'{col}_new'] = df_merged_without_copies.loc[mask, col].copy()\n",
    "\n",
    "mask_2022 = df_merged_without_copies['ANO4'] == 2022\n",
    "\n",
    "for col in ['P21', 'P47T', 'TOT_P12']:\n",
    "    df_merged_without_copies.loc[mask_2022, f'{col}_new'] = df_merged_without_copies.loc[mask_2022, col].copy()\n",
    "    \n",
    "for col in ['PONDERA', 'PONDII', 'PONDIIO']:\n",
    "    temp_rel = df_merged_without_copies[f'rel_{col}'].div(df_merged_without_copies[f'rel_{col}'].sum())\n",
    "    pob_prom = (df_people_2021[col].sum() + df_people_2022[col].sum())/2\n",
    "    df_merged_without_copies[f'{col}_new'] = temp_rel * pob_prom\n"
   ]
  },
  {
   "cell_type": "code",
   "execution_count": 11,
   "metadata": {},
   "outputs": [],
   "source": [
    "df_merged_without_copies.to_csv(pathdata + 'data_output/Base_pool_solo_con_replicas_actuales.csv')"
   ]
  },
  {
   "cell_type": "code",
   "execution_count": 91,
   "metadata": {},
   "outputs": [],
   "source": [
    "prueba = df_merged_without_copies[['CODUSU','P47T', 'P47T_new', 'P21', 'P21_new']]"
   ]
  },
  {
   "cell_type": "code",
   "execution_count": 33,
   "metadata": {},
   "outputs": [
    {
     "data": {
      "text/plain": [
       "0    57934\n",
       "3    30241\n",
       "1    19811\n",
       "5     9012\n",
       "4     8377\n",
       "7     2069\n",
       "6      342\n",
       "2      172\n",
       "Name: CAT_INAC, dtype: int64"
      ]
     },
     "execution_count": 33,
     "metadata": {},
     "output_type": "execute_result"
    }
   ],
   "source": [
    "df_merged_without_copies['CAT_INAC'].value_counts()"
   ]
  },
  {
   "cell_type": "code",
   "execution_count": 39,
   "metadata": {},
   "outputs": [
    {
     "data": {
      "text/plain": [
       "127958"
      ]
     },
     "execution_count": 39,
     "metadata": {},
     "output_type": "execute_result"
    }
   ],
   "source": [
    "len(df_merged_without_copies)"
   ]
  },
  {
   "cell_type": "code",
   "execution_count": 69,
   "metadata": {},
   "outputs": [
    {
     "data": {
      "text/plain": [
       "16267106.25754121"
      ]
     },
     "execution_count": 69,
     "metadata": {},
     "output_type": "execute_result"
    }
   ],
   "source": [
    "df_merged_without_copies[(df_merged_without_copies['PP03D']==0 & (df_merged_without_copies['PP03C']==0))]['PONDERA_new'].sum()"
   ]
  },
  {
   "cell_type": "code",
   "execution_count": 47,
   "metadata": {},
   "outputs": [
    {
     "data": {
      "text/plain": [
       "CODUSU         126266\n",
       "COMPONENTE     126266\n",
       "_merge         126266\n",
       "TRIMESTRE      126266\n",
       "ANO4           126266\n",
       "                ...  \n",
       "P47T_new       126073\n",
       "TOT_P12_new    126266\n",
       "PONDERA_new    126266\n",
       "PONDII_new     126266\n",
       "PONDIIO_new    126266\n",
       "Length: 162, dtype: int64"
      ]
     },
     "execution_count": 47,
     "metadata": {},
     "output_type": "execute_result"
    }
   ],
   "source": [
    "df_merged_without_copies[(df_merged_without_copies['ESTADO']!=1 & (df_merged_without_copies['PP03C']==0))].count()"
   ]
  },
  {
   "cell_type": "code",
   "execution_count": 80,
   "metadata": {},
   "outputs": [
    {
     "data": {
      "text/plain": [
       "0    75386\n",
       "1    47831\n",
       "2     4741\n",
       "Name: PP03C, dtype: int64"
      ]
     },
     "execution_count": 80,
     "metadata": {},
     "output_type": "execute_result"
    }
   ],
   "source": [
    "df_merged_without_copies['PP03C'].value_counts()"
   ]
  },
  {
   "cell_type": "code",
   "execution_count": 84,
   "metadata": {},
   "outputs": [],
   "source": [
    "aver = df_merged_without_copies[(df_merged_without_copies['PP03C']==0)]['PP3E_TOT']"
   ]
  },
  {
   "cell_type": "code",
   "execution_count": 88,
   "metadata": {},
   "outputs": [
    {
     "data": {
      "text/plain": [
       "True     73694\n",
       "False    54264\n",
       "Name: PP3E_TOT, dtype: int64"
      ]
     },
     "execution_count": 88,
     "metadata": {},
     "output_type": "execute_result"
    }
   ],
   "source": [
    "df_merged_without_copies['PP3E_TOT'].isna().value_counts()"
   ]
  },
  {
   "cell_type": "code",
   "execution_count": 70,
   "metadata": {},
   "outputs": [
    {
     "data": {
      "text/plain": [
       "0.0    1693\n",
       "1.0    1471\n",
       "2.0    2005\n",
       "Name: PP10C, dtype: int64"
      ]
     },
     "execution_count": 70,
     "metadata": {},
     "output_type": "execute_result"
    }
   ],
   "source": [
    "df_merged_without_copies[df_merged_without_copies['PP03C']==0]['PP10C'].value_counts().sort_index()"
   ]
  },
  {
   "cell_type": "code",
   "execution_count": 52,
   "metadata": {},
   "outputs": [
    {
     "data": {
      "text/plain": [
       "1    49523\n",
       "Name: ESTADO, dtype: int64"
      ]
     },
     "execution_count": 52,
     "metadata": {},
     "output_type": "execute_result"
    }
   ],
   "source": [
    "df_merged_without_copies[df_merged_without_copies['PP03D']==0]['ESTADO'].value_counts().sort_index()"
   ]
  },
  {
   "cell_type": "code",
   "execution_count": 67,
   "metadata": {},
   "outputs": [],
   "source": [
    "aver = df_merged_without_copies[(df_merged_without_copies['PP3E_TOT'] == df_merged_without_copies['PP3F_TOT'].str.replace(',', '.').astype(float))][['PP03C', 'PP03D','ESTADO']]\n"
   ]
  },
  {
   "cell_type": "code",
   "execution_count": 45,
   "metadata": {},
   "outputs": [
    {
     "data": {
      "text/plain": [
       "CODUSU         49523\n",
       "COMPONENTE     49523\n",
       "_merge         49523\n",
       "TRIMESTRE      49523\n",
       "ANO4           49523\n",
       "               ...  \n",
       "P47T_new       49523\n",
       "TOT_P12_new    49523\n",
       "PONDERA_new    49523\n",
       "PONDII_new     49523\n",
       "PONDIIO_new    49523\n",
       "Length: 162, dtype: int64"
      ]
     },
     "execution_count": 45,
     "metadata": {},
     "output_type": "execute_result"
    }
   ],
   "source": [
    "df_merged_without_copies[df_merged_without_copies['PP03D']==0].count()"
   ]
  },
  {
   "cell_type": "code",
   "execution_count": 62,
   "metadata": {},
   "outputs": [
    {
     "data": {
      "text/plain": [
       "127958"
      ]
     },
     "execution_count": 62,
     "metadata": {},
     "output_type": "execute_result"
    }
   ],
   "source": [
    "df_merged_without_copies['CAT_INAC'].value_counts()"
   ]
  },
  {
   "cell_type": "code",
   "execution_count": 63,
   "metadata": {},
   "outputs": [
    {
     "data": {
      "text/plain": [
       "57741"
      ]
     },
     "execution_count": 63,
     "metadata": {},
     "output_type": "execute_result"
    }
   ],
   "source": [
    "df_merged_without_copies['CAT_OCUP'].value_counts().sort_index()"
   ]
  },
  {
   "cell_type": "code",
   "execution_count": 59,
   "metadata": {},
   "outputs": [
    {
     "data": {
      "text/plain": [
       "CODUSU         57934\n",
       "COMPONENTE     57934\n",
       "_merge         57934\n",
       "TRIMESTRE      57934\n",
       "ANO4           57934\n",
       "               ...  \n",
       "P47T_new       57741\n",
       "TOT_P12_new    57934\n",
       "PONDERA_new    57934\n",
       "PONDII_new     57934\n",
       "PONDIIO_new    57934\n",
       "Length: 162, dtype: int64"
      ]
     },
     "execution_count": 59,
     "metadata": {},
     "output_type": "execute_result"
    }
   ],
   "source": [
    "df_merged_without_copies[df_merged_without_copies['CAT_INAC']==0].count()\n"
   ]
  },
  {
   "cell_type": "code",
   "execution_count": 57,
   "metadata": {},
   "outputs": [
    {
     "data": {
      "text/plain": [
       "CODUSU         57934\n",
       "COMPONENTE     57934\n",
       "_merge         57934\n",
       "TRIMESTRE      57934\n",
       "ANO4           57934\n",
       "               ...  \n",
       "P47T_new       57741\n",
       "TOT_P12_new    57934\n",
       "PONDERA_new    57934\n",
       "PONDII_new     57934\n",
       "PONDIIO_new    57934\n",
       "Length: 162, dtype: int64"
      ]
     },
     "execution_count": 57,
     "metadata": {},
     "output_type": "execute_result"
    }
   ],
   "source": [
    "df_merged_without_copies[df_merged_without_copies['CAT_INAC']==0].count()\n",
    "\n"
   ]
  },
  {
   "cell_type": "code",
   "execution_count": 31,
   "metadata": {},
   "outputs": [
    {
     "data": {
      "text/plain": [
       "19548792.35849291"
      ]
     },
     "execution_count": 31,
     "metadata": {},
     "output_type": "execute_result"
    }
   ],
   "source": [
    "df_merged_without_copies[df_merged_without_copies['CAT_INAC']==0]['PONDERA_new'].sum()\n",
    "\n"
   ]
  },
  {
   "cell_type": "code",
   "execution_count": 16,
   "metadata": {},
   "outputs": [
    {
     "data": {
      "text/plain": [
       "False    127765\n",
       "True        193\n",
       "Name: P47T_new, dtype: int64"
      ]
     },
     "execution_count": 16,
     "metadata": {},
     "output_type": "execute_result"
    }
   ],
   "source": [
    "df_merged_without_copies['P47T_new'].isna().value_counts()"
   ]
  }
 ],
 "metadata": {
  "kernelspec": {
   "display_name": "Python 3.9.12 ('pyenv')",
   "language": "python",
   "name": "python3"
  },
  "language_info": {
   "codemirror_mode": {
    "name": "ipython",
    "version": 3
   },
   "file_extension": ".py",
   "mimetype": "text/x-python",
   "name": "python",
   "nbconvert_exporter": "python",
   "pygments_lexer": "ipython3",
   "version": "3.9.12"
  },
  "orig_nbformat": 4,
  "vscode": {
   "interpreter": {
    "hash": "509f5cbefa0cafc10dc1461472345186404cff510fb444dcb85013f09977a5b7"
   }
  }
 },
 "nbformat": 4,
 "nbformat_minor": 2
}
