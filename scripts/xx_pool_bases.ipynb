{
 "cells": [
  {
   "cell_type": "code",
   "execution_count": 3,
   "metadata": {},
   "outputs": [],
   "source": [
    "import pandas as pd\n",
    "import numpy as np\n",
    "import matplotlib.pyplot as plt\n",
    "import seaborn as sns\n",
    "from matplotlib.patches import Rectangle\n",
    "import warnings\n",
    "warnings.filterwarnings('ignore')"
   ]
  },
  {
   "cell_type": "code",
   "execution_count": 4,
   "metadata": {},
   "outputs": [],
   "source": [
    "# Read data\n",
    "pathdata = '/home/daniu/Documentos/fundar/indice-mercado-trabajo-ingresos/'\n",
    "pathdata = '/Users/danielarisaro/Documents/fundar/indice-mercado-trabajo-ingresos/'\n",
    "pathdata = '/home/daniufundar/Documents/Fundar/indice-mercado-trabajo-ingresos/'\n",
    "\n",
    "df_people_2021 = pd.read_csv(pathdata + 'data_input/personas_tot_urb_3T_21.txt', delimiter=';', low_memory=False)\n",
    "df_people_2022 = pd.read_csv(pathdata + 'data_input/personas_tot_urb_3T_22.txt', delimiter=';', low_memory=False)\n",
    "\n",
    "df_houses_2021 = pd.read_csv(pathdata + 'data_input/hogar_tot_urb_3T_2021.txt', delimiter=';', low_memory=False)\n",
    "df_houses_2022 = pd.read_csv(pathdata + 'data_input/hogar_tot_urb_3T_2022.txt', delimiter=';', low_memory=False)"
   ]
  },
  {
   "cell_type": "code",
   "execution_count": 8,
   "metadata": {},
   "outputs": [],
   "source": [
    "\n",
    "merged_df = pd.merge(df_people_2021[['CODUSU', 'COMPONENTE']], df_people_2022[['CODUSU', 'COMPONENTE']], on=['CODUSU', 'COMPONENTE'], how='outer', indicator=True)\n",
    "\n",
    "# Duplicate rows and display the left-only rows (2021) and right-only rows (2022)\n",
    "duplicated_rows = merged_df['_merge'].value_counts()['both']\n",
    "left_only_rows = merged_df['_merge'].value_counts()['left_only']\n",
    "right_only_rows = merged_df['_merge'].value_counts()['right_only']\n",
    "\n",
    "# Select the right-only and right observation from both rows in merged_df\n",
    "right_only_rows = merged_df[merged_df['_merge'] == 'right_only']\n",
    "left_only_rows = merged_df[merged_df['_merge'] == 'left_only']\n",
    "both_rows = merged_df[merged_df['_merge'] == 'both']\n",
    "right_both_rows = pd.concat([both_rows, right_only_rows])\n",
    "\n",
    "columns = ['PONDERA', 'PONDII', 'PONDIIO']\n",
    "df_people = [df_people_2021, df_people_2022]\n",
    "\n",
    "for col in columns:\n",
    "    for df in df_people:\n",
    "        df[f'rel_{col}'] = df[col] / df[col].sum()\n",
    "\n",
    "df_merged_with_copies = pd.concat([df_people_2021, df_people_2022])\n",
    "\n",
    "df_people_2021_no_dupl = pd.merge(left_only_rows, df_people_2021, on=[\"CODUSU\", \"COMPONENTE\"], how='inner')\n",
    "df_people_2022_no_dupl = pd.merge(right_both_rows, df_people_2022, on=[\"CODUSU\", \"COMPONENTE\"], how='inner')\n",
    "\n",
    "df_merged_without_copies = pd.concat([df_people_2021_no_dupl, df_people_2022_no_dupl])\n",
    "\n",
    "new_columns = ['P21_new', 'P47T_new', 'TOT_P12_new']\n",
    "df_merged_without_copies[new_columns] = pd.NaT\n",
    "\n",
    "masks = [\n",
    "    (df_merged_without_copies['ANO4'] == 2021) & (df_merged_without_copies['P21'] != -9),\n",
    "    (df_merged_without_copies['ANO4'] == 2021) & (df_merged_without_copies['P47T'] != -9),\n",
    "    (df_merged_without_copies['ANO4'] == 2021) & (df_merged_without_copies['TOT_P12'] != -9),\n",
    "    (df_merged_without_copies['ANO4'] == 2022),\n",
    "]\n",
    "\n",
    "divisors = [0.546358573, 0.546358573, 0.546358573, 1]\n",
    "\n",
    "for i, mask in enumerate(masks):\n",
    "    df_merged_without_copies.loc[mask, new_columns[i]] = df_merged_without_copies.loc[mask, new_columns[i]] / divisors[i]\n"
   ]
  },
  {
   "cell_type": "code",
   "execution_count": 10,
   "metadata": {},
   "outputs": [
    {
     "data": {
      "text/plain": [
       "1    67764\n",
       "0    10354\n",
       "2       99\n",
       "Name: H15, dtype: int64"
      ]
     },
     "execution_count": 10,
     "metadata": {},
     "output_type": "execute_result"
    }
   ],
   "source": [
    "df_people_2021['H15'].value_counts()"
   ]
  },
  {
   "cell_type": "code",
   "execution_count": 15,
   "metadata": {},
   "outputs": [
    {
     "data": {
      "text/plain": [
       "H15  ESTADO\n",
       "0    4         10354\n",
       "1    1         32544\n",
       "     2          2276\n",
       "     3         32944\n",
       "2    0            99\n",
       "dtype: int64"
      ]
     },
     "execution_count": 15,
     "metadata": {},
     "output_type": "execute_result"
    }
   ],
   "source": [
    "df_people_2021[['H15', 'ESTADO']].value_counts().sort_index()"
   ]
  },
  {
   "cell_type": "code",
   "execution_count": 16,
   "metadata": {},
   "outputs": [
    {
     "data": {
      "text/plain": [
       "H15  ESTADO\n",
       "0    4         10105\n",
       "1    1         33202\n",
       "     2          1982\n",
       "     3         32234\n",
       "2    0           119\n",
       "dtype: int64"
      ]
     },
     "execution_count": 16,
     "metadata": {},
     "output_type": "execute_result"
    }
   ],
   "source": [
    "df_people_2022[['H15', 'ESTADO']].value_counts().sort_index()"
   ]
  },
  {
   "cell_type": "code",
   "execution_count": 19,
   "metadata": {},
   "outputs": [
    {
     "data": {
      "text/plain": [
       "0.0      581\n",
       "1.0     1302\n",
       "2.0     8251\n",
       "3.0    24434\n",
       "4.0      250\n",
       "9.0        2\n",
       "Name: CAT_OCUP, dtype: int64"
      ]
     },
     "execution_count": 19,
     "metadata": {},
     "output_type": "execute_result"
    }
   ],
   "source": [
    "df_people_2021['CAT_OCUP'].value_counts().sort_index()"
   ]
  },
  {
   "cell_type": "code",
   "execution_count": 20,
   "metadata": {},
   "outputs": [
    {
     "data": {
      "text/plain": [
       "0.0      531\n",
       "1.0     1224\n",
       "2.0     7765\n",
       "3.0    25490\n",
       "4.0      173\n",
       "9.0        1\n",
       "Name: CAT_OCUP, dtype: int64"
      ]
     },
     "execution_count": 20,
     "metadata": {},
     "output_type": "execute_result"
    }
   ],
   "source": [
    "df_people_2022['CAT_OCUP'].value_counts().sort_index()"
   ]
  },
  {
   "cell_type": "code",
   "execution_count": 22,
   "metadata": {},
   "outputs": [
    {
     "data": {
      "text/plain": [
       "0    46896\n",
       "1    28566\n",
       "2     2754\n",
       "3        1\n",
       "Name: PP03C, dtype: int64"
      ]
     },
     "execution_count": 22,
     "metadata": {},
     "output_type": "execute_result"
    }
   ],
   "source": [
    "df_people_2021['PP03C'].value_counts().sort_index()"
   ]
  },
  {
   "cell_type": "code",
   "execution_count": 23,
   "metadata": {},
   "outputs": [
    {
     "data": {
      "text/plain": [
       "0    45371\n",
       "1    29354\n",
       "2     2917\n",
       "Name: PP03C, dtype: int64"
      ]
     },
     "execution_count": 23,
     "metadata": {},
     "output_type": "execute_result"
    }
   ],
   "source": [
    "df_people_2022['PP03C'].value_counts().sort_index()"
   ]
  },
  {
   "cell_type": "code",
   "execution_count": 21,
   "metadata": {},
   "outputs": [
    {
     "data": {
      "text/plain": [
       "0.0    29789\n",
       "2.0     2362\n",
       "3.0      281\n",
       "4.0       57\n",
       "5.0       33\n",
       "6.0        8\n",
       "7.0        6\n",
       "8.0        5\n",
       "9.0        3\n",
       "Name: PP03D, dtype: int64"
      ]
     },
     "execution_count": 21,
     "metadata": {},
     "output_type": "execute_result"
    }
   ],
   "source": [
    "df_people_2021['PP03D'].value_counts().sort_index()"
   ]
  },
  {
   "cell_type": "code",
   "execution_count": 40,
   "metadata": {},
   "outputs": [
    {
     "data": {
      "text/plain": [
       "130734"
      ]
     },
     "execution_count": 40,
     "metadata": {},
     "output_type": "execute_result"
    }
   ],
   "source": [
    "df_people_2021[(df_people_2021['PP3E_TOT'] < df_people_2021['PP3F_TOT'].str.replace(',', '.').astype(float))]['PONDERA'].sum()"
   ]
  },
  {
   "cell_type": "code",
   "execution_count": 42,
   "metadata": {},
   "outputs": [
    {
     "data": {
      "text/plain": [
       "142258"
      ]
     },
     "execution_count": 42,
     "metadata": {},
     "output_type": "execute_result"
    }
   ],
   "source": [
    "df_people_2022[(df_people_2022['PP3E_TOT'] < df_people_2022['PP3F_TOT'])]['PONDERA'].sum()"
   ]
  },
  {
   "cell_type": "code",
   "execution_count": 56,
   "metadata": {},
   "outputs": [
    {
     "data": {
      "text/plain": [
       "28132    999\n",
       "28656    999\n",
       "29823    999\n",
       "29964    999\n",
       "30335    999\n",
       "31726    999\n",
       "Name: PP3F_TOT, dtype: int64"
      ]
     },
     "execution_count": 56,
     "metadata": {},
     "output_type": "execute_result"
    }
   ],
   "source": [
    "df_people_2022[df_people_2022['PP3F_TOT']==999]['PP3F_TOT']"
   ]
  },
  {
   "cell_type": "code",
   "execution_count": 58,
   "metadata": {},
   "outputs": [
    {
     "data": {
      "text/plain": [
       "0    35303\n",
       "1    12288\n",
       "2      103\n",
       "3    18257\n",
       "4     4955\n",
       "5     5298\n",
       "6      192\n",
       "7     1246\n",
       "Name: CAT_INAC, dtype: int64"
      ]
     },
     "execution_count": 58,
     "metadata": {},
     "output_type": "execute_result"
    }
   ],
   "source": [
    "df_people_2022['CAT_INAC'].value_counts().sort_index()"
   ]
  },
  {
   "cell_type": "code",
   "execution_count": 50,
   "metadata": {},
   "outputs": [
    {
     "data": {
      "text/plain": [
       "40.0     5232\n",
       "48.0     3788\n",
       "30.0     3184\n",
       "20.0     2017\n",
       "25.0     1227\n",
       "         ... \n",
       "140.0       1\n",
       "102.0       1\n",
       "119.0       1\n",
       "108.0       1\n",
       "83.0        1\n",
       "Name: PP3E_TOT, Length: 106, dtype: int64"
      ]
     },
     "execution_count": 50,
     "metadata": {},
     "output_type": "execute_result"
    }
   ],
   "source": [
    "df_people_2022['PP3E_TOT'].value_counts()"
   ]
  },
  {
   "cell_type": "code",
   "execution_count": 24,
   "metadata": {},
   "outputs": [
    {
     "data": {
      "text/plain": [
       "0.0    30285\n",
       "2.0     2502\n",
       "3.0      296\n",
       "4.0       68\n",
       "5.0       29\n",
       "6.0       12\n",
       "7.0        6\n",
       "8.0        3\n",
       "9.0        1\n",
       "Name: PP03D, dtype: int64"
      ]
     },
     "execution_count": 24,
     "metadata": {},
     "output_type": "execute_result"
    }
   ],
   "source": [
    "df_people_2022['PP03D'].value_counts().sort_index()"
   ]
  },
  {
   "cell_type": "code",
   "execution_count": 44,
   "metadata": {},
   "outputs": [
    {
     "data": {
      "text/plain": [
       "0.0     9341\n",
       "1.0    14631\n",
       "2.0     8572\n",
       "Name: PP07H, dtype: int64"
      ]
     },
     "execution_count": 44,
     "metadata": {},
     "output_type": "execute_result"
    }
   ],
   "source": [
    "df_people_2021['PP07H'].value_counts().sort_index()"
   ]
  },
  {
   "cell_type": "code",
   "execution_count": 12,
   "metadata": {},
   "outputs": [],
   "source": [
    "import pandas as pd\n",
    "\n",
    "def row_counts(df_year1, df_year2, year1, year2):\n",
    "    count_year1 = len(df_year1)\n",
    "    count_year2 = len(df_year2)\n",
    "    merged_df = pd.merge(df_year1, df_year2, on=['CODUSU', 'COMPONENTE'], how='inner')\n",
    "    count_both_years = len(merged_df)\n",
    "\n",
    "    # Calculate total population\n",
    "    pob_year1 = df_year1['PONDERA'].sum()\n",
    "    pob_year2 = df_year2['PONDERA'].sum()\n",
    "\n",
    "    # Calculate number of surveys performed\n",
    "    encuesta_realizada_year1 = df_year1[df_year1['H15'] != 2]['H15'].count()\n",
    "    pob_encuesta_realizada_year1 = df_year1[df_year1['H15'] != 2]['PONDERA'].sum()\n",
    "    encuesta_realizada_year2 = df_year2[df_year2['H15'] != 2]['H15'].count()\n",
    "    pob_encuesta_realizada_year2 = df_year2[df_year2['H15'] != 2]['PONDERA'].sum()\n",
    "\n",
    "    # Calculate number of imputed surveys\n",
    "    encuesta_imputada_year1 = df_year1[df_year1['IMPUTA'] == 2]['IMPUTA'].count()\n",
    "    pob_encuesta_imputada_year1 = df_year1[df_year1['IMPUTA'] == 2]['PONDERA'].sum()\n",
    "    encuesta_imputada_year2 = df_year2[df_year2['IMPUTA'] == 2]['IMPUTA'].count()\n",
    "    pob_encuesta_imputada_year2 = df_year2[df_year2['IMPUTA'] == 2]['PONDERA'].sum()\n",
    "\n",
    "    # Create the table as a pandas dataframe\n",
    "    data = {\n",
    "        'Anio': [year1, year2],\n",
    "        'Cantidad de observaciones': [count_year1, count_year2],\n",
    "        'Observaciones en ambos anios': [count_both_years, count_both_years],\n",
    "        'Poblacion total': [pob_year1, pob_year2],\n",
    "        'Encuestas realizadas en el anio': [encuesta_realizada_year1, encuesta_realizada_year2],\n",
    "        'Poblacion de encuestas realizadas en el anio': [pob_encuesta_realizada_year1, pob_encuesta_realizada_year2],\n",
    "        'Encuestas imputadas en el anio': [encuesta_imputada_year1, encuesta_imputada_year2],\n",
    "        'Poblacion de encuestas imputadas en el anio': [pob_encuesta_imputada_year1, pob_encuesta_imputada_year2]\n",
    "    }\n",
    "    table = pd.DataFrame(data)\n",
    "    table.set_index('Anio', inplace=True)\n",
    "\n",
    "    return table\n"
   ]
  },
  {
   "cell_type": "code",
   "execution_count": 13,
   "metadata": {},
   "outputs": [
    {
     "data": {
      "text/html": [
       "<div>\n",
       "<style scoped>\n",
       "    .dataframe tbody tr th:only-of-type {\n",
       "        vertical-align: middle;\n",
       "    }\n",
       "\n",
       "    .dataframe tbody tr th {\n",
       "        vertical-align: top;\n",
       "    }\n",
       "\n",
       "    .dataframe thead th {\n",
       "        text-align: right;\n",
       "    }\n",
       "</style>\n",
       "<table border=\"1\" class=\"dataframe\">\n",
       "  <thead>\n",
       "    <tr style=\"text-align: right;\">\n",
       "      <th></th>\n",
       "      <th>Cantidad de observaciones</th>\n",
       "      <th>Observaciones en ambos anios</th>\n",
       "      <th>Poblacion total</th>\n",
       "      <th>Encuestas realizadas en el anio</th>\n",
       "      <th>Poblacion de encuestas realizadas en el anio</th>\n",
       "      <th>Encuestas imputadas en el anio</th>\n",
       "      <th>Poblacion de encuestas imputadas en el anio</th>\n",
       "    </tr>\n",
       "    <tr>\n",
       "      <th>Anio</th>\n",
       "      <th></th>\n",
       "      <th></th>\n",
       "      <th></th>\n",
       "      <th></th>\n",
       "      <th></th>\n",
       "      <th></th>\n",
       "      <th></th>\n",
       "    </tr>\n",
       "  </thead>\n",
       "  <tbody>\n",
       "    <tr>\n",
       "      <th>2021</th>\n",
       "      <td>78217</td>\n",
       "      <td>30417</td>\n",
       "      <td>41693498</td>\n",
       "      <td>78118</td>\n",
       "      <td>41511018</td>\n",
       "      <td>110</td>\n",
       "      <td>41693498</td>\n",
       "    </tr>\n",
       "    <tr>\n",
       "      <th>2022</th>\n",
       "      <td>77642</td>\n",
       "      <td>30417</td>\n",
       "      <td>42268056</td>\n",
       "      <td>77523</td>\n",
       "      <td>42191941</td>\n",
       "      <td>109</td>\n",
       "      <td>42268056</td>\n",
       "    </tr>\n",
       "  </tbody>\n",
       "</table>\n",
       "</div>"
      ],
      "text/plain": [
       "      Cantidad de observaciones  Observaciones en ambos anios  \\\n",
       "Anio                                                            \n",
       "2021                      78217                         30417   \n",
       "2022                      77642                         30417   \n",
       "\n",
       "      Poblacion total  Encuestas realizadas en el anio  \\\n",
       "Anio                                                     \n",
       "2021         41693498                            78118   \n",
       "2022         42268056                            77523   \n",
       "\n",
       "      Poblacion de encuestas realizadas en el anio  \\\n",
       "Anio                                                 \n",
       "2021                                      41511018   \n",
       "2022                                      42191941   \n",
       "\n",
       "      Encuestas imputadas en el anio  \\\n",
       "Anio                                   \n",
       "2021                             110   \n",
       "2022                             109   \n",
       "\n",
       "      Poblacion de encuestas imputadas en el anio  \n",
       "Anio                                               \n",
       "2021                                     41693498  \n",
       "2022                                     42268056  "
      ]
     },
     "execution_count": 13,
     "metadata": {},
     "output_type": "execute_result"
    }
   ],
   "source": [
    "result_table = row_counts(df_people_2021, df_people_2022, 2021, 2022)\n",
    "result_table\n"
   ]
  },
  {
   "cell_type": "code",
   "execution_count": null,
   "metadata": {},
   "outputs": [],
   "source": [
    "\n",
    "df_people_2021['PONDERA_new'] = df_people_2021['rel_PONDERA']/2 * (pob_2021_pondera + pob_2022_pondera)/2\n",
    "df_people_2022['PONDERA_new'] = df_people_2022['rel_PONDERA']/2 * (pob_2021_pondera + pob_2022_pondera)/2\n",
    "\n",
    "df_people_2021['PONDII_new'] = df_people_2021['rel_PONDII']/2 * (pob_2021_pondii + pob_2022_pondii)/2\n",
    "df_people_2022['PONDII_new'] = df_people_2022['rel_PONDII']/2 * (pob_2021_pondii + pob_2022_pondii)/2\n",
    "\n",
    "df_people_2021['PONDIIO_new'] = df_people_2021['rel_PONDIIO']/2 * (pob_2021_pondiio + pob_2022_pondiio)/2\n",
    "df_people_2022['PONDIIO_new'] = df_people_2022['rel_PONDIIO']/2 * (pob_2021_pondiio + pob_2022_pondiio)/2\n"
   ]
  },
  {
   "cell_type": "code",
   "execution_count": 11,
   "metadata": {},
   "outputs": [],
   "source": [
    "df_merged_without_copies.to_csv(pathdata + 'data_output/Base_pool_solo_con_replicas_actuales.csv')"
   ]
  }
 ],
 "metadata": {
  "kernelspec": {
   "display_name": "indice_genero_env",
   "language": "python",
   "name": "python3"
  },
  "language_info": {
   "codemirror_mode": {
    "name": "ipython",
    "version": 3
   },
   "file_extension": ".py",
   "mimetype": "text/x-python",
   "name": "python",
   "nbconvert_exporter": "python",
   "pygments_lexer": "ipython3",
   "version": "3.9.15"
  },
  "orig_nbformat": 4
 },
 "nbformat": 4,
 "nbformat_minor": 2
}
