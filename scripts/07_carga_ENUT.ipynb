{
 "cells": [
  {
   "cell_type": "code",
   "execution_count": 1,
   "metadata": {},
   "outputs": [],
   "source": [
    "import pandas as pd\n",
    "import seaborn as sns\n",
    "import numpy as np\n",
    "import matplotlib.pyplot as plt\n",
    "\n",
    "import warnings\n",
    "warnings.filterwarnings('ignore')\n",
    "\n",
    "# Definimos fuente para los graficos\n",
    "from matplotlib import rcParams\n",
    "import matplotlib.font_manager as font_manager\n",
    "\n",
    "font_dir = ['/home/daniufundar/Downloads/Archivo/']\n",
    "for font in font_manager.findSystemFonts(font_dir):\n",
    "    font_manager.fontManager.addfont(font)\n",
    "\n",
    "rcParams['font.family'] = 'Archivo'\n",
    "\n",
    "fundar_colors = ['#E27124','#AFA36E', '#5D896F','#7BB5C4', '#B3B3B3']"
   ]
  },
  {
   "cell_type": "code",
   "execution_count": 2,
   "metadata": {},
   "outputs": [],
   "source": [
    "import platform\n",
    "\n",
    "if platform.system() == \"Windows\":\n",
    "    pathfolder = 'path_for_Windows'\n",
    "elif platform.system() == \"Linux\":\n",
    "    if platform.uname()[2] == \"5.15.0-57-generic\":\n",
    "        pathfolder = '/home/daniufundar/Documents/Fundar/indice-desigualdad-genero-fundar/'\n",
    "    elif platform.uname()[2] == \"version2\":\n",
    "        pathfolder = '/Users/danielarisaro/Documents/fundar/indice-desigualdad-genero/'\n",
    "elif platform.system() == \"Darwin\":\n",
    "    pathfolder = '/Users/danielarisaro/Documents/fundar/indice-desigualdad-genero/'\n",
    "else:\n",
    "    raise Exception(\"Unsupported operating system\")\n"
   ]
  },
  {
   "cell_type": "code",
   "execution_count": 14,
   "metadata": {},
   "outputs": [],
   "source": [
    "pathfolder = '/home/daniufundar/Documents/Fundar/indice-mercado-trabajo-ingresos/'\n",
    "pathinput = pathfolder + 'data_input/'\n",
    "\n",
    "filename_hogar = 'hogar_T'\n",
    "filename_personas = 'personas_T'\n",
    "\n",
    "list_anios = [20, 21]\n",
    "list_trimestres = [1, 2, 3, 4]"
   ]
  },
  {
   "cell_type": "code",
   "execution_count": 15,
   "metadata": {},
   "outputs": [],
   "source": [
    "for i, it in enumerate(list_trimestres):\n",
    "    for j, janios in enumerate(list_anios):\n",
    "\n",
    "        filename = filename_personas + str(it) + str(janios) + '.txt'\n",
    "        df = pd.read_csv(pathinput + filename, delimiter=';', low_memory=False)"
   ]
  },
  {
   "cell_type": "code",
   "execution_count": null,
   "metadata": {},
   "outputs": [],
   "source": [
    "#pathfolder_ENUT = '/home/daniufundar/Documents/Fundar/indice-desigualdad-genero-fundar/data_input/ENUT_2021/'\n",
    "#filename = 'enut2021_base.txt'\n",
    "#df_enut = pd.read_csv(pathfolder_ENUT + filename)\n",
    "\n",
    "#df_enut.keys().to_list()\n",
    "#df_enut['tiempo_tdnr']"
   ]
  }
 ],
 "metadata": {
  "kernelspec": {
   "display_name": "indice_genero_env",
   "language": "python",
   "name": "python3"
  },
  "language_info": {
   "codemirror_mode": {
    "name": "ipython",
    "version": 3
   },
   "file_extension": ".py",
   "mimetype": "text/x-python",
   "name": "python",
   "nbconvert_exporter": "python",
   "pygments_lexer": "ipython3",
   "version": "3.9.15"
  },
  "orig_nbformat": 4,
  "vscode": {
   "interpreter": {
    "hash": "ed99eace0209c7d127541edf8fcf18201afe5151ec444422b58a866f34e490e1"
   }
  }
 },
 "nbformat": 4,
 "nbformat_minor": 2
}
