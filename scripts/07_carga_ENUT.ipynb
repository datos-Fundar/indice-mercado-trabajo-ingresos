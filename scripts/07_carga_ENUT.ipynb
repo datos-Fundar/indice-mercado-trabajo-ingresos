{
 "cells": [
  {
   "cell_type": "code",
   "execution_count": 6,
   "metadata": {},
   "outputs": [],
   "source": [
    "import pandas as pd\n",
    "import seaborn as sns\n",
    "import numpy as np\n",
    "import matplotlib.pyplot as plt\n",
    "import pickle\n",
    "import warnings\n",
    "warnings.filterwarnings('ignore')\n"
   ]
  },
  {
   "cell_type": "code",
   "execution_count": 4,
   "metadata": {},
   "outputs": [],
   "source": [
    "# Definimos path\n",
    "pathdata = '/home/daniu/Documentos/fundar/indice-mercado-trabajo-ingresos/'\n",
    "pathdata = '/Users/danielarisaro/Documents/Fundar/indice-mercado-trabajo-ingresos/'\n",
    "pathdata = '/home/daniufundar/Documents/Fundar/indice-mercado-trabajo-ingresos/'\n"
   ]
  },
  {
   "cell_type": "code",
   "execution_count": 7,
   "metadata": {},
   "outputs": [],
   "source": [
    "with open(pathdata + 'modulos/diccionarios/' + 'diccionario_aglomerados.pickle', 'rb') as file:\n",
    "    dict_cod_aglomerado = pickle.load(file)\n",
    "\n",
    "with open(pathdata + 'modulos/diccionarios/' + 'diccionario_provincia.pickle', 'rb') as file:\n",
    "    dict_cod_provincia = pickle.load(file)\n",
    "\n",
    "with open(pathdata + 'modulos/diccionarios/' + 'diccionario_aglomerado_provincia.pickle', 'rb') as file:\n",
    "    map_aglomerado_provincia = pickle.load(file)\n",
    "\n",
    "with open(pathdata + 'modulos/diccionarios/' + 'diccionario_aglomerado_region.pickle', 'rb') as file:\n",
    "    map_aglomerado_region = pickle.load(file)\n",
    "\n",
    "with open(pathdata + 'modulos/diccionarios/' + 'diccionario_provincia_region.pickle', 'rb') as file:\n",
    "    map_provincia_region = pickle.load(file)"
   ]
  },
  {
   "cell_type": "code",
   "execution_count": 14,
   "metadata": {},
   "outputs": [],
   "source": [
    "dict_regiones_ENUT = {1: 'Gran Buenos Aires',\n",
    "                    2: 'Pampeana',\n",
    "                    3: 'Noroeste',\n",
    "                    4: 'Noreste',\n",
    "                    5: 'Cuyo',\n",
    "                    6: 'Patagonia'}"
   ]
  },
  {
   "cell_type": "code",
   "execution_count": 15,
   "metadata": {},
   "outputs": [],
   "source": [
    "pathfolder_ENUT =  pathdata + 'data_input/ENUT_2021/Bases de datos/'\n",
    "filename = 'enut2021_base.txt'\n",
    "df_enut_base = pd.read_csv(pathfolder_ENUT + filename, sep='|')\n"
   ]
  },
  {
   "cell_type": "code",
   "execution_count": 16,
   "metadata": {},
   "outputs": [],
   "source": [
    "columnas = pd.DataFrame(df_enut_base.columns)"
   ]
  },
  {
   "cell_type": "code",
   "execution_count": 78,
   "metadata": {},
   "outputs": [],
   "source": [
    "pondera = 'WPER'\n",
    "df_temp = df_enut_base[df_enut_base['EDAD_SEL']>=14]\n",
    "df_selected = df_temp[(~df_temp['TSS_GRANGRUPO_TNR'].isna())][['TSS_GRANGRUPO_TNR', 'SEXO_SEL', 'REGION', pondera]]\n",
    "df_selected['Multiplication'] = df_selected['TSS_GRANGRUPO_TNR'] * df_selected[pondera]\n",
    "\n",
    "numerador = df_selected.groupby(['SEXO_SEL', 'REGION'])['Multiplication'].sum().unstack(level=0)\n",
    "denominador = df_selected.groupby(['SEXO_SEL', 'REGION'])[pondera].sum().unstack(level=0)\n",
    "tasa = numerador.div(denominador, fill_value=np.nan)    \n",
    "tasa = tasa.rename(columns= {2:'Varon', 1:'Mujer'})\n",
    "\n",
    "size = df_temp[(~df_temp['TSS_GRANGRUPO_TNR'].isna())].groupby(['REGION', 'SEXO_SEL']).size().unstack(level=1)\n",
    "size = size.rename(columns= {2:'N_v', 1:'N_m'})\n",
    "\n",
    "n_pob = df_temp[(~df_temp['TSS_GRANGRUPO_TNR'].isna())].groupby(['REGION', 'SEXO_SEL'])[pondera].sum().unstack(level=1)\n",
    "n_pob = n_pob.rename(columns= {2:'N_pob_v', 1:'N_pob_m'})\n",
    "\n",
    "size[['N_pob_v', 'N_pob_m']] = n_pob[['N_pob_v', 'N_pob_m']]\n",
    "size['N_pob_tot'] = n_pob['N_pob_v'] + n_pob['N_pob_m'] \n",
    "\n",
    "ratio = tasa['Varon'] / tasa['Mujer']\n",
    "\n",
    "error = pd.DataFrame(index=size.index, columns=['LI', 'LS', 'ME', 'ER'])\n",
    "\n",
    "ratio_minutos_promedio_no_pago = pd.concat([tasa, size, ratio*100, error], axis=1)\n",
    "ratio_minutos_promedio_no_pago.rename(columns={0: 'Tiempo TNR'}, inplace=True)\n",
    "\n",
    "ratio_minutos_promedio_no_pago.index = ratio_minutos_promedio_no_pago.index.map(dict_regiones_ENUT)"
   ]
  },
  {
   "cell_type": "code",
   "execution_count": 80,
   "metadata": {},
   "outputs": [],
   "source": [
    "ratio_minutos_promedio_no_pago.to_csv(pathdata + 'data_output/indicadores/05_tiempo_no_remunerado.csv')"
   ]
  }
 ],
 "metadata": {
  "kernelspec": {
   "display_name": "Python 3.9.12 ('pyenv')",
   "language": "python",
   "name": "python3"
  },
  "language_info": {
   "codemirror_mode": {
    "name": "ipython",
    "version": 3
   },
   "file_extension": ".py",
   "mimetype": "text/x-python",
   "name": "python",
   "nbconvert_exporter": "python",
   "pygments_lexer": "ipython3",
   "version": "3.9.15"
  },
  "orig_nbformat": 4,
  "vscode": {
   "interpreter": {
    "hash": "509f5cbefa0cafc10dc1461472345186404cff510fb444dcb85013f09977a5b7"
   }
  }
 },
 "nbformat": 4,
 "nbformat_minor": 2
}
