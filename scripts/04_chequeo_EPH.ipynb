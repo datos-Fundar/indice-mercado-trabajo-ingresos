{
 "cells": [
  {
   "cell_type": "code",
   "execution_count": 4,
   "metadata": {},
   "outputs": [],
   "source": [
    "import pandas as pd\n",
    "import numpy as np\n",
    "import matplotlib.pyplot as plt\n",
    "import seaborn as sns"
   ]
  },
  {
   "cell_type": "code",
   "execution_count": 5,
   "metadata": {},
   "outputs": [],
   "source": [
    "pathdata = '/home/daniu/Documentos/fundar/indice-mercado-trabajo-ingresos/'\n",
    "pathdata = '/home/daniufundar/Documents/Fundar/indice-mercado-trabajo-ingresos/'\n",
    "pathdata = '/Users/danielarisaro/Documents/fundar/indice-mercado-trabajo-ingresos/'\n",
    "\n",
    "df_people_2021 = pd.read_csv(pathdata + 'data_input/personas_tot_urb_3T_21.txt', delimiter=';', low_memory=False)\n",
    "df_people_2020 = pd.read_csv(pathdata + 'data_input/personas_tot_urb_3T_20.txt', delimiter=';', low_memory=False)\n"
   ]
  },
  {
   "cell_type": "code",
   "execution_count": 6,
   "metadata": {},
   "outputs": [
    {
     "name": "stdout",
     "output_type": "stream",
     "text": [
      "Number of strata in 2021 survey: 2689\n",
      "Number of strata in 2020 survey: 2459\n"
     ]
    }
   ],
   "source": [
    "num_strata_2021 = len(df_people_2021['PONDERA'].unique())\n",
    "num_strata_2020 = len(df_people_2020['PONDERA'].unique())\n",
    "print(\"Number of strata in 2021 survey:\", num_strata_2021)\n",
    "print(\"Number of strata in 2020 survey:\", num_strata_2020)\n"
   ]
  },
  {
   "cell_type": "code",
   "execution_count": 7,
   "metadata": {},
   "outputs": [
    {
     "name": "stdout",
     "output_type": "stream",
     "text": [
      "Cantidad de registros 2020: 63162\n",
      "Cantidad de registros 2021: 78217\n",
      "Cantidad de registros coincidentes entre 2020 y 2021: 20428\n"
     ]
    }
   ],
   "source": [
    "print('Cantidad de registros 2020:', len(df_people_2020))\n",
    "print('Cantidad de registros 2021:', len(df_people_2021))\n",
    "print('Cantidad de registros coincidentes entre 2020 y 2021:', len(list(set(df_people_2020['CODUSU']) & set(df_people_2020['CODUSU']))))"
   ]
  },
  {
   "cell_type": "code",
   "execution_count": 16,
   "metadata": {},
   "outputs": [],
   "source": [
    "income_dist_2021 = df_people_2021.apply(lambda x: x['P47T']*x['PONDII'], axis=1)\n",
    "income_dist_2020 = df_people_2020.groupby('CH04').apply(lambda x: x['P47T']*x['PONDII'])\n"
   ]
  },
  {
   "cell_type": "code",
   "execution_count": 28,
   "metadata": {},
   "outputs": [],
   "source": [
    "income_dist_2021 = df_people_2021[['CH04','P47T','PONDII']].copy()\n",
    "income_dist_2021['Weighted Income'] = df_people_2021.apply(lambda x: x['P47T']*x['PONDII'], axis=1)\n"
   ]
  },
  {
   "cell_type": "code",
   "execution_count": 29,
   "metadata": {},
   "outputs": [
    {
     "data": {
      "text/html": [
       "<div>\n",
       "<style scoped>\n",
       "    .dataframe tbody tr th:only-of-type {\n",
       "        vertical-align: middle;\n",
       "    }\n",
       "\n",
       "    .dataframe tbody tr th {\n",
       "        vertical-align: top;\n",
       "    }\n",
       "\n",
       "    .dataframe thead th {\n",
       "        text-align: right;\n",
       "    }\n",
       "</style>\n",
       "<table border=\"1\" class=\"dataframe\">\n",
       "  <thead>\n",
       "    <tr style=\"text-align: right;\">\n",
       "      <th></th>\n",
       "      <th>CH04</th>\n",
       "      <th>P47T</th>\n",
       "      <th>PONDII</th>\n",
       "      <th>Weighted Income</th>\n",
       "    </tr>\n",
       "  </thead>\n",
       "  <tbody>\n",
       "    <tr>\n",
       "      <th>0</th>\n",
       "      <td>2</td>\n",
       "      <td>-9.0</td>\n",
       "      <td>0</td>\n",
       "      <td>-0.0</td>\n",
       "    </tr>\n",
       "    <tr>\n",
       "      <th>1</th>\n",
       "      <td>2</td>\n",
       "      <td>0.0</td>\n",
       "      <td>2615</td>\n",
       "      <td>0.0</td>\n",
       "    </tr>\n",
       "    <tr>\n",
       "      <th>2</th>\n",
       "      <td>2</td>\n",
       "      <td>0.0</td>\n",
       "      <td>1340</td>\n",
       "      <td>0.0</td>\n",
       "    </tr>\n",
       "    <tr>\n",
       "      <th>3</th>\n",
       "      <td>2</td>\n",
       "      <td>0.0</td>\n",
       "      <td>1127</td>\n",
       "      <td>0.0</td>\n",
       "    </tr>\n",
       "    <tr>\n",
       "      <th>4</th>\n",
       "      <td>2</td>\n",
       "      <td>-9.0</td>\n",
       "      <td>0</td>\n",
       "      <td>-0.0</td>\n",
       "    </tr>\n",
       "    <tr>\n",
       "      <th>...</th>\n",
       "      <td>...</td>\n",
       "      <td>...</td>\n",
       "      <td>...</td>\n",
       "      <td>...</td>\n",
       "    </tr>\n",
       "    <tr>\n",
       "      <th>78212</th>\n",
       "      <td>1</td>\n",
       "      <td>12000.0</td>\n",
       "      <td>504</td>\n",
       "      <td>6048000.0</td>\n",
       "    </tr>\n",
       "    <tr>\n",
       "      <th>78213</th>\n",
       "      <td>1</td>\n",
       "      <td>14000.0</td>\n",
       "      <td>500</td>\n",
       "      <td>7000000.0</td>\n",
       "    </tr>\n",
       "    <tr>\n",
       "      <th>78214</th>\n",
       "      <td>2</td>\n",
       "      <td>30000.0</td>\n",
       "      <td>481</td>\n",
       "      <td>14430000.0</td>\n",
       "    </tr>\n",
       "    <tr>\n",
       "      <th>78215</th>\n",
       "      <td>2</td>\n",
       "      <td>29000.0</td>\n",
       "      <td>505</td>\n",
       "      <td>14645000.0</td>\n",
       "    </tr>\n",
       "    <tr>\n",
       "      <th>78216</th>\n",
       "      <td>1</td>\n",
       "      <td>34000.0</td>\n",
       "      <td>552</td>\n",
       "      <td>18768000.0</td>\n",
       "    </tr>\n",
       "  </tbody>\n",
       "</table>\n",
       "<p>78217 rows × 4 columns</p>\n",
       "</div>"
      ],
      "text/plain": [
       "       CH04     P47T  PONDII  Weighted Income\n",
       "0         2     -9.0       0             -0.0\n",
       "1         2      0.0    2615              0.0\n",
       "2         2      0.0    1340              0.0\n",
       "3         2      0.0    1127              0.0\n",
       "4         2     -9.0       0             -0.0\n",
       "...     ...      ...     ...              ...\n",
       "78212     1  12000.0     504        6048000.0\n",
       "78213     1  14000.0     500        7000000.0\n",
       "78214     2  30000.0     481       14430000.0\n",
       "78215     2  29000.0     505       14645000.0\n",
       "78216     1  34000.0     552       18768000.0\n",
       "\n",
       "[78217 rows x 4 columns]"
      ]
     },
     "execution_count": 29,
     "metadata": {},
     "output_type": "execute_result"
    }
   ],
   "source": [
    "income_dist_2021"
   ]
  },
  {
   "cell_type": "code",
   "execution_count": 48,
   "metadata": {},
   "outputs": [
    {
     "data": {
      "text/plain": [
       "(-50000000.0, 65000000.0)"
      ]
     },
     "execution_count": 48,
     "metadata": {},
     "output_type": "execute_result"
    },
    {
     "data": {
      "image/png": "[encoded data removed]",
      "text/plain": [
       "<Figure size 432x288 with 1 Axes>"
      ]
     },
     "metadata": {
      "needs_background": "light"
     },
     "output_type": "display_data"
    }
   ],
   "source": [
    "income_dist_2021.groupby('CH04')['Weighted Income'].plot(kind='kde')\n",
    "plt.legend(['Varones', 'Mujeres'], title='Gender')\n",
    "plt.xlim([-50000000, 65000000])"
   ]
  },
  {
   "cell_type": "code",
   "execution_count": null,
   "metadata": {},
   "outputs": [],
   "source": [
    "\n",
    "\n",
    "plt.figure(figsize=(12, 8))\n",
    "sns.violinplot(data=[income_dist_2021, income_dist_2020], cut=0, inner='stick', scale='count', scale_hue=False)\n",
    "plt.xlabel('Year')\n",
    "plt.ylabel('Income')\n",
    "plt.title('Distribution of income')\n",
    "plt.show()\n"
   ]
  }
 ],
 "metadata": {
  "kernelspec": {
   "display_name": "Python 3.9.12 ('pyenv')",
   "language": "python",
   "name": "python3"
  },
  "language_info": {
   "codemirror_mode": {
    "name": "ipython",
    "version": 3
   },
   "file_extension": ".py",
   "mimetype": "text/x-python",
   "name": "python",
   "nbconvert_exporter": "python",
   "pygments_lexer": "ipython3",
   "version": "3.9.12"
  },
  "orig_nbformat": 4,
  "vscode": {
   "interpreter": {
    "hash": "509f5cbefa0cafc10dc1461472345186404cff510fb444dcb85013f09977a5b7"
   }
  }
 },
 "nbformat": 4,
 "nbformat_minor": 2
}
