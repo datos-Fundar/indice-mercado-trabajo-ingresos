{
 "cells": [
  {
   "cell_type": "code",
   "execution_count": 1,
   "metadata": {},
   "outputs": [],
   "source": [
    "import pandas as pd\n",
    "import numpy as np"
   ]
  },
  {
   "cell_type": "code",
   "execution_count": 2,
   "metadata": {},
   "outputs": [],
   "source": [
    "pathdata = '/Users/danielarisaro/Documents/fundar/indice-desigualdad-genero/'\n",
    "pathdata = '/home/daniu/Documentos/fundar/indice-desigualdad-genero/'\n",
    "pathdata = '/home/daniufundar/Documents/Fundar/indice-desigualdad-genero-fundar/'\n",
    "\n",
    "df_people_2021 = pd.read_csv(pathdata + 'data_input/personas_tot.urb_3T_21.txt', delimiter=';', low_memory=False)\n",
    "df_people_2020 = pd.read_csv(pathdata + 'data_input/personas_tot.urb_3T_20.txt', delimiter=';', low_memory=False)\n"
   ]
  },
  {
   "cell_type": "code",
   "execution_count": 7,
   "metadata": {},
   "outputs": [
    {
     "data": {
      "text/plain": [
       "20428"
      ]
     },
     "execution_count": 7,
     "metadata": {},
     "output_type": "execute_result"
    }
   ],
   "source": [
    "df_people_2020['CODUSU'].equals(df_people_2021['CODUSU'])\n",
    "\n",
    "len(list(set(df_people_2020['CODUSU']) & set(df_people_2020['CODUSU'])))"
   ]
  },
  {
   "cell_type": "code",
   "execution_count": 11,
   "metadata": {},
   "outputs": [
    {
     "name": "stdout",
     "output_type": "stream",
     "text": [
      "Cantidad de registros 2020: 63162\n",
      "Cantidad de registros 2021: 78217\n",
      "Cantidad de registros coincidentes entre 2020 y 2021: 20428\n"
     ]
    }
   ],
   "source": [
    "print('Cantidad de registros 2020:', len(df_people_2020))\n",
    "print('Cantidad de registros 2021:', len(df_people_2021))\n",
    "print('Cantidad de registros coincidentes entre 2020 y 2021:', len(list(set(df_people_2020['CODUSU']) & set(df_people_2020['CODUSU']))))"
   ]
  }
 ],
 "metadata": {
  "kernelspec": {
   "display_name": "Python 3.10.4 ('ds_env')",
   "language": "python",
   "name": "python3"
  },
  "language_info": {
   "codemirror_mode": {
    "name": "ipython",
    "version": 3
   },
   "file_extension": ".py",
   "mimetype": "text/x-python",
   "name": "python",
   "nbconvert_exporter": "python",
   "pygments_lexer": "ipython3",
   "version": "3.10.4 (main, Mar 31 2022, 08:41:55) [GCC 7.5.0]"
  },
  "orig_nbformat": 4,
  "vscode": {
   "interpreter": {
    "hash": "b74295106b3d0b59d2a2175ab810ed1658254384c62ba9397060eb78ae7ca1fa"
   }
  }
 },
 "nbformat": 4,
 "nbformat_minor": 2
}
