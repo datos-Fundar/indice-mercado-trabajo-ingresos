{
 "cells": [
  {
   "cell_type": "code",
   "execution_count": 4,
   "metadata": {},
   "outputs": [],
   "source": [
    "import pandas as pd\n",
    "import numpy as np\n",
    "import matplotlib.pyplot as plt\n",
    "import warnings\n",
    "warnings.filterwarnings('ignore')"
   ]
  },
  {
   "cell_type": "code",
   "execution_count": null,
   "metadata": {},
   "outputs": [],
   "source": [
    "import platform\n",
    "\n",
    "if platform.system() == \"Windows\":\n",
    "    pathfolder = 'path_for_Windows'\n",
    "elif platform.system() == \"Linux\":\n",
    "    if platform.uname()[2] == \"5.15.0-57-generic\":\n",
    "        pathfolder = '/home/daniufundar/Documents/Fundar/indice-desigualdad-genero-fundar/'\n",
    "    elif platform.uname()[2] == \"version2\":\n",
    "        pathfolder = '/Users/danielarisaro/Documents/fundar/indice-desigualdad-genero/'\n",
    "elif platform.system() == \"Darwin\":\n",
    "    pathfolder = '/Users/danielarisaro/Documents/fundar/indice-desigualdad-genero/'\n",
    "else:\n",
    "    raise Exception(\"Unsupported operating system\")\n"
   ]
  },
  {
   "cell_type": "code",
   "execution_count": 6,
   "metadata": {},
   "outputs": [],
   "source": [
    "# Read data\n",
    "\n",
    "pathdata = '/home/daniu/Documentos/fundar/indice-mercado-trabajo-ingresos/'\n",
    "pathdata = '/Users/danielarisaro/Documents/fundar/indice-mercado-trabajo-ingresos/'\n",
    "pathdata = '/home/daniufundar/Documents/Fundar/indice-mercado-trabajo-ingresos/'\n",
    "\n",
    "df_people_2021 = pd.read_csv(pathdata + 'data_input/personas_tot_urb_3T_21.txt', delimiter=';', low_memory=False)\n",
    "df_people_2022 = pd.read_csv(pathdata + 'data_input/personas_tot_urb_3T_22.txt', delimiter=';', low_memory=False)\n",
    "\n",
    "df_houses_2021 = pd.read_csv(pathdata + 'data_input/hogar_tot_urb_3T_2021.txt', delimiter=';', low_memory=False)\n",
    "df_houses_2022 = pd.read_csv(pathdata + 'data_input/hogar_tot_urb_3T_2022.txt', delimiter=';', low_memory=False)\n",
    "\n",
    "df_CBT = pd.read_csv(pathdata + 'data_output/Canasta_Basica_Total_Regiones_2016-2022-promedios-moviles.csv', delimiter=',', header=0, index_col=[0])\n",
    "df_adultos_equiv = pd.read_csv(pathdata + 'data_input/canastas_basicas/adultos_equivalente.csv')"
   ]
  },
  {
   "cell_type": "code",
   "execution_count": 11,
   "metadata": {},
   "outputs": [
    {
     "name": "stdout",
     "output_type": "stream",
     "text": [
      "Number of duplicate rows: 30417\n",
      "Left-only rows: 48100\n",
      "Right-only rows: 47523\n",
      "La longitud de los dataframes con y sin replicas son (155859, 127958)\n"
     ]
    }
   ],
   "source": [
    "merged_df = pd.merge(df_people_2021[['CODUSU', 'COMPONENTE']], df_people_2022[['CODUSU', 'COMPONENTE']], on=['CODUSU', 'COMPONENTE'], how='outer', indicator=True)\n",
    "\n",
    "duplicated_rows = merged_df['_merge'].value_counts()['both']\n",
    "print(f\"Number of duplicate rows: {duplicated_rows}\")\n",
    "\n",
    "left_only_rows = merged_df['_merge'].value_counts()['left_only']\n",
    "print(f\"Left-only rows: {left_only_rows}\")\n",
    "\n",
    "right_only_rows = merged_df['_merge'].value_counts()['right_only']\n",
    "print(f\"Right-only rows: {right_only_rows}\")\n",
    "\n",
    "right_only_rows = merged_df[merged_df['_merge'] == 'right_only']\n",
    "left_only_rows = merged_df[merged_df['_merge'] == 'left_only']\n",
    "both_rows = merged_df[merged_df['_merge'] == 'both']\n",
    "right_both_rows = pd.concat([both_rows, right_only_rows])\n",
    "\n",
    "df_people_2021['rel_PONDERA'] = df_people_2021['PONDERA']/df_people_2021['PONDERA'].sum()\n",
    "df_people_2022['rel_PONDERA'] = df_people_2022['PONDERA']/df_people_2022['PONDERA'].sum()\n",
    "\n",
    "df_merged_with_copies = pd.concat([df_people_2021, df_people_2022])\n",
    "\n",
    "df_people_2021_no_dupl = pd.merge(left_only_rows, df_people_2021, on=[\"CODUSU\", \"COMPONENTE\"], how='inner')\n",
    "df_people_2022_no_dupl = pd.merge(right_both_rows, df_people_2022, on=[\"CODUSU\", \"COMPONENTE\"], how='inner')\n",
    "\n",
    "df_merged_without_copies = pd.concat([df_people_2021_no_dupl, df_people_2022_no_dupl])\n",
    "\n",
    "\n",
    "n_with_copies = len(df_merged_with_copies)\n",
    "n_without_copies = len(df_merged_without_copies)\n",
    "print(f\"La longitud de los dataframes con y sin replicas son {n_with_copies, n_without_copies}\")"
   ]
  },
  {
   "cell_type": "code",
   "execution_count": null,
   "metadata": {},
   "outputs": [],
   "source": []
  },
  {
   "cell_type": "code",
   "execution_count": 15,
   "metadata": {},
   "outputs": [],
   "source": [
    "\n",
    "# T5. \n",
    "# Variable: Horas trabajadas en el hogar\n",
    "# Indicador: Ratio M/V en Horas semanales promedio destinadas al TNR en el hogar\n",
    "\n",
    "        # en funcion de la enut\n",
    "\n",
    "# T7.                                   # TODO: ajustar con IPC\n",
    "# Variable: Ingreso salarial\n",
    "# Indicador: Ratio M/V en Ingreso salarial promedio mensual\n",
    "\n",
    "def ratio_ingreso_laboral_mensual(df, tipo='Aglomerado', base='Individual'):\n",
    "\n",
    "    \"\"\"\n",
    "    INPUTS\n",
    "    df: DataFrame. Tabla input EPH\n",
    "    tipo: string. Tipo de encuesta de la EPH, Aglomerado o Urbano. Default Aglomerado\n",
    "    base: string. Tipo de base de la encuesta de la EPH, Individual u Hogar. Default Individual\n",
    "\n",
    "    OUTPUTS\n",
    "    ratio: DataFrame. Tabla con Ratios del ingreso individual mensual laboral de M/V, desagregado por Aglomerado o Provincia\n",
    "    error: DataFrame. Tabla con los errores asociados a los Ratios\n",
    "\n",
    "    \"\"\"\n",
    "\n",
    "    if tipo=='Aglomerado':\n",
    "        var = 'AGLOMERADO' \n",
    "    elif tipo=='Urbano':\n",
    "        var = 'PROVINCIA'\n",
    "\n",
    "    df_temp = df.query('CH06 >= 16 & CH06 < 65')\n",
    "    df_estado = df_temp[(df_temp['ESTADO'] == 1) & (~df_temp['CAT_OCUP'].isin([1, 4, 9]))]\n",
    "\n",
    "    df_ingreso = df_estado[(df_estado['P21']>0) & (df_estado['P21']!=-9)].sum()\n",
    "    df_tasa = df_ingreso.groupby(['CH04', var])['PONDIIO'].median().to_frame().unstack(level=0)  \n",
    "    \n",
    "    ratio = (df_tasa['PONDIIO'][2]/df_tasa['PONDIIO'][1] * 100).to_frame()\n",
    "    ratio.rename(columns={0: 'Ingreso laboral'}, inplace=True)\n",
    "    \n",
    "    ratio = ratio.join(size)\n",
    "    ratio.rename(columns={1: 'N_v', 2: 'N_m'}, inplace=True)\n",
    "\n",
    "    error = 'a definir'\n",
    "\n",
    "    return ratio, error\n",
    "\n"
   ]
  }
 ],
 "metadata": {
  "kernelspec": {
   "display_name": "Python 3.9.12 ('pyenv')",
   "language": "python",
   "name": "python3"
  },
  "language_info": {
   "codemirror_mode": {
    "name": "ipython",
    "version": 3
   },
   "file_extension": ".py",
   "mimetype": "text/x-python",
   "name": "python",
   "nbconvert_exporter": "python",
   "pygments_lexer": "ipython3",
   "version": "3.9.15"
  },
  "orig_nbformat": 4,
  "vscode": {
   "interpreter": {
    "hash": "509f5cbefa0cafc10dc1461472345186404cff510fb444dcb85013f09977a5b7"
   }
  }
 },
 "nbformat": 4,
 "nbformat_minor": 2
}
