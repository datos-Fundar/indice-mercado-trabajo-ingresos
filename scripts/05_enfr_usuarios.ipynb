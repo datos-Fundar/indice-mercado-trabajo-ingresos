{
 "cells": [
  {
   "cell_type": "code",
   "execution_count": 1,
   "metadata": {},
   "outputs": [],
   "source": [
    "import pandas as pd\n",
    "import seaborn as sns\n",
    "import matplotlib.pyplot as plt"
   ]
  },
  {
   "cell_type": "code",
   "execution_count": 2,
   "metadata": {},
   "outputs": [],
   "source": [
    "path_input_data = '/home/daniufundar/Documents/Fundar/indice-desigualdad-genero-fundar/data_input/ENFR2018_baseusuario/'\n",
    "filename_db = 'ENFR 2018 - Base usuario.txt'"
   ]
  },
  {
   "cell_type": "code",
   "execution_count": 3,
   "metadata": {},
   "outputs": [],
   "source": [
    "df_enfr = pd.read_csv(path_input_data + filename_db, delimiter= '|', index_col=0)"
   ]
  },
  {
   "cell_type": "markdown",
   "metadata": {},
   "source": [
    "### Brecha M/V en Riesgo alto o muy alto de desarrollar diabetes mellitus tipo II (DM2) en los próximos 10 años"
   ]
  },
  {
   "cell_type": "code",
   "execution_count": 4,
   "metadata": {},
   "outputs": [],
   "source": [
    "# Defino diccionarios\n",
    "\n",
    "#cod_provincia\n",
    "dict_cod_provincia = {2: \"Ciudad de Buenos Aires\",\n",
    " 6: \"Buenos Aires\",\n",
    " 10: \"Catamarca\",\n",
    " 14: \"Córdoba\",\n",
    " 18: \"Corrientes\",\n",
    " 22: \"Chaco\",\n",
    " 26: \"Chubut\",\n",
    " 30: \"Entre Ríos\",\n",
    " 34: \"Formosa\",\n",
    " 38: \"Jujuy\",\n",
    " 42: \"La Pampa\",\n",
    " 46: \"La Rioja\",\n",
    " 50: \"Mendoza\",\n",
    " 54: \"Misiones\",\n",
    " 58: \"Neuquén\",\n",
    " 62: \"Río Negro\",\n",
    " 66: \"Salta\",\n",
    " 70: \"San Juan\",\n",
    " 74: \"San Luis\",\n",
    " 78: \"Santa Cruz\",\n",
    " 82: \"Santa Fe\",\n",
    " 86: \"Santiago del Estero\",\n",
    " 90: \"Tucumán\",\n",
    " 94: \"Tierra del Fuego\"}\n",
    " \n",
    "#bhch03\n",
    "dict_gender = {1: 'Varon', 2: 'Mujer'}\n",
    "\n",
    "#bhch04     Edad\n",
    "\n",
    "#findrisc   Riesgo de desarrollar diabetes mellitus en los próximos 10 años según puntaje FINDRISC\n",
    "dict_findrisc = {1: 'Muy bajo riesgo', \n",
    "                2: 'Bajo riesgo',\n",
    "                3: 'Riesgo moderado',\n",
    "                4: 'Alto riesgo',\n",
    "                5: 'Muy alto riesgo'}\n",
    "\n",
    "#region     Código de región INDEC\n",
    "dict_region = {1: 'Metropolitana',\n",
    "            2: 'Pampeana',\n",
    "            3: 'Noroeste',\n",
    "            4: 'Noreste',\n",
    "            5: 'Cuyo',\n",
    "            6: 'Patagónica'}\n",
    "\n",
    "\n",
    "#aglomerado   Aglomerado urbano de 500.000 y más habitantes\n",
    "dict_aglomerado = {1: 'Gran Buenos Aires', \n",
    "                2: 'Gran Córdoba',\n",
    "                3: 'Gran Rosario',\n",
    "                4: 'Gran Mendoza',\n",
    "                5: 'Tucumán - Tafí Viejo',\n",
    "                6: 'Gran La Plata',\n",
    "                7: 'Mar del Plata - Batán',\n",
    "                8: 'Gran Salta',\n",
    "                9: 'Resto de los aglomerados'}\n",
    "\n",
    "\n",
    "#localidades_150\n",
    "dict_localidades_150 = {1: 'Localidad de 150.000 o más habitantes', 0: 'Localidad de menos de 150.000 habitantes'}\n",
    "\n",
    "\n",
    "#submuestra\n",
    "dict_submuestra = {0: 'Sin submuestra', 1: 'Submuestra'}\n",
    "\n"
   ]
  },
  {
   "cell_type": "code",
   "execution_count": 13,
   "metadata": {},
   "outputs": [],
   "source": [
    "# df_enfr['cod_provincia'] = df_enfr['cod_provincia'].replace(dict_cod_provincia)\n",
    "# df_enfr['region'] = df_enfr['region'].replace(dict_region)\n",
    "# df_enfr['bhch03'] = df_enfr['bhch03'].replace(dict_gender)\n",
    "# df_enfr['findrisc'] = df_enfr['findrisc'].replace(dict_findrisc)\n",
    "# df_enfr['submuestra'] = df_enfr['submuestra'].replace(dict_submuestra)\n",
    "# df_enfr['aglomerado'] = df_enfr['aglomerado'].replace(dict_aglomerado)\n",
    "# df_enfr['localidades_150'] = df_enfr['localidades_150'].replace(dict_localidades_150)"
   ]
  },
  {
   "cell_type": "code",
   "execution_count": 5,
   "metadata": {},
   "outputs": [
    {
     "data": {
      "text/plain": [
       "2.0    4208\n",
       "1.0    3499\n",
       "4.0    2561\n",
       "3.0    2537\n",
       "5.0     291\n",
       "Name: findrisc, dtype: int64"
      ]
     },
     "execution_count": 5,
     "metadata": {},
     "output_type": "execute_result"
    }
   ],
   "source": [
    "df_enfr['findrisc'].value_counts()"
   ]
  },
  {
   "cell_type": "code",
   "execution_count": 7,
   "metadata": {},
   "outputs": [
    {
     "data": {
      "text/plain": [
       "13096"
      ]
     },
     "execution_count": 7,
     "metadata": {},
     "output_type": "execute_result"
    }
   ],
   "source": [
    "df_enfr['findrisc'].value_counts().sum()"
   ]
  },
  {
   "cell_type": "code",
   "execution_count": 31,
   "metadata": {},
   "outputs": [
    {
     "data": {
      "text/html": [
       "<div>\n",
       "<style scoped>\n",
       "    .dataframe tbody tr th:only-of-type {\n",
       "        vertical-align: middle;\n",
       "    }\n",
       "\n",
       "    .dataframe tbody tr th {\n",
       "        vertical-align: top;\n",
       "    }\n",
       "\n",
       "    .dataframe thead th {\n",
       "        text-align: right;\n",
       "    }\n",
       "</style>\n",
       "<table border=\"1\" class=\"dataframe\">\n",
       "  <thead>\n",
       "    <tr style=\"text-align: right;\">\n",
       "      <th></th>\n",
       "      <th>findrisc</th>\n",
       "      <th>submuestra</th>\n",
       "      <th>localidades_150</th>\n",
       "    </tr>\n",
       "    <tr>\n",
       "      <th>id</th>\n",
       "      <th></th>\n",
       "      <th></th>\n",
       "      <th></th>\n",
       "    </tr>\n",
       "  </thead>\n",
       "  <tbody>\n",
       "    <tr>\n",
       "      <th>1128639</th>\n",
       "      <td>2.0</td>\n",
       "      <td>1</td>\n",
       "      <td>1</td>\n",
       "    </tr>\n",
       "    <tr>\n",
       "      <th>1709939</th>\n",
       "      <td>NaN</td>\n",
       "      <td>0</td>\n",
       "      <td>1</td>\n",
       "    </tr>\n",
       "    <tr>\n",
       "      <th>6874130</th>\n",
       "      <td>NaN</td>\n",
       "      <td>0</td>\n",
       "      <td>1</td>\n",
       "    </tr>\n",
       "    <tr>\n",
       "      <th>10319375</th>\n",
       "      <td>NaN</td>\n",
       "      <td>1</td>\n",
       "      <td>1</td>\n",
       "    </tr>\n",
       "    <tr>\n",
       "      <th>11140857</th>\n",
       "      <td>NaN</td>\n",
       "      <td>0</td>\n",
       "      <td>1</td>\n",
       "    </tr>\n",
       "    <tr>\n",
       "      <th>...</th>\n",
       "      <td>...</td>\n",
       "      <td>...</td>\n",
       "      <td>...</td>\n",
       "    </tr>\n",
       "    <tr>\n",
       "      <th>2092256226</th>\n",
       "      <td>NaN</td>\n",
       "      <td>0</td>\n",
       "      <td>0</td>\n",
       "    </tr>\n",
       "    <tr>\n",
       "      <th>2097771079</th>\n",
       "      <td>3.0</td>\n",
       "      <td>1</td>\n",
       "      <td>0</td>\n",
       "    </tr>\n",
       "    <tr>\n",
       "      <th>2101464264</th>\n",
       "      <td>3.0</td>\n",
       "      <td>1</td>\n",
       "      <td>0</td>\n",
       "    </tr>\n",
       "    <tr>\n",
       "      <th>2116612011</th>\n",
       "      <td>NaN</td>\n",
       "      <td>0</td>\n",
       "      <td>0</td>\n",
       "    </tr>\n",
       "    <tr>\n",
       "      <th>2134624977</th>\n",
       "      <td>NaN</td>\n",
       "      <td>1</td>\n",
       "      <td>0</td>\n",
       "    </tr>\n",
       "  </tbody>\n",
       "</table>\n",
       "<p>29224 rows × 3 columns</p>\n",
       "</div>"
      ],
      "text/plain": [
       "            findrisc  submuestra  localidades_150\n",
       "id                                               \n",
       "1128639          2.0           1                1\n",
       "1709939          NaN           0                1\n",
       "6874130          NaN           0                1\n",
       "10319375         NaN           1                1\n",
       "11140857         NaN           0                1\n",
       "...              ...         ...              ...\n",
       "2092256226       NaN           0                0\n",
       "2097771079       3.0           1                0\n",
       "2101464264       3.0           1                0\n",
       "2116612011       NaN           0                0\n",
       "2134624977       NaN           1                0\n",
       "\n",
       "[29224 rows x 3 columns]"
      ]
     },
     "execution_count": 31,
     "metadata": {},
     "output_type": "execute_result"
    }
   ],
   "source": [
    "df_enfr[['findrisc','submuestra','localidades_150']]"
   ]
  },
  {
   "cell_type": "code",
   "execution_count": 39,
   "metadata": {},
   "outputs": [
    {
     "ename": "AttributeError",
     "evalue": "'DataFrame' object has no attribute 'to_frame'",
     "output_type": "error",
     "traceback": [
      "\u001b[0;31m---------------------------------------------------------------------------\u001b[0m",
      "\u001b[0;31mAttributeError\u001b[0m                            Traceback (most recent call last)",
      "Cell \u001b[0;32mIn[39], line 1\u001b[0m\n\u001b[0;32m----> 1\u001b[0m aver \u001b[39m=\u001b[39m df_enfr[df_enfr[\u001b[39m'\u001b[39;49m\u001b[39mfindrisc\u001b[39;49m\u001b[39m'\u001b[39;49m]\u001b[39m>\u001b[39;49m\u001b[39m=\u001b[39;49m\u001b[39m4\u001b[39;49m]\u001b[39m.\u001b[39;49mgroupby([\u001b[39m'\u001b[39;49m\u001b[39mbhch03\u001b[39;49m\u001b[39m'\u001b[39;49m, \u001b[39m'\u001b[39;49m\u001b[39mcod_provincia\u001b[39;49m\u001b[39m'\u001b[39;49m])\u001b[39m.\u001b[39;49mcount()\u001b[39m.\u001b[39;49mto_frame()\n",
      "File \u001b[0;32m~/anaconda3/envs/indice_genero_env/lib/python3.9/site-packages/pandas/core/generic.py:5902\u001b[0m, in \u001b[0;36mNDFrame.__getattr__\u001b[0;34m(self, name)\u001b[0m\n\u001b[1;32m   5895\u001b[0m \u001b[39mif\u001b[39;00m (\n\u001b[1;32m   5896\u001b[0m     name \u001b[39mnot\u001b[39;00m \u001b[39min\u001b[39;00m \u001b[39mself\u001b[39m\u001b[39m.\u001b[39m_internal_names_set\n\u001b[1;32m   5897\u001b[0m     \u001b[39mand\u001b[39;00m name \u001b[39mnot\u001b[39;00m \u001b[39min\u001b[39;00m \u001b[39mself\u001b[39m\u001b[39m.\u001b[39m_metadata\n\u001b[1;32m   5898\u001b[0m     \u001b[39mand\u001b[39;00m name \u001b[39mnot\u001b[39;00m \u001b[39min\u001b[39;00m \u001b[39mself\u001b[39m\u001b[39m.\u001b[39m_accessors\n\u001b[1;32m   5899\u001b[0m     \u001b[39mand\u001b[39;00m \u001b[39mself\u001b[39m\u001b[39m.\u001b[39m_info_axis\u001b[39m.\u001b[39m_can_hold_identifiers_and_holds_name(name)\n\u001b[1;32m   5900\u001b[0m ):\n\u001b[1;32m   5901\u001b[0m     \u001b[39mreturn\u001b[39;00m \u001b[39mself\u001b[39m[name]\n\u001b[0;32m-> 5902\u001b[0m \u001b[39mreturn\u001b[39;00m \u001b[39mobject\u001b[39;49m\u001b[39m.\u001b[39;49m\u001b[39m__getattribute__\u001b[39;49m(\u001b[39mself\u001b[39;49m, name)\n",
      "\u001b[0;31mAttributeError\u001b[0m: 'DataFrame' object has no attribute 'to_frame'"
     ]
    }
   ],
   "source": [
    "aver = df_enfr[df_enfr['findrisc']>=4].groupby(['bhch03', 'cod_provincia']).count().to_frame()"
   ]
  },
  {
   "cell_type": "code",
   "execution_count": 37,
   "metadata": {},
   "outputs": [
    {
     "data": {
      "text/plain": [
       "region                              48\n",
       "tamanio_aglomerado                  48\n",
       "aglomerado                          48\n",
       "localidades_150                     48\n",
       "submuestra                          48\n",
       "                                    ..\n",
       "colesterol_elevado                  40\n",
       "prevalencia_colesterol_combinada    40\n",
       "wf1p                                48\n",
       "wf2p                                48\n",
       "wf3p                                48\n",
       "Length: 284, dtype: int64"
      ]
     },
     "execution_count": 37,
     "metadata": {},
     "output_type": "execute_result"
    }
   ],
   "source": [
    "aver"
   ]
  },
  {
   "cell_type": "code",
   "execution_count": 32,
   "metadata": {},
   "outputs": [
    {
     "data": {
      "text/plain": [
       "bhch03  cod_provincia\n",
       "1       2                1684.551724\n",
       "        6                2353.210811\n",
       "        10                272.945946\n",
       "        14               1043.985915\n",
       "        18                605.000000\n",
       "        22                510.750000\n",
       "        26                404.000000\n",
       "        30                452.780000\n",
       "        34                278.651163\n",
       "        38                505.818182\n",
       "        42                255.541667\n",
       "        46                338.100000\n",
       "        50               1220.232558\n",
       "        54                573.479167\n",
       "        58                435.870968\n",
       "        62                393.647059\n",
       "        66                600.333333\n",
       "        70                833.793103\n",
       "        74                357.172414\n",
       "        78                439.157895\n",
       "        82               1218.861538\n",
       "        86                794.862069\n",
       "        90               1186.909091\n",
       "        94                320.916667\n",
       "2       2                1599.105263\n",
       "        6                1779.806452\n",
       "        10                292.947368\n",
       "        14                926.362205\n",
       "        18                520.807229\n",
       "        22                389.516129\n",
       "        26                277.228571\n",
       "        30                394.916667\n",
       "        34                210.543860\n",
       "        38                412.716981\n",
       "        42                241.205882\n",
       "        46                333.697674\n",
       "        50                866.808824\n",
       "        54                464.174419\n",
       "        58                487.761905\n",
       "        62                271.144231\n",
       "        66                549.260274\n",
       "        70                496.000000\n",
       "        74                241.916667\n",
       "        78                315.692308\n",
       "        82               1178.822430\n",
       "        86                459.122807\n",
       "        90                815.935897\n",
       "        94                233.526316\n",
       "Name: wf1p, dtype: float64"
      ]
     },
     "execution_count": 32,
     "metadata": {},
     "output_type": "execute_result"
    }
   ],
   "source": [
    "df_enfr[df_enfr['findrisc']>=4].groupby(['bhch03', 'cod_provincia'])['wf1p'].mean()"
   ]
  },
  {
   "cell_type": "code",
   "execution_count": null,
   "metadata": {},
   "outputs": [],
   "source": [
    "numerador = df_adults[df_adults['ESTADO']==1].groupby(['CH04', 'Province'])['PONDERA'].sum()\n",
    "denominador = df_adults.groupby(['CH04', 'Province'])['PONDERA'].sum()\n",
    "\n",
    "df_tasa_empleo = (numerador / denominador).to_frame()"
   ]
  }
 ],
 "metadata": {
  "kernelspec": {
   "display_name": "Python 3.9.15 ('indice_genero_env')",
   "language": "python",
   "name": "python3"
  },
  "language_info": {
   "codemirror_mode": {
    "name": "ipython",
    "version": 3
   },
   "file_extension": ".py",
   "mimetype": "text/x-python",
   "name": "python",
   "nbconvert_exporter": "python",
   "pygments_lexer": "ipython3",
   "version": "3.9.15 (main, Nov 24 2022, 14:31:59) \n[GCC 11.2.0]"
  },
  "orig_nbformat": 4,
  "vscode": {
   "interpreter": {
    "hash": "ed99eace0209c7d127541edf8fcf18201afe5151ec444422b58a866f34e490e1"
   }
  }
 },
 "nbformat": 4,
 "nbformat_minor": 2
}
