{
 "cells": [
  {
   "cell_type": "code",
   "execution_count": 1,
   "metadata": {},
   "outputs": [],
   "source": [
    "import pandas as pd\n",
    "import seaborn as sns\n",
    "import numpy as np\n",
    "import matplotlib.pyplot as plt\n",
    "\n",
    "import warnings\n",
    "warnings.filterwarnings('ignore')"
   ]
  },
  {
   "cell_type": "code",
   "execution_count": 2,
   "metadata": {},
   "outputs": [],
   "source": [
    "import platform\n",
    "\n",
    "if platform.system() == \"Windows\":\n",
    "    pathfolder = 'path_for_Windows'\n",
    "elif platform.system() == \"Linux\":\n",
    "    if platform.uname()[2] == \"5.15.0-57-generic\":\n",
    "        pathfolder = '/home/daniufundar/Documents/Fundar/indice-desigualdad-genero-fundar/'\n",
    "    elif platform.uname()[2] == \"version2\":\n",
    "        pathfolder = '/Users/danielarisaro/Documents/fundar/indice-desigualdad-genero/'\n",
    "elif platform.system() == \"Darwin\":\n",
    "    pathfolder = '/Users/danielarisaro/Documents/fundar/indice-desigualdad-genero/'\n",
    "else:\n",
    "    raise Exception(\"Unsupported operating system\")\n"
   ]
  },
  {
   "cell_type": "code",
   "execution_count": null,
   "metadata": {},
   "outputs": [],
   "source": [
    "path_basemaps = '/home/daniu/Documentos/fundar/indice-desigualdad-genero/basemaps/aglomerados_eph/'\n",
    "path_basemaps = '/home/daniufundar/Documents/Fundar/indice-desigualdad-genero-fundar/basemaps/aglomerados_eph/'\n",
    "\n",
    "gdf_aglomerados = gpd.read_file(path_basemaps + 'gdf_aglomerados_con_codigo.shp')\n",
    "gdf_aglomerados['eph_codagl'] = gdf_aglomerados['eph_codagl'].astype(int)\n",
    "gdf_aglomerados['index'] = gdf_aglomerados['eph_codagl'].map(dict_cod_aglomerado)\n",
    "\n",
    "gdf_aglomerados.set_index(gdf_aglomerados['index'], inplace=True)"
   ]
  },
  {
   "cell_type": "code",
   "execution_count": null,
   "metadata": {},
   "outputs": [],
   "source": [
    "df = pd.merge(gdf_aglomerados, df_ratio, left_index=True, right_index=True, how='inner')"
   ]
  }
 ],
 "metadata": {
  "kernelspec": {
   "display_name": "indice_genero_env",
   "language": "python",
   "name": "python3"
  },
  "language_info": {
   "codemirror_mode": {
    "name": "ipython",
    "version": 3
   },
   "file_extension": ".py",
   "mimetype": "text/x-python",
   "name": "python",
   "nbconvert_exporter": "python",
   "pygments_lexer": "ipython3",
   "version": "3.9.15"
  },
  "orig_nbformat": 4,
  "vscode": {
   "interpreter": {
    "hash": "ed99eace0209c7d127541edf8fcf18201afe5151ec444422b58a866f34e490e1"
   }
  }
 },
 "nbformat": 4,
 "nbformat_minor": 2
}
