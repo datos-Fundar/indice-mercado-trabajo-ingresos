{
 "cells": [
  {
   "cell_type": "markdown",
   "metadata": {},
   "source": [
    "# Componente Insercion Laboral ($C_{IL}$)"
   ]
  },
  {
   "cell_type": "markdown",
   "metadata": {},
   "source": [
    "## Actividad"
   ]
  },
  {
   "cell_type": "markdown",
   "metadata": {},
   "source": [
    "$X = PONDERA$ \n",
    "\n",
    "$provincia = p(k), \\, k \\in \\{1, ..., 24 \\}$\n",
    "\n",
    "$sexo = CH04, sexo(j) = i, \\, i \\in \\{1, 2 \\}$\n",
    "\n",
    "$edad = CH06, edad(j)$\n",
    "\n",
    "$cond\\_lab = ESTADO, cond\\_lab(j)$\n",
    "\n",
    "$S^{'}_{k,i} = \\{j \\in {1,..., N} \\, / \\, cond\\_lab(j)\\in \\{1, 2 \\}, 14 \\leq edad(j), \\, provincia=p(k), \\, sexo(j)=i \\}$\n",
    "\n",
    "$N^{'}_{k,i} = \\{j \\in {1,..., N} \\, / \\,14 \\leq edad(j), \\, provincia=p(k), \\, sexo(j)=i \\}$\n",
    "\n",
    "$T_{actividad}(k,i) = \\dfrac{\\sum\\limits_{j \\in S^{'}_{k,i}} X(j)}{\\sum\\limits_{j \\in N^{'}_{k,i}} X(j)}$"
   ]
  },
  {
   "cell_type": "markdown",
   "metadata": {},
   "source": [
    "### Ratio entre mujeres y varones"
   ]
  },
  {
   "cell_type": "markdown",
   "metadata": {},
   "source": [
    "$X = PONDERA$ \n",
    "\n",
    "$provincia = p(k), \\, k \\in \\{1, ..., 24 \\}$\n",
    "\n",
    "$sexo = CH04, sexo(j) = i, \\, i \\in \\{1, 2 \\}$\n",
    "\n",
    "$edad = CH06, edad(j)$\n",
    "\n",
    "$cond\\_lab = ESTADO, cond\\_lab(j)$\n",
    "\n",
    "$M^{'}_{k} = \\{j \\in {1,..., N} \\, / \\, cond\\_lab(j)=1, 16 \\leq edad(j) \\lt 65, \\, provincia=p(k), \\, sexo(j)=2 \\}$\n",
    "\n",
    "$V^{'}_{k} = \\{j \\in {1,..., N} \\, / \\, cond\\_lab(j)=1, 16 \\leq edad(j) \\lt 65, \\, provincia=p(k), \\, sexo(j)=1 \\}$\n",
    "\n",
    "$n^{'}_{m}(k) = \\{j \\in {1,..., N} \\, / \\,16 \\leq edad(j) \\lt 65, \\, provincia=p(k), \\, sexo(j)=2 \\}$\n",
    "\n",
    "$n^{'}_{v}(k) = \\{j \\in {1,..., N} \\, / \\,16 \\leq edad(j) \\lt 65, \\, provincia=p(k), \\, sexo(j)=1 \\}$\n",
    "\n",
    "\n",
    "$R_{empleo}(k,i) = \\dfrac{\\sum\\limits_{j \\in M^{'}_{k}} X(j)}{n_m(k)} \\Bigg(\\dfrac{\\sum\\limits_{j \\in V^{'}_{k}} X(j)}{n_v(k)} \\Bigg)^{-1}$"
   ]
  },
  {
   "cell_type": "markdown",
   "metadata": {},
   "source": [
    "## Brecha en tasa de desempleo\n"
   ]
  },
  {
   "cell_type": "markdown",
   "metadata": {},
   "source": [
    "$X = PONDERA$ \n",
    "\n",
    "$provincia = p(k), \\, k \\in \\{1, ..., 24 \\}$\n",
    "\n",
    "$sexo = CH04, sexo(j) = i, \\, i \\in \\{1, 2 \\}$\n",
    "\n",
    "$edad = CH06, edad(j)$\n",
    "\n",
    "$cond\\_lab = ESTADO, cond\\_lab(j)$\n",
    "\n",
    "$S^{'}_{k,i} = \\{j \\in {1,..., N} \\, / \\, cond\\_lab(j)=2, 16 \\leq edad(j) \\lt 65, \\, provincia=p(k), \\, sexo(j)=i \\}$\n",
    "\n",
    "$N^{'}_{k,i} = \\{j \\in {1,..., N} \\, / \\,16 \\leq edad(j) \\lt 65, \\, provincia=p(k), \\, sexo(j)=i \\}$\n",
    "\n",
    "$T_{desempleo}(k,i) = \\dfrac{\\sum\\limits_{j \\in S^{'}_{k,i}} X(j)}{\\sum\\limits_{j \\in N^{'}_{k,i}} X(j)}$"
   ]
  },
  {
   "cell_type": "markdown",
   "metadata": {},
   "source": [
    "## Brecha en tasa de informalidad\n"
   ]
  },
  {
   "cell_type": "markdown",
   "metadata": {},
   "source": [
    "$X = PONDERA$ \n",
    "\n",
    "$provincia = p(k), \\, k \\in \\{1, ..., 24 \\}$\n",
    "\n",
    "$sexo = CH04, sexo(j) = i, \\, i \\in \\{1, 2 \\}$\n",
    "\n",
    "$edad = CH06, edad(j)$\n",
    "\n",
    "$desc\\_jub = PP07H, desc\\_jub(j)$\n",
    "\n",
    "$cond\\_lab = ESTADO, cond\\_lab(j)$\n",
    "\n",
    "$cat\\_ocup = CAT\\_OCUP, cat\\_ocup(j)$\n",
    "\n",
    "$S^{'}_{k,i} = \\{j \\in {1,..., N} \\, / \\, cond\\_lab(j)=1, \\, desc\\_jub(j)=2, \\, cat\\_ocup(j)=3, \\,16 \\leq edad(j) \\lt 65, \\, provincia=p(k), \\, sexo(j)=i \\}$\n",
    "\n",
    "$N^{'}_{k,i} = \\{j \\in {1,..., N} \\, / \\,cond\\_lab(j)=1, \\, cat\\_ocup(j)=3, \\,16 \\leq edad(j) \\lt 65, \\, provincia=p(k), \\, sexo(j)=i \\}$\n",
    "\n",
    "$T_{informalidad}(k,i) = \\dfrac{\\sum\\limits_{j \\in S^{'}_{k,i}} X(j)}{\\sum\\limits_{j \\in N^{'}_{k,i}} X(j)}$"
   ]
  },
  {
   "cell_type": "markdown",
   "metadata": {},
   "source": [
    "## Brecha de horas trabajadas remunerdas"
   ]
  },
  {
   "cell_type": "markdown",
   "metadata": {},
   "source": [
    "$X = PONDERA$ \n",
    "\n",
    "$provincia = p(k), \\, k \\in \\{1, ..., 24 \\}$\n",
    "\n",
    "$sexo = CH04, sexo(j) = i, \\, i \\in \\{1, 2 \\}$\n",
    "\n",
    "$edad = CH06, edad(j)$\n",
    "\n",
    "$cond\\_lab = ESTADO, cond\\_lab(j)$\n",
    "\n",
    "$hrs\\_trab = PP3E\\_TOT, hrs\\_trab(j)$ \n",
    "\n",
    "$M^{'}_k = \\{j \\in {1,..., N} \\, / \\, \\, cond\\_lab(j)=1, \\, hrs\\_trab(j)>0, \\, hrs\\_trab(j)\\neq 999, \\,16 \\leq edad(j) \\lt 65, \\, provincia=p(k), \\, sexo(j)=2 \\}$\n",
    "\n",
    "$V^{'}_k = \\{j \\in {1,..., N} \\, / \\, \\,  cond\\_lab(j)=1, \\, hrs\\_trab(j)>0, \\, hrs\\_trab(j)\\neq 999, \\,16 \\leq edad(j) \\lt 65, \\, provincia=p(k), \\, sexo(j)=1 \\}$\n",
    "\n",
    "$B_{horasTrabajadas}(k) = \\dfrac{\\sum\\limits_{j \\in M^{'}_{k}} X(j)}{n_m(k)} \\, \\Bigg(\\dfrac{\\sum\\limits_{j \\in V^{'}_{k}} X(j)}{n_v(k)}\\Bigg)^{-1}$"
   ]
  },
  {
   "cell_type": "markdown",
   "metadata": {},
   "source": [
    "## Cantidad de horas trabajadas no remuneradas"
   ]
  },
  {
   "cell_type": "markdown",
   "metadata": {},
   "source": [
    "## Brecha de horas trabajadas no remuneradas\n",
    "\n",
    "No contamos con los datos de la ENUT"
   ]
  },
  {
   "cell_type": "markdown",
   "metadata": {},
   "source": [
    "# Autonomia economica"
   ]
  },
  {
   "cell_type": "markdown",
   "metadata": {},
   "source": [
    "## Poblacion dependiente"
   ]
  },
  {
   "cell_type": "markdown",
   "metadata": {},
   "source": [
    "$X = PONDERA$ \n",
    "\n",
    "$Y = PONDII$ \n",
    "\n",
    "$provincia = p(k), \\, k \\in \\{1, ..., 24 \\}$\n",
    "\n",
    "$sexo = CH04, sexo(j) = i, \\, i \\in \\{1, 2 \\}$\n",
    "\n",
    "$edad = CH06, edad(j)$\n",
    "\n",
    "$cond\\_lab = ESTADO, cond\\_lab(j)$\n",
    "\n",
    "$ingreso = P47T, ingreso(j)$\n",
    "\n",
    "$cond\\_est = CH10, cond\\_est(j)$\n",
    "\n",
    "$S^{'}_{k,i} = \\{j \\in {1,..., N} \\, / \\, cond\\_lab(j)=3, \\, cond\\_est \\neq 1, \\, ingreso(j)=0, \\,16 \\leq edad(j) \\lt 65, \\, provincia=p(k), \\, sexo(j)=i \\}$\n",
    "\n",
    "$N^{'}_{k,i} = \\{j \\in {1,..., N} \\, / \\, \\,16 \\leq edad(j) \\lt 65, \\, provincia=p(k), \\, sexo(j)=i \\}$\n",
    "\n",
    "$T_{dependientes}(k,i) = \\dfrac{\\sum\\limits_{j \\in S^{'}_{k,i}} Y(j)}{\\sum\\limits_{j \\in N^{'}_{k,i}} X(j)}$"
   ]
  },
  {
   "cell_type": "markdown",
   "metadata": {},
   "source": [
    "## Brecha de ingreso individual"
   ]
  },
  {
   "cell_type": "markdown",
   "metadata": {},
   "source": [
    "$Z = PONDIIO$ \n",
    "\n",
    "$provincia = p(k), \\, k \\in \\{1, ..., 24 \\}$\n",
    "\n",
    "$sexo = CH04, sexo(j) = i, \\, i \\in \\{1, 2 \\}$\n",
    "\n",
    "$edad = CH06, edad(j)$\n",
    "\n",
    "$ingreso\\_ocup\\_ppal = P21, ingreso\\_ocup\\_ppal(j)$\n",
    "\n",
    "$S^{'}_{k,i} = \\{j \\in {1,..., N} \\, / \\, ingreso\\_ocup\\_ppal(j)>0, \\, ingreso\\_ocup\\_ppal \\neq -9, \\,16 \\leq edad(j) \\lt 65, \\, provincia=p(k), \\, sexo(j)=i \\}$\n",
    "\n",
    "$N^{'}_k = \\{j \\in {1,..., N} \\, / \\, \\,16 \\leq edad(j) \\lt 65, \\, provincia=p(k)\\}$\n",
    "\n",
    "$B_{ingrInd}(k) = \\dfrac{\\sum\\limits_{j \\in S^{'}_{k,i=2}} Z(j)}{n_m(k)} \\Bigg( \\dfrac{\\sum\\limits_{j \\in S^{'}_{k,i=1}} Z(j)}{n_v(k)}\\Bigg)^{-1}$"
   ]
  },
  {
   "cell_type": "markdown",
   "metadata": {},
   "source": [
    "## Poblacion bajo Linea de Pobreza"
   ]
  },
  {
   "cell_type": "markdown",
   "metadata": {},
   "source": [
    "$Y = PONDII$ \n",
    "\n",
    "$provincia = p(k), \\, k \\in \\{1, ..., 24 \\}$\n",
    "\n",
    "$sexo = CH04, sexo(j) = i, \\, i \\in \\{1, 2 \\}$\n",
    "\n",
    "$ingreso = P47T, ingreso(j)$\n",
    "\n",
    "$CBT = canasta\\_basica\\_total(t), \\, CBT(t_o) = 119757$\n",
    "\n",
    "$S^{'}_{k,i} = \\{j \\in {1,..., N} \\, / \\, \\, ingreso(j) \\lt CBT(t_o), \\, provincia=p(k), \\, sexo(j)=i \\}$\n",
    "\n",
    "$N^{'}_k = \\{j \\in {1,..., N} \\, / \\, \\, \\, provincia=p(k)\\}$\n",
    "\n",
    "$Pob_{pobreza}(k,i) = \\dfrac{\\sum\\limits_{j \\in S^{'}_{k,i}} Y(j)}{ \\sum\\limits_{j \\in N^{'}_{k}} Y(j)}$"
   ]
  },
  {
   "cell_type": "code",
   "execution_count": null,
   "metadata": {},
   "outputs": [],
   "source": [
    "## Exporto dataframes\n",
    "\n",
    "with pd.ExcelWriter(pathdata + '/data_output/Indicadores_mercado_de_trabajo.xlsx') as writer:\n",
    "   \n",
    "    df_tasa_empleo.to_excel(writer, sheet_name=\"Tasa_empleo\")\n",
    "    df_tasa_desempleo.to_excel(writer, sheet_name=\"Tasa_desempleo\")\n",
    "    df_tasa_informalidad.to_excel(writer, sheet_name=\"Tasa_informalidad\")\n",
    "    df_horas_trabajadas.to_excel(writer, sheet_name=\"Horas_trabajadas\")\n",
    "    df_dependientes.to_excel(writer, sheet_name=\"Poblacion_dependiente\")\n",
    "    df_brecha_ingreso_individual.to_excel(writer, sheet_name=\"Brecha_ing_indiv\")\n",
    "    df_pob_pobreza.to_excel(writer, sheet_name=\"Poblacion_pobreza\")"
   ]
  }
 ],
 "metadata": {
  "kernelspec": {
   "display_name": "Python 3.10.4 ('js_env')",
   "language": "python",
   "name": "python3"
  },
  "language_info": {
   "codemirror_mode": {
    "name": "ipython",
    "version": 3
   },
   "file_extension": ".py",
   "mimetype": "text/x-python",
   "name": "python",
   "nbconvert_exporter": "python",
   "pygments_lexer": "ipython3",
   "version": "3.10.4 (main, Mar 31 2022, 08:41:55) [GCC 7.5.0]"
  },
  "orig_nbformat": 4,
  "vscode": {
   "interpreter": {
    "hash": "16d2781d3594581f971d3d0ffbb0966c25365d8f5948c546cd88fd1194960d92"
   }
  }
 },
 "nbformat": 4,
 "nbformat_minor": 2
}
