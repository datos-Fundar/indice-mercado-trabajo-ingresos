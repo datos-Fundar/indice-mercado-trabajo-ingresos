{
 "cells": [
  {
   "cell_type": "code",
   "execution_count": 39,
   "metadata": {},
   "outputs": [],
   "source": [
    "# Importamos librerias \n",
    "import numpy as np\n",
    "import pandas as pd\n",
    "import geopandas as gpd\n",
    "from shapely.ops import unary_union\n",
    "\n",
    "path_basemaps = '/home/daniu/Documentos/fundar/indice-desigualdad-genero/basemaps/aglomerados_eph/'\n",
    "path_basemaps = '/home/daniufundar/Documents/Fundar/indice-desigualdad-genero-fundar/basemaps/aglomerados_eph/'\n",
    "\n",
    "gdf_aglomerados = gpd.read_file(path_basemaps + 'aglomerados_eph.shp')\n",
    "\n",
    "gdf_aglomerados['eph_aglome'] = gdf_aglomerados['eph_aglome'].replace('San Nicolas - Villa Constitiución', 'San Nicolas - Villa Constitución') # reemplazo para corregir el typo\n",
    "\n",
    "aglomerados = list(gdf_aglomerados['eph_aglome'].unique())\n",
    "gdf_total = gpd.GeoDataFrame(index=aglomerados, columns=['geometry','eph_codagl'], geometry='geometry')\n",
    "\n",
    "for i, iag in enumerate(aglomerados):\n",
    "    agl = gdf_aglomerados.loc[(gdf_aglomerados['eph_aglome'] == iag)]\n",
    "    polygons = unary_union(agl['geometry'].tolist())\n",
    "    code_agl = agl['eph_codagl'].unique().astype(int)\n",
    "\n",
    "    gdf_total.loc[iag, 'geometry'] = polygons\n",
    "    gdf_total.loc[iag, 'eph_codagl'] = int(code_agl[0])\n",
    "\n",
    "\n",
    "gdf_total.to_file(path_basemaps + 'gdf_aglomerados_con_codigo.shp')"
   ]
  }
 ],
 "metadata": {
  "kernelspec": {
   "display_name": "indice_genero_env",
   "language": "python",
   "name": "python3"
  },
  "language_info": {
   "codemirror_mode": {
    "name": "ipython",
    "version": 3
   },
   "file_extension": ".py",
   "mimetype": "text/x-python",
   "name": "python",
   "nbconvert_exporter": "python",
   "pygments_lexer": "ipython3",
   "version": "3.9.15"
  },
  "orig_nbformat": 4,
  "vscode": {
   "interpreter": {
    "hash": "ed99eace0209c7d127541edf8fcf18201afe5151ec444422b58a866f34e490e1"
   }
  }
 },
 "nbformat": 4,
 "nbformat_minor": 2
}
