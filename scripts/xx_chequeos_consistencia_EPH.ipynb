{
 "cells": [
  {
   "cell_type": "code",
   "execution_count": 1,
   "metadata": {},
   "outputs": [],
   "source": [
    "import pandas as pd\n",
    "import numpy as np\n",
    "import matplotlib.pyplot as plt\n",
    "import seaborn as sns\n",
    "from matplotlib.patches import Rectangle\n",
    "import warnings\n",
    "warnings.filterwarnings('ignore')"
   ]
  },
  {
   "cell_type": "code",
   "execution_count": 2,
   "metadata": {},
   "outputs": [],
   "source": [
    "pathdata = '/home/daniu/Documentos/fundar/indice-mercado-trabajo-ingresos/'\n",
    "pathdata = '/home/daniufundar/Documents/Fundar/indice-mercado-trabajo-ingresos/'\n",
    "pathdata = '/Users/danielarisaro/Documents/fundar/indice-mercado-trabajo-ingresos/'"
   ]
  },
  {
   "cell_type": "code",
   "execution_count": 3,
   "metadata": {},
   "outputs": [],
   "source": [
    "# Read data\n",
    "pathdata = '/home/daniu/Documentos/fundar/indice-mercado-trabajo-ingresos/'\n",
    "pathdata = '/home/daniufundar/Documents/Fundar/indice-mercado-trabajo-ingresos/'\n",
    "pathdata = '/Users/danielarisaro/Documents/fundar/indice-mercado-trabajo-ingresos/'\n",
    "\n",
    "df_people_2021 = pd.read_csv(pathdata + 'data_input/personas_tot_urb_3T_21.txt', delimiter=';', low_memory=False)\n",
    "df_people_2022 = pd.read_csv(pathdata + 'data_input/personas_tot_urb_3T_22.txt', delimiter=';', low_memory=False)\n",
    "\n",
    "df_houses_2021 = pd.read_csv(pathdata + 'data_input/hogar_tot_urb_3T_2021.txt', delimiter=';', low_memory=False)\n",
    "df_houses_2022 = pd.read_csv(pathdata + 'data_input/hogar_tot_urb_3T_2022.txt', delimiter=';', low_memory=False)"
   ]
  },
  {
   "cell_type": "code",
   "execution_count": 4,
   "metadata": {},
   "outputs": [
    {
     "data": {
      "text/plain": [
       "0    35303\n",
       "1    12288\n",
       "2      103\n",
       "3    18257\n",
       "4     4955\n",
       "5     5298\n",
       "6      192\n",
       "7     1246\n",
       "Name: CAT_INAC, dtype: int64"
      ]
     },
     "execution_count": 4,
     "metadata": {},
     "output_type": "execute_result"
    }
   ],
   "source": [
    "[df_people_2022['CAT_INAC']==0].value_counts().sort_index()\n"
   ]
  },
  {
   "cell_type": "code",
   "execution_count": null,
   "metadata": {},
   "outputs": [],
   "source": [
    "df_people_2021['H15'].value_counts()\n",
    "df_people_2021[['H15', 'ESTADO']].value_counts().sort_index()\n",
    "df_people_2022[['H15', 'ESTADO']].value_counts().sort_index()\n",
    "df_people_2021['CAT_OCUP'].value_counts().sort_index()\n",
    "df_people_2022['CAT_OCUP'].value_counts().sort_index()\n",
    "df_people_2021['PP03C'].value_counts().sort_index()\n",
    "df_people_2022['PP03C'].value_counts().sort_index()\n",
    "df_people_2021['PP03D'].value_counts().sort_index()\n",
    "df_people_2021[(df_people_2021['PP3E_TOT'] < df_people_2021['PP3F_TOT'].str.replace(',', '.').astype(float))]['PONDERA'].sum()\n",
    "df_people_2022[(df_people_2022['PP3E_TOT'] < df_people_2022['PP3F_TOT'])]['PONDERA'].sum()\n",
    "df_people_2022[df_people_2022['PP3F_TOT']==999]['PP3F_TOT']\n",
    "df_people_2022['CAT_INAC'].value_counts().sort_index()\n",
    "df_people_2022['PP3E_TOT'].value_counts()\n",
    "df_people_2022['PP03D'].value_counts().sort_index()\n",
    "df_people_2021['PP07H'].value_counts().sort_index()\n"
   ]
  },
  {
   "cell_type": "code",
   "execution_count": null,
   "metadata": {},
   "outputs": [],
   "source": [
    "\n",
    "def row_counts(df_year1, df_year2, year1, year2):\n",
    "    count_year1 = len(df_year1)\n",
    "    count_year2 = len(df_year2)\n",
    "    merged_df = pd.merge(df_year1, df_year2, on=['CODUSU', 'COMPONENTE'], how='inner')\n",
    "    count_both_years = len(merged_df)\n",
    "\n",
    "    # Calculate total population\n",
    "    pob_year1 = df_year1['PONDERA'].sum()\n",
    "    pob_year2 = df_year2['PONDERA'].sum()\n",
    "\n",
    "    # Calculate number of surveys performed\n",
    "    encuesta_realizada_year1 = df_year1[df_year1['H15'] != 2]['H15'].count()\n",
    "    pob_encuesta_realizada_year1 = df_year1[df_year1['H15'] != 2]['PONDERA'].sum()\n",
    "    encuesta_realizada_year2 = df_year2[df_year2['H15'] != 2]['H15'].count()\n",
    "    pob_encuesta_realizada_year2 = df_year2[df_year2['H15'] != 2]['PONDERA'].sum()\n",
    "\n",
    "    # Calculate number of imputed surveys\n",
    "    encuesta_imputada_year1 = df_year1[df_year1['IMPUTA'] == 2]['IMPUTA'].count()\n",
    "    pob_encuesta_imputada_year1 = df_year1[df_year1['IMPUTA'] == 2]['PONDERA'].sum()\n",
    "    encuesta_imputada_year2 = df_year2[df_year2['IMPUTA'] == 2]['IMPUTA'].count()\n",
    "    pob_encuesta_imputada_year2 = df_year2[df_year2['IMPUTA'] == 2]['PONDERA'].sum()\n",
    "\n",
    "    # Create the table as a pandas dataframe\n",
    "    data = {\n",
    "        'Anio': [year1, year2],\n",
    "        'Cantidad de observaciones': [count_year1, count_year2],\n",
    "        'Observaciones en ambos anios': [count_both_years, count_both_years],\n",
    "        'Poblacion total': [pob_year1, pob_year2],\n",
    "        'Encuestas realizadas en el anio': [encuesta_realizada_year1, encuesta_realizada_year2],\n",
    "        'Poblacion de encuestas realizadas en el anio': [pob_encuesta_realizada_year1, pob_encuesta_realizada_year2],\n",
    "        'Encuestas imputadas en el anio': [encuesta_imputada_year1, encuesta_imputada_year2],\n",
    "        'Poblacion de encuestas imputadas en el anio': [pob_encuesta_imputada_year1, pob_encuesta_imputada_year2]\n",
    "    }\n",
    "    table = pd.DataFrame(data)\n",
    "    table.set_index('Anio', inplace=True)\n",
    "\n",
    "    return table"
   ]
  },
  {
   "cell_type": "code",
   "execution_count": null,
   "metadata": {},
   "outputs": [],
   "source": [
    "result_table = row_counts(df_people_2021, df_people_2022, 2021, 2022)\n",
    "result_table\n"
   ]
  }
 ],
 "metadata": {
  "kernelspec": {
   "display_name": "Python 3.9.12 ('pyenv')",
   "language": "python",
   "name": "python3"
  },
  "language_info": {
   "codemirror_mode": {
    "name": "ipython",
    "version": 3
   },
   "file_extension": ".py",
   "mimetype": "text/x-python",
   "name": "python",
   "nbconvert_exporter": "python",
   "pygments_lexer": "ipython3",
   "version": "3.9.12"
  },
  "orig_nbformat": 4,
  "vscode": {
   "interpreter": {
    "hash": "509f5cbefa0cafc10dc1461472345186404cff510fb444dcb85013f09977a5b7"
   }
  }
 },
 "nbformat": 4,
 "nbformat_minor": 2
}
