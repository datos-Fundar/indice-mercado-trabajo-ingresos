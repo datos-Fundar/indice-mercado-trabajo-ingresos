{
 "cells": [
  {
   "cell_type": "code",
   "execution_count": 2,
   "metadata": {},
   "outputs": [],
   "source": [
    "import plotly.graph_objects as go\n",
    "from plotly.subplots import make_subplots\n",
    "from plotly.offline import plot\n",
    "import pandas as pd\n",
    "import numpy as np"
   ]
  },
  {
   "cell_type": "code",
   "execution_count": 3,
   "metadata": {},
   "outputs": [],
   "source": [
    "# Definimos colores fundar\n",
    "fundar_colores_primarios = ['#7BB5C4', '#9FC1AD', '#D3D3E0',  '#8d9bff', '#FF9750', '#FFD900',]\n",
    "fundar_colores_secundarios = ['#B5E0EA', '#B3B3B3', '#848279', '#AFA36E', '#5D896F', '#9C9CBC', '#E27124']\n",
    "fundar_white = '#F5F5F5'\n",
    "fundar_black = '#151515'"
   ]
  },
  {
   "cell_type": "code",
   "execution_count": 4,
   "metadata": {},
   "outputs": [],
   "source": [
    "# Definimos path\n",
    "pathdata = '/home/daniu/Documentos/fundar/indice-mercado-trabajo-ingresos/'\n",
    "pathdata = '/home/daniufundar/Documents/Fundar/indice-mercado-trabajo-ingresos/'\n",
    "pathdata = '/Users/danielarisaro/Documents/Fundar/indice-mercado-trabajo-ingresos/'\n"
   ]
  },
  {
   "cell_type": "code",
   "execution_count": 5,
   "metadata": {},
   "outputs": [],
   "source": [
    "ratio_actividad = pd.read_csv(pathdata + 'data_output/indicadores/01_ratio_actividad.csv', index_col=0)\n",
    "empleo_asalariado_con_descuento = pd.read_csv(pathdata + 'data_output/indicadores/02_empleo_asalariado_con_descuento.csv', index_col=0)\n",
    "horas_remuneradas_media = pd.read_csv(pathdata + 'data_output/indicadores/03_horas_promedio_ocup_ppal.csv', index_col=0)\n",
    "ingreso_salarial_media = pd.read_csv(pathdata + 'data_output/indicadores/04_ingreso_salarial.csv', index_col=0)\n",
    "ratio_minutos_promedio_no_pago = pd.read_csv(pathdata + 'data_output/indicadores/05_tiempo_no_remunerado.csv', index_col=0)\n",
    "inactivos_con_ingreso = pd.read_csv(pathdata + 'data_output/indicadores/06_dependencia_economica.csv', index_col=0)\n",
    "hogares_jefatura = pd.read_csv(pathdata + 'data_output/indicadores/07_hogares_no-pobres_jefatura.csv', index_col=0)"
   ]
  },
  {
   "cell_type": "code",
   "execution_count": 6,
   "metadata": {},
   "outputs": [],
   "source": [
    "variables = [ratio_actividad, empleo_asalariado_con_descuento, horas_remuneradas_media, ingreso_salarial_media, ratio_minutos_promedio_no_pago, inactivos_con_ingreso, hogares_jefatura]\n",
    "columnas = ['Actividad', 'Formalidad', 'Horas promedio remuneradas', 'Ingreso laboral promedio', 'Tiempo TNR', 'Dependencia', 'No Pobreza']\n",
    "\n",
    "for columna, variable in zip(columnas,variables):\n",
    "    variable[columna] = np.where(variable[columna] > 100, 100, variable[columna])\n"
   ]
  },
  {
   "cell_type": "code",
   "execution_count": 7,
   "metadata": {},
   "outputs": [],
   "source": [
    "componente_insercion = pd.read_csv(pathdata + 'data_output/componentes_e_indice/01_insercion_laboral.csv', index_col=0)\n",
    "componente_autonomia_economica = pd.read_csv(pathdata + 'data_output/componentes_e_indice/02_insercion_autonomia_economica.csv', index_col=0)\n",
    "indice_mti = pd.read_csv(pathdata + 'data_output/componentes_e_indice/01_indice_MTeI.csv', index_col=0)"
   ]
  },
  {
   "cell_type": "code",
   "execution_count": 12,
   "metadata": {},
   "outputs": [
    {
     "data": {
      "text/plain": [
       "'/Users/danielarisaro/Documents/Fundar/indice-mercado-trabajo-ingresos/figs/insercion_laboral.html'"
      ]
     },
     "execution_count": 12,
     "metadata": {},
     "output_type": "execute_result"
    }
   ],
   "source": [
    "import plotly.graph_objects as go\n",
    "from plotly.offline import plot\n",
    "\n",
    "bar_trace1 = go.Bar(\n",
    "    x=ratio_actividad.index,\n",
    "    y=ratio_actividad['Actividad'],\n",
    "    name='Actividad',\n",
    "    marker_color=fundar_colores_primarios[0]\n",
    ")\n",
    "\n",
    "bar_trace2 = go.Bar(\n",
    "    x=empleo_asalariado_con_descuento.index,\n",
    "    y=empleo_asalariado_con_descuento['Formalidad'],\n",
    "    name='Formalidad',\n",
    "    marker_color=fundar_colores_primarios[1]\n",
    ")\n",
    "\n",
    "bar_trace3 = go.Bar(\n",
    "    x=horas_remuneradas_media.index,\n",
    "    y=horas_remuneradas_media['Horas promedio remuneradas'],\n",
    "    name='Horas promedio remuneradas',\n",
    "    marker_color=fundar_colores_primarios[2]\n",
    ")\n",
    "\n",
    "bar_trace4 = go.Bar(\n",
    "    x=ingreso_salarial_media.index,\n",
    "    y=ingreso_salarial_media['Ingreso laboral promedio'],\n",
    "    name='Ingreso laboral promedio',\n",
    "    marker_color=fundar_colores_primarios[3]\n",
    ")\n",
    "\n",
    "bar_trace5 = go.Bar(\n",
    "    x=componente_insercion.index,\n",
    "    y=componente_insercion['Insercion laboral'],\n",
    "    name='Componente',\n",
    "    marker_color=fundar_colores_primarios[4]\n",
    ")\n",
    "\n",
    "layout = go.Layout(\n",
    "    title='Indicadores e insercion laboral',\n",
    "    barmode='group',\n",
    "    plot_bgcolor='rgba(0,0,0,0)',\n",
    "    font_size=14\n",
    ")\n",
    "\n",
    "fig = go.Figure(data=[bar_trace1, bar_trace2, bar_trace3, bar_trace4, bar_trace5], layout=layout)\n",
    "\n",
    "fig.add_shape(\n",
    "    type='line',\n",
    "    x0=ratio_actividad.index[0],\n",
    "    y0=100,\n",
    "    x1=ratio_actividad.index[-1],\n",
    "    y1=100,\n",
    "    line=dict(\n",
    "        color='black',\n",
    "        width=1,\n",
    "        dash='dash'\n",
    "    ),\n",
    ")\n",
    "\n",
    "file_path = pathdata + 'figs/'\n",
    "filename = 'insercion_laboral.html'\n",
    "plot(fig, filename=file_path + filename, auto_open=False)"
   ]
  },
  {
   "cell_type": "code",
   "execution_count": 17,
   "metadata": {},
   "outputs": [
    {
     "data": {
      "text/plain": [
       "'/Users/danielarisaro/Documents/Fundar/indice-mercado-trabajo-ingresos/figs/uso_del_tiempo_y_oportunidades.html'"
      ]
     },
     "execution_count": 17,
     "metadata": {},
     "output_type": "execute_result"
    }
   ],
   "source": [
    "bar_trace1 = go.Bar(\n",
    "    x=ratio_minutos_promedio_no_pago.index,\n",
    "    y=ratio_minutos_promedio_no_pago['Tiempo TNR'],\n",
    "    name='Tiempo TNR',\n",
    "    marker_color=fundar_colores_primarios[0]\n",
    ")\n",
    "\n",
    "bar_trace2 = go.Bar(\n",
    "    x=inactivos_con_ingreso.index,\n",
    "    y=inactivos_con_ingreso['Dependencia'],\n",
    "    name='Dependencia',\n",
    "    marker_color=fundar_colores_primarios[1]\n",
    ")\n",
    "\n",
    "bar_trace3 = go.Bar(\n",
    "    x=hogares_jefatura.index,\n",
    "    y=hogares_jefatura['No Pobreza'],\n",
    "    name='No Pobreza',\n",
    "    marker_color=fundar_colores_primarios[2]\n",
    ")\n",
    "\n",
    "bar_trace4 = go.Bar(\n",
    "    x=componente_autonomia_economica.index,\n",
    "    y=componente_autonomia_economica['Autonomia economica'],\n",
    "    name='Autonomia economica',\n",
    "    marker_color=fundar_colores_primarios[3]\n",
    ")\n",
    "\n",
    "layout = go.Layout(\n",
    "    title='Indicadores y uso del tiempo y oportunidades',\n",
    "    barmode='group',\n",
    "    plot_bgcolor='rgba(0,0,0,0)',\n",
    "    font_size=14\n",
    ")\n",
    "\n",
    "fig = go.Figure(data=[bar_trace1, bar_trace2, bar_trace3, bar_trace4], layout=layout)\n",
    "\n",
    "fig.add_shape(\n",
    "    type='line',\n",
    "    x0=ratio_minutos_promedio_no_pago.index[0],\n",
    "    y0=100,\n",
    "    x1=ratio_minutos_promedio_no_pago.index[-1],\n",
    "    y1=100,\n",
    "    line=dict(\n",
    "        color='black',\n",
    "        width=1,\n",
    "        dash='dash'\n",
    "    ),\n",
    ")\n",
    "\n",
    "file_path = pathdata + 'figs/'\n",
    "filename = 'uso_del_tiempo_y_oportunidades.html'\n",
    "plot(fig, filename=file_path + filename, auto_open=False)"
   ]
  }
 ],
 "metadata": {
  "kernelspec": {
   "display_name": "Python 3.9.15 ('daniu_env')",
   "language": "python",
   "name": "python3"
  },
  "language_info": {
   "codemirror_mode": {
    "name": "ipython",
    "version": 3
   },
   "file_extension": ".py",
   "mimetype": "text/x-python",
   "name": "python",
   "nbconvert_exporter": "python",
   "pygments_lexer": "ipython3",
   "version": "3.9.15"
  },
  "orig_nbformat": 4,
  "vscode": {
   "interpreter": {
    "hash": "9ddad18d41431919d99d066cf2b9c97c7b5b53bdaf03e5f8f6af00b8f5b24e0d"
   }
  }
 },
 "nbformat": 4,
 "nbformat_minor": 2
}
