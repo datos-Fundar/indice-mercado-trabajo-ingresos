{
 "cells": [
  {
   "cell_type": "code",
   "execution_count": 27,
   "metadata": {},
   "outputs": [],
   "source": [
    "import pandas as pd\n",
    "import numpy as np"
   ]
  },
  {
   "cell_type": "code",
   "execution_count": 28,
   "metadata": {},
   "outputs": [],
   "source": [
    "# Definimos path\n",
    "pathdata = '/home/daniu/Documentos/fundar/indice-mercado-trabajo-ingresos/'\n",
    "pathdata = '/home/daniufundar/Documents/Fundar/indice-mercado-trabajo-ingresos/'\n",
    "pathdata = '/Users/danielarisaro/Documents/Fundar/indice-mercado-trabajo-ingresos/'"
   ]
  },
  {
   "cell_type": "code",
   "execution_count": 29,
   "metadata": {},
   "outputs": [],
   "source": [
    "ratio_actividad = pd.read_csv(pathdata + 'data_output/indicadores/01_ratio_actividad.csv', index_col=0)\n",
    "empleo_asalariado_con_descuento = pd.read_csv(pathdata + 'data_output/indicadores/02_empleo_asalariado_con_descuento.csv', index_col=0)\n",
    "horas_remuneradas_media = pd.read_csv(pathdata + 'data_output/indicadores/03_horas_promedio_ocup_ppal.csv', index_col=0)\n",
    "ingreso_salarial_media = pd.read_csv(pathdata + 'data_output/indicadores/04_ingreso_salarial.csv', index_col=0)\n",
    "ratio_minutos_promedio_no_pago = pd.read_csv(pathdata + 'data_output/indicadores/05_tiempo_no_remunerado.csv', index_col=0)\n",
    "inactivos_con_ingreso = pd.read_csv(pathdata + 'data_output/indicadores/06_dependencia_economica.csv', index_col=0)\n",
    "hogares_jefatura = pd.read_csv(pathdata + 'data_output/indicadores/07_hogares_no-pobres_jefatura.csv', index_col=0)"
   ]
  },
  {
   "cell_type": "code",
   "execution_count": 74,
   "metadata": {},
   "outputs": [],
   "source": [
    "ratio_actividad = ratio_actividad.sort_index()\n",
    "empleo_asalariado_con_descuento = empleo_asalariado_con_descuento.sort_index()\n",
    "horas_remuneradas_media = horas_remuneradas_media.sort_index()\n",
    "ingreso_salarial_media = ingreso_salarial_media.sort_index()\n",
    "ratio_minutos_promedio_no_pago = ratio_minutos_promedio_no_pago.sort_index()\n",
    "inactivos_con_ingreso = inactivos_con_ingreso.sort_index()\n",
    "hogares_jefatura = hogares_jefatura.sort_index()\n"
   ]
  },
  {
   "cell_type": "code",
   "execution_count": 75,
   "metadata": {},
   "outputs": [
    {
     "name": "stdout",
     "output_type": "stream",
     "text": [
      "Los índices están ordenados de la misma manera: True\n"
     ]
    }
   ],
   "source": [
    "variables = [ratio_actividad, empleo_asalariado_con_descuento, horas_remuneradas_media, ingreso_salarial_media, ratio_minutos_promedio_no_pago, inactivos_con_ingreso, hogares_jefatura]\n",
    "\n",
    "indices_ordenados = True\n",
    "\n",
    "# Compara los índices de los DataFrames en un bucle\n",
    "for i in range(len(variables) - 1):\n",
    "    if not variables[i].index.equals(variables[i + 1].index):\n",
    "        indices_ordenados = False\n",
    "        break\n",
    "\n",
    "# Imprime el resultado\n",
    "print(\"Los índices están ordenados de la misma manera:\", indices_ordenados)"
   ]
  },
  {
   "cell_type": "code",
   "execution_count": 76,
   "metadata": {},
   "outputs": [],
   "source": [
    "empleo_asalariado_con_descuento['Formalidad'] = np.where(empleo_asalariado_con_descuento['Formalidad'] > 100, 100, empleo_asalariado_con_descuento['Formalidad'])\n"
   ]
  },
  {
   "cell_type": "code",
   "execution_count": 77,
   "metadata": {},
   "outputs": [],
   "source": [
    "variables = [ratio_actividad, empleo_asalariado_con_descuento, horas_remuneradas_media, ingreso_salarial_media, ratio_minutos_promedio_no_pago, inactivos_con_ingreso, hogares_jefatura]\n",
    "columnas = ['Actividad', 'Formalidad', 'Horas promedio remuneradas', 'Ingreso laboral promedio', 'Tiempo TNR', 'Dependencia', 'No Pobreza']\n",
    "\n",
    "for columna, variable in zip(columnas,variables):\n",
    "    \n",
    "    variable['Ranking'] = variable[columna].rank(ascending=False, method='first')\n"
   ]
  },
  {
   "cell_type": "code",
   "execution_count": 78,
   "metadata": {},
   "outputs": [],
   "source": [
    "componente_insercion = (ratio_actividad['Actividad'] + \\\n",
    "                        empleo_asalariado_con_descuento['Formalidad'] + \\\n",
    "                        horas_remuneradas_media['Horas promedio remuneradas'] + \\\n",
    "                        ingreso_salarial_media['Ingreso laboral promedio'])/4\n",
    "\n",
    "componente_insercion = componente_insercion.to_frame()\n",
    "componente_insercion.columns = ['Insercion laboral']\n",
    "componente_insercion['Ranking'] = componente_insercion['Insercion laboral'].rank(ascending=False, method='first')"
   ]
  },
  {
   "cell_type": "code",
   "execution_count": 79,
   "metadata": {},
   "outputs": [],
   "source": [
    "componente_autonomia_economica = (ratio_minutos_promedio_no_pago['Tiempo TNR'] + \\\n",
    "                                inactivos_con_ingreso['Dependencia'] + \\\n",
    "                                hogares_jefatura['No Pobreza'])/3\n",
    "\n",
    "componente_autonomia_economica = componente_autonomia_economica.to_frame()\n",
    "componente_autonomia_economica.columns = ['Autonomia economica']\n",
    "componente_autonomia_economica['Ranking'] = componente_autonomia_economica['Autonomia economica'].rank(ascending=False, method='first')"
   ]
  },
  {
   "cell_type": "code",
   "execution_count": 83,
   "metadata": {},
   "outputs": [],
   "source": [
    "indice_mti = np.sqrt(componente_autonomia_economica['Autonomia economica'] * componente_insercion['Insercion laboral']).to_frame()\n",
    "indice_mti.columns = ['Indice MTeI']\n",
    "indice_mti['Ranking'] = indice_mti['Indice MTeI'].rank(ascending=False, method='first')"
   ]
  },
  {
   "cell_type": "code",
   "execution_count": 36,
   "metadata": {},
   "outputs": [],
   "source": [
    "## Genero tabla output"
   ]
  },
  {
   "cell_type": "code",
   "execution_count": 85,
   "metadata": {},
   "outputs": [],
   "source": [
    "provincias = indice_mti.index.to_list()\n",
    "provincia_repetidos = [value for value in provincias for _ in range(7)]\n",
    "\n",
    "componentes = ['Insercion laboral'] * 4 + ['Autonomia Economica'] * 3\n",
    "componentes_repetidos = componentes*24\n",
    "\n",
    "indicadores = ['Actividad', 'Formalidad', 'Horas trabajadas', 'Ingreso salarial',\n",
    "                  'Tiempo trabajo no remunerado', 'Dependencia economica', 'No-Pobreza']"
   ]
  },
  {
   "cell_type": "code",
   "execution_count": 86,
   "metadata": {},
   "outputs": [],
   "source": [
    "data = {\n",
    "    'Provincia': provincia_repetidos,\n",
    "    'Componente': componentes_repetidos,\n",
    "    'Indicador': indicadores*24\n",
    "}\n",
    "\n",
    "df = pd.DataFrame(data)\n",
    "\n",
    "multiindex = pd.MultiIndex.from_frame(df[['Provincia', 'Componente', 'Indicador']])\n",
    "df.set_index(multiindex, inplace=True)\n",
    "df.drop(columns=['Provincia', 'Componente', 'Indicador'], inplace=True)\n",
    "\n",
    "df[['Mujer', 'Varon', 'Ratio', 'N pob varon', 'N pob mujer', 'N pob tot', 'N varon', 'N mujer', 'CV', 'Error', 'Ranking indicador', 'Componentes', 'Ranking componente', 'Indice', 'Ranking Indice']] = pd.NaT"
   ]
  },
  {
   "cell_type": "code",
   "execution_count": 87,
   "metadata": {},
   "outputs": [],
   "source": [
    "for indicador, columna, variable in zip(indicadores, columnas, variables):\n",
    "    if indicador == 'Tiempo trabajo no remunerado':\n",
    "        values = variable[['Mujer', 'Varon', columna, 'Ranking']].values\n",
    "        df.loc[df.index.get_level_values('Indicador') == indicador, ['Mujer', 'Varon', 'Ratio', 'Ranking indicador']] = values\n",
    "\n",
    "    else:    \n",
    "        values = variable[['Mujer', 'Varon', columna, 'N_pob_v', 'N_pob_m', 'N_pob_tot', 'N_v', 'N_m', 'ER', 'ME', 'Ranking']].values\n",
    "        df.loc[df.index.get_level_values('Indicador') == indicador, ['Mujer', 'Varon', 'Ratio', 'N pob varon', 'N pob mujer', 'N pob tot', 'N varon', 'N mujer', 'CV', 'Error', 'Ranking indicador']] = values\n"
   ]
  },
  {
   "cell_type": "code",
   "execution_count": 93,
   "metadata": {},
   "outputs": [],
   "source": [
    "componente_insercion.to_csv(pathdata + 'data_output/componentes_e_indice/01_insercion_laboral.csv')\n",
    "componente_autonomia_economica.to_csv(pathdata + 'data_output/componentes_e_indice/02_insercion_autonomia_economica.csv')\n",
    "indice_mti.to_csv(pathdata + 'data_output/componentes_e_indice/01_indice_MTeI.csv')"
   ]
  },
  {
   "cell_type": "code",
   "execution_count": 98,
   "metadata": {},
   "outputs": [],
   "source": [
    "df.to_csv(pathdata + 'data_output/tablas/01_indicadores_principales.csv')"
   ]
  }
 ],
 "metadata": {
  "kernelspec": {
   "display_name": "Python 3.9.12 ('pyenv')",
   "language": "python",
   "name": "python3"
  },
  "language_info": {
   "codemirror_mode": {
    "name": "ipython",
    "version": 3
   },
   "file_extension": ".py",
   "mimetype": "text/x-python",
   "name": "python",
   "nbconvert_exporter": "python",
   "pygments_lexer": "ipython3",
   "version": "3.9.12"
  },
  "orig_nbformat": 4,
  "vscode": {
   "interpreter": {
    "hash": "509f5cbefa0cafc10dc1461472345186404cff510fb444dcb85013f09977a5b7"
   }
  }
 },
 "nbformat": 4,
 "nbformat_minor": 2
}
