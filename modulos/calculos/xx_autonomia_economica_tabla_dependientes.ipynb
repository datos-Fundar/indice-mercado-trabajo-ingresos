{
 "cells": [
  {
   "cell_type": "code",
   "execution_count": 2,
   "metadata": {},
   "outputs": [],
   "source": [
    "#%run /home/daniufundar/Documents/Fundar/indice-mercado-trabajo-ingresos/modulos/funciones/02_funciones_autonomia_economica.ipynb\n",
    "%run /Users/danielarisaro/Documents/Fundar/indice-mercado-trabajo-ingresos/modulos/funciones/02_funciones_autonomia_economica.ipynb\n",
    "import pandas as pd\n",
    "import numpy as np\n",
    "import matplotlib.pyplot as plt\n",
    "import warnings\n",
    "import pickle\n",
    "warnings.filterwarnings('ignore')"
   ]
  },
  {
   "cell_type": "code",
   "execution_count": 3,
   "metadata": {},
   "outputs": [],
   "source": [
    "# Definimos path\n",
    "pathdata = '/home/daniu/Documentos/fundar/indice-mercado-trabajo-ingresos/'\n",
    "pathdata = '/home/daniufundar/Documents/Fundar/indice-mercado-trabajo-ingresos/'\n",
    "pathdata = '/Users/danielarisaro/Documents/Fundar/indice-mercado-trabajo-ingresos/'\n"
   ]
  },
  {
   "cell_type": "code",
   "execution_count": 4,
   "metadata": {},
   "outputs": [],
   "source": [
    "with open(pathdata + 'modulos/diccionarios/' + 'diccionario_aglomerados.pickle', 'rb') as file:\n",
    "    dict_cod_aglomerado = pickle.load(file)\n",
    "\n",
    "with open(pathdata + 'modulos/diccionarios/' + 'diccionario_provincia.pickle', 'rb') as file:\n",
    "    dict_cod_provincia = pickle.load(file)\n",
    "\n",
    "with open(pathdata + 'modulos/diccionarios/' + 'diccionario_aglomerado_provincia.pickle', 'rb') as file:\n",
    "    map_aglomerado_provincia = pickle.load(file)\n",
    "\n",
    "with open(pathdata + 'modulos/diccionarios/' + 'diccionario_aglomerado_region.pickle', 'rb') as file:\n",
    "    map_aglomerado_region = pickle.load(file)\n",
    "\n",
    "with open(pathdata + 'modulos/diccionarios/' + 'diccionario_provincia_region.pickle', 'rb') as file:\n",
    "    map_provincia_region = pickle.load(file)"
   ]
  },
  {
   "cell_type": "code",
   "execution_count": 5,
   "metadata": {},
   "outputs": [],
   "source": [
    "df_people_pool = pd.read_csv(pathdata + 'data_output/Base_pool_individuos_solo_con_replicas_actuales.csv', low_memory=False, index_col=0)\n",
    "df_houses_pool = pd.read_csv(pathdata + 'data_output/Base_pool_hogares_solo_con_replicas_actuales.csv', low_memory=False, index_col=0)"
   ]
  },
  {
   "cell_type": "code",
   "execution_count": 8,
   "metadata": {},
   "outputs": [],
   "source": [
    "tasa, size, ratio, error = poblacion_inactiva_con_ingresos(df_people_pool, tipo='Urbano', base='Individual', confidence_level=0.95, pool=True)\n",
    "dependientes_con_ingreso = pd.concat([tasa, size, ratio, error], axis=1)"
   ]
  },
  {
   "cell_type": "code",
   "execution_count": 10,
   "metadata": {},
   "outputs": [],
   "source": [
    "df_temp = df_people_pool[df_people_pool['CH06'] >= 14].copy()\n",
    "df_inactivos_sin_ingreso = df_temp[(df_temp['ESTADO']==3) & (df_temp['P47T']==0) & (df_temp['CAT_INAC']!=3)][['PONDII_new', 'CH06', 'P47T', 'CH04', 'IPCF']]\n",
    "df_inactivos_sin_ingreso['IPCF'] = df_inactivos_sin_ingreso['IPCF'].str.replace(',', '.').astype(float)"
   ]
  },
  {
   "cell_type": "code",
   "execution_count": 11,
   "metadata": {},
   "outputs": [],
   "source": [
    "repeated_values = np.repeat(df_inactivos_sin_ingreso['IPCF'], df_inactivos_sin_ingreso['PONDII_new'])\n",
    "\n",
    "quintiles = np.percentile(repeated_values, q=[0, 20, 40, 60, 80, 100])\n",
    "\n",
    "quintiles[1] = 0.1\n",
    "df_inactivos_sin_ingreso['Quintil'] = pd.cut(df_inactivos_sin_ingreso['IPCF'], bins=quintiles, include_lowest=True)\n",
    "\n",
    "result = df_inactivos_sin_ingreso.groupby(['CH04', 'Quintil'])['CH06'].mean()\n"
   ]
  },
  {
   "cell_type": "code",
   "execution_count": 12,
   "metadata": {},
   "outputs": [
    {
     "data": {
      "text/plain": [
       "CH04  Quintil            \n",
       "1     (-0.001, 0.1]          35.664894\n",
       "      (0.1, 10125.0]         30.348276\n",
       "      (10125.0, 20600.0]     33.671875\n",
       "      (20600.0, 33900.0]     34.549550\n",
       "      (33900.0, 500000.0]    34.564987\n",
       "2     (-0.001, 0.1]          44.162369\n",
       "      (0.1, 10125.0]         36.762799\n",
       "      (10125.0, 20600.0]     38.251874\n",
       "      (20600.0, 33900.0]     40.992617\n",
       "      (33900.0, 500000.0]    44.272180\n",
       "Name: CH06, dtype: float64"
      ]
     },
     "execution_count": 12,
     "metadata": {},
     "output_type": "execute_result"
    }
   ],
   "source": [
    "result"
   ]
  },
  {
   "cell_type": "code",
   "execution_count": 13,
   "metadata": {},
   "outputs": [
    {
     "data": {
      "text/html": [
       "<div>\n",
       "<style scoped>\n",
       "    .dataframe tbody tr th:only-of-type {\n",
       "        vertical-align: middle;\n",
       "    }\n",
       "\n",
       "    .dataframe tbody tr th {\n",
       "        vertical-align: top;\n",
       "    }\n",
       "\n",
       "    .dataframe thead th {\n",
       "        text-align: right;\n",
       "    }\n",
       "</style>\n",
       "<table border=\"1\" class=\"dataframe\">\n",
       "  <thead>\n",
       "    <tr style=\"text-align: right;\">\n",
       "      <th></th>\n",
       "      <th>IPCF</th>\n",
       "      <th>PONDII_new</th>\n",
       "    </tr>\n",
       "  </thead>\n",
       "  <tbody>\n",
       "    <tr>\n",
       "      <th>3</th>\n",
       "      <td>30000.00</td>\n",
       "      <td>680.930194</td>\n",
       "    </tr>\n",
       "    <tr>\n",
       "      <th>17</th>\n",
       "      <td>0.00</td>\n",
       "      <td>682.138588</td>\n",
       "    </tr>\n",
       "    <tr>\n",
       "      <th>21</th>\n",
       "      <td>8000.00</td>\n",
       "      <td>710.535854</td>\n",
       "    </tr>\n",
       "    <tr>\n",
       "      <th>33</th>\n",
       "      <td>15666.67</td>\n",
       "      <td>761.892613</td>\n",
       "    </tr>\n",
       "    <tr>\n",
       "      <th>54</th>\n",
       "      <td>45000.00</td>\n",
       "      <td>1460.344524</td>\n",
       "    </tr>\n",
       "    <tr>\n",
       "      <th>...</th>\n",
       "      <td>...</td>\n",
       "      <td>...</td>\n",
       "    </tr>\n",
       "    <tr>\n",
       "      <th>72343</th>\n",
       "      <td>18563.64</td>\n",
       "      <td>288.453737</td>\n",
       "    </tr>\n",
       "    <tr>\n",
       "      <th>72347</th>\n",
       "      <td>18563.64</td>\n",
       "      <td>288.453737</td>\n",
       "    </tr>\n",
       "    <tr>\n",
       "      <th>72348</th>\n",
       "      <td>18563.64</td>\n",
       "      <td>288.453737</td>\n",
       "    </tr>\n",
       "    <tr>\n",
       "      <th>72352</th>\n",
       "      <td>7466.67</td>\n",
       "      <td>206.804642</td>\n",
       "    </tr>\n",
       "    <tr>\n",
       "      <th>72358</th>\n",
       "      <td>17833.33</td>\n",
       "      <td>257.462840</td>\n",
       "    </tr>\n",
       "  </tbody>\n",
       "</table>\n",
       "<p>7404 rows × 2 columns</p>\n",
       "</div>"
      ],
      "text/plain": [
       "           IPCF   PONDII_new\n",
       "3      30000.00   680.930194\n",
       "17         0.00   682.138588\n",
       "21      8000.00   710.535854\n",
       "33     15666.67   761.892613\n",
       "54     45000.00  1460.344524\n",
       "...         ...          ...\n",
       "72343  18563.64   288.453737\n",
       "72347  18563.64   288.453737\n",
       "72348  18563.64   288.453737\n",
       "72352   7466.67   206.804642\n",
       "72358  17833.33   257.462840\n",
       "\n",
       "[7404 rows x 2 columns]"
      ]
     },
     "execution_count": 13,
     "metadata": {},
     "output_type": "execute_result"
    }
   ],
   "source": [
    "df_inactivos_sin_ingreso[['IPCF', 'PONDII_new']]"
   ]
  },
  {
   "cell_type": "code",
   "execution_count": 43,
   "metadata": {},
   "outputs": [
    {
     "data": {
      "text/plain": [
       "array([[<AxesSubplot:title={'center':'PONDII_new'}>]], dtype=object)"
      ]
     },
     "execution_count": 43,
     "metadata": {},
     "output_type": "execute_result"
    },
    {
     "data": {
      "image/png": "[encoded data removed]",
      "text/plain": [
       "<Figure size 640x480 with 1 Axes>"
      ]
     },
     "metadata": {},
     "output_type": "display_data"
    }
   ],
   "source": [
    "df_inactivos_sin_ingreso[['IPCF', 'PONDII_new']].hist(bins=100)"
   ]
  },
  {
   "cell_type": "code",
   "execution_count": 28,
   "metadata": {},
   "outputs": [],
   "source": [
    "import plotly.graph_objects as go\n",
    "import plotly.express as px\n"
   ]
  },
  {
   "cell_type": "code",
   "execution_count": 30,
   "metadata": {},
   "outputs": [],
   "source": [
    "fig = px.histogram(df_inactivos, x=\"P47T\", y=\"PONDII_new\", color=\"CH04\", marginal=\"rug\",\n",
    "                   hover_data=df_inactivos.columns)\n",
    "\n",
    "file_path = pathdata + 'figs/'\n",
    "filename = 'panel-inactivos-pool.html'\n",
    "fig.write_html(file_path + filename)"
   ]
  },
  {
   "cell_type": "code",
   "execution_count": 31,
   "metadata": {},
   "outputs": [],
   "source": [
    "fig = px.histogram(df_inactivos[df_inactivos['P47T']==0], x=\"CH06\", y=\"PONDERA_new\", color=\"CH04\", marginal=\"rug\",\n",
    "                   hover_data=df_inactivos[df_inactivos['P47T']==0].columns)\n",
    "\n",
    "file_path = pathdata + 'figs/'\n",
    "filename = 'panel-inactivos-pool_sin_ingreso.html'\n",
    "fig.write_html(file_path + filename)"
   ]
  },
  {
   "cell_type": "code",
   "execution_count": 32,
   "metadata": {},
   "outputs": [],
   "source": [
    "fig = px.histogram(df_inactivos[df_inactivos['P47T']>0], x=\"CH06\", y=\"PONDERA_new\", color=\"CH04\", marginal=\"rug\",\n",
    "                   hover_data=df_inactivos[df_inactivos['P47T']>0].columns)\n",
    "\n",
    "file_path = pathdata + 'figs/'\n",
    "filename = 'panel-inactivos-pool_con_ingreso.html'\n",
    "fig.write_html(file_path + filename)"
   ]
  },
  {
   "cell_type": "code",
   "execution_count": null,
   "metadata": {},
   "outputs": [],
   "source": []
  },
  {
   "cell_type": "code",
   "execution_count": null,
   "metadata": {},
   "outputs": [],
   "source": []
  }
 ],
 "metadata": {
  "kernelspec": {
   "display_name": "Python 3.9.12 ('pyenv')",
   "language": "python",
   "name": "python3"
  },
  "language_info": {
   "codemirror_mode": {
    "name": "ipython",
    "version": 3
   },
   "file_extension": ".py",
   "mimetype": "text/x-python",
   "name": "python",
   "nbconvert_exporter": "python",
   "pygments_lexer": "ipython3",
   "version": "3.9.12"
  },
  "orig_nbformat": 4,
  "vscode": {
   "interpreter": {
    "hash": "509f5cbefa0cafc10dc1461472345186404cff510fb444dcb85013f09977a5b7"
   }
  }
 },
 "nbformat": 4,
 "nbformat_minor": 2
}
