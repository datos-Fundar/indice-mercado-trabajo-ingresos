{
 "cells": [
  {
   "cell_type": "code",
   "execution_count": 31,
   "metadata": {},
   "outputs": [],
   "source": [
    "%run /home/daniufundar/Documents/Fundar/indice-mercado-trabajo-ingresos/modulos/funciones/01_funciones.ipynb"
   ]
  },
  {
   "cell_type": "code",
   "execution_count": 32,
   "metadata": {},
   "outputs": [],
   "source": [
    "import pandas as pd\n",
    "import numpy as np\n",
    "import matplotlib.pyplot as plt\n",
    "import warnings\n",
    "warnings.filterwarnings('ignore')"
   ]
  },
  {
   "cell_type": "code",
   "execution_count": 33,
   "metadata": {},
   "outputs": [],
   "source": [
    "# Definimos path\n",
    "pathdata = '/home/daniu/Documentos/fundar/indice-mercado-trabajo-ingresos/'\n",
    "pathdata = '/Users/danielarisaro/Documents/Fundar/indice-mercado-trabajo-ingresos/'\n",
    "pathdata = '/home/daniufundar/Documents/Fundar/indice-mercado-trabajo-ingresos/'"
   ]
  },
  {
   "cell_type": "code",
   "execution_count": 34,
   "metadata": {},
   "outputs": [],
   "source": [
    "df_people_pool = pd.read_csv(pathdata + 'data_output/Base_pool_individuos_solo_con_replicas_actuales.csv', low_memory=False, index_col=0)\n",
    "df_houses_pool = pd.read_csv(pathdata + 'data_output/Base_pool_hogares_solo_con_replicas_actuales.csv', low_memory=False, index_col=0)"
   ]
  },
  {
   "cell_type": "code",
   "execution_count": 35,
   "metadata": {},
   "outputs": [],
   "source": [
    "tasa, size, ratio, error = actividad_productiva(df_people_pool, tipo='Urbano', base='Individual', confidence_level=0.95)\n",
    "empleo = pd.concat([tasa, size, ratio, error], axis=1)\n",
    "\n",
    "tasa, size, ratio, error = busqueda_trabajo(df_people_pool, tipo='Urbano', base='Individual', confidence_level=0.95)\n",
    "desempleo = pd.concat([tasa, size, ratio, error], axis=1)\n",
    "\n",
    "tasa, size, ratio, error = acceso_derechos_laborales(df_people_pool, tipo='Urbano', base='Individual', confidence_level=0.95)\n",
    "empleo_asalariado_con_descuento = pd.concat([tasa, size, ratio, error], axis=1)\n",
    "\n",
    "tasa, size, ratio, error = participacion_trabajo_remunerado(df_people_pool, tipo='Urbano', base='Individual', confidence_level=0.95)\n",
    "horas_remuneradas = pd.concat([tasa, size, ratio, error], axis=1)\n",
    "\n",
    "tasa, size, ratio, error = inactividad(df_people_pool, tipo='Urbano', base='Individual', confidence_level=0.95)\n",
    "ratio_inactividad = pd.concat([tasa, size, ratio, error], axis=1)\n",
    "\n",
    "tasa, size, ratio, error = actividad(df_people_pool, tipo='Urbano', base='Individual', confidence_level=0.95)\n",
    "ratio_actividad = pd.concat([tasa, size, ratio, error], axis=1)\n",
    "\n",
    "tasa, size, ratio, error = acceso_aguinaldo(df_people_pool, tipo='Urbano', base='Individual', confidence_level=0.95)\n",
    "empleo_asalariado_con_aguinaldo = pd.concat([tasa, size, ratio, error], axis=1)\n",
    "\n",
    "tasa, size, ratio, error = acceso_obra_social(df_people_pool, tipo='Urbano', base='Individual', confidence_level=0.95)\n",
    "empleo_asalariado_con_obra_social = pd.concat([tasa, size, ratio, error], axis=1)"
   ]
  },
  {
   "cell_type": "code",
   "execution_count": 36,
   "metadata": {},
   "outputs": [],
   "source": [
    "insercion_laboral = (ratio_actividad['Actividad'] + \\\n",
    "                    empleo_asalariado_con_descuento['Acceso a derechos laborales'] + \\\n",
    "                    horas_remuneradas['Participacion trabajo remunerado']) / 3"
   ]
  },
  {
   "cell_type": "code",
   "execution_count": 37,
   "metadata": {},
   "outputs": [],
   "source": [
    "tabla_pob_ocupada_asalariada = calcular_tabla_poblacion_ocupada_asalariada(df_people_pool, tipo='Urbano', base='Individual')"
   ]
  },
  {
   "attachments": {},
   "cell_type": "markdown",
   "metadata": {},
   "source": [
    "### Analisis dfs"
   ]
  },
  {
   "cell_type": "code",
   "execution_count": 38,
   "metadata": {},
   "outputs": [],
   "source": [
    "# cod_provincia\n",
    "dict_cod_provincia = {2: \"CABA\",\n",
    " 6: \"Buenos Aires\",\n",
    " 10: \"Catamarca\",\n",
    " 14: \"Córdoba\",\n",
    " 18: \"Corrientes\",\n",
    " 22: \"Chaco\",\n",
    " 26: \"Chubut\",\n",
    " 30: \"Entre Ríos\",\n",
    " 34: \"Formosa\",\n",
    " 38: \"Jujuy\",\n",
    " 42: \"La Pampa\",\n",
    " 46: \"La Rioja\",\n",
    " 50: \"Mendoza\",\n",
    " 54: \"Misiones\",\n",
    " 58: \"Neuquén\",\n",
    " 62: \"Río Negro\",\n",
    " 66: \"Salta\",\n",
    " 70: \"San Juan\",\n",
    " 74: \"San Luis\",\n",
    " 78: \"Santa Cruz\",\n",
    " 82: \"Santa Fe\",\n",
    " 86: \"Santiago del Estero\",\n",
    " 90: \"Tucumán\",\n",
    " 94: \"TdF\"}"
   ]
  },
  {
   "cell_type": "code",
   "execution_count": 39,
   "metadata": {},
   "outputs": [],
   "source": [
    "variables = [empleo, desempleo, empleo_asalariado_con_descuento, horas_remuneradas, \n",
    "             ratio_inactividad, ratio_actividad, empleo_asalariado_con_aguinaldo, empleo_asalariado_con_obra_social, insercion_laboral] \n",
    "\n",
    "for variable in variables:\n",
    "    variable.index = variable.index.map(dict_cod_provincia)\n"
   ]
  },
  {
   "attachments": {},
   "cell_type": "markdown",
   "metadata": {},
   "source": [
    "### Cargo cosas para plots"
   ]
  },
  {
   "cell_type": "code",
   "execution_count": 40,
   "metadata": {},
   "outputs": [],
   "source": [
    "import plotly.graph_objects as go\n",
    "from plotly.subplots import make_subplots\n",
    "from plotly.offline import plot"
   ]
  },
  {
   "cell_type": "code",
   "execution_count": 41,
   "metadata": {},
   "outputs": [],
   "source": [
    "# Definimos colores fundar\n",
    "fundar_colores_primarios = ['#7BB5C4', '#9FC1AD', '#D3D3E0',  '#8d9bff', '#FF9750', '#FFD900',]\n",
    "fundar_colores_secundarios = ['#B5E0EA', '#B3B3B3', '#848279', '#AFA36E', '#5D896F', '#9C9CBC', '#E27124']\n",
    "fundar_white = '#F5F5F5'\n",
    "fundar_black = '#151515'"
   ]
  },
  {
   "attachments": {},
   "cell_type": "markdown",
   "metadata": {},
   "source": [
    "### Plot insercion laboral"
   ]
  },
  {
   "cell_type": "code",
   "execution_count": 42,
   "metadata": {},
   "outputs": [],
   "source": [
    "def create_bar_chart(df_list, error_cols, scatter_cols, colors, file_path, filename):\n",
    "    bar_traces = []\n",
    "    scatter_traces = []\n",
    "\n",
    "    for i, df in enumerate(df_list):\n",
    "        error_y = dict(\n",
    "            type='data',\n",
    "            symmetric=False,\n",
    "            array=df['LS'] - df[error_cols[i]],\n",
    "            arrayminus=df[error_cols[i]] - df['LI'],\n",
    "            visible=True,\n",
    "            color='black',\n",
    "            thickness=0.7\n",
    "        )\n",
    "        \n",
    "        bar_trace = go.Bar(\n",
    "            x=df.index,\n",
    "            y=df[error_cols[i]],\n",
    "            name='T' + str(i + 1) + '. ' + error_cols[i],\n",
    "            marker_color=colors[i],\n",
    "            error_y=error_y\n",
    "        )\n",
    "        bar_traces.append(bar_trace)\n",
    "\n",
    "        scatter_trace = go.Scatter(\n",
    "            x=df.index,\n",
    "            y=df[scatter_cols[i]],\n",
    "            name='T' + str(i + 1) + '. ER',\n",
    "            mode='markers',\n",
    "            marker=dict(\n",
    "                color='black',\n",
    "                size=8\n",
    "            ),\n",
    "            yaxis='y2'\n",
    "        )\n",
    "        scatter_traces.append(scatter_trace)\n",
    "\n",
    "    layout = go.Layout(\n",
    "        title='Insercion laboral',\n",
    "        barmode='group',\n",
    "        plot_bgcolor='rgba(0,0,0,0)',\n",
    "        legend=dict(y=1.1, orientation='h'),\n",
    "        yaxis=dict(title='Actividad', range=[0, 170]),\n",
    "        scattermode=\"group\",\n",
    "        yaxis2=dict(title='ER', overlaying='y', side='right', range=[0, 70])\n",
    "    )\n",
    "\n",
    "    fig = go.Figure(data=bar_traces + scatter_traces, layout=layout)\n",
    "\n",
    "    fig.add_shape(\n",
    "        type='line',\n",
    "        x0=df_list[0].index[0],\n",
    "        y0=100,\n",
    "        x1=df_list[0].index[-1],\n",
    "        y1=100,\n",
    "        line=dict(\n",
    "            color='black',\n",
    "            width=1,\n",
    "            dash='dash'\n",
    "        ),\n",
    "    )\n",
    "\n",
    "    plot(fig, filename=file_path + filename, auto_open=False)\n",
    "\n"
   ]
  },
  {
   "cell_type": "code",
   "execution_count": 43,
   "metadata": {},
   "outputs": [],
   "source": [
    "def create_componente_insercion_laboral(sorted_data, file_path, filename):\n",
    "    # Crear la barra de trazado\n",
    "    bar_trace1 = go.Bar(\n",
    "        x=sorted_data.index,\n",
    "        y=sorted_data,\n",
    "        name=' ',\n",
    "        marker_color=fundar_colores_primarios[0]\n",
    "    )\n",
    "\n",
    "    # Crear el layout\n",
    "    layout = go.Layout(\n",
    "        title='Indicador componente insercion laboral',\n",
    "        barmode='group',\n",
    "        plot_bgcolor='rgba(0,0,0,0)'\n",
    "    )\n",
    "\n",
    "    # Crear la figura\n",
    "    fig = go.Figure(data=[bar_trace1], layout=layout)\n",
    "\n",
    "    # Agregar la línea de referencia\n",
    "    fig.add_shape(\n",
    "        type='line',\n",
    "        x0=sorted_data.index[0],\n",
    "        y0=100,\n",
    "        x1=sorted_data.index[-1],\n",
    "        y1=100,\n",
    "        line=dict(\n",
    "            color='black',\n",
    "            width=1,\n",
    "            dash='dash'\n",
    "        ),\n",
    "    )\n",
    "\n",
    "    fig.update_yaxes(range=[0, 90])\n",
    "\n",
    "    # Guardar el gráfico como un archivo HTML\n",
    "    plot(fig, filename=file_path + filename, auto_open=False)\n"
   ]
  },
  {
   "cell_type": "code",
   "execution_count": 44,
   "metadata": {},
   "outputs": [],
   "source": [
    "def create_stacked_bar_chart(df_list, y_columns, colors, title, file_path, filename):\n",
    "    bar_traces = []\n",
    "\n",
    "    for i, df in enumerate(df_list):\n",
    "        x = df.index\n",
    "        for j, y_col in enumerate(y_columns):\n",
    "            y_values = df[y_col]\n",
    "            \n",
    "            bar_trace = go.Bar(\n",
    "                x=x,\n",
    "                y=y_values,\n",
    "                name=f'{y_col}',\n",
    "                marker_color=colors[i]\n",
    "            )\n",
    "            bar_traces.append(bar_trace)\n",
    "\n",
    "    layout = go.Layout(\n",
    "        title=title,\n",
    "        barmode='group',\n",
    "        plot_bgcolor='rgba(0,0,0,0)',\n",
    "        legend=dict(y=1.1, orientation='h'),\n",
    "        yaxis=dict(title='Cantidad'),\n",
    "        xaxis=dict(title='Provincia'),\n",
    "    )\n",
    "\n",
    "    fig = go.Figure(data=bar_traces, layout=layout)\n",
    "\n",
    "    plot(fig, filename=file_path + filename, auto_open=False)\n"
   ]
  },
  {
   "cell_type": "code",
   "execution_count": 45,
   "metadata": {},
   "outputs": [],
   "source": [
    "file_path = '/home/daniufundar/Documents/Fundar/indice-mercado-trabajo-ingresos/figs/'\n",
    "\n",
    "sorted_data = insercion_laboral.sort_values(ascending=False)\n",
    "\n",
    "filename = 'componente_insercion_laboral_16-a-65.html'\n",
    "create_componente_insercion_laboral(sorted_data, file_path, filename)\n",
    "\n",
    "df_list = [ratio_actividad, empleo_asalariado_con_descuento, horas_remuneradas]\n",
    "\n",
    "y_columns = ['Varon', 'Mujer']\n",
    "colors = [fundar_colores_primarios[0], \n",
    "          fundar_colores_primarios[1],\n",
    "          fundar_colores_primarios[2],\n",
    "          fundar_colores_primarios[3],\n",
    "          fundar_colores_primarios[4]\n",
    "          ]\n",
    "\n",
    "title = 'Comparación de Varones y Mujeres por Provincia' \n",
    "filename = 'tasas_indicadores_insercion_laboral_16-a-65.html'\n",
    "\n",
    "create_stacked_bar_chart(df_list, y_columns, colors, title, file_path, filename)\n",
    "\n",
    "df_list = [ratio_actividad, empleo_asalariado_con_descuento, horas_remuneradas]\n",
    "error_cols = ['Actividad', 'Acceso a derechos laborales', 'Participacion trabajo remunerado']\n",
    "scatter_cols = ['ER'] * len(df_list)\n",
    "colors = fundar_colores_primarios[:len(df_list)]\n",
    "filename = 'insercion_laboral_16-a-65.html'\n",
    "\n",
    "create_bar_chart(df_list, error_cols, scatter_cols, colors, file_path, filename)"
   ]
  }
 ],
 "metadata": {
  "kernelspec": {
   "display_name": "Python 3.9.12 ('pyenv')",
   "language": "python",
   "name": "python3"
  },
  "language_info": {
   "codemirror_mode": {
    "name": "ipython",
    "version": 3
   },
   "file_extension": ".py",
   "mimetype": "text/x-python",
   "name": "python",
   "nbconvert_exporter": "python",
   "pygments_lexer": "ipython3",
   "version": "3.9.15"
  },
  "orig_nbformat": 4,
  "vscode": {
   "interpreter": {
    "hash": "509f5cbefa0cafc10dc1461472345186404cff510fb444dcb85013f09977a5b7"
   }
  }
 },
 "nbformat": 4,
 "nbformat_minor": 2
}
