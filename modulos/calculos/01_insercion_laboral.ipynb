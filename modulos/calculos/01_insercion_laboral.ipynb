{
 "cells": [
  {
   "cell_type": "code",
   "execution_count": 1,
   "metadata": {},
   "outputs": [],
   "source": [
    "#%run /home/daniufundar/Documents/Fundar/indice-mercado-trabajo-ingresos/modulos/funciones/01_funciones.ipynb\n",
    "%run /Users/danielarisaro/Documents/Fundar/indice-mercado-trabajo-ingresos/modulos/funciones/01_funciones.ipynb\n",
    "import pandas as pd\n",
    "import numpy as np\n",
    "import matplotlib.pyplot as plt\n",
    "import warnings\n",
    "import pickle\n",
    "warnings.filterwarnings('ignore')"
   ]
  },
  {
   "cell_type": "code",
   "execution_count": 2,
   "metadata": {},
   "outputs": [],
   "source": [
    "# Definimos path\n",
    "pathdata = '/home/daniu/Documentos/fundar/indice-mercado-trabajo-ingresos/'\n",
    "pathdata = '/home/daniufundar/Documents/Fundar/indice-mercado-trabajo-ingresos/'\n",
    "pathdata = '/Users/danielarisaro/Documents/Fundar/indice-mercado-trabajo-ingresos/'"
   ]
  },
  {
   "cell_type": "code",
   "execution_count": 3,
   "metadata": {},
   "outputs": [],
   "source": [
    "with open(pathdata + 'modulos/diccionarios/' + 'diccionario_aglomerados.pickle', 'rb') as file:\n",
    "    dict_cod_aglomerado = pickle.load(file)\n",
    "\n",
    "with open(pathdata + 'modulos/diccionarios/' + 'diccionario_provincia.pickle', 'rb') as file:\n",
    "    dict_cod_provincia = pickle.load(file)\n",
    "\n",
    "with open(pathdata + 'modulos/diccionarios/' + 'diccionario_aglomerado_provincia.pickle', 'rb') as file:\n",
    "    map_aglomerado_provincia = pickle.load(file)"
   ]
  },
  {
   "cell_type": "code",
   "execution_count": 4,
   "metadata": {},
   "outputs": [],
   "source": [
    "archivos_people_aglomerados = ['personas_T121.txt', 'personas_T221.txt', \n",
    "                               'personas_T321.txt', 'personas_T421.txt', \n",
    "                               'personas_T122.txt', 'personas_T222.txt', \n",
    "                               'personas_T322.txt', 'personas_T422.txt']\n",
    "\n",
    "fechas_trimestrales = pd.date_range(start='2021-01-01', end='2022-12-31', freq='QS')\n",
    "lista_df_insercion = []\n",
    "\n",
    "for archivo in archivos_people_aglomerados:\n",
    "    \n",
    "    df = pd.read_csv(pathdata + 'data_input/' + archivo, delimiter=';', low_memory=False)\n",
    "    \n",
    "    df_insercion = calcular_insercion_laboral(df, dict_cod_aglomerado, tipo='Aglomerado', base='Individual', confidence_level=0.95, pool=False)\n",
    "    df_insercion['PROVINCIA'] = df_insercion.index.map(map_aglomerado_provincia)\n",
    "    df_insercion_provincias = df_insercion.groupby('PROVINCIA').mean()\n",
    "\n",
    "    lista_df_insercion.append(df_insercion_provincias)    \n",
    "\n",
    "dict_dfs_insercion_aglomerado = dict(zip(fechas_trimestrales, lista_df_insercion))"
   ]
  },
  {
   "cell_type": "code",
   "execution_count": 5,
   "metadata": {},
   "outputs": [],
   "source": [
    "archivos_people_tot_urbano = ['personas_tot_urb_3T_21.txt', \n",
    "                                'personas_tot_urb_3T_22.txt']\n",
    "\n",
    "fechas_tot_urb = pd.date_range(start='2021-07-01', end='2022-12-31', freq='AS-JUL')\n",
    "lista_df_insercion = []\n",
    "\n",
    "for archivo in archivos_people_tot_urbano:\n",
    "    \n",
    "    df = pd.read_csv(pathdata + 'data_input/' + archivo, delimiter=';', low_memory=False)\n",
    "    \n",
    "    df_insercion = calcular_insercion_laboral(df, dict_cod_provincia, tipo='Urbano', base='Individual', confidence_level=0.95, pool=False)\n",
    "\n",
    "    lista_df_insercion.append(df_insercion)    \n",
    "\n",
    "dict_dfs_insercion_urbano = dict(zip(fechas_tot_urb, lista_df_insercion))"
   ]
  },
  {
   "cell_type": "code",
   "execution_count": 6,
   "metadata": {},
   "outputs": [],
   "source": [
    "df_people_pool = pd.read_csv(pathdata + 'data_output/Base_pool_individuos_solo_con_replicas_actuales.csv', low_memory=False, index_col=0)\n",
    "df_insercion_pool = calcular_insercion_laboral(df_people_pool, dict_cod_provincia, tipo='Urbano', base='Individual', confidence_level=0.95, pool=True)"
   ]
  },
  {
   "cell_type": "code",
   "execution_count": 7,
   "metadata": {},
   "outputs": [],
   "source": [
    "with open(pathdata + 'data_output/' + 'diccionario_insercion_laboral_aglomerados.pickle', 'wb') as file:\n",
    "    pickle.dump(dict_dfs_insercion_aglomerado, file)\n",
    "\n",
    "with open(pathdata + 'data_output/' + 'diccionario_insercion_laboral_urbano.pickle', 'wb') as file:\n",
    "    pickle.dump(dict_dfs_insercion_urbano, file)\n",
    "\n",
    "df_insercion_pool.to_pickle(pathdata + 'data_output/df_insercion_laboral_pool.pickle')"
   ]
  },
  {
   "cell_type": "code",
   "execution_count": 7,
   "metadata": {},
   "outputs": [],
   "source": []
  }
 ],
 "metadata": {
  "kernelspec": {
   "display_name": "Python 3.9.12 ('pyenv')",
   "language": "python",
   "name": "python3"
  },
  "language_info": {
   "codemirror_mode": {
    "name": "ipython",
    "version": 3
   },
   "file_extension": ".py",
   "mimetype": "text/x-python",
   "name": "python",
   "nbconvert_exporter": "python",
   "pygments_lexer": "ipython3",
   "version": "3.9.12"
  },
  "orig_nbformat": 4,
  "vscode": {
   "interpreter": {
    "hash": "509f5cbefa0cafc10dc1461472345186404cff510fb444dcb85013f09977a5b7"
   }
  }
 },
 "nbformat": 4,
 "nbformat_minor": 2
}
