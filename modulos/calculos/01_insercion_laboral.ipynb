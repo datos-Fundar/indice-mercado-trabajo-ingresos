{
 "cells": [
  {
   "cell_type": "code",
   "execution_count": 1,
   "metadata": {},
   "outputs": [],
   "source": [
    "#%run /home/daniufundar/Documents/Fundar/indice-mercado-trabajo-ingresos/modulos/funciones/01_funciones.ipynb\n",
    "%run /Users/danielarisaro/Documents/Fundar/indice-mercado-trabajo-ingresos/modulos/funciones/01_funciones.ipynb\n",
    "import pandas as pd\n",
    "import numpy as np\n",
    "import matplotlib.pyplot as plt\n",
    "import warnings\n",
    "warnings.filterwarnings('ignore')"
   ]
  },
  {
   "cell_type": "code",
   "execution_count": 2,
   "metadata": {},
   "outputs": [],
   "source": [
    "# cod_provincia\n",
    "dict_cod_provincia = {2: \"CABA\",\n",
    " 6: \"Buenos Aires\",\n",
    " 10: \"Catamarca\",\n",
    " 14: \"Córdoba\",\n",
    " 18: \"Corrientes\",\n",
    " 22: \"Chaco\",\n",
    " 26: \"Chubut\",\n",
    " 30: \"Entre Ríos\",\n",
    " 34: \"Formosa\",\n",
    " 38: \"Jujuy\",\n",
    " 42: \"La Pampa\",\n",
    " 46: \"La Rioja\",\n",
    " 50: \"Mendoza\",\n",
    " 54: \"Misiones\",\n",
    " 58: \"Neuquén\",\n",
    " 62: \"Río Negro\",\n",
    " 66: \"Salta\",\n",
    " 70: \"San Juan\",\n",
    " 74: \"San Luis\",\n",
    " 78: \"Santa Cruz\",\n",
    " 82: \"Santa Fe\",\n",
    " 86: \"Santiago del Estero\",\n",
    " 90: \"Tucumán\",\n",
    " 94: \"TdF\"}\n",
    "\n",
    "\n",
    "dict_cod_aglomerado = {2: \"Gran La Plata\",\n",
    "3: \"Bahía Blanca - Cerri\",\n",
    "4: \"Gran Rosario\",\n",
    "5: \"Gran Santa Fé\",\n",
    "6: \"Gran Paraná\",\n",
    "7: \"Posadas\",\n",
    "8: \"Gran Resistencia\",\n",
    "9: \"Comodoro Rivadavia - Rada Tilly\",\n",
    "10: \"Gran Mendoza\",\n",
    "12: \"Corrientes\",\n",
    "13: \"Gran Córdoba\",\n",
    "14: \"Concordia\",\n",
    "15: \"Formosa\",\n",
    "17: \"Neuquén – Plottier\",\n",
    "18: \"Santiago del Estero - La Banda\",\n",
    "19: \"Jujuy-Palpalá\",\n",
    "20: \"Río Gallegos\",\n",
    "22: \"Gran Catamarca\",\n",
    "23: \"Gran Salta\",\n",
    "25: \"La Rioja\",\n",
    "26: \"Gran San Luis\",\n",
    "27: \"Gran San Juan\",\n",
    "29: \"Gran Tucumán - Tafí Viejo\",\n",
    "30: \"Santa Rosa – Toay\",\n",
    "31: \"Ushuaia - Río Grande\",\n",
    "32: \"Ciudad Autónoma de Buenos Aires\",\n",
    "33: \"Partidos del GBA\",\n",
    "34: \"Mar del Plata\",\n",
    "36: \"Río Cuarto\",\n",
    "38: \"San Nicolás – Villa Constitución\",\n",
    "91: \"Rawson – Trelew\",\n",
    "93: \"Viedma – Carmen de Patagones\",\n",
    "40: 'Resto Buenos Aires',\n",
    "41: 'Resto Catamarca',\n",
    "42: 'Resto Córdoba',\n",
    "43: 'Resto Corrientes',\n",
    "44: 'Resto Chaco',\n",
    "45: 'Resto Chubut',\n",
    "46: 'Resto Entre Ríos',\n",
    "47: 'Resto Formosa',\n",
    "48: 'Resto Jujuy',\n",
    "49: 'Resto La Pampa',\n",
    "50: 'Resto La Rioja',\n",
    "51: 'Resto Mendoza',\n",
    "52: 'Resto Misiones',\n",
    "53: 'Resto Neuquén',\n",
    "54: 'Resto Río Negro',\n",
    "55: 'Resto Salta',\n",
    "56: 'Resto San Juan',\n",
    "57: 'Resto San Luis',\n",
    "58: 'Resto Santa Cruz',\n",
    "60: 'Resto Santa Fe',\n",
    "61: 'Resto Santiago del Estero',\n",
    "62: 'Resto Tucumán'}"
   ]
  },
  {
   "cell_type": "code",
   "execution_count": 3,
   "metadata": {},
   "outputs": [],
   "source": [
    "aglomerado_provincias = pd.DataFrame([\n",
    "[\"Gran La Plata\", 'Buenos Aires'],\n",
    "[\"Bahía Blanca - Cerri\", 'Buenos Aires'],\n",
    "[\"Gran Rosario\", 'Sante Fe'],\n",
    "[\"Gran Santa Fé\", 'Santa Fe'],\n",
    "[\"Gran Paraná\", 'Entre Ríos'],\n",
    "[\"Posadas\", 'Misiones'],\n",
    "[\"Gran Resistencia\", 'Chaco'],\n",
    "[\"Comodoro Rivadavia - Rada Tilly\", 'Chubut'],\n",
    "[\"Gran Mendoza\", 'Mendoza'],\n",
    "[\"Corrientes\", 'Corrientes'],\n",
    "[\"Gran Córdoba\", 'Córdoba'],\n",
    "[\"Concordia\", 'Entre Ríos'],\n",
    "[\"Formosa\", 'Formosa'],\n",
    "[\"Neuquén – Plottier\", 'Neuquén'],\n",
    "[\"Santiago del Estero - La Banda\", 'Santiago del Estero'],\n",
    "[\"Jujuy-Palpalá\", 'Jujuy'],\n",
    "[\"Río Gallegos\", 'Santa Cruz'],\n",
    "[\"Gran Catamarca\", 'Catamarca'],\n",
    "[\"Gran Salta\", 'Salta'],\n",
    "[\"La Rioja\", 'La Rioja'],\n",
    "[\"Gran San Luis\", 'San Luis'],\n",
    "[\"Gran San Juan\", 'San Juan'],\n",
    "[\"Gran Tucumán - Tafí Viejo\", 'Tucumán'],\n",
    "[\"Santa Rosa – Toay\", 'La Pampa'],\n",
    "[\"Ushuaia - Río Grande\", 'TdF'],\n",
    "[\"Ciudad Autónoma de Buenos Aires\", 'CABA'],\n",
    "[\"Partidos del GBA\", 'Buenos Aires'],\n",
    "[\"Mar del Plata\", 'Buenos Aires'],\n",
    "[\"Río Cuarto\", 'Córdoba'],\n",
    "[\"San Nicolás – Villa Constitución\", 'Santa Fe'],\n",
    "[\"Rawson – Trelew\", 'Chubut'],\n",
    "[\"Viedma – Carmen de Patagones\", 'Río Negro'],\n",
    "['Resto Buenos Aires', 'Buenos Aires'],\n",
    "['Resto Catamarca', 'Catamarca'],\n",
    "['Resto Córdoba', 'Córdoba'],\n",
    "['Resto Corrientes', 'Corrientes'],\n",
    "['Resto Chaco', 'Chaco'],\n",
    "['Resto Chubut', 'Chubut'],\n",
    "['Resto Entre Ríos', 'Entre Ríos'],\n",
    "['Resto Formosa', 'Formosa'],\n",
    "['Resto Jujuy', 'Jujuy'],\n",
    "['Resto La Pampa', 'La Pampa'],\n",
    "['Resto La Rioja', 'La Rioja'],\n",
    "['Resto Mendoza', 'Mendoza'],\n",
    "['Resto Misiones', 'Misiones'],\n",
    "['Resto Neuquén', 'Neuquén'],\n",
    "['Resto Río Negro', 'Río Negro'],\n",
    "['Resto Salta', 'Salta'],\n",
    "['Resto San Juan', 'San Juan'],\n",
    "['Resto San Luis', 'San Luis'],\n",
    "['Resto Santa Cruz', 'Santa Fe'],\n",
    "['Resto Santa Fe', 'Pampeana'],\n",
    "['Resto Santiago del Estero', 'Santiago del Estero'],\n",
    "['Resto Tucumán', 'Tucumán'],],\n",
    "columns=['Aglomerado', 'Provincia'])\n",
    "aglomerado_provincias = aglomerado_provincias.set_index('Aglomerado')\n",
    "map_aglomerado_provincia = aglomerado_provincias['Provincia'].to_dict()\n"
   ]
  },
  {
   "cell_type": "code",
   "execution_count": 4,
   "metadata": {},
   "outputs": [],
   "source": [
    "def calcular_insercion_laboral(df, dict_cod_provincia, tipo='Urbano', base='Individual', confidence_level=0.95, pool=False):\n",
    "\n",
    "    tasa, size, ratio, error = ratio_tasa_actividad(df, tipo=tipo, base=base, confidence_level=confidence_level, pool=pool)\n",
    "    ratio_actividad = pd.concat([tasa, size, ratio, error], axis=1)\n",
    "\n",
    "    tasa, size, ratio, error = trabajo_formal(df, tipo=tipo, base=base, confidence_level=confidence_level, pool=pool)\n",
    "    empleo_asalariado_con_descuento = pd.concat([tasa, size, ratio, error], axis=1)\n",
    "\n",
    "    tasa, size, ratio, error = horas_promedio_remuneradas(df, tipo=tipo, base=base, confidence_level=confidence_level, pool=pool)\n",
    "    horas_remuneradas_media = pd.concat([tasa, size, ratio, error], axis=1)\n",
    "\n",
    "    if horas_remuneradas_media['Horas promedio remuneradas'].dtype == 'object':\n",
    "        horas_remuneradas_media['Horas promedio remuneradas'] = horas_remuneradas_media['Horas promedio remuneradas'].astype(float)\n",
    "\n",
    "    insercion_laboral = (ratio_actividad['Actividad'] + empleo_asalariado_con_descuento['Formalidad'] + horas_remuneradas_media['Horas promedio remuneradas']) / 3\n",
    "    insercion_laboral.name = 'Insercion laboral'\n",
    "\n",
    "    variables = [ratio_actividad, empleo_asalariado_con_descuento, horas_remuneradas_media, insercion_laboral]\n",
    "    for variable in variables:\n",
    "        variable.index = variable.index.map(dict_cod_provincia)\n",
    "\n",
    "    # Crear el DataFrame de inserción laboral\n",
    "    df_insercion = pd.concat([ratio_actividad['Actividad'], empleo_asalariado_con_descuento['Formalidad'], horas_remuneradas_media['Horas promedio remuneradas'], insercion_laboral], axis=1)\n",
    "    \n",
    "    return df_insercion\n"
   ]
  },
  {
   "cell_type": "code",
   "execution_count": 5,
   "metadata": {},
   "outputs": [],
   "source": [
    "# Definimos path\n",
    "pathdata = '/home/daniu/Documentos/fundar/indice-mercado-trabajo-ingresos/'\n",
    "pathdata = '/home/daniufundar/Documents/Fundar/indice-mercado-trabajo-ingresos/'\n",
    "pathdata = '/Users/danielarisaro/Documents/Fundar/indice-mercado-trabajo-ingresos/'"
   ]
  },
  {
   "cell_type": "code",
   "execution_count": 6,
   "metadata": {},
   "outputs": [],
   "source": [
    "archivos_people_aglomerados = ['personas_T121.txt', 'personas_T221.txt', \n",
    "                               'personas_T321.txt', 'personas_T421.txt', \n",
    "                               'personas_T122.txt', 'personas_T222.txt', \n",
    "                               'personas_T322.txt', 'personas_T422.txt']\n",
    "\n",
    "fechas_trimestrales = pd.date_range(start='2021-01-01', end='2022-12-31', freq='QS')\n",
    "lista_df_insercion = []\n",
    "\n",
    "for archivo in archivos_people_aglomerados:\n",
    "    \n",
    "    df = pd.read_csv(pathdata + 'data_input/' + archivo, delimiter=';', low_memory=False)\n",
    "    \n",
    "    df_insercion = calcular_insercion_laboral(df, dict_cod_aglomerado, tipo='Aglomerado', base='Individual', confidence_level=0.95, pool=False)\n",
    "    df_insercion['PROVINCIA'] = df_insercion.index.map(map_aglomerado_provincia)\n",
    "    df_insercion_provincias = df_insercion.groupby('PROVINCIA').mean()\n",
    "\n",
    "    lista_df_insercion.append(df_insercion_provincias)    \n",
    "\n",
    "dict_dfs_insercion_aglomerado = dict(zip(fechas_trimestrales, lista_df_insercion))"
   ]
  },
  {
   "cell_type": "code",
   "execution_count": 7,
   "metadata": {},
   "outputs": [],
   "source": [
    "archivos_people_tot_urbano = ['personas_tot_urb_3T_21.txt', \n",
    "                                'personas_tot_urb_3T_22.txt']\n",
    "\n",
    "fechas_tot_urb = pd.date_range(start='2021-07-01', end='2023-12-31', freq='AS')\n",
    "lista_df_insercion = []\n",
    "\n",
    "for archivo in archivos_people_tot_urbano:\n",
    "    \n",
    "    df = pd.read_csv(pathdata + 'data_input/' + archivo, delimiter=';', low_memory=False)\n",
    "    \n",
    "    df_insercion = calcular_insercion_laboral(df, dict_cod_provincia, tipo='Urbano', base='Individual', confidence_level=0.95, pool=False)\n",
    "\n",
    "    lista_df_insercion.append(df_insercion)    \n",
    "\n",
    "dict_dfs_insercion_urbano = dict(zip(fechas_tot_urb, lista_df_insercion))"
   ]
  },
  {
   "cell_type": "code",
   "execution_count": 8,
   "metadata": {},
   "outputs": [
    {
     "name": "stdout",
     "output_type": "stream",
     "text": [
      "2021-01-01 00:00:00\n",
      "84.2408672769984\n",
      "2021-04-01 00:00:00\n",
      "83.11054180247297\n",
      "2021-07-01 00:00:00\n",
      "83.24821180775747\n",
      "2021-10-01 00:00:00\n",
      "83.12932827619318\n",
      "2022-01-01 00:00:00\n",
      "83.2883915681981\n",
      "2022-04-01 00:00:00\n",
      "83.09436965226372\n",
      "2022-07-01 00:00:00\n",
      "82.75050674710972\n",
      "2022-10-01 00:00:00\n",
      "83.20209274269813\n"
     ]
    }
   ],
   "source": [
    "for clave, valor in dict_dfs_insercion_aglomerado.items():\n",
    "    print(clave)\n",
    "    print(valor['Insercion laboral'].mean())\n"
   ]
  },
  {
   "cell_type": "code",
   "execution_count": 9,
   "metadata": {},
   "outputs": [
    {
     "name": "stdout",
     "output_type": "stream",
     "text": [
      "2022-01-01 00:00:00\n",
      "81.56606630426323\n"
     ]
    }
   ],
   "source": [
    "for clave, valor in dict_dfs_insercion_urbano.items():\n",
    "    print(clave)\n",
    "    print(valor['Insercion laboral'].mean())\n"
   ]
  },
  {
   "cell_type": "code",
   "execution_count": 10,
   "metadata": {},
   "outputs": [],
   "source": [
    "df_people_pool = pd.read_csv(pathdata + 'data_output/Base_pool_individuos_solo_con_replicas_actuales.csv', low_memory=False, index_col=0)\n",
    "df_insercion_pool = calcular_insercion_laboral(df_people_pool, dict_cod_provincia, tipo='Urbano', base='Individual', confidence_level=0.95, pool=True)"
   ]
  },
  {
   "cell_type": "code",
   "execution_count": 11,
   "metadata": {},
   "outputs": [
    {
     "data": {
      "text/plain": [
       "81.02126006913399"
      ]
     },
     "execution_count": 11,
     "metadata": {},
     "output_type": "execute_result"
    }
   ],
   "source": [
    "df_insercion['Insercion laboral'].mean()"
   ]
  }
 ],
 "metadata": {
  "kernelspec": {
   "display_name": "Python 3.9.12 ('pyenv')",
   "language": "python",
   "name": "python3"
  },
  "language_info": {
   "codemirror_mode": {
    "name": "ipython",
    "version": 3
   },
   "file_extension": ".py",
   "mimetype": "text/x-python",
   "name": "python",
   "nbconvert_exporter": "python",
   "pygments_lexer": "ipython3",
   "version": "3.9.12"
  },
  "orig_nbformat": 4,
  "vscode": {
   "interpreter": {
    "hash": "509f5cbefa0cafc10dc1461472345186404cff510fb444dcb85013f09977a5b7"
   }
  }
 },
 "nbformat": 4,
 "nbformat_minor": 2
}
