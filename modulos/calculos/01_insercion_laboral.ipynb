{
 "cells": [
  {
   "cell_type": "code",
   "execution_count": 1,
   "metadata": {},
   "outputs": [],
   "source": [
    "#%run /home/daniufundar/Documents/Fundar/indice-mercado-trabajo-ingresos/modulos/funciones/01_funciones_insercion_laboral.ipynb\n",
    "%run /Users/danielarisaro/Documents/Fundar/indice-mercado-trabajo-ingresos/modulos/funciones/01_funciones_insercion_laboral.ipynb\n",
    "import pandas as pd\n",
    "import numpy as np\n",
    "import matplotlib.pyplot as plt\n",
    "import warnings\n",
    "import pickle\n",
    "warnings.filterwarnings('ignore')"
   ]
  },
  {
   "cell_type": "code",
   "execution_count": 2,
   "metadata": {},
   "outputs": [],
   "source": [
    "# Definimos path\n",
    "pathdata = '/home/daniu/Documentos/fundar/indice-mercado-trabajo-ingresos/'\n",
    "pathdata = '/home/daniufundar/Documents/Fundar/indice-mercado-trabajo-ingresos/'\n",
    "pathdata = '/Users/danielarisaro/Documents/Fundar/indice-mercado-trabajo-ingresos/'\n"
   ]
  },
  {
   "cell_type": "code",
   "execution_count": 31,
   "metadata": {},
   "outputs": [],
   "source": [
    "with open(pathdata + 'modulos/diccionarios/' + 'diccionario_aglomerados.pickle', 'rb') as file:\n",
    "    dict_cod_aglomerado = pickle.load(file)\n",
    "\n",
    "with open(pathdata + 'modulos/diccionarios/' + 'diccionario_provincia.pickle', 'rb') as file:\n",
    "    dict_cod_provincia = pickle.load(file)\n",
    "\n",
    "with open(pathdata + 'modulos/diccionarios/' + 'diccionario_aglomerado_provincia.pickle', 'rb') as file:\n",
    "    map_aglomerado_provincia = pickle.load(file)\n",
    "\n",
    "with open(pathdata + 'modulos/diccionarios/' + 'diccionario_aglomerado_region.pickle', 'rb') as file:\n",
    "    map_aglomerado_region = pickle.load(file)\n",
    "\n",
    "with open(pathdata + 'modulos/diccionarios/' + 'diccionario_provincia_region.pickle', 'rb') as file:\n",
    "    map_provincia_region = pickle.load(file)"
   ]
  },
  {
   "cell_type": "code",
   "execution_count": 27,
   "metadata": {},
   "outputs": [],
   "source": [
    "df_CBT = pd.read_csv(pathdata + 'data_output/Canasta_Basica_Total_Regiones_2016-2022-promedios-moviles.csv', delimiter=',', header=0, index_col=[0])\n",
    "df_adultos_equiv = pd.read_csv(pathdata + 'data_input/canastas_basicas/adultos_equivalente.csv')\n",
    "\n",
    "def capitalize_first_letter(s):\n",
    "    return s.capitalize()\n",
    "\n",
    "df_CBT = df_CBT.rename(columns=capitalize_first_letter)\n",
    "df_CBT.rename(columns={'Gran_buenos_aires':'Gran Buenos Aires'}, inplace=True)"
   ]
  },
  {
   "cell_type": "code",
   "execution_count": 4,
   "metadata": {},
   "outputs": [],
   "source": [
    "# archivos_people_aglomerados = ['personas_T121.txt', 'personas_T221.txt', \n",
    "#                                'personas_T321.txt', 'personas_T421.txt', \n",
    "#                                'personas_T122.txt', 'personas_T222.txt', \n",
    "#                                'personas_T322.txt', 'personas_T422.txt']\n",
    "\n",
    "# fechas_trimestrales = pd.date_range(start='2021-01-01', end='2022-12-31', freq='QS')\n",
    "# lista_df_insercion = []\n",
    "\n",
    "# for archivo in archivos_people_aglomerados:\n",
    "    \n",
    "#     df = pd.read_csv(pathdata + 'data_input/' + archivo, delimiter=';', low_memory=False)\n",
    "    \n",
    "#     df_insercion = calcular_insercion_laboral(df, dict_cod_aglomerado, tipo='Aglomerado', base='Individual', confidence_level=0.95, pool=False)\n",
    "#     df_insercion['PROVINCIA'] = df_insercion.index.map(map_aglomerado_provincia)\n",
    "#     df_insercion_provincias = df_insercion.groupby('PROVINCIA').mean()\n",
    "\n",
    "#     lista_df_insercion.append(df_insercion_provincias)    \n",
    "\n",
    "# dict_dfs_insercion_aglomerado = dict(zip(fechas_trimestrales, lista_df_insercion))"
   ]
  },
  {
   "cell_type": "code",
   "execution_count": 5,
   "metadata": {},
   "outputs": [],
   "source": [
    "# archivos_people_tot_urbano = ['personas_tot_urb_3T_21.txt', \n",
    "#                                 'personas_tot_urb_3T_22.txt']\n",
    "\n",
    "# fechas_tot_urb = pd.date_range(start='2021-07-01', end='2022-12-31', freq='AS-JUL')\n",
    "# lista_df_insercion = []\n",
    "\n",
    "# for archivo in archivos_people_tot_urbano:\n",
    "    \n",
    "#     df = pd.read_csv(pathdata + 'data_input/' + archivo, delimiter=';', low_memory=False)\n",
    "    \n",
    "#     df_insercion = calcular_insercion_laboral(df, dict_cod_provincia, tipo='Urbano', base='Individual', confidence_level=0.95, pool=False)\n",
    "\n",
    "#     lista_df_insercion.append(df_insercion)    \n",
    "\n",
    "# dict_dfs_insercion_urbano = dict(zip(fechas_tot_urb, lista_df_insercion))"
   ]
  },
  {
   "cell_type": "code",
   "execution_count": 6,
   "metadata": {},
   "outputs": [],
   "source": [
    "# with open(pathdata + 'data_output/' + 'diccionario_insercion_laboral_aglomerados.pickle', 'wb') as file:\n",
    "#     pickle.dump(dict_dfs_insercion_aglomerado, file)\n",
    "\n",
    "# with open(pathdata + 'data_output/' + 'diccionario_insercion_laboral_urbano.pickle', 'wb') as file:\n",
    "#     pickle.dump(dict_dfs_insercion_urbano, file)\n",
    "\n"
   ]
  },
  {
   "cell_type": "code",
   "execution_count": 28,
   "metadata": {},
   "outputs": [],
   "source": [
    "df_people_pool = pd.read_csv(pathdata + 'data_output/Base_pool_individuos_solo_con_replicas_actuales.csv', low_memory=False, index_col=0)\n",
    "df_houses_pool = pd.read_csv(pathdata + 'data_output/Base_pool_hogares_solo_con_replicas_actuales.csv', low_memory=False, index_col=0)\n"
   ]
  },
  {
   "cell_type": "code",
   "execution_count": 7,
   "metadata": {},
   "outputs": [],
   "source": [
    "df_insercion_pool = calcular_insercion_laboral(df_people_pool, dict_cod_provincia, tipo='Urbano', base='Individual', confidence_level=0.95, pool=True)\n",
    "ratio_actividad, empleo_asalariado_con_descuento, horas_remuneradas_media, ingreso_salarial_media = \\\n",
    "    indicadores_insercion_laboral(df_people_pool, dict_cod_provincia, tipo='Urbano', base='Individual', confidence_level=0.95, pool=True)\n",
    "df_insercion_pool.to_pickle(pathdata + 'data_output/df_insercion_laboral_pool.pickle')"
   ]
  },
  {
   "cell_type": "code",
   "execution_count": 29,
   "metadata": {},
   "outputs": [],
   "source": [
    "%run /Users/danielarisaro/Documents/Fundar/indice-mercado-trabajo-ingresos/modulos/funciones/02_funciones_autonomia_economica.ipynb\n"
   ]
  },
  {
   "cell_type": "code",
   "execution_count": 38,
   "metadata": {},
   "outputs": [],
   "source": [
    "tasa, size, ratio, error = poblacion_inactiva_con_ingresos(df_people_pool, tipo='Urbano', base='Individual', confidence_level=0.95, pool=True)\n",
    "inactivos_con_ingreso = pd.concat([tasa, size, ratio, error], axis=1)\n",
    "\n",
    "inactivos_con_ingreso.index = inactivos_con_ingreso.index.map(dict_cod_provincia)"
   ]
  },
  {
   "cell_type": "code",
   "execution_count": 32,
   "metadata": {},
   "outputs": [],
   "source": [
    "hogares_jefatura = ratio_no_pobreza(df_people_pool, df_houses_pool, df_CBT, df_adultos_equiv, dict_cod_provincia, map_provincia_region)"
   ]
  },
  {
   "cell_type": "code",
   "execution_count": 44,
   "metadata": {},
   "outputs": [],
   "source": [
    "ratio_actividad.to_csv(pathdata + 'data_output/indicadores/01_ratio_actividad.csv')\n",
    "empleo_asalariado_con_descuento.to_csv(pathdata + 'data_output/indicadores/02_empleo_asalariado_con_descuento.csv')\n",
    "horas_remuneradas_media.to_csv(pathdata + 'data_output/indicadores/03_horas_promedio_ocup_ppal.csv')\n",
    "ingreso_salarial_media.to_csv(pathdata + 'data_output/indicadores/04_ingreso_salarial.csv')\n",
    "inactivos_con_ingreso.to_csv(pathdata + 'data_output/indicadores/06_dependencia_economica.csv')\n",
    "hogares_jefatura.to_csv(pathdata + 'data_output/indicadores/07_hogares_no-pobres_jefatura.csv')"
   ]
  }
 ],
 "metadata": {
  "kernelspec": {
   "display_name": "Python 3.9.12 ('pyenv')",
   "language": "python",
   "name": "python3"
  },
  "language_info": {
   "codemirror_mode": {
    "name": "ipython",
    "version": 3
   },
   "file_extension": ".py",
   "mimetype": "text/x-python",
   "name": "python",
   "nbconvert_exporter": "python",
   "pygments_lexer": "ipython3",
   "version": "3.9.12"
  },
  "orig_nbformat": 4,
  "vscode": {
   "interpreter": {
    "hash": "509f5cbefa0cafc10dc1461472345186404cff510fb444dcb85013f09977a5b7"
   }
  }
 },
 "nbformat": 4,
 "nbformat_minor": 2
}
