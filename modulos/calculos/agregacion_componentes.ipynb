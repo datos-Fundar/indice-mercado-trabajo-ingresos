{
 "cells": [
  {
   "cell_type": "code",
   "execution_count": 18,
   "metadata": {},
   "outputs": [],
   "source": [
    "import pandas as pd\n",
    "import numpy as np"
   ]
  },
  {
   "cell_type": "code",
   "execution_count": 2,
   "metadata": {},
   "outputs": [],
   "source": [
    "# Definimos path\n",
    "pathdata = '/home/daniu/Documentos/fundar/indice-mercado-trabajo-ingresos/'\n",
    "pathdata = '/Users/danielarisaro/Documents/Fundar/indice-mercado-trabajo-ingresos/'\n",
    "pathdata = '/home/daniufundar/Documents/Fundar/indice-mercado-trabajo-ingresos/'\n"
   ]
  },
  {
   "cell_type": "code",
   "execution_count": 3,
   "metadata": {},
   "outputs": [],
   "source": [
    "ratio_actividad = pd.read_csv(pathdata + 'data_output/indicadores/01_ratio_actividad.csv', index_col=0)\n",
    "empleo_asalariado_con_descuento = pd.read_csv(pathdata + 'data_output/indicadores/02_empleo_asalariado_con_descuento.csv', index_col=0)\n",
    "horas_remuneradas_media = pd.read_csv(pathdata + 'data_output/indicadores/03_horas_promedio_ocup_ppal.csv', index_col=0)\n",
    "ingreso_salarial_media = pd.read_csv(pathdata + 'data_output/indicadores/04_ingreso_salarial.csv', index_col=0)\n",
    "ratio_minutos_promedio_no_pago = pd.read_csv(pathdata + 'data_output/indicadores/05_tiempo_no_remunerado.csv', index_col=0)\n",
    "inactivos_con_ingreso = pd.read_csv(pathdata + 'data_output/indicadores/06_dependencia_economica.csv', index_col=0)\n",
    "hogares_jefatura = pd.read_csv(pathdata + 'data_output/indicadores/07_hogares_no-pobres_jefatura.csv', index_col=0)\n"
   ]
  },
  {
   "cell_type": "code",
   "execution_count": null,
   "metadata": {},
   "outputs": [],
   "source": [
    "ratio_actividad['Actividad']"
   ]
  },
  {
   "cell_type": "code",
   "execution_count": 20,
   "metadata": {},
   "outputs": [],
   "source": [
    "empleo_asalariado_con_descuento['Formalidad'] = np.where(empleo_asalariado_con_descuento['Formalidad'] > 100, 100, empleo_asalariado_con_descuento['Formalidad'])\n"
   ]
  },
  {
   "cell_type": "code",
   "execution_count": null,
   "metadata": {},
   "outputs": [],
   "source": [
    "horas_remuneradas_media['Horas promedio remuneradas']"
   ]
  },
  {
   "cell_type": "code",
   "execution_count": null,
   "metadata": {},
   "outputs": [],
   "source": [
    "ingreso_salarial_media['Ingreso laboral promedio']"
   ]
  },
  {
   "cell_type": "code",
   "execution_count": 25,
   "metadata": {},
   "outputs": [],
   "source": [
    "componente_insercion = (ratio_actividad['Actividad'] + \\\n",
    "                        empleo_asalariado_con_descuento['Formalidad'] + \\\n",
    "                            horas_remuneradas_media['Horas promedio remuneradas'] + \\\n",
    "                                ingreso_salarial_media['Ingreso laboral promedio'])/4"
   ]
  },
  {
   "cell_type": "code",
   "execution_count": 26,
   "metadata": {},
   "outputs": [
    {
     "data": {
      "text/plain": [
       "PROVINCIA\n",
       "Entre Ríos             73.023648\n",
       "Chubut                 75.451018\n",
       "Salta                  75.586026\n",
       "Tucumán                75.862728\n",
       "Mendoza                75.907342\n",
       "La Pampa               76.254881\n",
       "Misiones               76.313930\n",
       "Córdoba                76.515923\n",
       "Santiago del Estero    76.629180\n",
       "Santa Fe               77.546020\n",
       "San Juan               78.052047\n",
       "San Luis               78.207473\n",
       "Neuquén                78.354920\n",
       "Buenos Aires           78.744258\n",
       "Santa Cruz             79.694874\n",
       "Jujuy                  79.870686\n",
       "Formosa                80.092695\n",
       "Chaco                  80.591689\n",
       "Corrientes             81.283037\n",
       "Catamarca              83.333133\n",
       "Río Negro              83.688890\n",
       "La Rioja               84.043175\n",
       "CABA                   85.561153\n",
       "TdF                    86.002104\n",
       "dtype: float64"
      ]
     },
     "execution_count": 26,
     "metadata": {},
     "output_type": "execute_result"
    }
   ],
   "source": [
    "componente_insercion.sort_values()"
   ]
  },
  {
   "cell_type": "code",
   "execution_count": 6,
   "metadata": {},
   "outputs": [
    {
     "data": {
      "text/plain": [
       "REGION\n",
       "Gran Buenos Aires    50.258749\n",
       "Pampeana             56.538262\n",
       "Noroeste             40.310240\n",
       "Noreste              47.925964\n",
       "Cuyo                 47.431116\n",
       "Patagonia            54.229658\n",
       "Name: Tiempo TNR, dtype: float64"
      ]
     },
     "execution_count": 6,
     "metadata": {},
     "output_type": "execute_result"
    }
   ],
   "source": [
    "ratio_minutos_promedio_no_pago['Tiempo TNR']"
   ]
  },
  {
   "cell_type": "code",
   "execution_count": null,
   "metadata": {},
   "outputs": [],
   "source": [
    "inactivos_con_ingreso['Dependencia']"
   ]
  },
  {
   "cell_type": "code",
   "execution_count": null,
   "metadata": {},
   "outputs": [],
   "source": [
    "hogares_jefatura['No Pobreza']"
   ]
  },
  {
   "cell_type": "code",
   "execution_count": null,
   "metadata": {},
   "outputs": [],
   "source": []
  }
 ],
 "metadata": {
  "kernelspec": {
   "display_name": "indice_genero_env",
   "language": "python",
   "name": "python3"
  },
  "language_info": {
   "codemirror_mode": {
    "name": "ipython",
    "version": 3
   },
   "file_extension": ".py",
   "mimetype": "text/x-python",
   "name": "python",
   "nbconvert_exporter": "python",
   "pygments_lexer": "ipython3",
   "version": "3.9.15"
  },
  "orig_nbformat": 4
 },
 "nbformat": 4,
 "nbformat_minor": 2
}
