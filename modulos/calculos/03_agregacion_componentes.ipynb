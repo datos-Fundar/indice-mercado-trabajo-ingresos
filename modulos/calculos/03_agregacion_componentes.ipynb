{
 "cells": [
  {
   "cell_type": "code",
   "execution_count": 1,
   "metadata": {},
   "outputs": [],
   "source": [
    "import pandas as pd\n",
    "import numpy as np"
   ]
  },
  {
   "cell_type": "code",
   "execution_count": 2,
   "metadata": {},
   "outputs": [],
   "source": [
    "# Definimos path\n",
    "pathdata = '/home/daniu/Documentos/fundar/indice-mercado-trabajo-ingresos/'\n",
    "pathdata = '/Users/danielarisaro/Documents/Fundar/indice-mercado-trabajo-ingresos/'\n",
    "pathdata = '/home/daniufundar/Documents/Fundar/indice-mercado-trabajo-ingresos/'\n"
   ]
  },
  {
   "cell_type": "code",
   "execution_count": 3,
   "metadata": {},
   "outputs": [],
   "source": [
    "ratio_actividad = pd.read_csv(pathdata + 'data_output/indicadores/01_ratio_actividad.csv', index_col=0)\n",
    "empleo_asalariado_con_descuento = pd.read_csv(pathdata + 'data_output/indicadores/02_empleo_asalariado_con_descuento.csv', index_col=0)\n",
    "horas_remuneradas_media = pd.read_csv(pathdata + 'data_output/indicadores/03_horas_promedio_ocup_ppal.csv', index_col=0)\n",
    "ingreso_salarial_media = pd.read_csv(pathdata + 'data_output/indicadores/04_ingreso_salarial.csv', index_col=0)\n",
    "ratio_minutos_promedio_no_pago = pd.read_csv(pathdata + 'data_output/indicadores/05_tiempo_no_remunerado.csv', index_col=0)\n",
    "inactivos_con_ingreso = pd.read_csv(pathdata + 'data_output/indicadores/06_dependencia_economica.csv', index_col=0)\n",
    "hogares_jefatura = pd.read_csv(pathdata + 'data_output/indicadores/07_hogares_no-pobres_jefatura.csv', index_col=0)"
   ]
  },
  {
   "cell_type": "code",
   "execution_count": 4,
   "metadata": {},
   "outputs": [],
   "source": [
    "ratio_actividad = ratio_actividad.sort_index()\n",
    "empleo_asalariado_con_descuento = empleo_asalariado_con_descuento.sort_index()\n",
    "horas_remuneradas_media = horas_remuneradas_media.sort_index()\n",
    "ingreso_salarial_media = ingreso_salarial_media.sort_index()\n",
    "ratio_minutos_promedio_no_pago = ratio_minutos_promedio_no_pago.sort_index()\n",
    "inactivos_con_ingreso = inactivos_con_ingreso.sort_index()\n",
    "hogares_jefatura = hogares_jefatura.sort_index()\n"
   ]
  },
  {
   "cell_type": "code",
   "execution_count": 5,
   "metadata": {},
   "outputs": [
    {
     "name": "stdout",
     "output_type": "stream",
     "text": [
      "Los índices están ordenados de la misma manera: True\n"
     ]
    }
   ],
   "source": [
    "variables = [ratio_actividad, empleo_asalariado_con_descuento, horas_remuneradas_media, ingreso_salarial_media, ratio_minutos_promedio_no_pago, inactivos_con_ingreso, hogares_jefatura]\n",
    "\n",
    "indices_ordenados = True\n",
    "\n",
    "# Compara los índices de los DataFrames en un bucle\n",
    "for i in range(len(variables) - 1):\n",
    "    if not variables[i].index.equals(variables[i + 1].index):\n",
    "        indices_ordenados = False\n",
    "        break\n",
    "\n",
    "# Imprime el resultado\n",
    "print(\"Los índices están ordenados de la misma manera:\", indices_ordenados)"
   ]
  },
  {
   "cell_type": "code",
   "execution_count": 6,
   "metadata": {},
   "outputs": [],
   "source": [
    "variables = [ratio_actividad, empleo_asalariado_con_descuento, horas_remuneradas_media, ingreso_salarial_media, ratio_minutos_promedio_no_pago, inactivos_con_ingreso, hogares_jefatura]\n",
    "columnas = ['Actividad', 'Formalidad', 'Horas promedio remuneradas', 'Ingreso laboral promedio', 'Tiempo TNR', 'Dependencia', 'No Pobreza']\n",
    "\n",
    "for columna, variable in zip(columnas,variables):\n",
    "    variable[columna] = np.where(variable[columna] > 100, 100, variable[columna])\n",
    "    variable['Ranking'] = variable[columna].rank(ascending=False, method='first')\n"
   ]
  },
  {
   "cell_type": "code",
   "execution_count": 7,
   "metadata": {},
   "outputs": [],
   "source": [
    "componente_insercion = (ratio_actividad['Actividad'] + \\\n",
    "                        empleo_asalariado_con_descuento['Formalidad'] + \\\n",
    "                        horas_remuneradas_media['Horas promedio remuneradas'] + \\\n",
    "                        ingreso_salarial_media['Ingreso laboral promedio'])/4\n",
    "\n",
    "componente_insercion = componente_insercion.to_frame()\n",
    "componente_insercion.columns = ['Insercion laboral']\n",
    "componente_insercion['Ranking'] = componente_insercion['Insercion laboral'].rank(ascending=False, method='first')"
   ]
  },
  {
   "cell_type": "code",
   "execution_count": 8,
   "metadata": {},
   "outputs": [],
   "source": [
    "componente_autonomia_economica = (ratio_minutos_promedio_no_pago['Tiempo TNR'] + \\\n",
    "                                inactivos_con_ingreso['Dependencia'] + \\\n",
    "                                hogares_jefatura['No Pobreza'])/3\n",
    "\n",
    "componente_autonomia_economica = componente_autonomia_economica.to_frame()\n",
    "componente_autonomia_economica.columns = ['Autonomia economica']\n",
    "componente_autonomia_economica['Ranking'] = componente_autonomia_economica['Autonomia economica'].rank(ascending=False, method='first')"
   ]
  },
  {
   "cell_type": "code",
   "execution_count": 9,
   "metadata": {},
   "outputs": [],
   "source": [
    "indice_mti = np.sqrt(componente_autonomia_economica['Autonomia economica'] * componente_insercion['Insercion laboral']).to_frame()\n",
    "indice_mti.columns = ['Indice MTeI']\n",
    "indice_mti['Ranking'] = indice_mti['Indice MTeI'].rank(ascending=False, method='first')"
   ]
  },
  {
   "cell_type": "code",
   "execution_count": 25,
   "metadata": {},
   "outputs": [],
   "source": [
    "## Genero Tabla resumen\n",
    "labels_variables_todas = ['Actividad', 'Formalidad', 'Horas promedio remuneradas', 'Ingreso laboral promedio',\n",
    "                  'Tiempo TNR', 'Dependencia', 'No Pobreza',\n",
    "                  'Insercion laboral', 'Autonomia economica', 'Indice MTeI']\n",
    "\n",
    "columnas = ['Media', 'Desvio estandar', 'Minimo', 'Maximo', 'Rango']\n",
    "\n",
    "variables_todas = [ratio_actividad, empleo_asalariado_con_descuento, horas_remuneradas_media, \\\n",
    "                    ingreso_salarial_media, ratio_minutos_promedio_no_pago, inactivos_con_ingreso, \\\n",
    "                        hogares_jefatura, componente_insercion, componente_autonomia_economica, indice_mti]\n",
    "\n",
    "df_tabla_resumen = pd.DataFrame(index=labels_variables_todas, columns=columnas)\n"
   ]
  },
  {
   "cell_type": "code",
   "execution_count": 26,
   "metadata": {},
   "outputs": [],
   "source": [
    "\n",
    "for i, idf in enumerate(variables_todas):\n",
    "    icolumna = labels_variables_todas[i]\n",
    "    imedia = idf[icolumna].mean()\n",
    "    istd = idf[icolumna].std()\n",
    "    imin = idf[icolumna].min() \n",
    "    imax = idf[icolumna].max()\n",
    "    irango = imax - imin\n",
    "    df_tabla_resumen.iloc[i,0] = imedia\n",
    "    df_tabla_resumen.iloc[i,1] = istd\n",
    "    df_tabla_resumen.iloc[i,2] = imin\n",
    "    df_tabla_resumen.iloc[i,3] = imax\n",
    "    df_tabla_resumen.iloc[i,4] = irango"
   ]
  },
  {
   "cell_type": "code",
   "execution_count": 31,
   "metadata": {},
   "outputs": [],
   "source": [
    "df_tabla_resumen = df_tabla_resumen.astype('float').round(2)"
   ]
  },
  {
   "cell_type": "code",
   "execution_count": null,
   "metadata": {},
   "outputs": [],
   "source": []
  },
  {
   "cell_type": "code",
   "execution_count": 34,
   "metadata": {},
   "outputs": [
    {
     "data": {
      "text/html": [
       "<div>\n",
       "<style scoped>\n",
       "    .dataframe tbody tr th:only-of-type {\n",
       "        vertical-align: middle;\n",
       "    }\n",
       "\n",
       "    .dataframe tbody tr th {\n",
       "        vertical-align: top;\n",
       "    }\n",
       "\n",
       "    .dataframe thead th {\n",
       "        text-align: right;\n",
       "    }\n",
       "</style>\n",
       "<table border=\"1\" class=\"dataframe\">\n",
       "  <thead>\n",
       "    <tr style=\"text-align: right;\">\n",
       "      <th></th>\n",
       "      <th>Media</th>\n",
       "      <th>Desvio estandar</th>\n",
       "      <th>Minimo</th>\n",
       "      <th>Maximo</th>\n",
       "      <th>Rango</th>\n",
       "    </tr>\n",
       "  </thead>\n",
       "  <tbody>\n",
       "    <tr>\n",
       "      <th>Actividad</th>\n",
       "      <td>68.78</td>\n",
       "      <td>7.28</td>\n",
       "      <td>47.83</td>\n",
       "      <td>80.79</td>\n",
       "      <td>32.97</td>\n",
       "    </tr>\n",
       "    <tr>\n",
       "      <th>Formalidad</th>\n",
       "      <td>92.60</td>\n",
       "      <td>5.12</td>\n",
       "      <td>84.53</td>\n",
       "      <td>100.00</td>\n",
       "      <td>15.47</td>\n",
       "    </tr>\n",
       "    <tr>\n",
       "      <th>Horas promedio remuneradas</th>\n",
       "      <td>77.33</td>\n",
       "      <td>4.34</td>\n",
       "      <td>68.64</td>\n",
       "      <td>87.72</td>\n",
       "      <td>19.08</td>\n",
       "    </tr>\n",
       "    <tr>\n",
       "      <th>Ingreso laboral promedio</th>\n",
       "      <td>77.39</td>\n",
       "      <td>7.29</td>\n",
       "      <td>65.82</td>\n",
       "      <td>89.63</td>\n",
       "      <td>23.81</td>\n",
       "    </tr>\n",
       "    <tr>\n",
       "      <th>Tiempo TNR</th>\n",
       "      <td>48.97</td>\n",
       "      <td>6.04</td>\n",
       "      <td>40.31</td>\n",
       "      <td>56.54</td>\n",
       "      <td>16.23</td>\n",
       "    </tr>\n",
       "    <tr>\n",
       "      <th>Dependencia</th>\n",
       "      <td>90.34</td>\n",
       "      <td>7.22</td>\n",
       "      <td>77.07</td>\n",
       "      <td>100.00</td>\n",
       "      <td>22.93</td>\n",
       "    </tr>\n",
       "    <tr>\n",
       "      <th>No Pobreza</th>\n",
       "      <td>89.41</td>\n",
       "      <td>8.02</td>\n",
       "      <td>70.00</td>\n",
       "      <td>100.00</td>\n",
       "      <td>30.00</td>\n",
       "    </tr>\n",
       "    <tr>\n",
       "      <th>Insercion laboral</th>\n",
       "      <td>79.03</td>\n",
       "      <td>3.48</td>\n",
       "      <td>73.02</td>\n",
       "      <td>86.00</td>\n",
       "      <td>12.98</td>\n",
       "    </tr>\n",
       "    <tr>\n",
       "      <th>Autonomia economica</th>\n",
       "      <td>76.24</td>\n",
       "      <td>3.28</td>\n",
       "      <td>69.86</td>\n",
       "      <td>82.37</td>\n",
       "      <td>12.52</td>\n",
       "    </tr>\n",
       "    <tr>\n",
       "      <th>Indice MTeI</th>\n",
       "      <td>77.60</td>\n",
       "      <td>2.82</td>\n",
       "      <td>72.59</td>\n",
       "      <td>83.95</td>\n",
       "      <td>11.36</td>\n",
       "    </tr>\n",
       "  </tbody>\n",
       "</table>\n",
       "</div>"
      ],
      "text/plain": [
       "                            Media  Desvio estandar  Minimo  Maximo  Rango\n",
       "Actividad                   68.78             7.28   47.83   80.79  32.97\n",
       "Formalidad                  92.60             5.12   84.53  100.00  15.47\n",
       "Horas promedio remuneradas  77.33             4.34   68.64   87.72  19.08\n",
       "Ingreso laboral promedio    77.39             7.29   65.82   89.63  23.81\n",
       "Tiempo TNR                  48.97             6.04   40.31   56.54  16.23\n",
       "Dependencia                 90.34             7.22   77.07  100.00  22.93\n",
       "No Pobreza                  89.41             8.02   70.00  100.00  30.00\n",
       "Insercion laboral           79.03             3.48   73.02   86.00  12.98\n",
       "Autonomia economica         76.24             3.28   69.86   82.37  12.52\n",
       "Indice MTeI                 77.60             2.82   72.59   83.95  11.36"
      ]
     },
     "execution_count": 34,
     "metadata": {},
     "output_type": "execute_result"
    }
   ],
   "source": [
    "df_tabla_resumen.to_clipboard()"
   ]
  },
  {
   "cell_type": "code",
   "execution_count": 32,
   "metadata": {},
   "outputs": [],
   "source": [
    "## Genero tabla output"
   ]
  },
  {
   "cell_type": "code",
   "execution_count": 33,
   "metadata": {},
   "outputs": [],
   "source": [
    "provincias = indice_mti.index.to_list()\n",
    "provincia_repetidos = [value for value in provincias for _ in range(7)]\n",
    "\n",
    "componentes = ['Insercion laboral'] * 4 + ['Autonomia Economica'] * 3\n",
    "componentes_repetidos = componentes*24\n",
    "\n",
    "indicadores = ['Actividad', 'Formalidad', 'Horas trabajadas', 'Ingreso salarial',\n",
    "                  'Tiempo trabajo no remunerado', 'Dependencia economica', 'No-Pobreza']"
   ]
  },
  {
   "cell_type": "code",
   "execution_count": 34,
   "metadata": {},
   "outputs": [],
   "source": [
    "data = {\n",
    "    'Provincia': provincia_repetidos,\n",
    "    'Componente': componentes_repetidos,\n",
    "    'Indicador': indicadores*24\n",
    "}\n",
    "\n",
    "df = pd.DataFrame(data)\n",
    "\n",
    "multiindex = pd.MultiIndex.from_frame(df[['Provincia', 'Componente', 'Indicador']])\n",
    "df.set_index(multiindex, inplace=True)\n",
    "df.drop(columns=['Provincia', 'Componente', 'Indicador'], inplace=True)\n",
    "\n",
    "df[['Mujer', 'Varon', 'Ratio', 'N pob varon', 'N pob mujer', 'N pob tot', 'N varon', 'N mujer', 'CV', 'Error', 'Ranking indicador', 'Componentes', 'Ranking componente', 'Indice', 'Ranking Indice']] = pd.NaT"
   ]
  },
  {
   "cell_type": "code",
   "execution_count": 35,
   "metadata": {},
   "outputs": [],
   "source": [
    "for indicador, columna, variable in zip(indicadores, columnas, variables):\n",
    "    if indicador == 'Tiempo trabajo no remunerado':\n",
    "        values = variable[['Mujer', 'Varon', columna, 'Ranking']].values\n",
    "        df.loc[df.index.get_level_values('Indicador') == indicador, ['Mujer', 'Varon', 'Ratio', 'Ranking indicador']] = values\n",
    "\n",
    "    else:    \n",
    "        values = variable[['Mujer', 'Varon', columna, 'N_pob_v', 'N_pob_m', 'N_pob_tot', 'N_v', 'N_m', 'ER', 'ME', 'Ranking']].values\n",
    "        df.loc[df.index.get_level_values('Indicador') == indicador, ['Mujer', 'Varon', 'Ratio', 'N pob varon', 'N pob mujer', 'N pob tot', 'N varon', 'N mujer', 'CV', 'Error', 'Ranking indicador']] = values\n"
   ]
  },
  {
   "cell_type": "code",
   "execution_count": 36,
   "metadata": {},
   "outputs": [],
   "source": [
    "componente_insercion.to_csv(pathdata + 'data_output/componentes_e_indice/01_insercion_laboral.csv')\n",
    "componente_autonomia_economica.to_csv(pathdata + 'data_output/componentes_e_indice/02_insercion_autonomia_economica.csv')\n",
    "indice_mti.to_csv(pathdata + 'data_output/componentes_e_indice/01_indice_MTeI.csv')"
   ]
  },
  {
   "cell_type": "code",
   "execution_count": 66,
   "metadata": {},
   "outputs": [],
   "source": [
    "values = componente_insercion.values\n",
    "df.loc[df.index.get_level_values('Indicador') == 'Actividad', ['Componentes', 'Ranking componente']] = values"
   ]
  },
  {
   "cell_type": "code",
   "execution_count": 70,
   "metadata": {},
   "outputs": [],
   "source": [
    "values = componente_autonomia_economica.values\n",
    "df.loc[df.index.get_level_values('Indicador') == 'Tiempo trabajo no remunerado', ['Componentes', 'Ranking componente']] = values"
   ]
  },
  {
   "cell_type": "code",
   "execution_count": 73,
   "metadata": {},
   "outputs": [],
   "source": [
    "values = indice_mti.values\n",
    "df.loc[df.index.get_level_values('Indicador') == 'Actividad', ['Indice', 'Ranking Indice']] = values"
   ]
  },
  {
   "cell_type": "code",
   "execution_count": 74,
   "metadata": {},
   "outputs": [],
   "source": [
    "df.to_csv(pathdata + 'data_output/tablas/01_indicadores_principales.csv')"
   ]
  }
 ],
 "metadata": {
  "kernelspec": {
   "display_name": "Python 3.9.12 ('pyenv')",
   "language": "python",
   "name": "python3"
  },
  "language_info": {
   "codemirror_mode": {
    "name": "ipython",
    "version": 3
   },
   "file_extension": ".py",
   "mimetype": "text/x-python",
   "name": "python",
   "nbconvert_exporter": "python",
   "pygments_lexer": "ipython3",
   "version": "3.9.15"
  },
  "orig_nbformat": 4,
  "vscode": {
   "interpreter": {
    "hash": "509f5cbefa0cafc10dc1461472345186404cff510fb444dcb85013f09977a5b7"
   }
  }
 },
 "nbformat": 4,
 "nbformat_minor": 2
}
