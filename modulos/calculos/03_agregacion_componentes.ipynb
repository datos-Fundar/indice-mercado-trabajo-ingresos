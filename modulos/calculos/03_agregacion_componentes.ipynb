{
 "cells": [
  {
   "cell_type": "code",
   "execution_count": 1,
   "metadata": {},
   "outputs": [],
   "source": [
    "import pandas as pd\n",
    "import numpy as np"
   ]
  },
  {
   "cell_type": "code",
   "execution_count": 2,
   "metadata": {},
   "outputs": [],
   "source": [
    "## Definimos path\n",
    "\n",
    "pathdata = '/home/daniu/Documentos/fundar/indice-mercado-trabajo-ingresos/'\n",
    "pathdata = '/Users/danielarisaro/Documents/Fundar/indice-mercado-trabajo-ingresos/'\n",
    "pathdata = '/home/daniufundar/Documents/Fundar/indice-mercado-trabajo-ingresos/'"
   ]
  },
  {
   "cell_type": "code",
   "execution_count": 3,
   "metadata": {},
   "outputs": [],
   "source": [
    "## Cargo y ordeno los indicadores\n",
    "\n",
    "ratio_actividad = pd.read_csv(pathdata + 'data_output/indicadores/01_ratio_actividad.csv', index_col=0)\n",
    "empleo_asalariado_con_descuento = pd.read_csv(pathdata + 'data_output/indicadores/02_empleo_asalariado_con_descuento.csv', index_col=0)\n",
    "horas_remuneradas_media = pd.read_csv(pathdata + 'data_output/indicadores/03_horas_promedio_ocup_ppal.csv', index_col=0)\n",
    "ingreso_salarial_media = pd.read_csv(pathdata + 'data_output/indicadores/04_ingreso_salarial.csv', index_col=0)\n",
    "ratio_minutos_promedio_no_pago = pd.read_csv(pathdata + 'data_output/indicadores/05_tiempo_no_remunerado.csv', index_col=0)\n",
    "inactivos_con_ingreso = pd.read_csv(pathdata + 'data_output/indicadores/06_dependencia_economica.csv', index_col=0)\n",
    "hogares_jefatura = pd.read_csv(pathdata + 'data_output/indicadores/07_hogares_no-pobres_jefatura.csv', index_col=0)\n",
    "\n",
    "ratio_actividad = ratio_actividad.sort_index()\n",
    "empleo_asalariado_con_descuento = empleo_asalariado_con_descuento.sort_index()\n",
    "horas_remuneradas_media = horas_remuneradas_media.sort_index()\n",
    "ingreso_salarial_media = ingreso_salarial_media.sort_index()\n",
    "ratio_minutos_promedio_no_pago = ratio_minutos_promedio_no_pago.sort_index()\n",
    "inactivos_con_ingreso = inactivos_con_ingreso.sort_index()\n",
    "hogares_jefatura = hogares_jefatura.sort_index()\n"
   ]
  },
  {
   "cell_type": "code",
   "execution_count": 4,
   "metadata": {},
   "outputs": [
    {
     "name": "stdout",
     "output_type": "stream",
     "text": [
      "Los índices están ordenados de la misma manera: True\n"
     ]
    }
   ],
   "source": [
    "## Chequeo que todos los indicadores tengan ordenados los indices\n",
    "\n",
    "variables = [ratio_actividad, empleo_asalariado_con_descuento, horas_remuneradas_media, ingreso_salarial_media, ratio_minutos_promedio_no_pago, inactivos_con_ingreso, hogares_jefatura]\n",
    "\n",
    "indices_ordenados = True\n",
    "\n",
    "for i in range(len(variables) - 1):\n",
    "    if not variables[i].index.equals(variables[i + 1].index):\n",
    "        indices_ordenados = False\n",
    "        break\n",
    "\n",
    "print(\"Los índices están ordenados de la misma manera:\", indices_ordenados)"
   ]
  },
  {
   "cell_type": "code",
   "execution_count": 5,
   "metadata": {},
   "outputs": [],
   "source": [
    "## Trunco y calculo el ranking de los indicadores\n",
    "\n",
    "variables = [ratio_actividad, empleo_asalariado_con_descuento, horas_remuneradas_media, ingreso_salarial_media, ratio_minutos_promedio_no_pago, inactivos_con_ingreso, hogares_jefatura]\n",
    "columnas = ['Actividad', 'Formalidad', 'Horas promedio remuneradas', 'Ingreso laboral promedio', 'Tiempo TNR', 'Dependencia', 'No Pobreza']\n",
    "\n",
    "for columna, variable in zip(columnas,variables):\n",
    "    variable[columna] = np.where(variable[columna] > 100, 100, variable[columna])\n",
    "    variable['Ranking'] = variable[columna].rank(ascending=False, method='first')\n"
   ]
  },
  {
   "cell_type": "code",
   "execution_count": 6,
   "metadata": {},
   "outputs": [],
   "source": [
    "## Agrego componentes e indice\n",
    "\n",
    "componente_insercion = (ratio_actividad['Actividad'] + \\\n",
    "                        empleo_asalariado_con_descuento['Formalidad'] + \\\n",
    "                        horas_remuneradas_media['Horas promedio remuneradas'] + \\\n",
    "                        ingreso_salarial_media['Ingreso laboral promedio'])/4\n",
    "\n",
    "componente_insercion = componente_insercion.to_frame()\n",
    "componente_insercion.columns = ['Insercion laboral']\n",
    "componente_insercion['Ranking'] = componente_insercion['Insercion laboral'].rank(ascending=False, method='first')\n",
    "\n",
    "componente_autonomia_economica = (ratio_minutos_promedio_no_pago['Tiempo TNR'] + \\\n",
    "                                inactivos_con_ingreso['Dependencia'] + \\\n",
    "                                hogares_jefatura['No Pobreza'])/3\n",
    "\n",
    "componente_autonomia_economica = componente_autonomia_economica.to_frame()\n",
    "componente_autonomia_economica.columns = ['Autonomia economica']\n",
    "componente_autonomia_economica['Ranking'] = componente_autonomia_economica['Autonomia economica'].rank(ascending=False, method='first')\n",
    "\n",
    "indice_mti = np.sqrt(componente_autonomia_economica['Autonomia economica'] * componente_insercion['Insercion laboral']).to_frame()\n",
    "indice_mti.columns = ['Indice MTeI']\n",
    "indice_mti['Ranking'] = indice_mti['Indice MTeI'].rank(ascending=False, method='first')"
   ]
  },
  {
   "cell_type": "code",
   "execution_count": 7,
   "metadata": {},
   "outputs": [],
   "source": [
    "## Genero tabla resumen de medias, desvio, maximo, minimo y rango para cada variable\n",
    "\n",
    "labels_variables_todas = ['Actividad', 'Formalidad', 'Horas promedio remuneradas', 'Ingreso laboral promedio',\n",
    "                  'Tiempo TNR', 'Dependencia', 'No Pobreza',\n",
    "                  'Insercion laboral', 'Autonomia economica', 'Indice MTeI']\n",
    "\n",
    "columnas = ['Media', 'Desvio estandar', 'Minimo', 'Maximo', 'Rango']\n",
    "\n",
    "variables_todas = [ratio_actividad, empleo_asalariado_con_descuento, horas_remuneradas_media, \\\n",
    "                    ingreso_salarial_media, ratio_minutos_promedio_no_pago, inactivos_con_ingreso, \\\n",
    "                        hogares_jefatura, componente_insercion, componente_autonomia_economica, indice_mti]\n",
    "\n",
    "df_tabla_resumen = pd.DataFrame(index=labels_variables_todas, columns=columnas)\n",
    "\n",
    "for i, idf in enumerate(variables_todas):\n",
    "    icolumna = labels_variables_todas[i]\n",
    "    imedia = idf[icolumna].mean()\n",
    "    istd = idf[icolumna].std()\n",
    "    imin = idf[icolumna].min() \n",
    "    imax = idf[icolumna].max()\n",
    "    irango = imax - imin\n",
    "    df_tabla_resumen.iloc[i,0] = imedia\n",
    "    df_tabla_resumen.iloc[i,1] = istd\n",
    "    df_tabla_resumen.iloc[i,2] = imin\n",
    "    df_tabla_resumen.iloc[i,3] = imax\n",
    "    df_tabla_resumen.iloc[i,4] = irango\n",
    "\n",
    "df_tabla_resumen = df_tabla_resumen.astype('float').round(2)"
   ]
  },
  {
   "cell_type": "code",
   "execution_count": 8,
   "metadata": {},
   "outputs": [],
   "source": [
    "## Genero tabla output con todos los indicadores, componentes e indice general.\n",
    "\n",
    "columnas = ['Actividad', 'Formalidad', 'Horas promedio remuneradas', 'Ingreso laboral promedio', 'Tiempo TNR', 'Dependencia', 'No Pobreza']\n",
    "\n",
    "provincias = indice_mti.index.to_list()\n",
    "provincia_repetidos = [value for value in provincias for _ in range(7)]\n",
    "\n",
    "componentes = ['Insercion laboral'] * 4 + ['Autonomia Economica'] * 3\n",
    "componentes_repetidos = componentes*24\n",
    "\n",
    "indicadores = ['Actividad', 'Formalidad', 'Horas trabajadas', 'Ingreso salarial',\n",
    "                  'Tiempo trabajo no remunerado', 'Dependencia economica', 'No-Pobreza']\n",
    "\n",
    "data = {\n",
    "    'Provincia': provincia_repetidos,\n",
    "    'Componente': componentes_repetidos,\n",
    "    'Indicador': indicadores*24\n",
    "}\n",
    "\n",
    "df = pd.DataFrame(data)\n",
    "\n",
    "multiindex = pd.MultiIndex.from_frame(df[['Provincia', 'Componente', 'Indicador']])\n",
    "df.set_index(multiindex, inplace=True)\n",
    "df.drop(columns=['Provincia', 'Componente', 'Indicador'], inplace=True)\n",
    "\n",
    "df[['Mujer', 'Varon', 'Ratio', 'N pob varon', 'N pob mujer', 'N pob tot', 'N varon', 'N mujer', 'CV', 'Error', 'Ranking indicador', 'Componentes', 'Ranking componente', 'Indice', 'Ranking Indice']] = pd.NaT\n",
    "\n",
    "for indicador, columna, variable in zip(indicadores, columnas, variables):\n",
    "    if indicador == 'Tiempo trabajo no remunerado':\n",
    "        values = variable[['Mujer', 'Varon', columna, 'Ranking']].values\n",
    "        df.loc[df.index.get_level_values('Indicador') == indicador, ['Mujer', 'Varon', 'Ratio', 'Ranking indicador']] = values\n",
    "\n",
    "    else:    \n",
    "        values = variable[['Mujer', 'Varon', columna, 'N_pob_v', 'N_pob_m', 'N_pob_tot', 'N_v', 'N_m', 'ER', 'ME', 'Ranking']].values\n",
    "        df.loc[df.index.get_level_values('Indicador') == indicador, ['Mujer', 'Varon', 'Ratio', 'N pob varon', 'N pob mujer', 'N pob tot', 'N varon', 'N mujer', 'CV', 'Error', 'Ranking indicador']] = values\n",
    "\n",
    "values = componente_insercion.values\n",
    "df.loc[df.index.get_level_values('Indicador') == 'Actividad', ['Componentes', 'Ranking componente']] = values\n",
    "\n",
    "values = componente_autonomia_economica.values\n",
    "df.loc[df.index.get_level_values('Indicador') == 'Tiempo trabajo no remunerado', ['Componentes', 'Ranking componente']] = values\n",
    "\n",
    "values = indice_mti.values\n",
    "df.loc[df.index.get_level_values('Indicador') == 'Actividad', ['Indice', 'Ranking Indice']] = values"
   ]
  },
  {
   "cell_type": "code",
   "execution_count": 17,
   "metadata": {},
   "outputs": [],
   "source": [
    "## Exporto archivos .csv\n",
    "\n",
    "df.to_csv(pathdata + 'data_output/tablas/01_indicadores_principales.csv')\n",
    "componente_insercion.to_csv(pathdata + 'data_output/componentes_e_indice/01_insercion_laboral.csv')\n",
    "componente_autonomia_economica.to_csv(pathdata + 'data_output/componentes_e_indice/02_insercion_autonomia_economica.csv')\n",
    "indice_mti.to_csv(pathdata + 'data_output/componentes_e_indice/01_indice_MTeI.csv')"
   ]
  },
  {
   "cell_type": "code",
   "execution_count": 22,
   "metadata": {},
   "outputs": [
    {
     "data": {
      "text/plain": [
       "PROVINCIA\n",
       "Buenos Aires            6.709881\n",
       "CABA                    3.724714\n",
       "Catamarca               4.072318\n",
       "Chaco                  -1.340546\n",
       "Chubut                  3.385774\n",
       "Corrientes              5.341476\n",
       "Córdoba                 3.690962\n",
       "Entre Ríos              1.179301\n",
       "Formosa                 2.158276\n",
       "Jujuy                   5.288225\n",
       "La Pampa               -5.042536\n",
       "La Rioja               14.126083\n",
       "Mendoza                 2.397884\n",
       "Misiones                6.189315\n",
       "Neuquén                10.843467\n",
       "Río Negro               9.483248\n",
       "Salta                  -1.205953\n",
       "San Juan                1.384838\n",
       "San Luis                1.303652\n",
       "Santa Cruz              0.027383\n",
       "Santa Fe               -1.659965\n",
       "Santiago del Estero    -0.262960\n",
       "TdF                    10.346276\n",
       "Tucumán                -0.065086\n",
       "dtype: float64"
      ]
     },
     "execution_count": 22,
     "metadata": {},
     "output_type": "execute_result"
    }
   ],
   "source": [
    "(componente_insercion['Insercion laboral'] - componente_autonomia_economica['Autonomia economica']) / componente_insercion['Insercion laboral'] *100"
   ]
  },
  {
   "cell_type": "code",
   "execution_count": null,
   "metadata": {},
   "outputs": [],
   "source": [
    "print((ratio_minutos_promedio_no_pago[['Varon', 'Mujer']].max()-ratio_minutos_promedio_no_pago[['Varon', 'Mujer']].min()).round(1))"
   ]
  },
  {
   "cell_type": "code",
   "execution_count": 14,
   "metadata": {},
   "outputs": [
    {
     "name": "stdout",
     "output_type": "stream",
     "text": [
      "Varon    40.7\n",
      "Mujer    38.2\n",
      "dtype: float64\n"
     ]
    }
   ],
   "source": [
    "print((ratio_minutos_promedio_no_pago[['Varon', 'Mujer']].max()-ratio_minutos_promedio_no_pago[['Varon', 'Mujer']].min()).round(1))"
   ]
  },
  {
   "cell_type": "code",
   "execution_count": 22,
   "metadata": {},
   "outputs": [
    {
     "data": {
      "text/html": [
       "<div>\n",
       "<style scoped>\n",
       "    .dataframe tbody tr th:only-of-type {\n",
       "        vertical-align: middle;\n",
       "    }\n",
       "\n",
       "    .dataframe tbody tr th {\n",
       "        vertical-align: top;\n",
       "    }\n",
       "\n",
       "    .dataframe thead th {\n",
       "        text-align: right;\n",
       "    }\n",
       "</style>\n",
       "<table border=\"1\" class=\"dataframe\">\n",
       "  <thead>\n",
       "    <tr style=\"text-align: right;\">\n",
       "      <th></th>\n",
       "      <th>Insercion laboral</th>\n",
       "      <th>Mujer</th>\n",
       "    </tr>\n",
       "    <tr>\n",
       "      <th>PROVINCIA</th>\n",
       "      <th></th>\n",
       "      <th></th>\n",
       "    </tr>\n",
       "  </thead>\n",
       "  <tbody>\n",
       "    <tr>\n",
       "      <th>Formosa</th>\n",
       "      <td>80.093027</td>\n",
       "      <td>27.964823</td>\n",
       "    </tr>\n",
       "    <tr>\n",
       "      <th>Santiago del Estero</th>\n",
       "      <td>76.629318</td>\n",
       "      <td>39.009946</td>\n",
       "    </tr>\n",
       "    <tr>\n",
       "      <th>Chaco</th>\n",
       "      <td>80.592251</td>\n",
       "      <td>39.804082</td>\n",
       "    </tr>\n",
       "    <tr>\n",
       "      <th>San Juan</th>\n",
       "      <td>78.052350</td>\n",
       "      <td>41.392353</td>\n",
       "    </tr>\n",
       "    <tr>\n",
       "      <th>Corrientes</th>\n",
       "      <td>81.283223</td>\n",
       "      <td>42.856719</td>\n",
       "    </tr>\n",
       "    <tr>\n",
       "      <th>Tucumán</th>\n",
       "      <td>75.863304</td>\n",
       "      <td>45.242241</td>\n",
       "    </tr>\n",
       "    <tr>\n",
       "      <th>San Luis</th>\n",
       "      <td>78.206990</td>\n",
       "      <td>46.174859</td>\n",
       "    </tr>\n",
       "    <tr>\n",
       "      <th>Río Negro</th>\n",
       "      <td>83.689632</td>\n",
       "      <td>46.201577</td>\n",
       "    </tr>\n",
       "    <tr>\n",
       "      <th>Misiones</th>\n",
       "      <td>76.312885</td>\n",
       "      <td>46.387696</td>\n",
       "    </tr>\n",
       "    <tr>\n",
       "      <th>Entre Ríos</th>\n",
       "      <td>73.023973</td>\n",
       "      <td>46.473343</td>\n",
       "    </tr>\n",
       "    <tr>\n",
       "      <th>Chubut</th>\n",
       "      <td>75.450739</td>\n",
       "      <td>47.417311</td>\n",
       "    </tr>\n",
       "    <tr>\n",
       "      <th>La Pampa</th>\n",
       "      <td>76.254686</td>\n",
       "      <td>47.742415</td>\n",
       "    </tr>\n",
       "    <tr>\n",
       "      <th>Catamarca</th>\n",
       "      <td>83.333432</td>\n",
       "      <td>47.904426</td>\n",
       "    </tr>\n",
       "    <tr>\n",
       "      <th>La Rioja</th>\n",
       "      <td>84.043122</td>\n",
       "      <td>48.482180</td>\n",
       "    </tr>\n",
       "    <tr>\n",
       "      <th>Salta</th>\n",
       "      <td>75.585737</td>\n",
       "      <td>48.647464</td>\n",
       "    </tr>\n",
       "    <tr>\n",
       "      <th>Jujuy</th>\n",
       "      <td>79.870630</td>\n",
       "      <td>48.703113</td>\n",
       "    </tr>\n",
       "    <tr>\n",
       "      <th>Neuquén</th>\n",
       "      <td>78.353928</td>\n",
       "      <td>48.878854</td>\n",
       "    </tr>\n",
       "    <tr>\n",
       "      <th>Mendoza</th>\n",
       "      <td>75.907385</td>\n",
       "      <td>48.910098</td>\n",
       "    </tr>\n",
       "    <tr>\n",
       "      <th>TdF</th>\n",
       "      <td>86.001718</td>\n",
       "      <td>49.292228</td>\n",
       "    </tr>\n",
       "    <tr>\n",
       "      <th>Córdoba</th>\n",
       "      <td>76.516061</td>\n",
       "      <td>49.532757</td>\n",
       "    </tr>\n",
       "    <tr>\n",
       "      <th>Santa Fe</th>\n",
       "      <td>77.546035</td>\n",
       "      <td>50.634892</td>\n",
       "    </tr>\n",
       "    <tr>\n",
       "      <th>Buenos Aires</th>\n",
       "      <td>78.744310</td>\n",
       "      <td>50.651067</td>\n",
       "    </tr>\n",
       "    <tr>\n",
       "      <th>Santa Cruz</th>\n",
       "      <td>79.695491</td>\n",
       "      <td>52.297067</td>\n",
       "    </tr>\n",
       "    <tr>\n",
       "      <th>CABA</th>\n",
       "      <td>85.560385</td>\n",
       "      <td>58.395568</td>\n",
       "    </tr>\n",
       "  </tbody>\n",
       "</table>\n",
       "</div>"
      ],
      "text/plain": [
       "                     Insercion laboral      Mujer\n",
       "PROVINCIA                                        \n",
       "Formosa                      80.093027  27.964823\n",
       "Santiago del Estero          76.629318  39.009946\n",
       "Chaco                        80.592251  39.804082\n",
       "San Juan                     78.052350  41.392353\n",
       "Corrientes                   81.283223  42.856719\n",
       "Tucumán                      75.863304  45.242241\n",
       "San Luis                     78.206990  46.174859\n",
       "Río Negro                    83.689632  46.201577\n",
       "Misiones                     76.312885  46.387696\n",
       "Entre Ríos                   73.023973  46.473343\n",
       "Chubut                       75.450739  47.417311\n",
       "La Pampa                     76.254686  47.742415\n",
       "Catamarca                    83.333432  47.904426\n",
       "La Rioja                     84.043122  48.482180\n",
       "Salta                        75.585737  48.647464\n",
       "Jujuy                        79.870630  48.703113\n",
       "Neuquén                      78.353928  48.878854\n",
       "Mendoza                      75.907385  48.910098\n",
       "TdF                          86.001718  49.292228\n",
       "Córdoba                      76.516061  49.532757\n",
       "Santa Fe                     77.546035  50.634892\n",
       "Buenos Aires                 78.744310  50.651067\n",
       "Santa Cruz                   79.695491  52.297067\n",
       "CABA                         85.560385  58.395568"
      ]
     },
     "execution_count": 22,
     "metadata": {},
     "output_type": "execute_result"
    }
   ],
   "source": [
    "pd.concat([componente_insercion['Insercion laboral'], ratio_actividad['Mujer']], axis=1).sort_values(by='Mujer')"
   ]
  },
  {
   "cell_type": "code",
   "execution_count": 24,
   "metadata": {},
   "outputs": [
    {
     "data": {
      "text/plain": [
       "68.8"
      ]
     },
     "execution_count": 24,
     "metadata": {},
     "output_type": "execute_result"
    }
   ],
   "source": [
    "ratio_actividad['Actividad'].mean().round(1)"
   ]
  }
 ],
 "metadata": {
  "kernelspec": {
   "display_name": "Python 3.9.12 ('pyenv')",
   "language": "python",
   "name": "python3"
  },
  "language_info": {
   "codemirror_mode": {
    "name": "ipython",
    "version": 3
   },
   "file_extension": ".py",
   "mimetype": "text/x-python",
   "name": "python",
   "nbconvert_exporter": "python",
   "pygments_lexer": "ipython3",
   "version": "3.9.15"
  },
  "orig_nbformat": 4,
  "vscode": {
   "interpreter": {
    "hash": "509f5cbefa0cafc10dc1461472345186404cff510fb444dcb85013f09977a5b7"
   }
  }
 },
 "nbformat": 4,
 "nbformat_minor": 2
}
