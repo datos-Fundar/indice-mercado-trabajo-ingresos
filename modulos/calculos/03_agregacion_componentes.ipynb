{
 "cells": [
  {
   "cell_type": "code",
   "execution_count": 19,
   "metadata": {},
   "outputs": [],
   "source": [
    "import pandas as pd\n",
    "import numpy as np"
   ]
  },
  {
   "cell_type": "code",
   "execution_count": 20,
   "metadata": {},
   "outputs": [],
   "source": [
    "# Definimos path\n",
    "pathdata = '/home/daniu/Documentos/fundar/indice-mercado-trabajo-ingresos/'\n",
    "pathdata = '/Users/danielarisaro/Documents/Fundar/indice-mercado-trabajo-ingresos/'\n",
    "pathdata = '/home/daniufundar/Documents/Fundar/indice-mercado-trabajo-ingresos/'\n"
   ]
  },
  {
   "cell_type": "code",
   "execution_count": 21,
   "metadata": {},
   "outputs": [],
   "source": [
    "ratio_actividad = pd.read_csv(pathdata + 'data_output/indicadores/01_ratio_actividad.csv', index_col=0)\n",
    "empleo_asalariado_con_descuento = pd.read_csv(pathdata + 'data_output/indicadores/02_empleo_asalariado_con_descuento.csv', index_col=0)\n",
    "horas_remuneradas_media = pd.read_csv(pathdata + 'data_output/indicadores/03_horas_promedio_ocup_ppal.csv', index_col=0)\n",
    "ingreso_salarial_media = pd.read_csv(pathdata + 'data_output/indicadores/04_ingreso_salarial.csv', index_col=0)\n",
    "ratio_minutos_promedio_no_pago = pd.read_csv(pathdata + 'data_output/indicadores/05_tiempo_no_remunerado.csv', index_col=0)\n",
    "inactivos_con_ingreso = pd.read_csv(pathdata + 'data_output/indicadores/06_dependencia_economica.csv', index_col=0)\n",
    "hogares_jefatura = pd.read_csv(pathdata + 'data_output/indicadores/07_hogares_no-pobres_jefatura.csv', index_col=0)"
   ]
  },
  {
   "cell_type": "code",
   "execution_count": 22,
   "metadata": {},
   "outputs": [],
   "source": [
    "ratio_actividad = ratio_actividad.sort_index()\n",
    "empleo_asalariado_con_descuento = empleo_asalariado_con_descuento.sort_index()\n",
    "horas_remuneradas_media = horas_remuneradas_media.sort_index()\n",
    "ingreso_salarial_media = ingreso_salarial_media.sort_index()\n",
    "ratio_minutos_promedio_no_pago = ratio_minutos_promedio_no_pago.sort_index()\n",
    "inactivos_con_ingreso = inactivos_con_ingreso.sort_index()\n",
    "hogares_jefatura = hogares_jefatura.sort_index()\n"
   ]
  },
  {
   "cell_type": "code",
   "execution_count": 23,
   "metadata": {},
   "outputs": [
    {
     "name": "stdout",
     "output_type": "stream",
     "text": [
      "Los índices están ordenados de la misma manera: True\n"
     ]
    }
   ],
   "source": [
    "variables = [ratio_actividad, empleo_asalariado_con_descuento, horas_remuneradas_media, ingreso_salarial_media, ratio_minutos_promedio_no_pago, inactivos_con_ingreso, hogares_jefatura]\n",
    "\n",
    "indices_ordenados = True\n",
    "\n",
    "# Compara los índices de los DataFrames en un bucle\n",
    "for i in range(len(variables) - 1):\n",
    "    if not variables[i].index.equals(variables[i + 1].index):\n",
    "        indices_ordenados = False\n",
    "        break\n",
    "\n",
    "# Imprime el resultado\n",
    "print(\"Los índices están ordenados de la misma manera:\", indices_ordenados)"
   ]
  },
  {
   "cell_type": "code",
   "execution_count": 24,
   "metadata": {},
   "outputs": [],
   "source": [
    "variables = [ratio_actividad, empleo_asalariado_con_descuento, horas_remuneradas_media, ingreso_salarial_media, ratio_minutos_promedio_no_pago, inactivos_con_ingreso, hogares_jefatura]\n",
    "columnas = ['Actividad', 'Formalidad', 'Horas promedio remuneradas', 'Ingreso laboral promedio', 'Tiempo TNR', 'Dependencia', 'No Pobreza']\n",
    "\n",
    "for columna, variable in zip(columnas,variables):\n",
    "    variable[columna] = np.where(variable[columna] > 100, 100, variable[columna])\n",
    "    variable['Ranking'] = variable[columna].rank(ascending=False, method='first')\n"
   ]
  },
  {
   "cell_type": "code",
   "execution_count": 25,
   "metadata": {},
   "outputs": [],
   "source": [
    "componente_insercion = (ratio_actividad['Actividad'] + \\\n",
    "                        empleo_asalariado_con_descuento['Formalidad'] + \\\n",
    "                        horas_remuneradas_media['Horas promedio remuneradas'] + \\\n",
    "                        ingreso_salarial_media['Ingreso laboral promedio'])/4\n",
    "\n",
    "componente_insercion = componente_insercion.to_frame()\n",
    "componente_insercion.columns = ['Insercion laboral']\n",
    "componente_insercion['Ranking'] = componente_insercion['Insercion laboral'].rank(ascending=False, method='first')"
   ]
  },
  {
   "cell_type": "code",
   "execution_count": 26,
   "metadata": {},
   "outputs": [],
   "source": [
    "componente_autonomia_economica = (ratio_minutos_promedio_no_pago['Tiempo TNR'] + \\\n",
    "                                inactivos_con_ingreso['Dependencia'] + \\\n",
    "                                hogares_jefatura['No Pobreza'])/3\n",
    "\n",
    "componente_autonomia_economica = componente_autonomia_economica.to_frame()\n",
    "componente_autonomia_economica.columns = ['Autonomia economica']\n",
    "componente_autonomia_economica['Ranking'] = componente_autonomia_economica['Autonomia economica'].rank(ascending=False, method='first')"
   ]
  },
  {
   "cell_type": "code",
   "execution_count": 27,
   "metadata": {},
   "outputs": [],
   "source": [
    "indice_mti = np.sqrt(componente_autonomia_economica['Autonomia economica'] * componente_insercion['Insercion laboral']).to_frame()\n",
    "indice_mti.columns = ['Indice MTeI']\n",
    "indice_mti['Ranking'] = indice_mti['Indice MTeI'].rank(ascending=False, method='first')"
   ]
  },
  {
   "cell_type": "code",
   "execution_count": 31,
   "metadata": {},
   "outputs": [
    {
     "data": {
      "text/html": [
       "<div>\n",
       "<style scoped>\n",
       "    .dataframe tbody tr th:only-of-type {\n",
       "        vertical-align: middle;\n",
       "    }\n",
       "\n",
       "    .dataframe tbody tr th {\n",
       "        vertical-align: top;\n",
       "    }\n",
       "\n",
       "    .dataframe thead th {\n",
       "        text-align: right;\n",
       "    }\n",
       "</style>\n",
       "<table border=\"1\" class=\"dataframe\">\n",
       "  <thead>\n",
       "    <tr style=\"text-align: right;\">\n",
       "      <th></th>\n",
       "      <th>Indice MTeI</th>\n",
       "      <th>Ranking</th>\n",
       "    </tr>\n",
       "    <tr>\n",
       "      <th>Provincia</th>\n",
       "      <th></th>\n",
       "      <th></th>\n",
       "    </tr>\n",
       "  </thead>\n",
       "  <tbody>\n",
       "    <tr>\n",
       "      <th>CABA</th>\n",
       "      <td>83.951825</td>\n",
       "      <td>1.0</td>\n",
       "    </tr>\n",
       "    <tr>\n",
       "      <th>Catamarca</th>\n",
       "      <td>81.618995</td>\n",
       "      <td>2.0</td>\n",
       "    </tr>\n",
       "    <tr>\n",
       "      <th>TdF</th>\n",
       "      <td>81.431286</td>\n",
       "      <td>3.0</td>\n",
       "    </tr>\n",
       "    <tr>\n",
       "      <th>Chaco</th>\n",
       "      <td>81.130641</td>\n",
       "      <td>4.0</td>\n",
       "    </tr>\n",
       "    <tr>\n",
       "      <th>Santa Cruz</th>\n",
       "      <td>79.684579</td>\n",
       "      <td>5.0</td>\n",
       "    </tr>\n",
       "    <tr>\n",
       "      <th>Río Negro</th>\n",
       "      <td>79.622561</td>\n",
       "      <td>6.0</td>\n",
       "    </tr>\n",
       "    <tr>\n",
       "      <th>Formosa</th>\n",
       "      <td>79.223998</td>\n",
       "      <td>7.0</td>\n",
       "    </tr>\n",
       "    <tr>\n",
       "      <th>Corrientes</th>\n",
       "      <td>79.082571</td>\n",
       "      <td>8.0</td>\n",
       "    </tr>\n",
       "    <tr>\n",
       "      <th>Santa Fe</th>\n",
       "      <td>78.187005</td>\n",
       "      <td>9.0</td>\n",
       "    </tr>\n",
       "    <tr>\n",
       "      <th>La Pampa</th>\n",
       "      <td>78.153627</td>\n",
       "      <td>10.0</td>\n",
       "    </tr>\n",
       "    <tr>\n",
       "      <th>La Rioja</th>\n",
       "      <td>77.881233</td>\n",
       "      <td>11.0</td>\n",
       "    </tr>\n",
       "    <tr>\n",
       "      <th>Jujuy</th>\n",
       "      <td>77.730077</td>\n",
       "      <td>12.0</td>\n",
       "    </tr>\n",
       "    <tr>\n",
       "      <th>San Luis</th>\n",
       "      <td>77.695545</td>\n",
       "      <td>13.0</td>\n",
       "    </tr>\n",
       "    <tr>\n",
       "      <th>San Juan</th>\n",
       "      <td>77.510017</td>\n",
       "      <td>14.0</td>\n",
       "    </tr>\n",
       "    <tr>\n",
       "      <th>Santiago del Estero</th>\n",
       "      <td>76.730004</td>\n",
       "      <td>15.0</td>\n",
       "    </tr>\n",
       "    <tr>\n",
       "      <th>Buenos Aires</th>\n",
       "      <td>76.056617</td>\n",
       "      <td>16.0</td>\n",
       "    </tr>\n",
       "    <tr>\n",
       "      <th>Salta</th>\n",
       "      <td>76.040136</td>\n",
       "      <td>17.0</td>\n",
       "    </tr>\n",
       "    <tr>\n",
       "      <th>Tucumán</th>\n",
       "      <td>75.887988</td>\n",
       "      <td>18.0</td>\n",
       "    </tr>\n",
       "    <tr>\n",
       "      <th>Córdoba</th>\n",
       "      <td>75.090695</td>\n",
       "      <td>19.0</td>\n",
       "    </tr>\n",
       "    <tr>\n",
       "      <th>Mendoza</th>\n",
       "      <td>74.991778</td>\n",
       "      <td>20.0</td>\n",
       "    </tr>\n",
       "    <tr>\n",
       "      <th>Chubut</th>\n",
       "      <td>74.162444</td>\n",
       "      <td>21.0</td>\n",
       "    </tr>\n",
       "    <tr>\n",
       "      <th>Neuquén</th>\n",
       "      <td>73.983924</td>\n",
       "      <td>22.0</td>\n",
       "    </tr>\n",
       "    <tr>\n",
       "      <th>Misiones</th>\n",
       "      <td>73.913544</td>\n",
       "      <td>23.0</td>\n",
       "    </tr>\n",
       "    <tr>\n",
       "      <th>Entre Ríos</th>\n",
       "      <td>72.592109</td>\n",
       "      <td>24.0</td>\n",
       "    </tr>\n",
       "  </tbody>\n",
       "</table>\n",
       "</div>"
      ],
      "text/plain": [
       "                     Indice MTeI  Ranking\n",
       "Provincia                                \n",
       "CABA                   83.951825      1.0\n",
       "Catamarca              81.618995      2.0\n",
       "TdF                    81.431286      3.0\n",
       "Chaco                  81.130641      4.0\n",
       "Santa Cruz             79.684579      5.0\n",
       "Río Negro              79.622561      6.0\n",
       "Formosa                79.223998      7.0\n",
       "Corrientes             79.082571      8.0\n",
       "Santa Fe               78.187005      9.0\n",
       "La Pampa               78.153627     10.0\n",
       "La Rioja               77.881233     11.0\n",
       "Jujuy                  77.730077     12.0\n",
       "San Luis               77.695545     13.0\n",
       "San Juan               77.510017     14.0\n",
       "Santiago del Estero    76.730004     15.0\n",
       "Buenos Aires           76.056617     16.0\n",
       "Salta                  76.040136     17.0\n",
       "Tucumán                75.887988     18.0\n",
       "Córdoba                75.090695     19.0\n",
       "Mendoza                74.991778     20.0\n",
       "Chubut                 74.162444     21.0\n",
       "Neuquén                73.983924     22.0\n",
       "Misiones               73.913544     23.0\n",
       "Entre Ríos             72.592109     24.0"
      ]
     },
     "execution_count": 31,
     "metadata": {},
     "output_type": "execute_result"
    }
   ],
   "source": [
    "indice_mti.sort_values(by='Ranking')"
   ]
  },
  {
   "cell_type": "code",
   "execution_count": 32,
   "metadata": {},
   "outputs": [],
   "source": [
    "## Genero tabla output"
   ]
  },
  {
   "cell_type": "code",
   "execution_count": 33,
   "metadata": {},
   "outputs": [],
   "source": [
    "provincias = indice_mti.index.to_list()\n",
    "provincia_repetidos = [value for value in provincias for _ in range(7)]\n",
    "\n",
    "componentes = ['Insercion laboral'] * 4 + ['Autonomia Economica'] * 3\n",
    "componentes_repetidos = componentes*24\n",
    "\n",
    "indicadores = ['Actividad', 'Formalidad', 'Horas trabajadas', 'Ingreso salarial',\n",
    "                  'Tiempo trabajo no remunerado', 'Dependencia economica', 'No-Pobreza']"
   ]
  },
  {
   "cell_type": "code",
   "execution_count": 34,
   "metadata": {},
   "outputs": [],
   "source": [
    "data = {\n",
    "    'Provincia': provincia_repetidos,\n",
    "    'Componente': componentes_repetidos,\n",
    "    'Indicador': indicadores*24\n",
    "}\n",
    "\n",
    "df = pd.DataFrame(data)\n",
    "\n",
    "multiindex = pd.MultiIndex.from_frame(df[['Provincia', 'Componente', 'Indicador']])\n",
    "df.set_index(multiindex, inplace=True)\n",
    "df.drop(columns=['Provincia', 'Componente', 'Indicador'], inplace=True)\n",
    "\n",
    "df[['Mujer', 'Varon', 'Ratio', 'N pob varon', 'N pob mujer', 'N pob tot', 'N varon', 'N mujer', 'CV', 'Error', 'Ranking indicador', 'Componentes', 'Ranking componente', 'Indice', 'Ranking Indice']] = pd.NaT"
   ]
  },
  {
   "cell_type": "code",
   "execution_count": 35,
   "metadata": {},
   "outputs": [],
   "source": [
    "for indicador, columna, variable in zip(indicadores, columnas, variables):\n",
    "    if indicador == 'Tiempo trabajo no remunerado':\n",
    "        values = variable[['Mujer', 'Varon', columna, 'Ranking']].values\n",
    "        df.loc[df.index.get_level_values('Indicador') == indicador, ['Mujer', 'Varon', 'Ratio', 'Ranking indicador']] = values\n",
    "\n",
    "    else:    \n",
    "        values = variable[['Mujer', 'Varon', columna, 'N_pob_v', 'N_pob_m', 'N_pob_tot', 'N_v', 'N_m', 'ER', 'ME', 'Ranking']].values\n",
    "        df.loc[df.index.get_level_values('Indicador') == indicador, ['Mujer', 'Varon', 'Ratio', 'N pob varon', 'N pob mujer', 'N pob tot', 'N varon', 'N mujer', 'CV', 'Error', 'Ranking indicador']] = values\n"
   ]
  },
  {
   "cell_type": "code",
   "execution_count": 36,
   "metadata": {},
   "outputs": [],
   "source": [
    "componente_insercion.to_csv(pathdata + 'data_output/componentes_e_indice/01_insercion_laboral.csv')\n",
    "componente_autonomia_economica.to_csv(pathdata + 'data_output/componentes_e_indice/02_insercion_autonomia_economica.csv')\n",
    "indice_mti.to_csv(pathdata + 'data_output/componentes_e_indice/01_indice_MTeI.csv')"
   ]
  },
  {
   "cell_type": "code",
   "execution_count": 66,
   "metadata": {},
   "outputs": [],
   "source": [
    "values = componente_insercion.values\n",
    "df.loc[df.index.get_level_values('Indicador') == 'Actividad', ['Componentes', 'Ranking componente']] = values"
   ]
  },
  {
   "cell_type": "code",
   "execution_count": 70,
   "metadata": {},
   "outputs": [],
   "source": [
    "values = componente_autonomia_economica.values\n",
    "df.loc[df.index.get_level_values('Indicador') == 'Tiempo trabajo no remunerado', ['Componentes', 'Ranking componente']] = values"
   ]
  },
  {
   "cell_type": "code",
   "execution_count": 73,
   "metadata": {},
   "outputs": [],
   "source": [
    "values = indice_mti.values\n",
    "df.loc[df.index.get_level_values('Indicador') == 'Actividad', ['Indice', 'Ranking Indice']] = values"
   ]
  },
  {
   "cell_type": "code",
   "execution_count": 74,
   "metadata": {},
   "outputs": [],
   "source": [
    "df.to_csv(pathdata + 'data_output/tablas/01_indicadores_principales.csv')"
   ]
  }
 ],
 "metadata": {
  "kernelspec": {
   "display_name": "Python 3.9.12 ('pyenv')",
   "language": "python",
   "name": "python3"
  },
  "language_info": {
   "codemirror_mode": {
    "name": "ipython",
    "version": 3
   },
   "file_extension": ".py",
   "mimetype": "text/x-python",
   "name": "python",
   "nbconvert_exporter": "python",
   "pygments_lexer": "ipython3",
   "version": "3.9.15"
  },
  "orig_nbformat": 4,
  "vscode": {
   "interpreter": {
    "hash": "509f5cbefa0cafc10dc1461472345186404cff510fb444dcb85013f09977a5b7"
   }
  }
 },
 "nbformat": 4,
 "nbformat_minor": 2
}
