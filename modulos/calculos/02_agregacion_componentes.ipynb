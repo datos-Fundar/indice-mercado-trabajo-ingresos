{
 "cells": [
  {
   "cell_type": "code",
   "execution_count": 1,
   "metadata": {},
   "outputs": [],
   "source": [
    "import pandas as pd\n",
    "import numpy as np"
   ]
  },
  {
   "cell_type": "code",
   "execution_count": 2,
   "metadata": {},
   "outputs": [],
   "source": [
    "## Definimos path\n",
    "\n",
    "pathdata = '/home/daniu/Documentos/fundar/indice-mercado-trabajo-ingresos/'\n",
    "pathdata = '/Users/danielarisaro/Documents/Fundar/indice-mercado-trabajo-ingresos/'\n",
    "pathdata = '/home/daniufundar/Documents/Fundar/indice-mercado-trabajo-ingresos/'"
   ]
  },
  {
   "cell_type": "code",
   "execution_count": 3,
   "metadata": {},
   "outputs": [],
   "source": [
    "## Cargo y ordeno los indicadores\n",
    "\n",
    "ratio_actividad = pd.read_csv(pathdata + 'data_output/indicadores/01_ratio_actividad.csv', index_col=0)\n",
    "ratio_formalidad = pd.read_csv(pathdata + 'data_output/indicadores/02_ratio_formalidad.csv', index_col=0)\n",
    "ratio_jornada_laboral = pd.read_csv(pathdata + 'data_output/indicadores/03_ratio_jornada_laboral.csv', index_col=0)\n",
    "ratio_ingreso_salarial = pd.read_csv(pathdata + 'data_output/indicadores/04_ratio_ingreso_salarial.csv', index_col=0)\n",
    "\n",
    "ratio_jornada_no_paga = pd.read_csv(pathdata + 'data_output/indicadores/05_ratio_jornada_no_paga.csv', index_col=0)\n",
    "ratio_inactivos_con_ingreso = pd.read_csv(pathdata + 'data_output/indicadores/06_ratio_inactivos_con_ingreso.csv', index_col=0)\n",
    "ratio_hogares_no_pobres_jefatura = pd.read_csv(pathdata + 'data_output/indicadores/07_ratio_hogares_no-pobres_jefatura.csv', index_col=0)\n",
    "\n",
    "\n",
    "ratio_actividad = ratio_actividad.sort_index()\n",
    "ratio_formalidad = ratio_formalidad.sort_index()\n",
    "ratio_jornada_laboral = ratio_jornada_laboral.sort_index()\n",
    "ratio_ingreso_salarial = ratio_ingreso_salarial.sort_index()\n",
    "\n",
    "ratio_jornada_no_paga = ratio_jornada_no_paga.sort_index()\n",
    "ratio_inactivos_con_ingreso = ratio_inactivos_con_ingreso.sort_index()\n",
    "ratio_hogares_no_pobres_jefatura = ratio_hogares_no_pobres_jefatura.sort_index()\n"
   ]
  },
  {
   "cell_type": "code",
   "execution_count": 4,
   "metadata": {},
   "outputs": [
    {
     "name": "stdout",
     "output_type": "stream",
     "text": [
      "Los índices están ordenados de la misma manera: True\n"
     ]
    }
   ],
   "source": [
    "## Chequeo que todos los indicadores tengan ordenados los indices\n",
    "\n",
    "variables = [ratio_actividad, ratio_formalidad, ratio_jornada_laboral, ratio_ingreso_salarial, \\\n",
    "             ratio_jornada_no_paga, ratio_inactivos_con_ingreso, ratio_hogares_no_pobres_jefatura]\n",
    "\n",
    "indices_ordenados = True\n",
    "\n",
    "for i in range(len(variables) - 1):\n",
    "    if not variables[i].index.equals(variables[i + 1].index):\n",
    "        indices_ordenados = False\n",
    "        break\n",
    "\n",
    "print(\"Los índices están ordenados de la misma manera:\", indices_ordenados)"
   ]
  },
  {
   "cell_type": "code",
   "execution_count": 5,
   "metadata": {},
   "outputs": [],
   "source": [
    "## Trunco y calculo el ranking de los indicadores\n",
    "\n",
    "variables = [ratio_actividad, ratio_formalidad, ratio_jornada_laboral, ratio_ingreso_salarial, \\\n",
    "             ratio_jornada_no_paga, ratio_inactivos_con_ingreso, ratio_hogares_no_pobres_jefatura]\n",
    "\n",
    "columnas = ['Actividad', 'Formalidad', 'Horas promedio remuneradas', 'Ingreso laboral promedio', \\\n",
    "            'Tiempo TNR', 'Dependencia', 'No Pobreza']\n",
    "\n",
    "for columna, variable in zip(columnas,variables):\n",
    "    variable[columna] = np.where(variable[columna] > 100, 100, variable[columna])\n",
    "    variable['Ranking'] = variable[columna].rank(ascending=False, method='first')\n"
   ]
  },
  {
   "cell_type": "code",
   "execution_count": 6,
   "metadata": {},
   "outputs": [],
   "source": [
    "## Agrego componentes e indice\n",
    "\n",
    "componente_insercion = (ratio_actividad['Actividad'] + \\\n",
    "                        ratio_formalidad['Formalidad'] + \\\n",
    "                        ratio_jornada_laboral['Horas promedio remuneradas'] + \\\n",
    "                        ratio_ingreso_salarial['Ingreso laboral promedio'])/4\n",
    "\n",
    "componente_insercion = componente_insercion.to_frame()\n",
    "componente_insercion.columns = ['Insercion laboral']\n",
    "componente_insercion['Ranking'] = componente_insercion['Insercion laboral'].rank(ascending=False, method='first')\n",
    "\n",
    "componente_uso_del_tiempo_y_oportunidades = (ratio_jornada_no_paga['Tiempo TNR'] + \\\n",
    "                                ratio_inactivos_con_ingreso['Dependencia'] + \\\n",
    "                                ratio_hogares_no_pobres_jefatura['No Pobreza'])/3\n",
    "\n",
    "componente_uso_del_tiempo_y_oportunidades = componente_uso_del_tiempo_y_oportunidades.to_frame()\n",
    "componente_uso_del_tiempo_y_oportunidades.columns = ['Uso del tiempo y oportunidades']\n",
    "componente_uso_del_tiempo_y_oportunidades['Ranking'] = componente_uso_del_tiempo_y_oportunidades['Uso del tiempo y oportunidades'].rank(ascending=False, method='first')\n",
    "\n",
    "indice_gti = np.sqrt(componente_uso_del_tiempo_y_oportunidades['Uso del tiempo y oportunidades'] * componente_insercion['Insercion laboral']).to_frame()\n",
    "indice_gti.columns = ['Indice GTI']\n",
    "indice_gti['Ranking'] = indice_gti['Indice GTI'].rank(ascending=False, method='first')"
   ]
  },
  {
   "cell_type": "code",
   "execution_count": 9,
   "metadata": {},
   "outputs": [],
   "source": [
    "## Genero tabla resumen de medias, desvio, maximo, minimo y rango para cada variable\n",
    "\n",
    "labels_variables_todas = ['Actividad', 'Formalidad', 'Horas promedio remuneradas', 'Ingreso laboral promedio',\\\n",
    "                  'Tiempo TNR', 'Dependencia', 'No Pobreza',\\\n",
    "                  'Insercion laboral', 'Uso del tiempo y oportunidades', 'Indice GTI']\n",
    "\n",
    "columnas = ['Media', 'Desvio estandar', 'Minimo', 'Maximo', 'Rango']\n",
    "\n",
    "variables_todas = [ratio_actividad, ratio_formalidad, ratio_jornada_laboral, ratio_ingreso_salarial, \\\n",
    "                        ratio_jornada_no_paga, ratio_inactivos_con_ingreso, ratio_hogares_no_pobres_jefatura, \\\n",
    "                            componente_insercion, componente_uso_del_tiempo_y_oportunidades, indice_gti]\n",
    "\n",
    "df_tabla_resumen = pd.DataFrame(index=labels_variables_todas, columns=columnas)\n",
    "\n",
    "for i, idf in enumerate(variables_todas):\n",
    "    icolumna = labels_variables_todas[i]\n",
    "    imedia = idf[icolumna].mean()\n",
    "    istd = idf[icolumna].std()\n",
    "    imin = idf[icolumna].min() \n",
    "    imax = idf[icolumna].max()\n",
    "    irango = imax - imin\n",
    "    df_tabla_resumen.iloc[i,0] = imedia\n",
    "    df_tabla_resumen.iloc[i,1] = istd\n",
    "    df_tabla_resumen.iloc[i,2] = imin\n",
    "    df_tabla_resumen.iloc[i,3] = imax\n",
    "    df_tabla_resumen.iloc[i,4] = irango\n",
    "\n",
    "df_tabla_resumen = df_tabla_resumen.astype('float').round(2)"
   ]
  },
  {
   "cell_type": "code",
   "execution_count": 11,
   "metadata": {},
   "outputs": [],
   "source": [
    "## Genero tabla output con todos los indicadores, componentes e indice general.\n",
    "\n",
    "columnas = ['Actividad', 'Formalidad', 'Horas promedio remuneradas', 'Ingreso laboral promedio', 'Tiempo TNR', 'Dependencia', 'No Pobreza']\n",
    "\n",
    "provincias = indice_gti.index.to_list()\n",
    "provincia_repetidos = [value for value in provincias for _ in range(7)]\n",
    "\n",
    "componentes = ['Insercion laboral'] * 4 + ['Uso del tiempo y oportunidades'] * 3\n",
    "componentes_repetidos = componentes*24\n",
    "\n",
    "indicadores = ['Actividad', 'Formalidad', 'Horas trabajadas', 'Ingreso salarial',\n",
    "                  'Tiempo trabajo no remunerado', 'Dependencia economica', 'No-Pobreza']\n",
    "\n",
    "data = {\n",
    "    'Provincia': provincia_repetidos,\n",
    "    'Componente': componentes_repetidos,\n",
    "    'Indicador': indicadores*24\n",
    "}\n",
    "\n",
    "df = pd.DataFrame(data)\n",
    "\n",
    "multiindex = pd.MultiIndex.from_frame(df[['Provincia', 'Componente', 'Indicador']])\n",
    "df.set_index(multiindex, inplace=True)\n",
    "df.drop(columns=['Provincia', 'Componente', 'Indicador'], inplace=True)\n",
    "\n",
    "df[['Mujer', 'Varon', 'Ratio', 'N pob varon', 'N pob mujer', 'N pob tot', 'N varon', 'N mujer', 'CV', 'Error', 'Ranking indicador', 'Componentes', 'Ranking componente', 'Indice', 'Ranking Indice']] = pd.NaT\n",
    "\n",
    "for indicador, columna, variable in zip(indicadores, columnas, variables):\n",
    "    if indicador == 'Tiempo trabajo no remunerado':\n",
    "        values = variable[['Mujer', 'Varon', columna, 'Ranking']].values\n",
    "        df.loc[df.index.get_level_values('Indicador') == indicador, ['Mujer', 'Varon', 'Ratio', 'Ranking indicador']] = values\n",
    "\n",
    "    else:    \n",
    "        values = variable[['Mujer', 'Varon', columna, 'N_pob_v', 'N_pob_m', 'N_pob_tot', 'N_v', 'N_m', 'ER', 'ME', 'Ranking']].values\n",
    "        df.loc[df.index.get_level_values('Indicador') == indicador, ['Mujer', 'Varon', 'Ratio', 'N pob varon', 'N pob mujer', 'N pob tot', 'N varon', 'N mujer', 'CV', 'Error', 'Ranking indicador']] = values\n",
    "\n",
    "values = componente_insercion.values\n",
    "df.loc[df.index.get_level_values('Indicador') == 'Actividad', ['Componentes', 'Ranking componente']] = values\n",
    "\n",
    "values = componente_uso_del_tiempo_y_oportunidades.values\n",
    "df.loc[df.index.get_level_values('Indicador') == 'Tiempo trabajo no remunerado', ['Componentes', 'Ranking componente']] = values\n",
    "\n",
    "values = indice_gti.values\n",
    "df.loc[df.index.get_level_values('Indicador') == 'Actividad', ['Indice', 'Ranking Indice']] = values"
   ]
  },
  {
   "cell_type": "code",
   "execution_count": 13,
   "metadata": {},
   "outputs": [],
   "source": [
    "## Exporto archivos .csv\n",
    "\n",
    "df.to_csv(pathdata + 'data_output/tablas/01_indicadores_principales.csv')\n",
    "componente_insercion.to_csv(pathdata + 'data_output/componentes_e_indice/01_insercion_laboral.csv')\n",
    "componente_uso_del_tiempo_y_oportunidades.to_csv(pathdata + 'data_output/componentes_e_indice/02_uso_del_tiempo_y_oportunidades.csv')\n",
    "indice_gti.to_csv(pathdata + 'data_output/componentes_e_indice/01_indice_GTI.csv')"
   ]
  }
 ],
 "metadata": {
  "kernelspec": {
   "display_name": "Python 3.9.12 ('pyenv')",
   "language": "python",
   "name": "python3"
  },
  "language_info": {
   "codemirror_mode": {
    "name": "ipython",
    "version": 3
   },
   "file_extension": ".py",
   "mimetype": "text/x-python",
   "name": "python",
   "nbconvert_exporter": "python",
   "pygments_lexer": "ipython3",
   "version": "3.10.4"
  },
  "orig_nbformat": 4,
  "vscode": {
   "interpreter": {
    "hash": "509f5cbefa0cafc10dc1461472345186404cff510fb444dcb85013f09977a5b7"
   }
  }
 },
 "nbformat": 4,
 "nbformat_minor": 2
}
