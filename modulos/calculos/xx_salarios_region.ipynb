{
 "cells": [
  {
   "cell_type": "code",
   "execution_count": 6,
   "metadata": {},
   "outputs": [],
   "source": [
    "import pandas as pd\n",
    "import numpy as np\n",
    "import pickle\n"
   ]
  },
  {
   "cell_type": "code",
   "execution_count": 2,
   "metadata": {},
   "outputs": [],
   "source": [
    "# Definimos path\n",
    "pathdata = '/home/daniu/Documentos/fundar/indice-mercado-trabajo-ingresos/'\n",
    "pathdata = '/Users/danielarisaro/Documents/Fundar/indice-mercado-trabajo-ingresos/'\n",
    "pathdata = '/home/daniufundar/Documents/Fundar/indice-mercado-trabajo-ingresos/'\n",
    "\n",
    "df_people_pool = pd.read_csv(pathdata + 'data_output/Base_pool_individuos_solo_con_replicas_actuales.csv', low_memory=False, index_col=0)\n"
   ]
  },
  {
   "cell_type": "code",
   "execution_count": 10,
   "metadata": {},
   "outputs": [],
   "source": [
    "with open(pathdata + 'modulos/diccionarios/' + 'diccionario_provincia_region.pickle', 'rb') as file:\n",
    "    map_provincia_region = pickle.load(file)\n",
    "\n",
    "with open(pathdata + 'modulos/diccionarios/' + 'diccionario_provincia.pickle', 'rb') as file:\n",
    "    dict_cod_provincia = pickle.load(file)"
   ]
  },
  {
   "cell_type": "code",
   "execution_count": 33,
   "metadata": {},
   "outputs": [],
   "source": [
    "del df_ocupados"
   ]
  },
  {
   "cell_type": "code",
   "execution_count": 39,
   "metadata": {},
   "outputs": [],
   "source": [
    "df_temp = df_people_pool.query('CH06 >= 14')\n",
    "\n",
    "df_ocupados = df_temp[(df_temp['P21_new']!=-9) & (df_temp['ESTADO']==1) & \\\n",
    "                      (df_temp['CAT_OCUP'].isin([2,3]))][['PROVINCIA', 'PONDIIO_new', 'P21_new', 'CH04']]\n",
    "df_ocupados = df_ocupados[df_ocupados['P21_new']>0]\n",
    "df_ocupados['Multiplication'] = df_ocupados['P21_new'] * df_ocupados['PONDIIO_new']\n",
    "\n",
    "df_ocupados['PROVINCIA'] = df_ocupados['PROVINCIA'].map(dict_cod_provincia)\n",
    "df_ocupados['PROVINCIA'] = df_ocupados['PROVINCIA'].replace('CABA', 'Ciudad Autónoma de Buenos Aires')\n",
    "df_ocupados['PROVINCIA'] = df_ocupados['PROVINCIA'].replace('TdF', 'Tierra del Fuego, Antártida e Islas del Atlántico Sur')\n",
    "\n",
    "df_ocupados['REGION'] = df_ocupados['PROVINCIA'].map(map_provincia_region)\n",
    "\n",
    "numerador = df_ocupados.groupby(['CH04', 'REGION'])['Multiplication'].sum().unstack(level=0)\n",
    "denominador = df_ocupados.groupby(['CH04', 'REGION'])['PONDIIO_new'].sum().unstack(level=0)\n",
    "\n",
    "tasa = numerador.div(denominador, fill_value=np.nan)    \n",
    "tasa = tasa.rename(columns= {1:'Varon', 2:'Mujer'})\n",
    "\n",
    "ratio = (tasa['Mujer'] / tasa['Varon']).to_frame()\n",
    "ratio.rename(columns={0: 'Ingreso laboral promedio'}, inplace=True)"
   ]
  },
  {
   "cell_type": "code",
   "execution_count": 42,
   "metadata": {},
   "outputs": [
    {
     "data": {
      "text/html": [
       "<div>\n",
       "<style scoped>\n",
       "    .dataframe tbody tr th:only-of-type {\n",
       "        vertical-align: middle;\n",
       "    }\n",
       "\n",
       "    .dataframe tbody tr th {\n",
       "        vertical-align: top;\n",
       "    }\n",
       "\n",
       "    .dataframe thead th {\n",
       "        text-align: right;\n",
       "    }\n",
       "</style>\n",
       "<table border=\"1\" class=\"dataframe\">\n",
       "  <thead>\n",
       "    <tr style=\"text-align: right;\">\n",
       "      <th></th>\n",
       "      <th>Ingreso laboral promedio</th>\n",
       "    </tr>\n",
       "    <tr>\n",
       "      <th>REGION</th>\n",
       "      <th></th>\n",
       "    </tr>\n",
       "  </thead>\n",
       "  <tbody>\n",
       "    <tr>\n",
       "      <th>Cuyo</th>\n",
       "      <td>0.741476</td>\n",
       "    </tr>\n",
       "    <tr>\n",
       "      <th>Noreste</th>\n",
       "      <td>0.828135</td>\n",
       "    </tr>\n",
       "    <tr>\n",
       "      <th>Noroeste</th>\n",
       "      <td>0.766768</td>\n",
       "    </tr>\n",
       "    <tr>\n",
       "      <th>Pampeana</th>\n",
       "      <td>0.745097</td>\n",
       "    </tr>\n",
       "    <tr>\n",
       "      <th>Patagonia</th>\n",
       "      <td>0.748317</td>\n",
       "    </tr>\n",
       "  </tbody>\n",
       "</table>\n",
       "</div>"
      ],
      "text/plain": [
       "           Ingreso laboral promedio\n",
       "REGION                             \n",
       "Cuyo                       0.741476\n",
       "Noreste                    0.828135\n",
       "Noroeste                   0.766768\n",
       "Pampeana                   0.745097\n",
       "Patagonia                  0.748317"
      ]
     },
     "execution_count": 42,
     "metadata": {},
     "output_type": "execute_result"
    }
   ],
   "source": [
    "ratio.to_clipboard"
   ]
  },
  {
   "cell_type": "code",
   "execution_count": 14,
   "metadata": {},
   "outputs": [
    {
     "data": {
      "text/plain": [
       "220                     CABA\n",
       "222                     CABA\n",
       "400                     CABA\n",
       "402                     CABA\n",
       "404                     CABA\n",
       "                ...         \n",
       "79296    Santiago del Estero\n",
       "79297    Santiago del Estero\n",
       "79298    Santiago del Estero\n",
       "79300               San Juan\n",
       "79301               San Juan\n",
       "Name: PROVINCIA, Length: 44202, dtype: object"
      ]
     },
     "execution_count": 14,
     "metadata": {},
     "output_type": "execute_result"
    }
   ],
   "source": [
    "df_ocupados['PROVINCIA']"
   ]
  },
  {
   "cell_type": "code",
   "execution_count": null,
   "metadata": {},
   "outputs": [],
   "source": [
    "\n",
    "\n",
    "\n",
    "    size = df_estado[(df_estado[p21]>0) & (df_estado[p21]!=np.nan)].groupby(['CH04', var]).size().unstack(level=0)\n",
    "    size = size.rename(columns= {1:'N_v', 2:'N_m'})\n",
    "\n",
    "    n_pob = df_ocupados.groupby(['CH04', var])[pondera].sum().unstack(level=0)\n",
    "    n_pob = n_pob.rename(columns= {1:'N_pob_v', 2:'N_pob_m'})\n",
    "\n",
    "    size[['N_pob_v', 'N_pob_m']] = n_pob[['N_pob_v', 'N_pob_m']]\n",
    "    size['N_pob_tot'] = n_pob['N_pob_v'] + n_pob['N_pob_m']    \n",
    "\n",
    "    df_ocupados['Deviation'] = df_ocupados[p21] - df_ocupados.groupby(['CH04', var])[p21].transform('mean')\n",
    "    df_ocupados['Weighted_Deviation'] = df_ocupados[pondera] * df_ocupados['Deviation']**2\n",
    "    weighted_variance = df_ocupados.groupby(['CH04', var])['Weighted_Deviation'].sum() / df_ocupados.groupby(['CH04', var])[pondera].sum()\n",
    "\n",
    "    weighted_std = np.sqrt(weighted_variance.astype('float')).unstack(level=0)\n",
    "    weighted_std = weighted_std.rename(columns= {1:'Varon', 2:'Mujer'})\n",
    "\n",
    "    standard_error = np.sqrt((weighted_std['Mujer']**2 / size['N_m']) + (weighted_std['Varon']**2 / size['N_v']))\n",
    "\n",
    "    degrees_of_freedom = size['N_m'] + size['N_v'] - 2\n",
    "    t = stats.t.ppf((1 + confidence_level) / 2, df=degrees_of_freedom)\n",
    "    margin_of_error = t * standard_error\n",
    "    \n",
    "    ratio = (tasa['Mujer'] / tasa['Varon']).to_frame()\n",
    "    ratio.rename(columns={0: 'Ingreso laboral promedio'}, inplace=True)\n",
    "\n",
    "    lower_bound = tasa['Mujer'] / tasa['Varon'] - margin_of_error\n",
    "    upper_bound = tasa['Mujer'] / tasa['Varon'] + margin_of_error\n",
    "    relative_standard_error = margin_of_error / (tasa['Mujer'] / tasa['Varon'])\n",
    "\n",
    "    error = pd.concat([lower_bound, upper_bound, margin_of_error, relative_standard_error], axis=1)\n",
    "    error.columns = ['LI', 'LS', 'ME', 'ER']\n",
    "    error[['LI', 'LS', 'ME', 'ER']] = pd.NaT\n",
    "\n",
    "    return tasa, size, ratio*100, error"
   ]
  }
 ],
 "metadata": {
  "kernelspec": {
   "display_name": "geopandas_env",
   "language": "python",
   "name": "python3"
  },
  "language_info": {
   "codemirror_mode": {
    "name": "ipython",
    "version": 3
   },
   "file_extension": ".py",
   "mimetype": "text/x-python",
   "name": "python",
   "nbconvert_exporter": "python",
   "pygments_lexer": "ipython3",
   "version": "3.9.16"
  }
 },
 "nbformat": 4,
 "nbformat_minor": 2
}
