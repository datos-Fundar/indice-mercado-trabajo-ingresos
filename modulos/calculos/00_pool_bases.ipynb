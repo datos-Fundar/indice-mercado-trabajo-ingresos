{
 "cells": [
  {
   "cell_type": "code",
   "execution_count": 6,
   "metadata": {},
   "outputs": [],
   "source": [
    "import pandas as pd\n",
    "import warnings\n",
    "import os\n",
    "warnings.filterwarnings('ignore')"
   ]
  },
  {
   "cell_type": "code",
   "execution_count": 11,
   "metadata": {},
   "outputs": [],
   "source": [
    "script_dir = os.getcwd()\n",
    "base_path = os.path.abspath(os.path.join(script_dir, '..', '..'))\n",
    "\n",
    "%run {os.path.join(base_path, 'modulos/funciones/00_funciones_pool_bases.ipynb')}\n",
    "\n",
    "relative_path = 'data_input/EPH/personas_total_urbano/'\n",
    "full_path = os.path.join(base_path, relative_path)"
   ]
  },
  {
   "cell_type": "code",
   "execution_count": null,
   "metadata": {},
   "outputs": [],
   "source": []
  },
  {
   "cell_type": "code",
   "execution_count": 12,
   "metadata": {},
   "outputs": [],
   "source": [
    "filename = 'personas_tot_urb_3T_21.txt'\n",
    "filename = 'personas_tot_urb_3T_22.txt'\n",
    "\n",
    "filename = 'hogar_tot_urb_3T_2021.txt'\n",
    "filename = 'hogar_tot_urb_3T_2022.txt'"
   ]
  },
  {
   "cell_type": "code",
   "execution_count": 3,
   "metadata": {},
   "outputs": [],
   "source": [
    "# Read data\n",
    "\n",
    "df_people_2021 = pd.read_csv(full_path + filename, delimiter=';', low_memory=False)\n",
    "df_people_2022 = pd.read_csv(full_path + filename, delimiter=';', low_memory=False)\n",
    "\n",
    "df_houses_2021 = pd.read_csv(full_path + filename, delimiter=';', low_memory=False)\n",
    "df_houses_2022 = pd.read_csv(full_path + filename, delimiter=';', low_memory=False)"
   ]
  },
  {
   "cell_type": "code",
   "execution_count": 4,
   "metadata": {},
   "outputs": [],
   "source": [
    "conversion_factor = 0.5458771634\n",
    "df_merged_without_copies_people = merge_and_calculate_people(df_people_2021, df_people_2022, 2021, 2022, conversion_factor)\n",
    "df_merged_without_copies_people.to_csv(pathdata + 'data_output/Base_pool_individuos_solo_con_replicas_actuales.csv')"
   ]
  },
  {
   "cell_type": "code",
   "execution_count": 5,
   "metadata": {},
   "outputs": [],
   "source": [
    "df_merged_without_copies_houses = merge_and_calculate_houses(df_houses_2021, df_houses_2022, 2021, 2022, conversion_factor)\n",
    "df_merged_without_copies_houses.to_csv(pathdata + 'data_output/Base_pool_hogares_solo_con_replicas_actuales.csv')"
   ]
  }
 ],
 "metadata": {
  "kernelspec": {
   "display_name": "Python 3.9.12 ('pyenv')",
   "language": "python",
   "name": "python3"
  },
  "language_info": {
   "codemirror_mode": {
    "name": "ipython",
    "version": 3
   },
   "file_extension": ".py",
   "mimetype": "text/x-python",
   "name": "python",
   "nbconvert_exporter": "python",
   "pygments_lexer": "ipython3",
   "version": "3.9.15"
  },
  "orig_nbformat": 4,
  "vscode": {
   "interpreter": {
    "hash": "509f5cbefa0cafc10dc1461472345186404cff510fb444dcb85013f09977a5b7"
   }
  }
 },
 "nbformat": 4,
 "nbformat_minor": 2
}
