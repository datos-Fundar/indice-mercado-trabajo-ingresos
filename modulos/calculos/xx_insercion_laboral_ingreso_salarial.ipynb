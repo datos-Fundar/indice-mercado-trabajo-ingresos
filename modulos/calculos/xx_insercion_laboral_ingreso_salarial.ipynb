{
 "cells": [
  {
   "cell_type": "code",
   "execution_count": 2,
   "metadata": {},
   "outputs": [],
   "source": [
    "import pandas as pd\n",
    "import numpy as np"
   ]
  },
  {
   "cell_type": "code",
   "execution_count": 3,
   "metadata": {},
   "outputs": [],
   "source": [
    "# Definimos path\n",
    "pathdata = '/Users/danielarisaro/Documents/Fundar/indice-mercado-trabajo-ingresos/'\n",
    "pathdata = '/home/daniufundar/Documents/Fundar/indice-mercado-trabajo-ingresos/'"
   ]
  },
  {
   "cell_type": "code",
   "execution_count": 3,
   "metadata": {},
   "outputs": [],
   "source": [
    "df_people_pool = pd.read_csv(pathdata + 'data_output/Base_pool_individuos_solo_con_replicas_actuales.csv', low_memory=False, index_col=0)\n",
    "df_houses_pool = pd.read_csv(pathdata + 'data_output/Base_pool_hogares_solo_con_replicas_actuales.csv', low_memory=False, index_col=0)"
   ]
  },
  {
   "cell_type": "code",
   "execution_count": 11,
   "metadata": {},
   "outputs": [],
   "source": [
    "pondera = 'PONDIIO_new'\n",
    "var = 'PROVINCIA'"
   ]
  },
  {
   "cell_type": "code",
   "execution_count": 23,
   "metadata": {},
   "outputs": [],
   "source": [
    "df_temp = df_people_pool.query('CH06 >= 14')\n",
    "df_ocupados = df_temp[(df_temp['P21_new']!=-9) & (df_temp['ESTADO']==1) & (df_temp['CAT_OCUP'].isin([2,3]))][[var, pondera, 'P21_new', 'CH04']]\n",
    "df_ocupados = df_ocupados[df_ocupados['P21_new']>0]"
   ]
  },
  {
   "cell_type": "code",
   "execution_count": 24,
   "metadata": {},
   "outputs": [],
   "source": [
    "df_ocupados['Multiplication'] = df_ocupados['P21_new'] * df_ocupados[pondera]\n",
    "numerador = df_ocupados.groupby(['CH04', var])['Multiplication'].sum().unstack(level=0)\n",
    "denominador = df_ocupados.groupby(['CH04', var])[pondera].sum().unstack(level=0)\n",
    "tasa = numerador.div(denominador, fill_value=np.nan)    \n",
    "tasa.columns = ['Varon', 'Mujer']"
   ]
  },
  {
   "cell_type": "code",
   "execution_count": 26,
   "metadata": {},
   "outputs": [
    {
     "data": {
      "text/plain": [
       "PROVINCIA\n",
       "2     0.825809\n",
       "6     0.720321\n",
       "10    0.830330\n",
       "14    0.693172\n",
       "18    0.846427\n",
       "22    0.874493\n",
       "26    0.664494\n",
       "30    0.658217\n",
       "34    0.874688\n",
       "38    0.741948\n",
       "42    0.710414\n",
       "46    0.882030\n",
       "50    0.708517\n",
       "54    0.755043\n",
       "58    0.741717\n",
       "62    0.849890\n",
       "66    0.729896\n",
       "70    0.779888\n",
       "74    0.801567\n",
       "78    0.697654\n",
       "82    0.730241\n",
       "86    0.814533\n",
       "90    0.746476\n",
       "94    0.896363\n",
       "dtype: float64"
      ]
     },
     "execution_count": 26,
     "metadata": {},
     "output_type": "execute_result"
    }
   ],
   "source": [
    "tasa['Mujer'] / tasa['Varon']"
   ]
  },
  {
   "cell_type": "code",
   "execution_count": 27,
   "metadata": {},
   "outputs": [],
   "source": [
    "def weighted_median(values, weights):\n",
    "    sorted_indices = np.argsort(values)\n",
    "    sorted_values = values[sorted_indices]\n",
    "    sorted_weights = weights[sorted_indices]\n",
    "    cumulative_weights = np.cumsum(sorted_weights)\n",
    "    total_weight = cumulative_weights[-1]\n",
    "    median_index = np.searchsorted(cumulative_weights, total_weight / 2.0)\n",
    "    return sorted_values[median_index]\n",
    "\n",
    "def weighted_median_group(x):\n",
    "    return weighted_median(x['P21_new'].values, x[pondera].values)\n",
    "\n",
    "\n",
    "df_mediana = df_ocupados.groupby(['CH04', var]).apply(weighted_median_group)\n",
    "tasa = df_mediana.unstack(level=0)\n",
    "tasa.columns = ['Varon', 'Mujer']"
   ]
  },
  {
   "cell_type": "code",
   "execution_count": 28,
   "metadata": {},
   "outputs": [
    {
     "data": {
      "text/plain": [
       "PROVINCIA\n",
       "2     0.900000\n",
       "6     0.682948\n",
       "10    0.800000\n",
       "14    0.653679\n",
       "18    0.813467\n",
       "22    0.813467\n",
       "26    0.750000\n",
       "30    0.625000\n",
       "34    0.800000\n",
       "38    0.732120\n",
       "42    0.709241\n",
       "46    0.900000\n",
       "50    0.666667\n",
       "54    0.666667\n",
       "58    0.770653\n",
       "62    0.882353\n",
       "66    0.658908\n",
       "70    0.788922\n",
       "74    0.762625\n",
       "78    0.727273\n",
       "82    0.750000\n",
       "86    0.800000\n",
       "90    0.585384\n",
       "94    0.833333\n",
       "dtype: float64"
      ]
     },
     "execution_count": 28,
     "metadata": {},
     "output_type": "execute_result"
    }
   ],
   "source": [
    "tasa['Mujer'] / tasa['Varon']"
   ]
  },
  {
   "cell_type": "code",
   "execution_count": 4,
   "metadata": {},
   "outputs": [],
   "source": [
    "df_people_3T2021 = pd.read_csv(pathdata + 'data_input/personas_tot_urb_3T_21.txt', low_memory=False, index_col=0, delimiter=';')"
   ]
  },
  {
   "cell_type": "code",
   "execution_count": 5,
   "metadata": {},
   "outputs": [],
   "source": [
    "df_temp = df_people_3T2021.query('CH06 >= 14')\n",
    "\n",
    "df_estado = df_temp[(df_temp['ESTADO']==1)]          # personas ocupadas\n",
    "df_ocupados = df_temp[(df_temp['P21']!=-9) & (df_temp['ESTADO']==1) & (df_temp['CAT_OCUP']==3)][['PONDIIO', 'P21', 'CH04']]\n",
    "df_ocupados = df_ocupados[df_ocupados['P21']>0]\n"
   ]
  },
  {
   "cell_type": "code",
   "execution_count": 6,
   "metadata": {},
   "outputs": [
    {
     "data": {
      "text/plain": [
       "CH04\n",
       "Varon    54308.106493\n",
       "Mujer    40695.930279\n",
       "Ratio       74.935277\n",
       "dtype: float64"
      ]
     },
     "execution_count": 6,
     "metadata": {},
     "output_type": "execute_result"
    }
   ],
   "source": [
    "df_ocupados['Multiplication'] = df_ocupados['P21'] * df_ocupados['PONDIIO']\n",
    "numerador = df_ocupados.groupby(['CH04'])['Multiplication'].sum()\n",
    "denominador = df_ocupados.groupby(['CH04'])['PONDIIO'].sum()\n",
    "tasa = numerador.div(denominador, fill_value=np.nan)    \n",
    "tasa = tasa.rename(index= {1:'Varon', 2:'Mujer'})\n",
    "tasa.loc['Ratio'] = tasa['Mujer']/tasa['Varon']*100\n",
    "tasa"
   ]
  }
 ],
 "metadata": {
  "kernelspec": {
   "display_name": "indice_genero_env",
   "language": "python",
   "name": "python3"
  },
  "language_info": {
   "codemirror_mode": {
    "name": "ipython",
    "version": 3
   },
   "file_extension": ".py",
   "mimetype": "text/x-python",
   "name": "python",
   "nbconvert_exporter": "python",
   "pygments_lexer": "ipython3",
   "version": "3.9.15"
  },
  "orig_nbformat": 4
 },
 "nbformat": 4,
 "nbformat_minor": 2
}
