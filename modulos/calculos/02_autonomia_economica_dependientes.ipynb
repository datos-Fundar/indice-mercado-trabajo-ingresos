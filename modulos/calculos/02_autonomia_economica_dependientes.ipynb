{
 "cells": [
  {
   "cell_type": "code",
   "execution_count": 17,
   "metadata": {},
   "outputs": [],
   "source": [
    "%run /home/daniufundar/Documents/Fundar/indice-mercado-trabajo-ingresos/modulos/funciones/02_funciones_autonomia_economica.ipynb\n",
    "#%run /Users/danielarisaro/Documents/Fundar/indice-mercado-trabajo-ingresos/modulos/funciones/02_funciones_autonomia_economica.ipynb\n",
    "import pandas as pd\n",
    "import numpy as np\n",
    "import matplotlib.pyplot as plt\n",
    "import warnings\n",
    "import pickle\n",
    "warnings.filterwarnings('ignore')"
   ]
  },
  {
   "cell_type": "code",
   "execution_count": 18,
   "metadata": {},
   "outputs": [],
   "source": [
    "# Definimos path\n",
    "pathdata = '/home/daniu/Documentos/fundar/indice-mercado-trabajo-ingresos/'\n",
    "pathdata = '/Users/danielarisaro/Documents/Fundar/indice-mercado-trabajo-ingresos/'\n",
    "pathdata = '/home/daniufundar/Documents/Fundar/indice-mercado-trabajo-ingresos/'"
   ]
  },
  {
   "cell_type": "code",
   "execution_count": 19,
   "metadata": {},
   "outputs": [],
   "source": [
    "with open(pathdata + 'modulos/diccionarios/' + 'diccionario_aglomerados.pickle', 'rb') as file:\n",
    "    dict_cod_aglomerado = pickle.load(file)\n",
    "\n",
    "with open(pathdata + 'modulos/diccionarios/' + 'diccionario_provincia.pickle', 'rb') as file:\n",
    "    dict_cod_provincia = pickle.load(file)\n",
    "\n",
    "with open(pathdata + 'modulos/diccionarios/' + 'diccionario_aglomerado_provincia.pickle', 'rb') as file:\n",
    "    map_aglomerado_provincia = pickle.load(file)\n",
    "\n",
    "with open(pathdata + 'modulos/diccionarios/' + 'diccionario_aglomerado_region.pickle', 'rb') as file:\n",
    "    map_aglomerado_region = pickle.load(file)\n",
    "\n",
    "with open(pathdata + 'modulos/diccionarios/' + 'diccionario_provincia_region.pickle', 'rb') as file:\n",
    "    map_provincia_region = pickle.load(file)"
   ]
  },
  {
   "cell_type": "code",
   "execution_count": 20,
   "metadata": {},
   "outputs": [],
   "source": [
    "df_people_pool = pd.read_csv(pathdata + 'data_output/Base_pool_individuos_solo_con_replicas_actuales.csv', low_memory=False, index_col=0)\n",
    "df_houses_pool = pd.read_csv(pathdata + 'data_output/Base_pool_hogares_solo_con_replicas_actuales.csv', low_memory=False, index_col=0)"
   ]
  },
  {
   "cell_type": "code",
   "execution_count": 21,
   "metadata": {},
   "outputs": [],
   "source": [
    "tasa, size, ratio, error = poblacion_inactiva_sin_ingresos(df_people_pool, tipo='Urbano', base='Individual', confidence_level=0.95, pool=True)\n",
    "dependientes_sin_ingreso = pd.concat([tasa, size, ratio, error], axis=1)"
   ]
  },
  {
   "cell_type": "code",
   "execution_count": 22,
   "metadata": {},
   "outputs": [],
   "source": [
    "dependientes_sin_ingreso.to_pickle(pathdata + 'data_output/df_dependientes_sin_ingresos_pool.pickle')"
   ]
  },
  {
   "cell_type": "code",
   "execution_count": 23,
   "metadata": {},
   "outputs": [],
   "source": [
    "tabla_pob_inactiva, tabla_pob_inactiva_porcentaje, ratio_pob_inactiva = tabla_ingresos_inactivos_no_estudiantes(df_people_pool, pool=True)"
   ]
  },
  {
   "cell_type": "code",
   "execution_count": 24,
   "metadata": {},
   "outputs": [
    {
     "data": {
      "text/html": [
       "<style type=\"text/css\">\n",
       "</style>\n",
       "<table id=\"T_a832c\">\n",
       "  <thead>\n",
       "    <tr>\n",
       "      <th class=\"blank level0\" >&nbsp;</th>\n",
       "      <th id=\"T_a832c_level0_col0\" class=\"col_heading level0 col0\" colspan=\"4\">Ingreso > 0</th>\n",
       "      <th id=\"T_a832c_level0_col4\" class=\"col_heading level0 col4\" colspan=\"4\">Ingreso = 0</th>\n",
       "      <th id=\"T_a832c_level0_col8\" class=\"col_heading level0 col8\" colspan=\"4\">Ingreso = -9</th>\n",
       "    </tr>\n",
       "    <tr>\n",
       "      <th class=\"blank level1\" >&nbsp;</th>\n",
       "      <th id=\"T_a832c_level1_col0\" class=\"col_heading level1 col0\" >Varon</th>\n",
       "      <th id=\"T_a832c_level1_col1\" class=\"col_heading level1 col1\" >N_v</th>\n",
       "      <th id=\"T_a832c_level1_col2\" class=\"col_heading level1 col2\" >N_m</th>\n",
       "      <th id=\"T_a832c_level1_col3\" class=\"col_heading level1 col3\" >Mujer</th>\n",
       "      <th id=\"T_a832c_level1_col4\" class=\"col_heading level1 col4\" >Varon</th>\n",
       "      <th id=\"T_a832c_level1_col5\" class=\"col_heading level1 col5\" >N_v</th>\n",
       "      <th id=\"T_a832c_level1_col6\" class=\"col_heading level1 col6\" >N_m</th>\n",
       "      <th id=\"T_a832c_level1_col7\" class=\"col_heading level1 col7\" >Mujer</th>\n",
       "      <th id=\"T_a832c_level1_col8\" class=\"col_heading level1 col8\" >Varon</th>\n",
       "      <th id=\"T_a832c_level1_col9\" class=\"col_heading level1 col9\" >N_v</th>\n",
       "      <th id=\"T_a832c_level1_col10\" class=\"col_heading level1 col10\" >N_m</th>\n",
       "      <th id=\"T_a832c_level1_col11\" class=\"col_heading level1 col11\" >Mujer</th>\n",
       "    </tr>\n",
       "    <tr>\n",
       "      <th class=\"index_name level0\" >Rango edad</th>\n",
       "      <th class=\"blank col0\" >&nbsp;</th>\n",
       "      <th class=\"blank col1\" >&nbsp;</th>\n",
       "      <th class=\"blank col2\" >&nbsp;</th>\n",
       "      <th class=\"blank col3\" >&nbsp;</th>\n",
       "      <th class=\"blank col4\" >&nbsp;</th>\n",
       "      <th class=\"blank col5\" >&nbsp;</th>\n",
       "      <th class=\"blank col6\" >&nbsp;</th>\n",
       "      <th class=\"blank col7\" >&nbsp;</th>\n",
       "      <th class=\"blank col8\" >&nbsp;</th>\n",
       "      <th class=\"blank col9\" >&nbsp;</th>\n",
       "      <th class=\"blank col10\" >&nbsp;</th>\n",
       "      <th class=\"blank col11\" >&nbsp;</th>\n",
       "    </tr>\n",
       "  </thead>\n",
       "  <tbody>\n",
       "    <tr>\n",
       "      <th id=\"T_a832c_level0_row0\" class=\"row_heading level0 row0\" >14-29</th>\n",
       "      <td id=\"T_a832c_row0_col0\" class=\"data row0 col0\" >315,610</td>\n",
       "      <td id=\"T_a832c_row0_col1\" class=\"data row0 col1\" >1,081</td>\n",
       "      <td id=\"T_a832c_row0_col2\" class=\"data row0 col2\" >1,464</td>\n",
       "      <td id=\"T_a832c_row0_col3\" class=\"data row0 col3\" >433,802</td>\n",
       "      <td id=\"T_a832c_row0_col4\" class=\"data row0 col4\" >91,103</td>\n",
       "      <td id=\"T_a832c_row0_col5\" class=\"data row0 col5\" >349</td>\n",
       "      <td id=\"T_a832c_row0_col6\" class=\"data row0 col6\" >1,484</td>\n",
       "      <td id=\"T_a832c_row0_col7\" class=\"data row0 col7\" >430,096</td>\n",
       "      <td id=\"T_a832c_row0_col8\" class=\"data row0 col8\" >2,568</td>\n",
       "      <td id=\"T_a832c_row0_col9\" class=\"data row0 col9\" >9</td>\n",
       "      <td id=\"T_a832c_row0_col10\" class=\"data row0 col10\" >41</td>\n",
       "      <td id=\"T_a832c_row0_col11\" class=\"data row0 col11\" >21,231</td>\n",
       "    </tr>\n",
       "    <tr>\n",
       "      <th id=\"T_a832c_level0_row1\" class=\"row_heading level0 row1\" >30-45</th>\n",
       "      <td id=\"T_a832c_row1_col0\" class=\"data row1 col0\" >82,593</td>\n",
       "      <td id=\"T_a832c_row1_col1\" class=\"data row1 col1\" >292</td>\n",
       "      <td id=\"T_a832c_row1_col2\" class=\"data row1 col2\" >1,742</td>\n",
       "      <td id=\"T_a832c_row1_col3\" class=\"data row1 col3\" >584,015</td>\n",
       "      <td id=\"T_a832c_row1_col4\" class=\"data row1 col4\" >75,968</td>\n",
       "      <td id=\"T_a832c_row1_col5\" class=\"data row1 col5\" >361</td>\n",
       "      <td id=\"T_a832c_row1_col6\" class=\"data row1 col6\" >1,777</td>\n",
       "      <td id=\"T_a832c_row1_col7\" class=\"data row1 col7\" >520,335</td>\n",
       "      <td id=\"T_a832c_row1_col8\" class=\"data row1 col8\" >9,990</td>\n",
       "      <td id=\"T_a832c_row1_col9\" class=\"data row1 col9\" >20</td>\n",
       "      <td id=\"T_a832c_row1_col10\" class=\"data row1 col10\" >64</td>\n",
       "      <td id=\"T_a832c_row1_col11\" class=\"data row1 col11\" >39,147</td>\n",
       "    </tr>\n",
       "    <tr>\n",
       "      <th id=\"T_a832c_level0_row2\" class=\"row_heading level0 row2\" >46-65</th>\n",
       "      <td id=\"T_a832c_row2_col0\" class=\"data row2 col0\" >147,866</td>\n",
       "      <td id=\"T_a832c_row2_col1\" class=\"data row2 col1\" >437</td>\n",
       "      <td id=\"T_a832c_row2_col2\" class=\"data row2 col2\" >2,157</td>\n",
       "      <td id=\"T_a832c_row2_col3\" class=\"data row2 col3\" >736,410</td>\n",
       "      <td id=\"T_a832c_row2_col4\" class=\"data row2 col4\" >367,770</td>\n",
       "      <td id=\"T_a832c_row2_col5\" class=\"data row2 col5\" >1,536</td>\n",
       "      <td id=\"T_a832c_row2_col6\" class=\"data row2 col6\" >3,912</td>\n",
       "      <td id=\"T_a832c_row2_col7\" class=\"data row2 col7\" >901,827</td>\n",
       "      <td id=\"T_a832c_row2_col8\" class=\"data row2 col8\" >64,786</td>\n",
       "      <td id=\"T_a832c_row2_col9\" class=\"data row2 col9\" >179</td>\n",
       "      <td id=\"T_a832c_row2_col10\" class=\"data row2 col10\" >358</td>\n",
       "      <td id=\"T_a832c_row2_col11\" class=\"data row2 col11\" >133,463</td>\n",
       "    </tr>\n",
       "    <tr>\n",
       "      <th id=\"T_a832c_level0_row3\" class=\"row_heading level0 row3\" >65+</th>\n",
       "      <td id=\"T_a832c_row3_col0\" class=\"data row3 col0\" >24,266</td>\n",
       "      <td id=\"T_a832c_row3_col1\" class=\"data row3 col1\" >78</td>\n",
       "      <td id=\"T_a832c_row3_col2\" class=\"data row3 col2\" >153</td>\n",
       "      <td id=\"T_a832c_row3_col3\" class=\"data row3 col3\" >65,306</td>\n",
       "      <td id=\"T_a832c_row3_col4\" class=\"data row3 col4\" >1,219,741</td>\n",
       "      <td id=\"T_a832c_row3_col5\" class=\"data row3 col5\" >4,588</td>\n",
       "      <td id=\"T_a832c_row3_col6\" class=\"data row3 col6\" >7,021</td>\n",
       "      <td id=\"T_a832c_row3_col7\" class=\"data row3 col7\" >2,027,907</td>\n",
       "      <td id=\"T_a832c_row3_col8\" class=\"data row3 col8\" >259,330</td>\n",
       "      <td id=\"T_a832c_row3_col9\" class=\"data row3 col9\" >615</td>\n",
       "      <td id=\"T_a832c_row3_col10\" class=\"data row3 col10\" >885</td>\n",
       "      <td id=\"T_a832c_row3_col11\" class=\"data row3 col11\" >415,149</td>\n",
       "    </tr>\n",
       "    <tr>\n",
       "      <th id=\"T_a832c_level0_row4\" class=\"row_heading level0 row4\" >Total Col</th>\n",
       "      <td id=\"T_a832c_row4_col0\" class=\"data row4 col0\" >570,335</td>\n",
       "      <td id=\"T_a832c_row4_col1\" class=\"data row4 col1\" >1,888</td>\n",
       "      <td id=\"T_a832c_row4_col2\" class=\"data row4 col2\" >5,516</td>\n",
       "      <td id=\"T_a832c_row4_col3\" class=\"data row4 col3\" >1,819,533</td>\n",
       "      <td id=\"T_a832c_row4_col4\" class=\"data row4 col4\" >1,754,582</td>\n",
       "      <td id=\"T_a832c_row4_col5\" class=\"data row4 col5\" >6,834</td>\n",
       "      <td id=\"T_a832c_row4_col6\" class=\"data row4 col6\" >14,194</td>\n",
       "      <td id=\"T_a832c_row4_col7\" class=\"data row4 col7\" >3,880,166</td>\n",
       "      <td id=\"T_a832c_row4_col8\" class=\"data row4 col8\" >336,674</td>\n",
       "      <td id=\"T_a832c_row4_col9\" class=\"data row4 col9\" >823</td>\n",
       "      <td id=\"T_a832c_row4_col10\" class=\"data row4 col10\" >1,348</td>\n",
       "      <td id=\"T_a832c_row4_col11\" class=\"data row4 col11\" >608,990</td>\n",
       "    </tr>\n",
       "  </tbody>\n",
       "</table>\n"
      ],
      "text/plain": [
       "<pandas.io.formats.style.Styler at 0x7f788f5e45e0>"
      ]
     },
     "execution_count": 24,
     "metadata": {},
     "output_type": "execute_result"
    }
   ],
   "source": [
    "tabla_pob_inactiva"
   ]
  },
  {
   "cell_type": "code",
   "execution_count": 25,
   "metadata": {},
   "outputs": [
    {
     "data": {
      "text/html": [
       "<style type=\"text/css\">\n",
       "</style>\n",
       "<table id=\"T_18d0a\">\n",
       "  <thead>\n",
       "    <tr>\n",
       "      <th class=\"blank level0\" >&nbsp;</th>\n",
       "      <th id=\"T_18d0a_level0_col0\" class=\"col_heading level0 col0\" colspan=\"2\">Ingreso > 0</th>\n",
       "      <th id=\"T_18d0a_level0_col2\" class=\"col_heading level0 col2\" colspan=\"2\">Ingreso = 0</th>\n",
       "      <th id=\"T_18d0a_level0_col4\" class=\"col_heading level0 col4\" colspan=\"2\">Ingreso = -9</th>\n",
       "    </tr>\n",
       "    <tr>\n",
       "      <th class=\"blank level1\" >&nbsp;</th>\n",
       "      <th id=\"T_18d0a_level1_col0\" class=\"col_heading level1 col0\" >Varon</th>\n",
       "      <th id=\"T_18d0a_level1_col1\" class=\"col_heading level1 col1\" >Mujer</th>\n",
       "      <th id=\"T_18d0a_level1_col2\" class=\"col_heading level1 col2\" >Varon</th>\n",
       "      <th id=\"T_18d0a_level1_col3\" class=\"col_heading level1 col3\" >Mujer</th>\n",
       "      <th id=\"T_18d0a_level1_col4\" class=\"col_heading level1 col4\" >Varon</th>\n",
       "      <th id=\"T_18d0a_level1_col5\" class=\"col_heading level1 col5\" >Mujer</th>\n",
       "    </tr>\n",
       "    <tr>\n",
       "      <th class=\"index_name level0\" >Rango edad</th>\n",
       "      <th class=\"blank col0\" >&nbsp;</th>\n",
       "      <th class=\"blank col1\" >&nbsp;</th>\n",
       "      <th class=\"blank col2\" >&nbsp;</th>\n",
       "      <th class=\"blank col3\" >&nbsp;</th>\n",
       "      <th class=\"blank col4\" >&nbsp;</th>\n",
       "      <th class=\"blank col5\" >&nbsp;</th>\n",
       "    </tr>\n",
       "  </thead>\n",
       "  <tbody>\n",
       "    <tr>\n",
       "      <th id=\"T_18d0a_level0_row0\" class=\"row_heading level0 row0\" >14-29</th>\n",
       "      <td id=\"T_18d0a_row0_col0\" class=\"data row0 col0\" >55.34</td>\n",
       "      <td id=\"T_18d0a_row0_col1\" class=\"data row0 col1\" >23.84</td>\n",
       "      <td id=\"T_18d0a_row0_col2\" class=\"data row0 col2\" >5.19</td>\n",
       "      <td id=\"T_18d0a_row0_col3\" class=\"data row0 col3\" >11.08</td>\n",
       "      <td id=\"T_18d0a_row0_col4\" class=\"data row0 col4\" >0.76</td>\n",
       "      <td id=\"T_18d0a_row0_col5\" class=\"data row0 col5\" >3.49</td>\n",
       "    </tr>\n",
       "    <tr>\n",
       "      <th id=\"T_18d0a_level0_row1\" class=\"row_heading level0 row1\" >30-45</th>\n",
       "      <td id=\"T_18d0a_row1_col0\" class=\"data row1 col0\" >14.48</td>\n",
       "      <td id=\"T_18d0a_row1_col1\" class=\"data row1 col1\" >32.10</td>\n",
       "      <td id=\"T_18d0a_row1_col2\" class=\"data row1 col2\" >4.33</td>\n",
       "      <td id=\"T_18d0a_row1_col3\" class=\"data row1 col3\" >13.41</td>\n",
       "      <td id=\"T_18d0a_row1_col4\" class=\"data row1 col4\" >2.97</td>\n",
       "      <td id=\"T_18d0a_row1_col5\" class=\"data row1 col5\" >6.43</td>\n",
       "    </tr>\n",
       "    <tr>\n",
       "      <th id=\"T_18d0a_level0_row2\" class=\"row_heading level0 row2\" >46-65</th>\n",
       "      <td id=\"T_18d0a_row2_col0\" class=\"data row2 col0\" >25.93</td>\n",
       "      <td id=\"T_18d0a_row2_col1\" class=\"data row2 col1\" >40.47</td>\n",
       "      <td id=\"T_18d0a_row2_col2\" class=\"data row2 col2\" >20.96</td>\n",
       "      <td id=\"T_18d0a_row2_col3\" class=\"data row2 col3\" >23.24</td>\n",
       "      <td id=\"T_18d0a_row2_col4\" class=\"data row2 col4\" >19.24</td>\n",
       "      <td id=\"T_18d0a_row2_col5\" class=\"data row2 col5\" >21.92</td>\n",
       "    </tr>\n",
       "    <tr>\n",
       "      <th id=\"T_18d0a_level0_row3\" class=\"row_heading level0 row3\" >65+</th>\n",
       "      <td id=\"T_18d0a_row3_col0\" class=\"data row3 col0\" >4.25</td>\n",
       "      <td id=\"T_18d0a_row3_col1\" class=\"data row3 col1\" >3.59</td>\n",
       "      <td id=\"T_18d0a_row3_col2\" class=\"data row3 col2\" >69.52</td>\n",
       "      <td id=\"T_18d0a_row3_col3\" class=\"data row3 col3\" >52.26</td>\n",
       "      <td id=\"T_18d0a_row3_col4\" class=\"data row3 col4\" >77.03</td>\n",
       "      <td id=\"T_18d0a_row3_col5\" class=\"data row3 col5\" >68.17</td>\n",
       "    </tr>\n",
       "    <tr>\n",
       "      <th id=\"T_18d0a_level0_row4\" class=\"row_heading level0 row4\" >Total Col</th>\n",
       "      <td id=\"T_18d0a_row4_col0\" class=\"data row4 col0\" >100.00</td>\n",
       "      <td id=\"T_18d0a_row4_col1\" class=\"data row4 col1\" >100.00</td>\n",
       "      <td id=\"T_18d0a_row4_col2\" class=\"data row4 col2\" >100.00</td>\n",
       "      <td id=\"T_18d0a_row4_col3\" class=\"data row4 col3\" >100.00</td>\n",
       "      <td id=\"T_18d0a_row4_col4\" class=\"data row4 col4\" >100.00</td>\n",
       "      <td id=\"T_18d0a_row4_col5\" class=\"data row4 col5\" >100.00</td>\n",
       "    </tr>\n",
       "  </tbody>\n",
       "</table>\n"
      ],
      "text/plain": [
       "<pandas.io.formats.style.Styler at 0x7f788f2f8cd0>"
      ]
     },
     "execution_count": 25,
     "metadata": {},
     "output_type": "execute_result"
    }
   ],
   "source": [
    "tabla_pob_inactiva_porcentaje"
   ]
  },
  {
   "cell_type": "code",
   "execution_count": 26,
   "metadata": {},
   "outputs": [
    {
     "data": {
      "text/html": [
       "<div>\n",
       "<style scoped>\n",
       "    .dataframe tbody tr th:only-of-type {\n",
       "        vertical-align: middle;\n",
       "    }\n",
       "\n",
       "    .dataframe tbody tr th {\n",
       "        vertical-align: top;\n",
       "    }\n",
       "\n",
       "    .dataframe thead th {\n",
       "        text-align: right;\n",
       "    }\n",
       "</style>\n",
       "<table border=\"1\" class=\"dataframe\">\n",
       "  <thead>\n",
       "    <tr style=\"text-align: right;\">\n",
       "      <th></th>\n",
       "      <th>Ingreso &gt; 0</th>\n",
       "      <th>Ingreso = 0</th>\n",
       "      <th>Ingreso = -9</th>\n",
       "    </tr>\n",
       "    <tr>\n",
       "      <th>Rango edad</th>\n",
       "      <th></th>\n",
       "      <th></th>\n",
       "      <th></th>\n",
       "    </tr>\n",
       "  </thead>\n",
       "  <tbody>\n",
       "    <tr>\n",
       "      <th>14-29</th>\n",
       "      <td>43.083401</td>\n",
       "      <td>213.478580</td>\n",
       "      <td>457.065866</td>\n",
       "    </tr>\n",
       "    <tr>\n",
       "      <th>30-45</th>\n",
       "      <td>221.641890</td>\n",
       "      <td>309.725462</td>\n",
       "      <td>216.624886</td>\n",
       "    </tr>\n",
       "    <tr>\n",
       "      <th>46-65</th>\n",
       "      <td>156.106555</td>\n",
       "      <td>110.884525</td>\n",
       "      <td>113.888920</td>\n",
       "    </tr>\n",
       "    <tr>\n",
       "      <th>65+</th>\n",
       "      <td>84.359985</td>\n",
       "      <td>75.180247</td>\n",
       "      <td>88.501539</td>\n",
       "    </tr>\n",
       "  </tbody>\n",
       "</table>\n",
       "</div>"
      ],
      "text/plain": [
       "            Ingreso > 0  Ingreso = 0  Ingreso = -9\n",
       "Rango edad                                        \n",
       "14-29         43.083401   213.478580    457.065866\n",
       "30-45        221.641890   309.725462    216.624886\n",
       "46-65        156.106555   110.884525    113.888920\n",
       "65+           84.359985    75.180247     88.501539"
      ]
     },
     "execution_count": 26,
     "metadata": {},
     "output_type": "execute_result"
    }
   ],
   "source": [
    "ratio_pob_inactiva"
   ]
  },
  {
   "cell_type": "code",
   "execution_count": 27,
   "metadata": {},
   "outputs": [],
   "source": [
    "df_temp = df_people_pool[df_people_pool['CH06'] >= 14].copy()\n",
    "df_inactivos = df_temp[(df_temp['ESTADO']==3) & df_temp['CAT_INAC']!=3][['PONDII_new', 'PONDERA_new', 'CH04', 'P47T', 'CH06']]\n"
   ]
  },
  {
   "cell_type": "code",
   "execution_count": 28,
   "metadata": {},
   "outputs": [],
   "source": [
    "import plotly.graph_objects as go\n"
   ]
  },
  {
   "cell_type": "code",
   "execution_count": 29,
   "metadata": {},
   "outputs": [],
   "source": [
    "import plotly.express as px\n"
   ]
  },
  {
   "cell_type": "code",
   "execution_count": 30,
   "metadata": {},
   "outputs": [],
   "source": [
    "fig = px.histogram(df_inactivos, x=\"P47T\", y=\"PONDII_new\", color=\"CH04\", marginal=\"rug\",\n",
    "                   hover_data=df_inactivos.columns)\n",
    "\n",
    "file_path = pathdata + 'figs/'\n",
    "filename = 'panel-inactivos-pool.html'\n",
    "fig.write_html(file_path + filename)"
   ]
  },
  {
   "cell_type": "code",
   "execution_count": 31,
   "metadata": {},
   "outputs": [],
   "source": [
    "fig = px.histogram(df_inactivos[df_inactivos['P47T']==0], x=\"CH06\", y=\"PONDERA_new\", color=\"CH04\", marginal=\"rug\",\n",
    "                   hover_data=df_inactivos[df_inactivos['P47T']==0].columns)\n",
    "\n",
    "file_path = pathdata + 'figs/'\n",
    "filename = 'panel-inactivos-pool_sin_ingreso.html'\n",
    "fig.write_html(file_path + filename)"
   ]
  },
  {
   "cell_type": "code",
   "execution_count": 32,
   "metadata": {},
   "outputs": [],
   "source": [
    "fig = px.histogram(df_inactivos[df_inactivos['P47T']>0], x=\"CH06\", y=\"PONDERA_new\", color=\"CH04\", marginal=\"rug\",\n",
    "                   hover_data=df_inactivos[df_inactivos['P47T']>0].columns)\n",
    "\n",
    "file_path = pathdata + 'figs/'\n",
    "filename = 'panel-inactivos-pool_con_ingreso.html'\n",
    "fig.write_html(file_path + filename)"
   ]
  }
 ],
 "metadata": {
  "kernelspec": {
   "display_name": "indice_genero_env",
   "language": "python",
   "name": "python3"
  },
  "language_info": {
   "codemirror_mode": {
    "name": "ipython",
    "version": 3
   },
   "file_extension": ".py",
   "mimetype": "text/x-python",
   "name": "python",
   "nbconvert_exporter": "python",
   "pygments_lexer": "ipython3",
   "version": "3.9.15"
  },
  "orig_nbformat": 4
 },
 "nbformat": 4,
 "nbformat_minor": 2
}
