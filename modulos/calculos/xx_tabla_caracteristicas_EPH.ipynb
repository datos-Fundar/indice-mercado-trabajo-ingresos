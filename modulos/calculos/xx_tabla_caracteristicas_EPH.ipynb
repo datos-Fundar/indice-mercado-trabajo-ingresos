{
 "cells": [
  {
   "cell_type": "code",
   "execution_count": 1,
   "metadata": {},
   "outputs": [],
   "source": [
    "import pandas as pd\n",
    "import numpy as np\n",
    "import matplotlib.pyplot as plt\n",
    "import seaborn as sns\n",
    "from matplotlib.patches import Rectangle\n",
    "import warnings\n",
    "warnings.filterwarnings('ignore')"
   ]
  },
  {
   "cell_type": "code",
   "execution_count": 3,
   "metadata": {},
   "outputs": [],
   "source": [
    "# Read data\n",
    "pathdata = '/home/daniu/Documentos/fundar/indice-mercado-trabajo-ingresos/'\n",
    "pathdata = '/home/daniufundar/Documents/Fundar/indice-mercado-trabajo-ingresos/'\n",
    "pathdata = '/Users/danielarisaro/Documents/fundar/indice-mercado-trabajo-ingresos/'\n",
    "\n",
    "df_people_2021 = pd.read_csv(pathdata + 'data_input/personas_tot_urb_3T_21.txt', delimiter=';', low_memory=False)\n",
    "df_people_2022 = pd.read_csv(pathdata + 'data_input/personas_tot_urb_3T_22.txt', delimiter=';', low_memory=False)\n",
    "\n",
    "df_houses_2021 = pd.read_csv(pathdata + 'data_input/hogar_tot_urb_3T_2021.txt', delimiter=';', low_memory=False)\n",
    "df_houses_2022 = pd.read_csv(pathdata + 'data_input/hogar_tot_urb_3T_2022.txt', delimiter=';', low_memory=False)"
   ]
  },
  {
   "cell_type": "code",
   "execution_count": 4,
   "metadata": {},
   "outputs": [],
   "source": [
    "def row_counts(df_year1, df_year2, year1, year2):\n",
    "    count_year1 = len(df_year1)\n",
    "    count_year2 = len(df_year2)\n",
    "    merged_df = pd.merge(df_year1, df_year2, on=['CODUSU', 'COMPONENTE'], how='inner')\n",
    "    count_both_years = len(merged_df)\n",
    "\n",
    "    # Calculate total population\n",
    "    pob_year1 = df_year1['PONDERA'].sum()\n",
    "    pob_year2 = df_year2['PONDERA'].sum()\n",
    "\n",
    "    # Calculate number of surveys performed\n",
    "    encuesta_realizada_year1 = df_year1[df_year1['H15'] != 2]['H15'].count()\n",
    "    pob_encuesta_realizada_year1 = df_year1[df_year1['H15'] != 2]['PONDERA'].sum()\n",
    "    encuesta_realizada_year2 = df_year2[df_year2['H15'] != 2]['H15'].count()\n",
    "    pob_encuesta_realizada_year2 = df_year2[df_year2['H15'] != 2]['PONDERA'].sum()\n",
    "\n",
    "    # Calculate number of imputed surveys\n",
    "    encuesta_imputada_year1 = df_year1[df_year1['IMPUTA'] == 2]['IMPUTA'].count()\n",
    "    pob_encuesta_imputada_year1 = df_year1[df_year1['IMPUTA'] == 2]['PONDERA'].sum()\n",
    "    encuesta_imputada_year2 = df_year2[df_year2['IMPUTA'] == 2]['IMPUTA'].count()\n",
    "    pob_encuesta_imputada_year2 = df_year2[df_year2['IMPUTA'] == 2]['PONDERA'].sum()\n",
    "\n",
    "    # Create the table as a pandas dataframe\n",
    "    data = {\n",
    "        'Anio': [year1, year2],\n",
    "        'Cantidad de observaciones': [count_year1, count_year2],\n",
    "        'Observaciones en ambos anios': [count_both_years, count_both_years],\n",
    "        'Poblacion total': [pob_year1, pob_year2],\n",
    "        'Encuestas realizadas en el anio': [encuesta_realizada_year1, encuesta_realizada_year2],\n",
    "        'Poblacion de encuestas realizadas en el anio': [pob_encuesta_realizada_year1, pob_encuesta_realizada_year2],\n",
    "        'Encuestas imputadas en el anio': [encuesta_imputada_year1, encuesta_imputada_year2],\n",
    "        'Poblacion de encuestas imputadas en el anio': [pob_encuesta_imputada_year1, pob_encuesta_imputada_year2]\n",
    "    }\n",
    "    table = pd.DataFrame(data)\n",
    "    table.set_index('Anio', inplace=True)\n",
    "\n",
    "    return table"
   ]
  },
  {
   "cell_type": "code",
   "execution_count": 5,
   "metadata": {},
   "outputs": [
    {
     "data": {
      "text/html": [
       "<div>\n",
       "<style scoped>\n",
       "    .dataframe tbody tr th:only-of-type {\n",
       "        vertical-align: middle;\n",
       "    }\n",
       "\n",
       "    .dataframe tbody tr th {\n",
       "        vertical-align: top;\n",
       "    }\n",
       "\n",
       "    .dataframe thead th {\n",
       "        text-align: right;\n",
       "    }\n",
       "</style>\n",
       "<table border=\"1\" class=\"dataframe\">\n",
       "  <thead>\n",
       "    <tr style=\"text-align: right;\">\n",
       "      <th></th>\n",
       "      <th>Cantidad de observaciones</th>\n",
       "      <th>Observaciones en ambos anios</th>\n",
       "      <th>Poblacion total</th>\n",
       "      <th>Encuestas realizadas en el anio</th>\n",
       "      <th>Poblacion de encuestas realizadas en el anio</th>\n",
       "      <th>Encuestas imputadas en el anio</th>\n",
       "      <th>Poblacion de encuestas imputadas en el anio</th>\n",
       "    </tr>\n",
       "    <tr>\n",
       "      <th>Anio</th>\n",
       "      <th></th>\n",
       "      <th></th>\n",
       "      <th></th>\n",
       "      <th></th>\n",
       "      <th></th>\n",
       "      <th></th>\n",
       "      <th></th>\n",
       "    </tr>\n",
       "  </thead>\n",
       "  <tbody>\n",
       "    <tr>\n",
       "      <th>2021</th>\n",
       "      <td>78217</td>\n",
       "      <td>30417</td>\n",
       "      <td>41693498</td>\n",
       "      <td>78118</td>\n",
       "      <td>41511018</td>\n",
       "      <td>0</td>\n",
       "      <td>0</td>\n",
       "    </tr>\n",
       "    <tr>\n",
       "      <th>2022</th>\n",
       "      <td>77642</td>\n",
       "      <td>30417</td>\n",
       "      <td>42268056</td>\n",
       "      <td>77523</td>\n",
       "      <td>42191941</td>\n",
       "      <td>0</td>\n",
       "      <td>0</td>\n",
       "    </tr>\n",
       "  </tbody>\n",
       "</table>\n",
       "</div>"
      ],
      "text/plain": [
       "      Cantidad de observaciones  Observaciones en ambos anios  \\\n",
       "Anio                                                            \n",
       "2021                      78217                         30417   \n",
       "2022                      77642                         30417   \n",
       "\n",
       "      Poblacion total  Encuestas realizadas en el anio  \\\n",
       "Anio                                                     \n",
       "2021         41693498                            78118   \n",
       "2022         42268056                            77523   \n",
       "\n",
       "      Poblacion de encuestas realizadas en el anio  \\\n",
       "Anio                                                 \n",
       "2021                                      41511018   \n",
       "2022                                      42191941   \n",
       "\n",
       "      Encuestas imputadas en el anio  \\\n",
       "Anio                                   \n",
       "2021                               0   \n",
       "2022                               0   \n",
       "\n",
       "      Poblacion de encuestas imputadas en el anio  \n",
       "Anio                                               \n",
       "2021                                            0  \n",
       "2022                                            0  "
      ]
     },
     "execution_count": 5,
     "metadata": {},
     "output_type": "execute_result"
    }
   ],
   "source": [
    "result_table = row_counts(df_people_2021, df_people_2022, 2021, 2022)\n",
    "result_table\n"
   ]
  }
 ],
 "metadata": {
  "kernelspec": {
   "display_name": "Python 3.9.12 ('pyenv')",
   "language": "python",
   "name": "python3"
  },
  "language_info": {
   "codemirror_mode": {
    "name": "ipython",
    "version": 3
   },
   "file_extension": ".py",
   "mimetype": "text/x-python",
   "name": "python",
   "nbconvert_exporter": "python",
   "pygments_lexer": "ipython3",
   "version": "3.9.12"
  },
  "orig_nbformat": 4,
  "vscode": {
   "interpreter": {
    "hash": "509f5cbefa0cafc10dc1461472345186404cff510fb444dcb85013f09977a5b7"
   }
  }
 },
 "nbformat": 4,
 "nbformat_minor": 2
}
