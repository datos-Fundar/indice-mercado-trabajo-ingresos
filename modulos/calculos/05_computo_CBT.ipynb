{
 "cells": [
  {
   "cell_type": "code",
   "execution_count": 1,
   "metadata": {},
   "outputs": [],
   "source": [
    "import numpy as np\n",
    "import pandas as pd\n",
    "import seaborn as sns\n",
    "import matplotlib.pyplot as plt\n",
    "import warnings\n",
    "warnings.filterwarnings('ignore')"
   ]
  },
  {
   "cell_type": "code",
   "execution_count": 2,
   "metadata": {},
   "outputs": [],
   "source": [
    "pathdata = '/home/daniu/Documentos/fundar/indice-mercado-trabajo-ingresos/'\n",
    "pathdata = '/Users/danielarisaro/Documents/fundar/indice-mercado-trabajo-ingresos/'\n",
    "pathdata = '/home/daniufundar/Documents/Fundar/indice-mercado-trabajo-ingresos/'\n",
    "\n",
    "filename = 'data_input/canastas_basicas/canasta-basica-total-regiones-del-pais.csv'"
   ]
  },
  {
   "cell_type": "code",
   "execution_count": 3,
   "metadata": {},
   "outputs": [],
   "source": [
    "df = pd.read_csv(pathdata + filename)\n",
    "\n",
    "df.index = pd.to_datetime(df['indice_tiempo'])\n",
    "df = df.drop(['indice_tiempo'], axis=1)\n",
    "df_rolling = df.rolling(window=3, center=True).mean()\n",
    "df_CBT = df_rolling.loc[df_rolling.index.month.isin([1,4,7,10])]"
   ]
  },
  {
   "cell_type": "code",
   "execution_count": 7,
   "metadata": {},
   "outputs": [],
   "source": [
    "# Define the mapping dictionary\n",
    "mapping = {\n",
    "    1: lambda x: f'1T{x.year}',\n",
    "    4: lambda x: f'2T{x.year}',\n",
    "    7: lambda x: f'3T{x.year}',\n",
    "    10: lambda x: f'4T{x.year}'\n",
    "}\n",
    "\n",
    "# Add a new column with the renamed values\n",
    "df_CBT.loc[:, 'Trimestre'] = df_CBT.index.map(lambda x: mapping.get(x.month, lambda x: x)(x))\n",
    "df_CBT = df_CBT.dropna()"
   ]
  },
  {
   "cell_type": "code",
   "execution_count": 9,
   "metadata": {},
   "outputs": [],
   "source": [
    "df_CBT.to_csv('/home/daniufundar/Documents/Fundar/indice-mercado-trabajo-ingresos/data_output/Canasta_Basica_Total_Regiones_2016-2022-promedios-moviles.csv')"
   ]
  }
 ],
 "metadata": {
  "kernelspec": {
   "display_name": "indice_genero_env",
   "language": "python",
   "name": "python3"
  },
  "language_info": {
   "codemirror_mode": {
    "name": "ipython",
    "version": 3
   },
   "file_extension": ".py",
   "mimetype": "text/x-python",
   "name": "python",
   "nbconvert_exporter": "python",
   "pygments_lexer": "ipython3",
   "version": "3.9.15"
  },
  "orig_nbformat": 4
 },
 "nbformat": 4,
 "nbformat_minor": 2
}
