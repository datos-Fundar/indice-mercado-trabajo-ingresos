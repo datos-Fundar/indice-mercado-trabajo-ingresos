{
 "cells": [
  {
   "cell_type": "code",
   "execution_count": null,
   "metadata": {},
   "outputs": [],
   "source": [
    "## Carga de otros trimestres, base aglomerados\n",
    "\n",
    "# archivos_people_aglomerados = ['personas_T121.txt', 'personas_T221.txt', \n",
    "#                                'personas_T321.txt', 'personas_T421.txt', \n",
    "#                                'personas_T122.txt', 'personas_T222.txt', \n",
    "#                                'personas_T322.txt', 'personas_T422.txt']\n",
    "\n",
    "# fechas_trimestrales = pd.date_range(start='2021-01-01', end='2022-12-31', freq='QS')\n",
    "# lista_df_insercion = []\n",
    "\n",
    "# for archivo in archivos_people_aglomerados:\n",
    "    \n",
    "#     df = pd.read_csv(pathdata + 'data_input/' + archivo, delimiter=';', low_memory=False)\n",
    "    \n",
    "#     df_insercion = calcular_insercion_laboral(df, dict_cod_aglomerado, tipo='Aglomerado', base='Individual', confidence_level=0.95, pool=False)\n",
    "#     df_insercion['PROVINCIA'] = df_insercion.index.map(map_aglomerado_provincia)\n",
    "#     df_insercion_provincias = df_insercion.groupby('PROVINCIA').mean()\n",
    "\n",
    "#     lista_df_insercion.append(df_insercion_provincias)    \n",
    "\n",
    "# dict_dfs_insercion_aglomerado = dict(zip(fechas_trimestrales, lista_df_insercion))\n",
    "# archivos_people_tot_urbano = ['personas_tot_urb_3T_21.txt', \n",
    "#                                 'personas_tot_urb_3T_22.txt']\n",
    "\n",
    "# fechas_tot_urb = pd.date_range(start='2021-07-01', end='2022-12-31', freq='AS-JUL')\n",
    "# lista_df_insercion = []\n",
    "\n",
    "# for archivo in archivos_people_tot_urbano:\n",
    "    \n",
    "#     df = pd.read_csv(pathdata + 'data_input/' + archivo, delimiter=';', low_memory=False)\n",
    "    \n",
    "#     df_insercion = calcular_insercion_laboral(df, dict_cod_provincia, tipo='Urbano', base='Individual', confidence_level=0.95, pool=False)\n",
    "\n",
    "#     lista_df_insercion.append(df_insercion)    \n",
    "\n",
    "# dict_dfs_insercion_urbano = dict(zip(fechas_tot_urb, lista_df_insercion))\n",
    "# with open(pathdata + 'data_output/' + 'diccionario_insercion_laboral_aglomerados.pickle', 'wb') as file:\n",
    "#     pickle.dump(dict_dfs_insercion_aglomerado, file)\n",
    "\n",
    "# with open(pathdata + 'data_output/' + 'diccionario_insercion_laboral_urbano.pickle', 'wb') as file:\n",
    "#     pickle.dump(dict_dfs_insercion_urbano, file)\n",
    "\n"
   ]
  }
 ],
 "metadata": {
  "language_info": {
   "name": "python"
  }
 },
 "nbformat": 4,
 "nbformat_minor": 2
}
