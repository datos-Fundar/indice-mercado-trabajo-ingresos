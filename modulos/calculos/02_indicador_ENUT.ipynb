{
 "cells": [
  {
   "cell_type": "code",
   "execution_count": 37,
   "metadata": {},
   "outputs": [],
   "source": [
    "import pandas as pd\n",
    "import seaborn as sns\n",
    "import numpy as np\n",
    "import matplotlib.pyplot as plt\n",
    "import pickle\n",
    "import warnings\n",
    "warnings.filterwarnings('ignore')"
   ]
  },
  {
   "cell_type": "code",
   "execution_count": 38,
   "metadata": {},
   "outputs": [],
   "source": [
    "# Definimos path\n",
    "pathdata = '/home/daniu/Documentos/fundar/indice-mercado-trabajo-ingresos/'\n",
    "pathdata = '/home/daniufundar/Documents/Fundar/indice-mercado-trabajo-ingresos/'\n",
    "pathdata = '/Users/danielarisaro/Documents/Fundar/indice-mercado-trabajo-ingresos/'"
   ]
  },
  {
   "cell_type": "code",
   "execution_count": 39,
   "metadata": {},
   "outputs": [],
   "source": [
    "with open(pathdata + 'modulos/diccionarios/' + 'diccionario_aglomerados.pickle', 'rb') as file:\n",
    "    dict_cod_aglomerado = pickle.load(file)\n",
    "\n",
    "with open(pathdata + 'modulos/diccionarios/' + 'diccionario_provincia.pickle', 'rb') as file:\n",
    "    dict_cod_provincia = pickle.load(file)\n",
    "\n",
    "with open(pathdata + 'modulos/diccionarios/' + 'diccionario_aglomerado_provincia.pickle', 'rb') as file:\n",
    "    map_aglomerado_provincia = pickle.load(file)\n",
    "\n",
    "with open(pathdata + 'modulos/diccionarios/' + 'diccionario_aglomerado_region.pickle', 'rb') as file:\n",
    "    map_aglomerado_region = pickle.load(file)\n",
    "\n",
    "with open(pathdata + 'modulos/diccionarios/' + 'diccionario_provincia_region.pickle', 'rb') as file:\n",
    "    map_provincia_region = pickle.load(file)"
   ]
  },
  {
   "cell_type": "code",
   "execution_count": 40,
   "metadata": {},
   "outputs": [],
   "source": [
    "cols = ['PONDERA_new', 'AGLOMERADO', 'CH06']\n",
    "\n",
    "df_people_pool = pd.read_csv(pathdata + 'data_output/Base_pool_individuos_solo_con_replicas_actuales.csv', low_memory=False, usecols=cols)"
   ]
  },
  {
   "cell_type": "code",
   "execution_count": 41,
   "metadata": {},
   "outputs": [],
   "source": [
    "# Diccionario regiones ENUT\n",
    "\n",
    "dict_regiones_ENUT = {1: 'Gran Buenos Aires',\n",
    "                    2: 'Pampeana',\n",
    "                    3: 'Noroeste',\n",
    "                    4: 'Noreste',\n",
    "                    5: 'Cuyo',\n",
    "                    6: 'Patagonia'}"
   ]
  },
  {
   "cell_type": "code",
   "execution_count": 42,
   "metadata": {},
   "outputs": [],
   "source": [
    "# Cargo ENUT\n",
    "pathfolder_ENUT =  pathdata + 'data_input/ENUT_2021/Bases de datos/'\n",
    "filename = 'enut2021_base.txt'\n",
    "df_enut = pd.read_csv(pathfolder_ENUT + filename, sep='|')\n",
    "columnas = pd.DataFrame(df_enut_base.columns)"
   ]
  },
  {
   "cell_type": "markdown",
   "metadata": {},
   "source": [
    "## Hago todo el calculo by myself"
   ]
  },
  {
   "cell_type": "code",
   "execution_count": 5,
   "metadata": {},
   "outputs": [],
   "source": [
    "## Calculo coeficientes para imputar a PBA\n",
    "df_temp = df_people_pool[df_people_pool['CH06']>14]\n",
    "df_pob = df_temp.groupby(['AGLOMERADO']).sum(['PONDERA_new'])\n",
    "df_pob.index = df_pob.index.map(dict_cod_aglomerado)\n",
    "df_pob['PROVINCIA'] = df_pob.index.map(map_aglomerado_provincia)\n",
    "pob_pba = df_pob[df_pob['PROVINCIA']=='Buenos Aires']['PONDERA_new'].sum()\n",
    "gba = df_pob[df_pob['PROVINCIA']=='Buenos Aires'].loc['Partidos del GBA', 'PONDERA_new']\n",
    "resto_pba = df_pob[df_pob['PROVINCIA']=='Buenos Aires'].loc[['Gran La Plata', 'Bahía Blanca - Cerri', 'Mar del Plata', 'Resto Buenos Aires'], 'PONDERA_new'].sum()\n",
    "coef_gba = gba/pob_pba\n",
    "coef_resto_pba = resto_pba/pob_pba\n"
   ]
  },
  {
   "cell_type": "code",
   "execution_count": 8,
   "metadata": {},
   "outputs": [],
   "source": [
    "# Calculo TNR\n",
    "pondera = 'WPER'\n",
    "df_temp = df_enut_base[df_enut_base['EDAD_SEL']>=14]\n",
    "df_selected = df_temp[(~df_temp['TSS_GRANGRUPO_TNR'].isna())][['TSS_GRANGRUPO_TNR', 'SEXO_SEL', 'REGION', pondera]]\n",
    "df_selected['Multiplication'] = df_selected['TSS_GRANGRUPO_TNR'] * df_selected[pondera]\n",
    "\n",
    "numerador = df_selected.groupby(['SEXO_SEL', 'REGION'])['Multiplication'].sum().unstack(level=0)\n",
    "denominador = df_selected.groupby(['SEXO_SEL', 'REGION'])[pondera].sum().unstack(level=0)\n",
    "tasa = numerador.div(denominador, fill_value=np.nan)    \n",
    "tasa = tasa.rename(columns= {2:'Varon', 1:'Mujer'})\n",
    "\n",
    "size = df_temp[(~df_temp['TSS_GRANGRUPO_TNR'].isna())].groupby(['REGION', 'SEXO_SEL']).size().unstack(level=1)\n",
    "size = size.rename(columns= {2:'N_v', 1:'N_m'})\n",
    "\n",
    "n_pob = df_temp[(~df_temp['TSS_GRANGRUPO_TNR'].isna())].groupby(['REGION', 'SEXO_SEL'])[pondera].sum().unstack(level=1)\n",
    "n_pob = n_pob.rename(columns= {2:'N_pob_v', 1:'N_pob_m'})\n",
    "\n",
    "size[['N_pob_v', 'N_pob_m']] = n_pob[['N_pob_v', 'N_pob_m']]\n",
    "size['N_pob_tot'] = n_pob['N_pob_v'] + n_pob['N_pob_m'] \n",
    "\n",
    "ratio = tasa['Varon'] / tasa['Mujer']\n",
    "\n",
    "error = pd.DataFrame(index=size.index, columns=['LI', 'LS', 'ME', 'ER'])\n",
    "\n",
    "ratio_minutos_promedio_no_pago = pd.concat([tasa, size, ratio*100, error], axis=1)\n",
    "ratio_minutos_promedio_no_pago.rename(columns={0: 'Tiempo TNR'}, inplace=True)\n",
    "\n",
    "ratio_minutos_promedio_no_pago.index = ratio_minutos_promedio_no_pago.index.map(dict_regiones_ENUT)"
   ]
  },
  {
   "cell_type": "code",
   "execution_count": 9,
   "metadata": {},
   "outputs": [],
   "source": [
    "# Imputo de regiones a provincias\n",
    "map_provincia_region['Ciudad Autónoma de Buenos Aires'] = 'Gran Buenos Aires'\n",
    "provincias = list(map_provincia_region.keys())\n",
    "regiones = [map_provincia_region[provincia] for provincia in provincias]\n",
    "\n",
    "ratio_minutos_promedio_no_pago_provincial = pd.DataFrame(index=provincias, columns=['Mujer', 'Varon'])\n",
    "for provincia in provincias:\n",
    "    region = map_provincia_region[provincia]\n",
    "    ratio_minutos_promedio_no_pago_provincial.loc[provincia,:] = ratio_minutos_promedio_no_pago.loc[region,['Mujer', 'Varon']]\n",
    "\n",
    "ratio_minutos_promedio_no_pago_provincial.index.name = 'Provincia'\n"
   ]
  },
  {
   "cell_type": "code",
   "execution_count": 10,
   "metadata": {},
   "outputs": [],
   "source": [
    "## Corrijo el caso de PBA\n",
    "ratio_minutos_promedio_no_pago_provincial.loc['Buenos Aires', ['Mujer', 'Varon']] = ratio_minutos_promedio_no_pago.loc['Gran Buenos Aires', ['Mujer', 'Varon']]*coef_gba + \\\n",
    "                                        ratio_minutos_promedio_no_pago.loc['Pampeana', ['Mujer', 'Varon']]*coef_resto_pba\n",
    "\n",
    "# Calculo ratio\n",
    "ratio_minutos_promedio_no_pago_provincial['Tiempo TNR'] = ratio_minutos_promedio_no_pago_provincial['Varon'] / ratio_minutos_promedio_no_pago_provincial['Mujer']*100\n",
    "ratio_minutos_promedio_no_pago_provincial = ratio_minutos_promedio_no_pago_provincial.rename(index={'Ciudad Autónoma de Buenos Aires':'CABA', 'Tierra del Fuego, Antártida e Islas del Atlántico Sur':'TdF'})\n",
    "\n",
    "# Exporto csv\n",
    "ratio_minutos_promedio_no_pago = ratio_minutos_promedio_no_pago.sort_index()\n",
    "ratio_minutos_promedio_no_pago_provincial = ratio_minutos_promedio_no_pago_provincial.sort_index()\n"
   ]
  },
  {
   "cell_type": "code",
   "execution_count": null,
   "metadata": {},
   "outputs": [],
   "source": [
    "ratio_minutos_promedio_no_pago_provincial.to_csv(pathdata + 'data_output/indicadores/05_tiempo_no_remunerado.csv')\n",
    "ratio_minutos_promedio_no_pago.to_csv(pathdata + 'data_output/indicadores/05_tiempo_no_remunerado_regional.csv')"
   ]
  }
 ],
 "metadata": {
  "kernelspec": {
   "display_name": "Python 3.9.12 ('pyenv')",
   "language": "python",
   "name": "python3"
  },
  "language_info": {
   "codemirror_mode": {
    "name": "ipython",
    "version": 3
   },
   "file_extension": ".py",
   "mimetype": "text/x-python",
   "name": "python",
   "nbconvert_exporter": "python",
   "pygments_lexer": "ipython3",
   "version": "3.9.12"
  },
  "orig_nbformat": 4,
  "vscode": {
   "interpreter": {
    "hash": "509f5cbefa0cafc10dc1461472345186404cff510fb444dcb85013f09977a5b7"
   }
  }
 },
 "nbformat": 4,
 "nbformat_minor": 2
}
