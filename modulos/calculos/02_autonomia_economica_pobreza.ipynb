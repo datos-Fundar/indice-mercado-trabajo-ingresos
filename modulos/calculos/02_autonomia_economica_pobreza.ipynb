{
 "cells": [
  {
   "cell_type": "code",
   "execution_count": 1,
   "metadata": {},
   "outputs": [],
   "source": [
    "%run /home/daniufundar/Documents/Fundar/indice-mercado-trabajo-ingresos/modulos/funciones/01_funciones_insercion_laboral.ipynb\n",
    "#%run /Users/danielarisaro/Documents/Fundar/indice-mercado-trabajo-ingresos/modulos/funciones/01_funciones_insercion_laboral.ipynb\n",
    "import pandas as pd\n",
    "import numpy as np\n",
    "import matplotlib.pyplot as plt\n",
    "import warnings\n",
    "import pickle\n",
    "warnings.filterwarnings('ignore')"
   ]
  },
  {
   "cell_type": "code",
   "execution_count": 2,
   "metadata": {},
   "outputs": [],
   "source": [
    "# Definimos path\n",
    "pathdata = '/home/daniu/Documentos/fundar/indice-mercado-trabajo-ingresos/'\n",
    "pathdata = '/Users/danielarisaro/Documents/Fundar/indice-mercado-trabajo-ingresos/'\n",
    "pathdata = '/home/daniufundar/Documents/Fundar/indice-mercado-trabajo-ingresos/'"
   ]
  },
  {
   "cell_type": "code",
   "execution_count": 3,
   "metadata": {},
   "outputs": [],
   "source": [
    "with open(pathdata + 'modulos/diccionarios/' + 'diccionario_aglomerados.pickle', 'rb') as file:\n",
    "    dict_cod_aglomerado = pickle.load(file)\n",
    "\n",
    "with open(pathdata + 'modulos/diccionarios/' + 'diccionario_provincia.pickle', 'rb') as file:\n",
    "    dict_cod_provincia = pickle.load(file)\n",
    "\n",
    "with open(pathdata + 'modulos/diccionarios/' + 'diccionario_aglomerado_provincia.pickle', 'rb') as file:\n",
    "    map_aglomerado_provincia = pickle.load(file)\n",
    "\n",
    "with open(pathdata + 'modulos/diccionarios/' + 'diccionario_aglomerado_region.pickle', 'rb') as file:\n",
    "    map_aglomerado_region = pickle.load(file)\n",
    "\n",
    "with open(pathdata + 'modulos/diccionarios/' + 'diccionario_provincia_region.pickle', 'rb') as file:\n",
    "    map_provincia_region = pickle.load(file)"
   ]
  },
  {
   "cell_type": "code",
   "execution_count": 4,
   "metadata": {},
   "outputs": [],
   "source": [
    "df_people_pool = pd.read_csv(pathdata + 'data_output/Base_pool_individuos_solo_con_replicas_actuales.csv', low_memory=False, index_col=0)\n",
    "df_houses_pool = pd.read_csv(pathdata + 'data_output/Base_pool_hogares_solo_con_replicas_actuales.csv', low_memory=False, index_col=0)"
   ]
  },
  {
   "cell_type": "code",
   "execution_count": 5,
   "metadata": {},
   "outputs": [],
   "source": [
    "df_CBT = pd.read_csv(pathdata + 'data_output/Canasta_Basica_Total_Regiones_2016-2022-promedios-moviles.csv', delimiter=',', header=0, index_col=[0])\n",
    "df_adultos_equiv = pd.read_csv(pathdata + 'data_input/canastas_basicas/adultos_equivalente.csv')"
   ]
  },
  {
   "cell_type": "code",
   "execution_count": 6,
   "metadata": {},
   "outputs": [],
   "source": [
    "def capitalize_first_letter(s):\n",
    "    return s.capitalize()\n",
    "\n",
    "df_CBT = df_CBT.rename(columns=capitalize_first_letter)\n",
    "df_CBT.rename(columns={'Gran_buenos_aires':'Gran Buenos Aires'}, inplace=True)"
   ]
  },
  {
   "cell_type": "code",
   "execution_count": 7,
   "metadata": {},
   "outputs": [],
   "source": [
    "# Filter and merge data\n",
    "df_temp = df_houses_pool.loc[(df_houses_pool['IX_TOT']>1) & (df_houses_pool['REALIZADA']==1) & (~df_houses_pool['NRO_HOGAR'].isin([51, 71]))]\n",
    "merged_df_pool = df_people_pool[['CODUSU', 'NRO_HOGAR']].merge(df_houses_pool[['CODUSU', 'NRO_HOGAR']], on=['CODUSU', 'NRO_HOGAR'], how='outer', indicator=True)\n"
   ]
  },
  {
   "cell_type": "code",
   "execution_count": 8,
   "metadata": {},
   "outputs": [
    {
     "data": {
      "text/html": [
       "<div>\n",
       "<style scoped>\n",
       "    .dataframe tbody tr th:only-of-type {\n",
       "        vertical-align: middle;\n",
       "    }\n",
       "\n",
       "    .dataframe tbody tr th {\n",
       "        vertical-align: top;\n",
       "    }\n",
       "\n",
       "    .dataframe thead th {\n",
       "        text-align: right;\n",
       "    }\n",
       "</style>\n",
       "<table border=\"1\" class=\"dataframe\">\n",
       "  <thead>\n",
       "    <tr style=\"text-align: right;\">\n",
       "      <th></th>\n",
       "      <th>Description</th>\n",
       "      <th>Count</th>\n",
       "      <th>Comments</th>\n",
       "    </tr>\n",
       "  </thead>\n",
       "  <tbody>\n",
       "    <tr>\n",
       "      <th>0</th>\n",
       "      <td>Duplicated Rows</td>\n",
       "      <td>127958</td>\n",
       "      <td>Si esta cantidad es la misma a Total People Ro...</td>\n",
       "    </tr>\n",
       "    <tr>\n",
       "      <th>1</th>\n",
       "      <td>Total People Rows</td>\n",
       "      <td>127958</td>\n",
       "      <td>Número de individuos en la encuesta de personas.</td>\n",
       "    </tr>\n",
       "    <tr>\n",
       "      <th>2</th>\n",
       "      <td>Total Houses</td>\n",
       "      <td>42445</td>\n",
       "      <td>Número de hogares en la encuesta de hogares.</td>\n",
       "    </tr>\n",
       "    <tr>\n",
       "      <th>3</th>\n",
       "      <td>Total Dwellings</td>\n",
       "      <td>32624</td>\n",
       "      <td>Número de viviendas únicas</td>\n",
       "    </tr>\n",
       "  </tbody>\n",
       "</table>\n",
       "</div>"
      ],
      "text/plain": [
       "         Description   Count  \\\n",
       "0    Duplicated Rows  127958   \n",
       "1  Total People Rows  127958   \n",
       "2       Total Houses   42445   \n",
       "3    Total Dwellings   32624   \n",
       "\n",
       "                                            Comments  \n",
       "0  Si esta cantidad es la misma a Total People Ro...  \n",
       "1   Número de individuos en la encuesta de personas.  \n",
       "2       Número de hogares en la encuesta de hogares.  \n",
       "3                         Número de viviendas únicas  "
      ]
     },
     "execution_count": 8,
     "metadata": {},
     "output_type": "execute_result"
    }
   ],
   "source": [
    "# Create a dictionary with the information\n",
    "duplicated_rows = merged_df_pool['_merge'].value_counts()['both']\n",
    "rows_people = len(df_people_pool)\n",
    "hogares_unicos = merged_df_pool[['CODUSU', 'NRO_HOGAR']].value_counts()\n",
    "count_houses = len(hogares_unicos)\n",
    "count_viviendas = len(df_temp['CODUSU'].value_counts())\n",
    "data = {\n",
    "    'Description': ['Duplicated Rows', 'Total People Rows', 'Total Houses', 'Total Dwellings'],\n",
    "    'Count': [duplicated_rows, rows_people, count_houses, count_viviendas],\n",
    "    'Comments': ['Si esta cantidad es la misma a Total People Rows, entonces todos los hogares fueron relevados en la base individual tambien.',\n",
    "                    'Número de individuos en la encuesta de personas.',\n",
    "                    'Número de hogares en la encuesta de hogares.',\n",
    "                    'Número de viviendas únicas']\n",
    "}\n",
    "\n",
    "df_counts = pd.DataFrame(data)\n",
    "df_counts"
   ]
  },
  {
   "cell_type": "code",
   "execution_count": 9,
   "metadata": {},
   "outputs": [],
   "source": [
    "def calculate_equivalent_adults(grouped_df, df_adultos_equiv):\n",
    "    grouped_df['EQUIVALENT_ADULTS'] = 0\n",
    "    for index, row in grouped_df.iterrows():\n",
    "        total_equivalent_adults = 0\n",
    "        for age, gender in zip(row['CH06'], row['CH04']):\n",
    "            equiv_adults_row = df_adultos_equiv[(df_adultos_equiv['Edad inferior'] <= age) & (df_adultos_equiv['Edad superior'] > age)]\n",
    "            if not equiv_adults_row.empty:\n",
    "                equiv_adults = equiv_adults_row.iloc[0]['Mujer'] if gender == 2 else equiv_adults_row.iloc[0]['Varon']\n",
    "                total_equivalent_adults += equiv_adults\n",
    "        grouped_df.at[index, 'EQUIVALENT_ADULTS'] = total_equivalent_adults\n",
    "\n",
    "def merge_and_add_columns(grouped_df, df_houses):\n",
    "    custom_merged_df = grouped_df.merge(df_houses, on=['CODUSU', 'NRO_HOGAR'], how='left')\n",
    "    grouped_df['INCOME'] = custom_merged_df['ITF']\n",
    "    grouped_df['INCOME_PONDERATOR'] = custom_merged_df['PONDIH_new']\n",
    "    grouped_df['PROVINCIA'] = custom_merged_df['PROVINCIA']\n",
    "    grouped_df['AGLOMERADO'] = custom_merged_df['AGLOMERADO']\n",
    "\n",
    "def reshape_and_filter_data(grouped_df, df_CBT, dict_cod_provincia, dict_cod_aglomerado, map_aglomerado_region):\n",
    "    melted_df_CBT = df_CBT.melt(id_vars='Trimestre', var_name='Region', value_name='CBT')\n",
    "    filtered_melted_df_CBT = melted_df_CBT[melted_df_CBT['Trimestre'] == '4T2022']\n",
    "    grouped_df['Provincia'] = grouped_df['PROVINCIA'].map(dict_cod_provincia)\n",
    "    grouped_df['Aglomerado'] = grouped_df['AGLOMERADO'].map(dict_cod_aglomerado)\n",
    "    grouped_df['Region'] = grouped_df['Aglomerado'].map(map_aglomerado_region)\n",
    "    map_region_CBT = filtered_melted_df_CBT.set_index('Region')['CBT'].to_dict()\n",
    "    grouped_df['CBT'] = grouped_df['Region'].map(map_region_CBT)\n",
    "    grouped_df['THRESHOLD'] = grouped_df['CBT'] * grouped_df['EQUIVALENT_ADULTS']\n",
    "\n",
    "def calculate_poverty_table(df_people, df_houses, df_CBT, df_adultos_equiv, dict_cod_provincia, map_provincia_region):\n",
    "    grouped_df = df_people.groupby(['CODUSU', 'NRO_HOGAR']).agg({\n",
    "        'CH03': list,\n",
    "        'COMPONENTE': list,\n",
    "        'CH04': list,\n",
    "        'CH06': list\n",
    "    })\n",
    "    \n",
    "#    grouped_df = grouped_df[grouped_df['COMPONENTE'].apply(lambda x: 2 not in x)]\n",
    "    grouped_df['NUM_PEOPLE_IN_HOUSE'] = grouped_df['CH06'].apply(len)\n",
    "    grouped_df['MEAN_AGE'] = grouped_df['CH06'].apply(lambda ages: sum(ages) / len(ages) if ages else None)\n",
    "    grouped_df = grouped_df[grouped_df['CH06'].apply(lambda x: any(age < 25 for age in x))]\n",
    "    grouped_df['GENDER_PERSON_IN_CHARGE'] = grouped_df.apply(lambda row: 'MALE' if 1 in row['CH03'] and row['CH04'][row['CH03'].index(1)] == 1 else 'FEMALE', axis=1)\n",
    "    grouped_df['PERSON_IN_CHARGE_AGE'] = grouped_df.apply(lambda row: row['CH06'][row['CH03'].index(1)] if 1 in row['CH03'] else None, axis=1)\n",
    "    grouped_df = grouped_df.reset_index()\n",
    "\n",
    "    calculate_equivalent_adults(grouped_df, df_adultos_equiv)\n",
    "    merge_and_add_columns(grouped_df, df_houses)\n",
    "    reshape_and_filter_data(grouped_df, df_CBT, dict_cod_provincia, dict_cod_aglomerado, map_aglomerado_region)\n",
    "\n",
    "    return grouped_df\n"
   ]
  },
  {
   "cell_type": "code",
   "execution_count": 10,
   "metadata": {},
   "outputs": [],
   "source": [
    "grouped_df = calculate_poverty_table(df_people_pool, df_houses_pool, df_CBT, df_adultos_equiv, dict_cod_provincia, map_provincia_region)\n",
    "\n",
    "hogares_seleccionados = grouped_df[grouped_df['INCOME'] < grouped_df['THRESHOLD']]\n",
    "agrupado = hogares_seleccionados.groupby(['GENDER_PERSON_IN_CHARGE','Provincia'])['INCOME_PONDERATOR'].sum().unstack(level=0)\n",
    "\n",
    "gender_counts = grouped_df.groupby(['Provincia', 'GENDER_PERSON_IN_CHARGE'])['INCOME_PONDERATOR'].sum().unstack()\n",
    "\n",
    "fraccion = gender_counts / agrupado\n",
    "\n",
    "row_counts = grouped_df.groupby(['Provincia', 'GENDER_PERSON_IN_CHARGE']).size().unstack()\n",
    "\n",
    "gender_counts['ROW_COUNTS_FEMALE'] = row_counts['FEMALE']\n",
    "gender_counts['ROW_COUNTS_MALE'] = row_counts['MALE']\n",
    "\n",
    "gender_ratios_pool = fraccion['MALE'] / fraccion['FEMALE']"
   ]
  },
  {
   "cell_type": "code",
   "execution_count": 26,
   "metadata": {},
   "outputs": [],
   "source": [
    "tasa = fraccion\n",
    "tasa.columns = ['Mujer', 'Varon']\n",
    "\n",
    "size = row_counts\n",
    "size.columns = ['N_m', 'N_v']\n",
    "\n",
    "ratio = gender_ratios_pool.to_frame()\n",
    "ratio.rename(columns={0: 'Pobreza'}, inplace=True)\n",
    "\n",
    "error = pd.DataFrame(index=size.index, columns=['LI', 'LS', 'ME', 'ER'])"
   ]
  },
  {
   "cell_type": "code",
   "execution_count": 27,
   "metadata": {},
   "outputs": [],
   "source": [
    "hogares_jefatura = pd.concat([tasa*100, size, ratio*100, error*100], axis=1)\n"
   ]
  },
  {
   "cell_type": "code",
   "execution_count": 28,
   "metadata": {},
   "outputs": [],
   "source": [
    "hogares_jefatura.to_pickle(pathdata + 'data_output/df_hogares_no_pobres_pool.pickle')"
   ]
  },
  {
   "cell_type": "code",
   "execution_count": 29,
   "metadata": {},
   "outputs": [],
   "source": [
    "# Definimos colores fundar\n",
    "fundar_colores_primarios = ['#7BB5C4', '#9FC1AD', '#D3D3E0',  '#8d9bff', '#FF9750', '#FFD900',]\n",
    "fundar_colores_secundarios = ['#B5E0EA', '#B3B3B3', '#848279', '#AFA36E', '#5D896F', '#9C9CBC', '#E27124']\n",
    "fundar_white = '#F5F5F5'\n",
    "fundar_black = '#151515'"
   ]
  },
  {
   "cell_type": "code",
   "execution_count": 30,
   "metadata": {},
   "outputs": [],
   "source": [
    "import plotly.graph_objects as go\n",
    "\n",
    "bar_trace = go.Bar(\n",
    "    x=hogares_jefatura.index,\n",
    "    y=hogares_jefatura['Pobreza'],\n",
    "    name='Autonomia economica',\n",
    "    marker_color=fundar_colores_primarios[3],\n",
    "    hovertemplate='Pobreza: %{y:.2f}<extra></extra>'\n",
    ")\n",
    "\n",
    "layout = go.Layout(\n",
    "    title='Indicador pobreza',\n",
    "    barmode='group',\n",
    "    plot_bgcolor='rgba(0,0,0,0)',\n",
    "    legend=dict(x=0.6, y=1.1, orientation='h'),\n",
    "    yaxis_title=\"Ratio\"\n",
    "\n",
    ")\n",
    "\n",
    "fig1 = go.Figure(data=[bar_trace], layout=layout)\n",
    "\n",
    "fig1.add_shape(\n",
    "    type='line',\n",
    "    x0=hogares_jefatura.index[0],\n",
    "    y0=100,\n",
    "    x1=hogares_jefatura.index[-1],\n",
    "    y1=100,\n",
    "    line=dict(\n",
    "        color='black',\n",
    "        width=1,\n",
    "        dash='dash'\n",
    "    ),\n",
    ")\n",
    "\n",
    "fig1.update_yaxes(range=[0, 180])\n",
    "file_path = pathdata + 'figs/'\n",
    "filename = 'panel-pobreza-pool.html'\n",
    "fig1.write_html(file_path + filename)\n",
    "\n"
   ]
  }
 ],
 "metadata": {
  "kernelspec": {
   "display_name": "indice_genero_env",
   "language": "python",
   "name": "python3"
  },
  "language_info": {
   "codemirror_mode": {
    "name": "ipython",
    "version": 3
   },
   "file_extension": ".py",
   "mimetype": "text/x-python",
   "name": "python",
   "nbconvert_exporter": "python",
   "pygments_lexer": "ipython3",
   "version": "3.9.15"
  },
  "orig_nbformat": 4
 },
 "nbformat": 4,
 "nbformat_minor": 2
}
