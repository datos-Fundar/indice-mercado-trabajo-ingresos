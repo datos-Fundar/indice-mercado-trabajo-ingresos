{
 "cells": [
  {
   "cell_type": "code",
   "execution_count": 46,
   "metadata": {},
   "outputs": [],
   "source": [
    "import pandas as pd\n",
    "import numpy as np\n",
    "import pickle"
   ]
  },
  {
   "cell_type": "code",
   "execution_count": 47,
   "metadata": {},
   "outputs": [],
   "source": [
    "# Definimos path\n",
    "pathdata = '/Users/danielarisaro/Documents/Fundar/indice-mercado-trabajo-ingresos/'\n",
    "pathdata = '/home/daniufundar/Documents/Fundar/indice-mercado-trabajo-ingresos/'\n"
   ]
  },
  {
   "cell_type": "code",
   "execution_count": 48,
   "metadata": {},
   "outputs": [],
   "source": [
    "with open(pathdata + 'modulos/diccionarios/' + 'diccionario_aglomerados.pickle', 'rb') as file:\n",
    "    dict_cod_aglomerado = pickle.load(file)\n",
    "\n",
    "with open(pathdata + 'modulos/diccionarios/' + 'diccionario_provincia.pickle', 'rb') as file:\n",
    "    dict_cod_provincia = pickle.load(file)\n",
    "\n",
    "with open(pathdata + 'modulos/diccionarios/' + 'diccionario_aglomerado_provincia.pickle', 'rb') as file:\n",
    "    map_aglomerado_provincia = pickle.load(file)\n",
    "\n",
    "with open(pathdata + 'modulos/diccionarios/' + 'diccionario_aglomerado_region.pickle', 'rb') as file:\n",
    "    map_aglomerado_region = pickle.load(file)\n",
    "\n",
    "with open(pathdata + 'modulos/diccionarios/' + 'diccionario_provincia_region.pickle', 'rb') as file:\n",
    "    map_provincia_region = pickle.load(file)"
   ]
  },
  {
   "cell_type": "code",
   "execution_count": 49,
   "metadata": {},
   "outputs": [],
   "source": [
    "df_people_pool = pd.read_csv(pathdata + 'data_output/Base_pool_individuos_solo_con_replicas_actuales.csv', low_memory=False, index_col=0)\n",
    "df_houses_pool = pd.read_csv(pathdata + 'data_output/Base_pool_hogares_solo_con_replicas_actuales.csv', low_memory=False, index_col=0)"
   ]
  },
  {
   "cell_type": "code",
   "execution_count": 50,
   "metadata": {},
   "outputs": [],
   "source": [
    "pondera = 'PONDERA_new'\n",
    "var = 'PROVINCIA'\n",
    "df_temp = df_people_pool.query('CH06 >= 14')"
   ]
  },
  {
   "cell_type": "code",
   "execution_count": 54,
   "metadata": {},
   "outputs": [],
   "source": [
    "df_ocupados = df_temp[df_temp['ESTADO']==1][[var, pondera, 'CH04']]\n",
    "df_ocupados_publico = df_temp[(df_temp['ESTADO']==1) & (df_temp['PP04A']==1)][[var, pondera, 'CH04']]\n",
    "df_tasa = df_ocupados_publico.groupby(['CH04',var])[pondera].sum() / df_ocupados.groupby(['CH04',var])[pondera].sum()\n",
    "df_empleo_publico = df_tasa.unstack(level=0)*100\n",
    "df_empleo_publico = df_empleo_publico.rename(columns={1:'Varon', 2:'Mujer'})*100\n",
    "df_empleo_publico['Ratio'] = df_empleo_publico['Mujer']/df_empleo_publico['Varon']\n",
    "df_empleo_publico.index = df_empleo_publico.index.map(dict_cod_provincia)\n",
    "\n",
    "size = df_ocupados_publico.groupby(['CH04', var]).size().unstack(level=0)\n",
    "size = size.rename(columns= {1:'N_v', 2:'N_m'})\n",
    "n_pob = df_ocupados_publico.groupby(['CH04', var])[pondera].sum().unstack(level=0)\n",
    "n_pob = n_pob.rename(columns= {1:'N_pob_v', 2:'N_pob_m'})\n",
    "size[['N_pob_v', 'N_pob_m']] = n_pob[['N_pob_v', 'N_pob_m']]\n",
    "size['N_pob_tot'] = n_pob['N_pob_v'] + n_pob['N_pob_m']\n",
    "size.index = size.index.map(dict_cod_provincia)\n",
    "empleo_publico = pd.concat([df_empleo_publico, size], axis=1)\n",
    "empleo_publico = empleo_publico.sort_index()\n",
    "empleo_publico.to_csv(pathdata + 'data_output/indicadores_auxiliares/01_empleo_publico.csv')"
   ]
  },
  {
   "cell_type": "code",
   "execution_count": 56,
   "metadata": {},
   "outputs": [],
   "source": [
    "df_ocupados_intensi = df_temp[(df_temp['ESTADO']==1)][[var, pondera, 'CH04','INTENSI']]\n",
    "df_tasa = df_ocupados_intensi.groupby(['CH04',var,'INTENSI'])[pondera].sum()/df_ocupados_intensi.groupby(['CH04',var])[pondera].sum()\n",
    "df_intensidad_laboral = df_tasa.unstack(level=0)*100\n",
    "df_intensidad_laboral = df_intensidad_laboral.rename(columns={1:'Varon', 2:'Mujer'})\n",
    "df_intensidad_laboral['Ratio'] = df_intensidad_laboral['Mujer']/df_intensidad_laboral['Varon']*100\n",
    "new_index = df_intensidad_laboral.index.get_level_values('PROVINCIA').map(dict_cod_provincia)\n",
    "df_intensidad_laboral.index = pd.MultiIndex.from_tuples(zip(new_index, df_intensidad_laboral.index.get_level_values('INTENSI')), names=['PROVINCIA', 'INTENSI'])\n",
    "\n",
    "size = df_ocupados_intensi.groupby(['CH04', var, 'INTENSI']).size().unstack(level=0)\n",
    "size = size.rename(columns= {1:'N_v', 2:'N_m'})\n",
    "size.index = pd.MultiIndex.from_tuples(zip(new_index, size.index.get_level_values('INTENSI')), names=['PROVINCIA', 'INTENSI'])\n",
    "\n",
    "n_pob = df_ocupados_intensi.groupby(['CH04', var, 'INTENSI'])[pondera].sum().unstack(level=0)\n",
    "n_pob = n_pob.rename(columns= {1:'N_pob_v', 2:'N_pob_m'})\n",
    "n_pob.index = pd.MultiIndex.from_tuples(zip(new_index, n_pob.index.get_level_values('INTENSI')), names=['PROVINCIA', 'INTENSI'])\n",
    "\n",
    "size[['N_pob_v', 'N_pob_m']] = n_pob[['N_pob_v', 'N_pob_m']]\n",
    "size['N_pob_tot'] = n_pob['N_pob_v'] + n_pob['N_pob_m']\n",
    "intensidad_laboral = pd.concat([df_intensidad_laboral, size], axis=1)\n",
    "intensidad_laboral = intensidad_laboral.sort_index()\n",
    "\n",
    "intensidad_laboral.to_csv(pathdata + 'data_output/indicadores_auxiliares/02_intensidad_laboral.csv')"
   ]
  },
  {
   "cell_type": "code",
   "execution_count": 76,
   "metadata": {},
   "outputs": [],
   "source": [
    "df_ocupados_educacion = df_temp[(df_temp['ESTADO']==1)][[var, pondera, 'CH04','CH12','CH13']]\n",
    "df_ocupados_educacion['Educacion'] = pd.NaT\n",
    "\n",
    "df_ocupados_educacion.loc[(df_ocupados_educacion['CH12'].isin([1,2,3,9])),'Educacion'] = 'Hasta secundario incompleto'\n",
    "df_ocupados_educacion.loc[(df_ocupados_educacion['CH12'].isin([4,5])) & (df_ocupados_educacion['CH13']==2),'Educacion'] = 'Hasta secundario incompleto'\n",
    "df_ocupados_educacion.loc[(df_ocupados_educacion['CH12'].isin([4,5])) & (df_ocupados_educacion['CH13']==1),'Educacion'] = 'Secundario completo'\n",
    "df_ocupados_educacion.loc[df_ocupados_educacion['CH12'].isin([6,7,8]),'Educacion'] = 'Educación superior'\n",
    "df_ocupados_educacion = df_ocupados_educacion[~df_ocupados_educacion['Educacion'].isna()]\n",
    "\n",
    "df_tasa = df_ocupados_educacion.groupby(['CH04',var,'Educacion'])[pondera].sum()/df_ocupados_educacion.groupby(['CH04',var])[pondera].sum()\n",
    "\n",
    "df_educacion = df_tasa.unstack(level=0)*100\n",
    "df_educacion = df_educacion.rename(columns={1:'Varon', 2:'Mujer'})\n",
    "df_educacion['Ratio'] = df_educacion['Mujer']/df_educacion['Varon']*100\n",
    "\n",
    "new_index = df_educacion.index.get_level_values('PROVINCIA').map(dict_cod_provincia)\n",
    "df_educacion.index = pd.MultiIndex.from_tuples(zip(new_index, df_educacion.index.get_level_values('Educacion')), names=['PROVINCIA', 'Educacion'])\n",
    "\n",
    "size = df_ocupados_educacion.groupby(['CH04', var, 'Educacion']).size().unstack(level=0)\n",
    "size = size.rename(columns= {1:'N_v', 2:'N_m'})\n",
    "size.index = pd.MultiIndex.from_tuples(zip(new_index, size.index.get_level_values('Educacion')), names=['PROVINCIA', 'Educacion'])\n",
    "\n",
    "n_pob = df_ocupados_educacion.groupby(['CH04', var, 'Educacion'])[pondera].sum().unstack(level=0)\n",
    "n_pob = n_pob.rename(columns= {1:'N_pob_v', 2:'N_pob_m'})\n",
    "n_pob.index = pd.MultiIndex.from_tuples(zip(new_index, n_pob.index.get_level_values('Educacion')), names=['PROVINCIA', 'Educacion'])\n",
    "\n",
    "size[['N_pob_v', 'N_pob_m']] = n_pob[['N_pob_v', 'N_pob_m']]\n",
    "size['N_pob_tot'] = n_pob['N_pob_v'] + n_pob['N_pob_m']\n",
    "\n",
    "educacion = pd.concat([df_educacion, size], axis=1)\n",
    "educacion = educacion.sort_index()\n",
    "\n",
    "educacion.to_csv(pathdata + 'data_output/indicadores_auxiliares/03_maximo_nivel_educativo.csv')"
   ]
  },
  {
   "cell_type": "code",
   "execution_count": 11,
   "metadata": {},
   "outputs": [],
   "source": []
  },
  {
   "cell_type": "code",
   "execution_count": 13,
   "metadata": {},
   "outputs": [
    {
     "data": {
      "text/html": [
       "<div>\n",
       "<style scoped>\n",
       "    .dataframe tbody tr th:only-of-type {\n",
       "        vertical-align: middle;\n",
       "    }\n",
       "\n",
       "    .dataframe tbody tr th {\n",
       "        vertical-align: top;\n",
       "    }\n",
       "\n",
       "    .dataframe thead th {\n",
       "        text-align: right;\n",
       "    }\n",
       "</style>\n",
       "<table border=\"1\" class=\"dataframe\">\n",
       "  <thead>\n",
       "    <tr style=\"text-align: right;\">\n",
       "      <th>CH04</th>\n",
       "      <th>1</th>\n",
       "      <th>2</th>\n",
       "    </tr>\n",
       "    <tr>\n",
       "      <th>PROVINCIA</th>\n",
       "      <th></th>\n",
       "      <th></th>\n",
       "    </tr>\n",
       "  </thead>\n",
       "  <tbody>\n",
       "    <tr>\n",
       "      <th>2</th>\n",
       "      <td>0.144534</td>\n",
       "      <td>0.232286</td>\n",
       "    </tr>\n",
       "    <tr>\n",
       "      <th>6</th>\n",
       "      <td>0.118535</td>\n",
       "      <td>0.216760</td>\n",
       "    </tr>\n",
       "    <tr>\n",
       "      <th>10</th>\n",
       "      <td>0.344324</td>\n",
       "      <td>0.448744</td>\n",
       "    </tr>\n",
       "    <tr>\n",
       "      <th>14</th>\n",
       "      <td>0.117340</td>\n",
       "      <td>0.149483</td>\n",
       "    </tr>\n",
       "    <tr>\n",
       "      <th>18</th>\n",
       "      <td>0.185257</td>\n",
       "      <td>0.287229</td>\n",
       "    </tr>\n",
       "    <tr>\n",
       "      <th>22</th>\n",
       "      <td>0.191487</td>\n",
       "      <td>0.371127</td>\n",
       "    </tr>\n",
       "    <tr>\n",
       "      <th>26</th>\n",
       "      <td>0.195219</td>\n",
       "      <td>0.341921</td>\n",
       "    </tr>\n",
       "    <tr>\n",
       "      <th>30</th>\n",
       "      <td>0.164480</td>\n",
       "      <td>0.301039</td>\n",
       "    </tr>\n",
       "    <tr>\n",
       "      <th>34</th>\n",
       "      <td>0.197623</td>\n",
       "      <td>0.331949</td>\n",
       "    </tr>\n",
       "    <tr>\n",
       "      <th>38</th>\n",
       "      <td>0.229944</td>\n",
       "      <td>0.356495</td>\n",
       "    </tr>\n",
       "    <tr>\n",
       "      <th>42</th>\n",
       "      <td>0.184555</td>\n",
       "      <td>0.318903</td>\n",
       "    </tr>\n",
       "    <tr>\n",
       "      <th>46</th>\n",
       "      <td>0.376530</td>\n",
       "      <td>0.543046</td>\n",
       "    </tr>\n",
       "    <tr>\n",
       "      <th>50</th>\n",
       "      <td>0.155811</td>\n",
       "      <td>0.222730</td>\n",
       "    </tr>\n",
       "    <tr>\n",
       "      <th>54</th>\n",
       "      <td>0.190232</td>\n",
       "      <td>0.298102</td>\n",
       "    </tr>\n",
       "    <tr>\n",
       "      <th>58</th>\n",
       "      <td>0.235619</td>\n",
       "      <td>0.375816</td>\n",
       "    </tr>\n",
       "    <tr>\n",
       "      <th>62</th>\n",
       "      <td>0.237122</td>\n",
       "      <td>0.331980</td>\n",
       "    </tr>\n",
       "    <tr>\n",
       "      <th>66</th>\n",
       "      <td>0.164319</td>\n",
       "      <td>0.254880</td>\n",
       "    </tr>\n",
       "    <tr>\n",
       "      <th>70</th>\n",
       "      <td>0.153783</td>\n",
       "      <td>0.272267</td>\n",
       "    </tr>\n",
       "    <tr>\n",
       "      <th>74</th>\n",
       "      <td>0.233433</td>\n",
       "      <td>0.440751</td>\n",
       "    </tr>\n",
       "    <tr>\n",
       "      <th>78</th>\n",
       "      <td>0.296751</td>\n",
       "      <td>0.538429</td>\n",
       "    </tr>\n",
       "    <tr>\n",
       "      <th>82</th>\n",
       "      <td>0.110185</td>\n",
       "      <td>0.200909</td>\n",
       "    </tr>\n",
       "    <tr>\n",
       "      <th>86</th>\n",
       "      <td>0.210355</td>\n",
       "      <td>0.307874</td>\n",
       "    </tr>\n",
       "    <tr>\n",
       "      <th>90</th>\n",
       "      <td>0.160821</td>\n",
       "      <td>0.239889</td>\n",
       "    </tr>\n",
       "    <tr>\n",
       "      <th>94</th>\n",
       "      <td>0.284213</td>\n",
       "      <td>0.398112</td>\n",
       "    </tr>\n",
       "  </tbody>\n",
       "</table>\n",
       "</div>"
      ],
      "text/plain": [
       "CH04              1         2\n",
       "PROVINCIA                    \n",
       "2          0.144534  0.232286\n",
       "6          0.118535  0.216760\n",
       "10         0.344324  0.448744\n",
       "14         0.117340  0.149483\n",
       "18         0.185257  0.287229\n",
       "22         0.191487  0.371127\n",
       "26         0.195219  0.341921\n",
       "30         0.164480  0.301039\n",
       "34         0.197623  0.331949\n",
       "38         0.229944  0.356495\n",
       "42         0.184555  0.318903\n",
       "46         0.376530  0.543046\n",
       "50         0.155811  0.222730\n",
       "54         0.190232  0.298102\n",
       "58         0.235619  0.375816\n",
       "62         0.237122  0.331980\n",
       "66         0.164319  0.254880\n",
       "70         0.153783  0.272267\n",
       "74         0.233433  0.440751\n",
       "78         0.296751  0.538429\n",
       "82         0.110185  0.200909\n",
       "86         0.210355  0.307874\n",
       "90         0.160821  0.239889\n",
       "94         0.284213  0.398112"
      ]
     },
     "execution_count": 13,
     "metadata": {},
     "output_type": "execute_result"
    }
   ],
   "source": [
    "tasa.unstack(level=0)"
   ]
  },
  {
   "cell_type": "code",
   "execution_count": 23,
   "metadata": {},
   "outputs": [],
   "source": [
    "df_ocupados = df_temp[(df_temp['ESTADO']==1)][[var, pondera, 'P21_new', 'CH04']]\n",
    "df_ocupados = df_ocupados[df_ocupados['P21_new']>0]"
   ]
  },
  {
   "cell_type": "code",
   "execution_count": 24,
   "metadata": {},
   "outputs": [],
   "source": [
    "df_ocupados['Multiplication'] = df_ocupados['P21_new'] * df_ocupados[pondera]\n",
    "numerador = df_ocupados.groupby(['CH04', var])['Multiplication'].sum().unstack(level=0)\n",
    "denominador = df_ocupados.groupby(['CH04', var])[pondera].sum().unstack(level=0)\n",
    "tasa = numerador.div(denominador, fill_value=np.nan)    \n",
    "tasa.columns = ['Varon', 'Mujer']"
   ]
  },
  {
   "cell_type": "code",
   "execution_count": 26,
   "metadata": {},
   "outputs": [
    {
     "data": {
      "text/plain": [
       "PROVINCIA\n",
       "2     0.825809\n",
       "6     0.720321\n",
       "10    0.830330\n",
       "14    0.693172\n",
       "18    0.846427\n",
       "22    0.874493\n",
       "26    0.664494\n",
       "30    0.658217\n",
       "34    0.874688\n",
       "38    0.741948\n",
       "42    0.710414\n",
       "46    0.882030\n",
       "50    0.708517\n",
       "54    0.755043\n",
       "58    0.741717\n",
       "62    0.849890\n",
       "66    0.729896\n",
       "70    0.779888\n",
       "74    0.801567\n",
       "78    0.697654\n",
       "82    0.730241\n",
       "86    0.814533\n",
       "90    0.746476\n",
       "94    0.896363\n",
       "dtype: float64"
      ]
     },
     "execution_count": 26,
     "metadata": {},
     "output_type": "execute_result"
    }
   ],
   "source": [
    "tasa['Mujer'] / tasa['Varon']"
   ]
  },
  {
   "cell_type": "code",
   "execution_count": 27,
   "metadata": {},
   "outputs": [],
   "source": [
    "def weighted_median(values, weights):\n",
    "    sorted_indices = np.argsort(values)\n",
    "    sorted_values = values[sorted_indices]\n",
    "    sorted_weights = weights[sorted_indices]\n",
    "    cumulative_weights = np.cumsum(sorted_weights)\n",
    "    total_weight = cumulative_weights[-1]\n",
    "    median_index = np.searchsorted(cumulative_weights, total_weight / 2.0)\n",
    "    return sorted_values[median_index]\n",
    "\n",
    "def weighted_median_group(x):\n",
    "    return weighted_median(x['P21_new'].values, x[pondera].values)\n",
    "\n",
    "\n",
    "df_mediana = df_ocupados.groupby(['CH04', var]).apply(weighted_median_group)\n",
    "tasa = df_mediana.unstack(level=0)\n",
    "tasa.columns = ['Varon', 'Mujer']"
   ]
  },
  {
   "cell_type": "code",
   "execution_count": 28,
   "metadata": {},
   "outputs": [
    {
     "data": {
      "text/plain": [
       "PROVINCIA\n",
       "2     0.900000\n",
       "6     0.682948\n",
       "10    0.800000\n",
       "14    0.653679\n",
       "18    0.813467\n",
       "22    0.813467\n",
       "26    0.750000\n",
       "30    0.625000\n",
       "34    0.800000\n",
       "38    0.732120\n",
       "42    0.709241\n",
       "46    0.900000\n",
       "50    0.666667\n",
       "54    0.666667\n",
       "58    0.770653\n",
       "62    0.882353\n",
       "66    0.658908\n",
       "70    0.788922\n",
       "74    0.762625\n",
       "78    0.727273\n",
       "82    0.750000\n",
       "86    0.800000\n",
       "90    0.585384\n",
       "94    0.833333\n",
       "dtype: float64"
      ]
     },
     "execution_count": 28,
     "metadata": {},
     "output_type": "execute_result"
    }
   ],
   "source": [
    "tasa['Mujer'] / tasa['Varon']"
   ]
  },
  {
   "cell_type": "code",
   "execution_count": 4,
   "metadata": {},
   "outputs": [],
   "source": [
    "df_people_3T2021 = pd.read_csv(pathdata + 'data_input/personas_tot_urb_3T_21.txt', low_memory=False, index_col=0, delimiter=';')"
   ]
  },
  {
   "cell_type": "code",
   "execution_count": 5,
   "metadata": {},
   "outputs": [],
   "source": [
    "df_temp = df_people_3T2021.query('CH06 >= 14')\n",
    "\n",
    "df_estado = df_temp[(df_temp['ESTADO']==1)]          # personas ocupadas\n",
    "df_ocupados = df_temp[(df_temp['P21']!=-9) & (df_temp['ESTADO']==1) & (df_temp['CAT_OCUP']==3)][['PONDIIO', 'P21', 'CH04']]\n",
    "df_ocupados = df_ocupados[df_ocupados['P21']>0]\n"
   ]
  },
  {
   "cell_type": "code",
   "execution_count": 6,
   "metadata": {},
   "outputs": [
    {
     "data": {
      "text/plain": [
       "CH04\n",
       "Varon    54308.106493\n",
       "Mujer    40695.930279\n",
       "Ratio       74.935277\n",
       "dtype: float64"
      ]
     },
     "execution_count": 6,
     "metadata": {},
     "output_type": "execute_result"
    }
   ],
   "source": [
    "df_ocupados['Multiplication'] = df_ocupados['P21'] * df_ocupados['PONDIIO']\n",
    "numerador = df_ocupados.groupby(['CH04'])['Multiplication'].sum()\n",
    "denominador = df_ocupados.groupby(['CH04'])['PONDIIO'].sum()\n",
    "tasa = numerador.div(denominador, fill_value=np.nan)    \n",
    "tasa = tasa.rename(index= {1:'Varon', 2:'Mujer'})\n",
    "tasa.loc['Ratio'] = tasa['Mujer']/tasa['Varon']*100\n",
    "tasa"
   ]
  }
 ],
 "metadata": {
  "kernelspec": {
   "display_name": "Python 3.9.12 ('pyenv')",
   "language": "python",
   "name": "python3"
  },
  "language_info": {
   "codemirror_mode": {
    "name": "ipython",
    "version": 3
   },
   "file_extension": ".py",
   "mimetype": "text/x-python",
   "name": "python",
   "nbconvert_exporter": "python",
   "pygments_lexer": "ipython3",
   "version": "3.9.15"
  },
  "orig_nbformat": 4,
  "vscode": {
   "interpreter": {
    "hash": "509f5cbefa0cafc10dc1461472345186404cff510fb444dcb85013f09977a5b7"
   }
  }
 },
 "nbformat": 4,
 "nbformat_minor": 2
}
