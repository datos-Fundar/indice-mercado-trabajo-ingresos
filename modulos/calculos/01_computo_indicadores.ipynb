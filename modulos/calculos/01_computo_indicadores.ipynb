{
 "cells": [
  {
   "cell_type": "code",
   "execution_count": 4,
   "metadata": {},
   "outputs": [
    {
     "ename": "NameError",
     "evalue": "name '__file__' is not defined",
     "output_type": "error",
     "traceback": [
      "\u001b[0;31m---------------------------------------------------------------------------\u001b[0m",
      "\u001b[0;31mNameError\u001b[0m                                 Traceback (most recent call last)",
      "Input \u001b[0;32mIn [4]\u001b[0m, in \u001b[0;36m<cell line: 3>\u001b[0;34m()\u001b[0m\n\u001b[1;32m      1\u001b[0m \u001b[38;5;28;01mimport\u001b[39;00m \u001b[38;5;21;01mos\u001b[39;00m\n\u001b[0;32m----> 3\u001b[0m base_path \u001b[38;5;241m=\u001b[39m os\u001b[38;5;241m.\u001b[39mpath\u001b[38;5;241m.\u001b[39mdirname(\u001b[38;5;18;43m__file__\u001b[39;49m)\n\u001b[1;32m      4\u001b[0m relative_path \u001b[38;5;241m=\u001b[39m \u001b[38;5;124m'\u001b[39m\u001b[38;5;124m../../indice-mercado-trabajo-ingresos/modulos/funciones/01_funciones_insercion_laboral.ipynb\u001b[39m\u001b[38;5;124m'\u001b[39m\n\u001b[1;32m      5\u001b[0m full_path \u001b[38;5;241m=\u001b[39m os\u001b[38;5;241m.\u001b[39mpath\u001b[38;5;241m.\u001b[39mjoin(base_path, relative_path)\n",
      "\u001b[0;31mNameError\u001b[0m: name '__file__' is not defined"
     ]
    }
   ],
   "source": [
    "\n",
    "#run /home/daniufundar/Documents/Fundar/indice-mercado-trabajo-ingresos/modulos/funciones/01_funciones_insercion_laboral.ipynb\n",
    "#%run /Users/danielarisaro/Documents/Fundar/indice-mercado-trabajo-ingresos/modulos/funciones/01_funciones_insercion_laboral.ipynb\n",
    "#%run /home/daniufundar/Documents/Fundar/indice-mercado-trabajo-ingresos/modulos/funciones/02_funciones_uso_del_tiempo_y_oportunidades.ipynb\n",
    "#%run /Users/danielarisaro/Documents/Fundar/indice-mercado-trabajo-ingresos/modulos/funciones/02_funciones_uso_del_tiempo_y_oportunidades.ipynb\n",
    "\n",
    "import matplotlib.pyplot as plt\n",
    "import pandas as pd\n",
    "import warnings\n",
    "import pickle\n",
    "warnings.filterwarnings('ignore')"
   ]
  },
  {
   "cell_type": "code",
   "execution_count": 2,
   "metadata": {},
   "outputs": [],
   "source": [
    "# Definimos path\n",
    "pathdata = '/home/daniu/Documentos/fundar/indice-mercado-trabajo-ingresos/'\n",
    "pathdata = '/Users/danielarisaro/Documents/Fundar/indice-mercado-trabajo-ingresos/'\n",
    "pathdata = '/home/daniufundar/Documents/Fundar/indice-mercado-trabajo-ingresos/'\n",
    "pathfolder_ENUT =  pathdata + 'data_input/ENUT_2021/Bases de datos/'"
   ]
  },
  {
   "cell_type": "code",
   "execution_count": 3,
   "metadata": {},
   "outputs": [],
   "source": [
    "# Carga diccionarios\n",
    "with open(pathdata + 'modulos/diccionarios/' + 'diccionario_aglomerados.pickle', 'rb') as file:\n",
    "    dict_cod_aglomerado = pickle.load(file)\n",
    "\n",
    "with open(pathdata + 'modulos/diccionarios/' + 'diccionario_provincia.pickle', 'rb') as file:\n",
    "    dict_cod_provincia = pickle.load(file)\n",
    "\n",
    "with open(pathdata + 'modulos/diccionarios/' + 'diccionario_aglomerado_provincia.pickle', 'rb') as file:\n",
    "    map_aglomerado_provincia = pickle.load(file)\n",
    "\n",
    "with open(pathdata + 'modulos/diccionarios/' + 'diccionario_aglomerado_region.pickle', 'rb') as file:\n",
    "    map_aglomerado_region = pickle.load(file)\n",
    "\n",
    "with open(pathdata + 'modulos/diccionarios/' + 'diccionario_provincia_region.pickle', 'rb') as file:\n",
    "    map_provincia_region = pickle.load(file)\n",
    "\n",
    "\n",
    "dict_regiones_ENUT = {1: 'Gran Buenos Aires',\n",
    "                    2: 'Pampeana',\n",
    "                    3: 'Noroeste',\n",
    "                    4: 'Noreste',\n",
    "                    5: 'Cuyo',\n",
    "                    6: 'Patagonia'}"
   ]
  },
  {
   "cell_type": "code",
   "execution_count": 4,
   "metadata": {},
   "outputs": [],
   "source": [
    "# Carga CBT y adultos equivalentes\n",
    "\n",
    "df_CBT = pd.read_csv(pathdata + 'data_output/Canasta_Basica_Total_Regiones_2016-2022-promedios-moviles.csv', delimiter=',', header=0, index_col=[0])\n",
    "df_adultos_equiv = pd.read_csv(pathdata + 'data_input/canastas_basicas/adultos_equivalente.csv')\n",
    "\n",
    "def capitalize_first_letter(s):\n",
    "    return s.capitalize()\n",
    "\n",
    "df_CBT = df_CBT.rename(columns=capitalize_first_letter)\n",
    "df_CBT.rename(columns={'Gran_buenos_aires':'Gran Buenos Aires'}, inplace=True)"
   ]
  },
  {
   "cell_type": "code",
   "execution_count": 5,
   "metadata": {},
   "outputs": [],
   "source": [
    "# Carga de bases EPH y ENUT\n",
    "\n",
    "df_enut = pd.read_csv(pathfolder_ENUT + 'enut2021_base.txt', sep='|')\n",
    "df_people_pool = pd.read_csv(pathdata + 'data_output/Base_pool_individuos_solo_con_replicas_actuales.csv', low_memory=False, index_col=0)\n",
    "df_houses_pool = pd.read_csv(pathdata + 'data_output/Base_pool_hogares_solo_con_replicas_actuales.csv', low_memory=False, index_col=0)"
   ]
  },
  {
   "cell_type": "code",
   "execution_count": 6,
   "metadata": {},
   "outputs": [],
   "source": [
    "# Calculo de indicadores por componente\n",
    "\n",
    "ratio_actividad, ratio_formalidad, ratio_jornada_laboral, ratio_ingreso_salarial = \\\n",
    "    indicadores_insercion_laboral(df_people_pool, dict_cod_provincia, tipo='Urbano', base='Individual', confidence_level=0.95, pool=True)\n",
    "\n",
    "ratio_inactivos_con_ingreso, ratio_hogares_no_pobres_jefatura, ratio_jornada_no_paga = \\\n",
    "    indicadores_uso_del_tiempo_y_oportunidades(df_people_pool, df_houses_pool, df_enut, dict_regiones_ENUT, dict_cod_provincia, dict_cod_aglomerado, map_aglomerado_provincia, map_provincia_region, df_CBT, df_adultos_equiv, tipo='Urbano', base='Individual', confidence_level=0.95, pool=True)"
   ]
  },
  {
   "cell_type": "code",
   "execution_count": 7,
   "metadata": {},
   "outputs": [],
   "source": [
    "# Ordeno indices de las componentes\n",
    "\n",
    "ratio_actividad = ratio_actividad.sort_index()\n",
    "ratio_formalidad = ratio_formalidad.sort_index()\n",
    "ratio_jornada_laboral = ratio_jornada_laboral.sort_index()\n",
    "ratio_ingreso_salarial = ratio_ingreso_salarial.sort_index()\n",
    "\n",
    "ratio_jornada_no_paga = ratio_jornada_no_paga.sort_index()\n",
    "ratio_inactivos_con_ingreso = ratio_inactivos_con_ingreso.sort_index()\n",
    "ratio_hogares_no_pobres_jefatura = ratio_hogares_no_pobres_jefatura.sort_index()"
   ]
  },
  {
   "cell_type": "code",
   "execution_count": 8,
   "metadata": {},
   "outputs": [],
   "source": [
    "# Exporto CSVs\n",
    "\n",
    "ratio_actividad.to_csv(pathdata + 'data_output/indicadores/01_ratio_actividad.csv')\n",
    "ratio_formalidad.to_csv(pathdata + 'data_output/indicadores/02_ratio_formalidad.csv')\n",
    "ratio_jornada_laboral.to_csv(pathdata + 'data_output/indicadores/03_ratio_jornada_laboral.csv')\n",
    "ratio_ingreso_salarial.to_csv(pathdata + 'data_output/indicadores/04_ratio_ingreso_salarial.csv')\n",
    "\n",
    "ratio_jornada_no_paga.to_csv(pathdata + 'data_output/indicadores/05_ratio_jornada_no_paga.csv')\n",
    "ratio_inactivos_con_ingreso.to_csv(pathdata + 'data_output/indicadores/06_ratio_inactivos_con_ingreso.csv')\n",
    "ratio_hogares_no_pobres_jefatura.to_csv(pathdata + 'data_output/indicadores/07_ratio_hogares_no-pobres_jefatura.csv')"
   ]
  }
 ],
 "metadata": {
  "kernelspec": {
   "display_name": "pyenv",
   "language": "python",
   "name": "python3"
  },
  "language_info": {
   "codemirror_mode": {
    "name": "ipython",
    "version": 3
   },
   "file_extension": ".py",
   "mimetype": "text/x-python",
   "name": "python",
   "nbconvert_exporter": "python",
   "pygments_lexer": "ipython3",
   "version": "3.9.12"
  },
  "orig_nbformat": 4
 },
 "nbformat": 4,
 "nbformat_minor": 2
}
