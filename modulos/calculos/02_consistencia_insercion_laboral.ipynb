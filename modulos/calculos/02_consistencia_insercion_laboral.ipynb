{
 "cells": [
  {
   "cell_type": "code",
   "execution_count": null,
   "metadata": {},
   "outputs": [],
   "source": [
    "#%run /home/daniufundar/Documents/Fundar/indice-mercado-trabajo-ingresos/modulos/funciones/01_funciones.ipynb\n",
    "%run /Users/danielarisaro/Documents/Fundar/indice-mercado-trabajo-ingresos/modulos/funciones/01_funciones.ipynb"
   ]
  },
  {
   "cell_type": "code",
   "execution_count": null,
   "metadata": {},
   "outputs": [],
   "source": [
    "import pandas as pd\n",
    "import numpy as np\n",
    "import matplotlib.pyplot as plt\n",
    "import warnings\n",
    "warnings.filterwarnings('ignore')"
   ]
  },
  {
   "cell_type": "code",
   "execution_count": null,
   "metadata": {},
   "outputs": [],
   "source": [
    "# Definimos path\n",
    "pathdata = '/home/daniu/Documentos/fundar/indice-mercado-trabajo-ingresos/'\n",
    "pathdata = '/home/daniufundar/Documents/Fundar/indice-mercado-trabajo-ingresos/'\n",
    "pathdata = '/Users/danielarisaro/Documents/Fundar/indice-mercado-trabajo-ingresos/'"
   ]
  },
  {
   "cell_type": "code",
   "execution_count": null,
   "metadata": {},
   "outputs": [],
   "source": [
    "df_people_pool = pd.read_csv(pathdata + 'data_output/Base_pool_individuos_solo_con_replicas_actuales.csv', low_memory=False, index_col=0)\n",
    "df_houses_pool = pd.read_csv(pathdata + 'data_output/Base_pool_hogares_solo_con_replicas_actuales.csv', low_memory=False, index_col=0)"
   ]
  },
  {
   "cell_type": "code",
   "execution_count": null,
   "metadata": {},
   "outputs": [],
   "source": [
    "tabla_pob_ocupada_asalariada = calcular_tabla_poblacion_ocupada_asalariada(df_people_pool, tipo='Urbano', base='Individual')"
   ]
  },
  {
   "cell_type": "code",
   "execution_count": null,
   "metadata": {},
   "outputs": [],
   "source": [
    "\n",
    "tasa, size, ratio, error = ratio_tasa_inactividad(df_people_pool, tipo='Urbano', base='Individual', confidence_level=0.95)\n",
    "ratio_inactividad = pd.concat([tasa, size, ratio, error], axis=1)\n",
    "\n",
    "tasa, size, ratio, error = ratio_tasas_empleo(df_people_pool, tipo='Urbano', base='Individual', confidence_level=0.95, pool=True)\n",
    "empleo = pd.concat([tasa, size, ratio, error], axis=1)\n",
    "\n",
    "tasa, size, ratio, error = ratio_tasas_desempleo(df_people_pool, tipo='Urbano', base='Individual', confidence_level=0.95, pool=True)\n",
    "desempleo = pd.concat([tasa, size, ratio, error], axis=1)\n",
    "\n",
    "tasa, size, ratio, error = acceso_aguinaldo(df_people_pool, tipo='Urbano', base='Individual', confidence_level=0.95)\n",
    "empleo_asalariado_con_aguinaldo = pd.concat([tasa, size, ratio, error], axis=1)\n",
    "\n",
    "tasa, size, ratio, error = acceso_obra_social(df_people_pool, tipo='Urbano', base='Individual', confidence_level=0.95)\n",
    "empleo_asalariado_con_obra_social = pd.concat([tasa, size, ratio, error], axis=1)"
   ]
  },
  {
   "cell_type": "code",
   "execution_count": null,
   "metadata": {},
   "outputs": [],
   "source": [
    "\n",
    "tasa, size, ratio, error = horas_mediana_remuneradas(df_people_pool, tipo='Urbano', base='Individual', confidence_level=0.95, pool=True)\n",
    "horas_remuneradas_mediana = pd.concat([tasa, size, ratio, error], axis=1)"
   ]
  },
  {
   "cell_type": "code",
   "execution_count": null,
   "metadata": {},
   "outputs": [],
   "source": []
  }
 ],
 "metadata": {
  "language_info": {
   "name": "python"
  },
  "orig_nbformat": 4
 },
 "nbformat": 4,
 "nbformat_minor": 2
}
