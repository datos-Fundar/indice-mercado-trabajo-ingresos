{
 "cells": [
  {
   "cell_type": "code",
   "execution_count": 12,
   "metadata": {},
   "outputs": [],
   "source": [
    "%run /home/daniufundar/Documents/Fundar/indice-mercado-trabajo-ingresos/modulos/funciones/01_funciones_insercion_laboral.ipynb\n",
    "#run /Users/danielarisaro/Documents/Fundar/indice-mercado-trabajo-ingresos/modulos/funciones/01_funciones_insercion_laboral.ipynb"
   ]
  },
  {
   "cell_type": "code",
   "execution_count": 22,
   "metadata": {},
   "outputs": [],
   "source": [
    "import pandas as pd\n",
    "import numpy as np\n",
    "import matplotlib.pyplot as plt\n",
    "import warnings\n",
    "import pickle\n",
    "warnings.filterwarnings('ignore')"
   ]
  },
  {
   "cell_type": "code",
   "execution_count": 14,
   "metadata": {},
   "outputs": [],
   "source": [
    "# Definimos path\n",
    "pathdata = '/home/daniu/Documentos/fundar/indice-mercado-trabajo-ingresos/'\n",
    "pathdata = '/Users/danielarisaro/Documents/Fundar/indice-mercado-trabajo-ingresos/'\n",
    "pathdata = '/home/daniufundar/Documents/Fundar/indice-mercado-trabajo-ingresos/'\n"
   ]
  },
  {
   "cell_type": "code",
   "execution_count": 15,
   "metadata": {},
   "outputs": [],
   "source": [
    "df_people_pool = pd.read_csv(pathdata + 'data_output/Base_pool_individuos_solo_con_replicas_actuales.csv', low_memory=False, index_col=0)\n",
    "df_houses_pool = pd.read_csv(pathdata + 'data_output/Base_pool_hogares_solo_con_replicas_actuales.csv', low_memory=False, index_col=0)"
   ]
  },
  {
   "cell_type": "code",
   "execution_count": 16,
   "metadata": {},
   "outputs": [],
   "source": [
    "tabla_pob_ocupada_asalariada = calcular_tabla_poblacion_ocupada_asalariada(df_people_pool, tipo='Urbano', base='Individual')"
   ]
  },
  {
   "cell_type": "code",
   "execution_count": 17,
   "metadata": {},
   "outputs": [],
   "source": [
    "\n",
    "tasa, size, ratio, error = ratio_tasa_inactividad(df_people_pool, tipo='Urbano', base='Individual', confidence_level=0.95)\n",
    "ratio_inactividad = pd.concat([tasa, size, ratio, error], axis=1)\n",
    "\n",
    "tasa, size, ratio, error = ratio_tasas_empleo(df_people_pool, tipo='Urbano', base='Individual', confidence_level=0.95, pool=True)\n",
    "empleo = pd.concat([tasa, size, ratio, error], axis=1)\n",
    "\n",
    "tasa, size, ratio, error = ratio_tasas_desempleo(df_people_pool, tipo='Urbano', base='Individual', confidence_level=0.95, pool=True)\n",
    "desempleo = pd.concat([tasa, size, ratio, error], axis=1)\n",
    "\n",
    "tasa, size, ratio, error = acceso_aguinaldo(df_people_pool, tipo='Urbano', base='Individual', confidence_level=0.95)\n",
    "empleo_asalariado_con_aguinaldo = pd.concat([tasa, size, ratio, error], axis=1)\n",
    "\n",
    "tasa, size, ratio, error = acceso_obra_social(df_people_pool, tipo='Urbano', base='Individual', confidence_level=0.95)\n",
    "empleo_asalariado_con_obra_social = pd.concat([tasa, size, ratio, error], axis=1)"
   ]
  },
  {
   "cell_type": "code",
   "execution_count": 18,
   "metadata": {},
   "outputs": [],
   "source": [
    "\n",
    "tasa, size, ratio, error = trabajo_formal(df_people_pool, tipo='Urbano', base='Individual', confidence_level=0.95)\n",
    "empleo_asalariado_con_descuento_jubilatorio = pd.concat([tasa, size, ratio, error], axis=1)"
   ]
  },
  {
   "cell_type": "code",
   "execution_count": 19,
   "metadata": {},
   "outputs": [],
   "source": [
    "tasa, size, ratio, error = horas_mediana_remuneradas(df_people_pool, tipo='Urbano', base='Individual', confidence_level=0.95, pool=True)\n",
    "horas_remuneradas_mediana = pd.concat([tasa, size, ratio, error], axis=1)"
   ]
  },
  {
   "cell_type": "code",
   "execution_count": 23,
   "metadata": {},
   "outputs": [],
   "source": [
    "with open(pathdata + 'modulos/diccionarios/' + 'diccionario_provincia.pickle', 'rb') as file:\n",
    "    dict_cod_provincia = pickle.load(file)\n"
   ]
  },
  {
   "cell_type": "code",
   "execution_count": 24,
   "metadata": {},
   "outputs": [],
   "source": [
    "empleo_asalariado_con_aguinaldo.index = empleo_asalariado_con_aguinaldo.index.map(dict_cod_provincia)\n",
    "empleo_asalariado_con_descuento_jubilatorio.index = empleo_asalariado_con_descuento_jubilatorio.index.map(dict_cod_provincia)\n",
    "empleo_asalariado_con_obra_social.index = empleo_asalariado_con_obra_social.index.map(dict_cod_provincia)\n"
   ]
  },
  {
   "cell_type": "code",
   "execution_count": 29,
   "metadata": {},
   "outputs": [],
   "source": [
    "import plotly.graph_objects as go\n",
    "from plotly.subplots import make_subplots\n",
    "from plotly.offline import plot"
   ]
  },
  {
   "cell_type": "code",
   "execution_count": 30,
   "metadata": {},
   "outputs": [],
   "source": [
    "# Definimos colores fundar\n",
    "fundar_colores_primarios = ['#7BB5C4', '#9FC1AD', '#D3D3E0',  '#8d9bff', '#FF9750', '#FFD900',]\n",
    "fundar_colores_secundarios = ['#B5E0EA', '#B3B3B3', '#848279', '#AFA36E', '#5D896F', '#9C9CBC', '#E27124']\n",
    "fundar_white = '#F5F5F5'\n",
    "fundar_black = '#151515'"
   ]
  },
  {
   "cell_type": "code",
   "execution_count": null,
   "metadata": {},
   "outputs": [],
   "source": []
  },
  {
   "cell_type": "code",
   "execution_count": 34,
   "metadata": {},
   "outputs": [
    {
     "data": {
      "text/plain": [
       "'/home/daniufundar/Documents/Fundar/indice-mercado-trabajo-ingresos/figs/indicador_formalidad_chequeo.html'"
      ]
     },
     "execution_count": 34,
     "metadata": {},
     "output_type": "execute_result"
    }
   ],
   "source": [
    "# Create bar traces\n",
    "bar_trace1 = go.Bar(\n",
    "    x=empleo_asalariado_con_descuento_jubilatorio.index,\n",
    "    y=empleo_asalariado_con_descuento_jubilatorio['Formalidad'],\n",
    "    name='Desc jubilatorio',\n",
    "    marker_color=fundar_colores_primarios[1]\n",
    ")\n",
    "\n",
    "bar_trace2 = go.Bar(\n",
    "    x=empleo_asalariado_con_aguinaldo.index,\n",
    "    y=empleo_asalariado_con_aguinaldo['Acceso a aguinaldo'],\n",
    "    name='Aguinaldo',\n",
    "    marker_color=fundar_colores_primarios[0]\n",
    ")\n",
    "\n",
    "bar_trace3 = go.Bar(\n",
    "    x=empleo_asalariado_con_obra_social.index,\n",
    "    y=empleo_asalariado_con_obra_social['Acceso a OS'],\n",
    "    name='Obra Social',\n",
    "    marker_color=fundar_colores_primarios[2]\n",
    ")\n",
    "\n",
    "# Create a layout\n",
    "layout = go.Layout(\n",
    "    title='Formalidad',\n",
    "    barmode='group',\n",
    "    plot_bgcolor='rgba(0,0,0,0)',\n",
    "    font_size = 20\n",
    ")\n",
    "\n",
    "# Create a Figure\n",
    "fig = go.Figure(data=[bar_trace1, bar_trace2, bar_trace3], layout=layout)\n",
    "\n",
    "fig.add_shape(\n",
    "    type='line',\n",
    "    x0=empleo_asalariado_con_obra_social.index[0],\n",
    "    y0=100,\n",
    "    x1=empleo_asalariado_con_obra_social.index[-1],\n",
    "    y1=100,\n",
    "    line=dict(\n",
    "        color='black',\n",
    "        width=1,\n",
    "        dash='dash'\n",
    "    ),\n",
    ")\n",
    "#fig.update_yaxes(range=[0, 200])\n",
    "\n",
    "# Save the plot as an HTML file\n",
    "file_path = '/home/daniufundar/Documents/Fundar/indice-mercado-trabajo-ingresos/figs/'\n",
    "filename = 'indicador_formalidad_chequeo.html'\n",
    "plot(fig, filename=file_path + filename, auto_open=False)\n"
   ]
  },
  {
   "cell_type": "code",
   "execution_count": 43,
   "metadata": {},
   "outputs": [
    {
     "data": {
      "text/plain": [
       "'/home/daniufundar/Documents/Fundar/indice-mercado-trabajo-ingresos/figs/indicador_formalidad_chequeo_sorted.html'"
      ]
     },
     "execution_count": 43,
     "metadata": {},
     "output_type": "execute_result"
    }
   ],
   "source": [
    "descuento_jubilatorio = empleo_asalariado_con_descuento_jubilatorio['Formalidad'].tolist()\n",
    "indices = empleo_asalariado_con_descuento_jubilatorio.index.tolist()\n",
    "indicadores = list(zip(indices, descuento_jubilatorio))\n",
    "indicadores_ordenados = sorted(indicadores, key=lambda x: x[1], reverse=True)\n",
    "indices_ordenados = [x[0] for x in indicadores_ordenados]\n",
    "descuento_jubilatorio_ordenado = [x[1] for x in indicadores_ordenados]\n",
    "bar_trace1 = go.Bar(\n",
    "    x=indices_ordenados,\n",
    "    y=descuento_jubilatorio_ordenado,\n",
    "    name='Desc jubilatorio',\n",
    "    marker_color=fundar_colores_primarios[1]\n",
    ")\n",
    "bar_trace2 = go.Bar(\n",
    "    x=empleo_asalariado_con_aguinaldo.index,\n",
    "    y=empleo_asalariado_con_aguinaldo['Acceso a aguinaldo'],\n",
    "    name='Aguinaldo',\n",
    "    marker_color=fundar_colores_primarios[0]\n",
    ")\n",
    "\n",
    "bar_trace3 = go.Bar(\n",
    "    x=empleo_asalariado_con_obra_social.index,\n",
    "    y=empleo_asalariado_con_obra_social['Acceso a OS'],\n",
    "    name='Obra Social',\n",
    "    marker_color=fundar_colores_primarios[2]\n",
    ")\n",
    "\n",
    "# Create a layout\n",
    "layout = go.Layout(\n",
    "    title='Formalidad',\n",
    "    barmode='group',\n",
    "    plot_bgcolor='rgba(0,0,0,0)',\n",
    "    font_size = 20,\n",
    "    legend=dict(y=1.1, x=0.7, orientation='h'),\n",
    "\n",
    ")\n",
    "\n",
    "fig.add_shape(\n",
    "    type='line',\n",
    "    x0=indices_ordenados[0],\n",
    "    y0=100,\n",
    "    x1=indices_ordenados[-1],\n",
    "    y1=100,\n",
    "    line=dict(\n",
    "        color='black',\n",
    "        width=1,\n",
    "        dash='dash'\n",
    "    ),\n",
    ")\n",
    "# Create a Figure\n",
    "fig = go.Figure(data=[bar_trace1, bar_trace2, bar_trace3], layout=layout)\n",
    "# Save the plot as an HTML file\n",
    "file_path = '/home/daniufundar/Documents/Fundar/indice-mercado-trabajo-ingresos/figs/'\n",
    "filename = 'indicador_formalidad_chequeo_sorted.html'\n",
    "plot(fig, filename=file_path + filename, auto_open=False)\n"
   ]
  }
 ],
 "metadata": {
  "kernelspec": {
   "display_name": "indice_genero_env",
   "language": "python",
   "name": "python3"
  },
  "language_info": {
   "codemirror_mode": {
    "name": "ipython",
    "version": 3
   },
   "file_extension": ".py",
   "mimetype": "text/x-python",
   "name": "python",
   "nbconvert_exporter": "python",
   "pygments_lexer": "ipython3",
   "version": "3.9.15"
  },
  "orig_nbformat": 4
 },
 "nbformat": 4,
 "nbformat_minor": 2
}
